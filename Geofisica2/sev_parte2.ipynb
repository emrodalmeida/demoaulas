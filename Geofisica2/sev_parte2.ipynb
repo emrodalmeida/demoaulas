{
 "cells": [
  {
   "cell_type": "markdown",
   "metadata": {
    "id": "M_lrl2g293_T"
   },
   "source": [
    "Notebook elaborado para apresentar uma breve introdução ao método geoelétrico.\n",
    "Criado para a disciplina Geofísica II da Universidade Federal de Uberlândia.\n",
    "O uso e a reprodução são livres para fins educacionais, pede-se apenas a citação da fonte.\n",
    "\n",
    "[![License: GPL v3](https://img.shields.io/badge/License-GPLv3-blue.svg)](https://www.gnu.org/licenses/gpl-3.0)\n",
    "\n",
    "Prof. Dr. Emerson Rodrigo Almeida<br>\n",
    "Universidade Federal de Uberlândia<br>\n",
    "Instituto de Geografia - Curso de Geologia<br>\n",
    "[emerson.almeida@ufu.br](mailto:emerson.almeida@ufu.br)<br>\n",
    "\n",
    "<p>&nbsp;</p>\n",
    "Última modificação: 04/03/2021"
   ]
  },
  {
   "cell_type": "markdown",
   "metadata": {
    "id": "0Yg1Hgy_ob4B"
   },
   "source": [
    "# Instruções iniciais\n",
    "\n",
    "Neste notebook você irá avaliar as curvas de resistividade aparente de alguns modelos geoelétricos e irá elaborar modelos geoelétricos a partir de curvas de resistividade aparente obtidas em Sondagens Elétricas Verticais (SEVs) em arranjo Schlumberger. Para isto **leia atentamente** as instruções apresentadas antes de cada célula e execute-as uma a uma, para acompanhar o processo corretamente.\n",
    "\n",
    "Não se preocupe em compreender o código em si, **não é obrigatório que você conheça a programação** para obter e interpretar os resultados da demonstração. Mesmo assim, sinta-se livre caso queira perguntar qualquer coisa para aprender mais sobre o código e sua elaboração.\n",
    "\n",
    " \n",
    "# Passo 01 - Preparação\n",
    "\n",
    "Primeiramente vamos preparar o notebook com os pacotes, módulos e funções que precisaremos no decorrer da demonstração. A célula abaixo executa a instalação do pacote open sourece [SimPEG](https://docs.simpeg.xyz/), responsável por executar os cálculos relacionados à física do problema. Se você está executando este notebook no MyBinder ou no Google Colab não se preocupe, nada será instalado na sua máquina local. Execute esta célula uma vez antes de executar qualquer outra parte do código e não altere nada no código apresentado na célula para não criar problemas na execução do código.\n",
    "\n",
    "Você pode executar o código na célula clicando sobre ela e em seguida clicando no botão **RUN** na barra do Jupyter Notebook ou pressionando as teclas **SHIFT+ENTER** no seu teclado. A execução desta primeira célula pode demorar um pouco, pois um pacote inteiro estará sendo instalado. Aguarde o término da instalação antes de executar a célula seguinte.\n",
    "\n",
    "<p>&nbsp;</p>\n",
    "\n",
    "**Importante!** Nem todas as células de código desta demostração irão retornar algum tipo de mensagem ou figura após a execução. Isto é normal e não significa que a execução tenha falhado. Perceba o símbolo **In [ ]:** próximo ao canto superior esquerdo de cada célula. Ao iniciar a execução de uma delas você verá um asterisco ($*$) aparecer dentro dos colchetes. Você saberá que a execução ocorreu sem problemas quando o $*$ dentro dos colchetes for substituído por um número e nenhuma mensagem de erro aparecer abaixo da célula executada."
   ]
  },
  {
   "cell_type": "code",
   "execution_count": null,
   "metadata": {
    "colab": {
     "base_uri": "https://localhost:8080/"
    },
    "executionInfo": {
     "elapsed": 15038,
     "status": "ok",
     "timestamp": 1613147713833,
     "user": {
      "displayName": "Emerson Almeida",
      "photoUrl": "",
      "userId": "00762844264177541394"
     },
     "user_tz": 180
    },
    "id": "8Y05O0Hz-BMN",
    "outputId": "156256f1-0b44-45e3-e5e5-5c80410bf137"
   },
   "outputs": [],
   "source": [
    "# importa e instala o SimPEG - Célula exclusiva para execução em ambiente remoto\n",
    "\n",
    "# baseado no exemplo em https://docs.simpeg.xyz/content/tutorials/05-dcr/plot_fwd_1_dcr_sounding.html#sphx-glr-content-tutorials-05-dcr-plot-fwd-1-dcr-sounding-py\n",
    "\n",
    "!git clone https://github.com/simpeg/simpeg\n",
    "%cd simpeg\n",
    "!pip install -r requirements.txt\n",
    "!python setup.py install"
   ]
  },
  {
   "cell_type": "code",
   "execution_count": null,
   "metadata": {
    "executionInfo": {
     "elapsed": 16659,
     "status": "ok",
     "timestamp": 1613147715488,
     "user": {
      "displayName": "Emerson Almeida",
      "photoUrl": "",
      "userId": "00762844264177541394"
     },
     "user_tz": 180
    },
    "id": "mnO10fgiob4K"
   },
   "outputs": [],
   "source": [
    "import os\n",
    "import numpy as np\n",
    "import matplotlib.pyplot as plt\n",
    "from copy import deepcopy\n",
    "\n",
    "from discretize import TensorMesh\n",
    "\n",
    "from SimPEG import maps\n",
    "from SimPEG.electromagnetics.static import resistivity as dc\n",
    "from SimPEG.electromagnetics.static.utils.static_utils import plot_layer\n",
    "\n",
    "tendcurva = False\n",
    "\n",
    "class sev():\n",
    "\n",
    "    \"\"\"\n",
    "    Sondagem Elétrica Vertical configurada de acordo com\n",
    "    os parâmetros necessários para uso com o SimPEG\n",
    "    \"\"\"\n",
    "\n",
    "    def __init__(self, meioAB, meioMN, arranjo=None):\n",
    "\n",
    "        if len(meioAB)>len(meioMN):\n",
    "            print(\"\\nERRO: número de posições de AB/2 é maior do número de \"\n",
    "                \"posições de MN/2.\\n\")\n",
    "            return None\n",
    "          \n",
    "        elif len(meioAB)<len(meioMN):\n",
    "            print(\"\\nERRO: número de posições de AB/2 é menor do número de \"\n",
    "                \"posições de MN/2.\\n\")\n",
    "            return None\n",
    "\n",
    "        else:\n",
    "            self.arranjo = arranjo\n",
    "            self.meioAB = meioAB      # distâncias de AB/2\n",
    "            self.meioMN = meioMN      # distâncias de MN/2\n",
    "            source_list = []\n",
    "\n",
    "            for ii in range(len(meioAB)):\n",
    "                A = np.r_[-1 * meioAB[ii], 0.0,0.0]\n",
    "                B = np.r_[meioAB[ii], 0.0,0.0]\n",
    "                M = np.r_[-1 * meioMN[ii], 0.0,0.0]\n",
    "                N = np.r_[meioMN[ii], 0.0,0.0]\n",
    "\n",
    "                receiver_list = [dc.receivers.Dipole(M, N)]\n",
    "                source_list.append(dc.sources.Dipole(receiver_list, A, B))\n",
    "\n",
    "            self.survey = dc.Survey(source_list)\n",
    "\n",
    "            # inicializa sem nada porque ainda não foi feita a modelagem\n",
    "            self.rho_a = None\n",
    "\n",
    "\n",
    "    def fwd(self, modelo):\n",
    "\n",
    "        \"\"\"\n",
    "        Executa a modelagem com os parâmetros definidos para a SEV\n",
    "        \"\"\"\n",
    "\n",
    "        simulation = dc.simulation_1d.Simulation1DLayers(\n",
    "                      survey = self.survey,\n",
    "                      rhoMap = modelo.model_map,\n",
    "                      thicknesses = modelo.h,\n",
    "                      data_type = \"apparent_resistivity\"\n",
    "                      )\n",
    "\n",
    "        self.rho_a = simulation.dpred(modelo.rho)\n",
    "\n",
    "\n",
    "class modelo_geo():\n",
    "    \"\"\"\n",
    "    Modelo Geoelétrico 1-D a ser modelado\n",
    "    \"\"\"\n",
    "    \n",
    "    def __init__(self, rho, h):\n",
    "\n",
    "        self.rho = rho\n",
    "        self.h = h\n",
    "        self.z_max = np.sum(self.h) * 1.3\n",
    "\n",
    "        # Define mapping from model to 1D layers\n",
    "        self.model_map = maps.IdentityMap(nP=len(self.rho))\n",
    "\n",
    "\n",
    "    def mostra_grafico(self, n_fig='X'):\n",
    "        \"\"\"\n",
    "        Método para plotar o modelo\n",
    "        \"\"\"\n",
    "        \n",
    "        # Define a malha 1D\n",
    "        mesh = TensorMesh([np.r_[self.h, self.z_max - self.h.sum()]])\n",
    "\n",
    "        fig, ax1 = plt.subplots(figsize=(4,4))\n",
    "        plot_layer(self.model_map * self.rho, mesh, xlim=[10, 1e4], \\\n",
    "                   ax=ax1, showlayers=False)\n",
    "\n",
    "        ax1.set_xlabel('Resistividade Real (Ohm.m)')\n",
    "        ax1.set_ylabel('Profundidade (m)')\n",
    "        ax1.set_title('Figura ' + n_fig + '. Modelo de n=' + \\\n",
    "                      str(len(self.rho)) + ' camadas')\n",
    "        ax1.grid(which='both')\n",
    "        plt.show()\n",
    "\n",
    "\n",
    "class curva_campo():\n",
    "    \n",
    "    \"\"\"\n",
    "    Define o objeto referente à curva de campo, com as posições de eletrodos e \n",
    "    valores de resistividade aparente. Possui um método para executar a modelagem\n",
    "    da curva\n",
    "    \"\"\"\n",
    "    \n",
    "    def __init__(self, AB_campo, MN_campo, dados_medidos):\n",
    "        self.meioAB = AB_campo\n",
    "        self.meioMN = MN_campo\n",
    "        self.rho_a = dados_medidos\n",
    "        \n",
    "    def plota_dados(self):\n",
    "        \n",
    "        fig, ax = plt.subplots(figsize=(8,8))\n",
    "        ax.loglog(self.meioAB, self.rho_a, '.k', linewidth='0.0')\n",
    "        ax.set_xlabel('AB/2 (m)', fontsize='14')\n",
    "        ax.set_ylabel('Resistividade Aparente ($\\Omega$.m)', fontsize='14')\n",
    "        ax.set_title('Dados de campo', fontsize='14')\n",
    "        ax.set_ylim(define_escala_y(self.rho_a))\n",
    "        ax.set_xlim([1, 1000])\n",
    "        ax.grid(which='both')\n",
    "\n",
    "        plt.show()\n",
    "        \n",
    "    def modela_dados(self, modelo):\n",
    "        \n",
    "        \"\"\"\n",
    "        Modela os dados e plota a curva modelada junto com o modelo geoelétrico.\n",
    "        \"\"\"\n",
    "        \n",
    "        sev_sintetica = sev(self.meioAB, self.meioMN)\n",
    "        sev_sintetica.fwd(modelo)\n",
    "        \n",
    "        fig, ax = plt.subplots(nrows=1, ncols=2, figsize=(15, 7))\n",
    "        \n",
    "        ax[0].loglog(sev_sintetica.meioAB, sev_sintetica.rho_a, '-r', label='Curva modelada')\n",
    "        ax[0].plot(self.meioAB, self.rho_a, '.k', label='Dados de campo')\n",
    "\n",
    "        rmspe = np.round(np.sqrt(np.mean(((self.rho_a - sev_sintetica.rho_a) / self.rho_a)**2, axis=0)) * 100, 2)\n",
    "        \n",
    "        erro_str = 'Erro RMS: ' + str(rmspe) + ' %'\n",
    "        props = dict(boxstyle='round', facecolor='wheat', alpha=0.9)\n",
    "        ax[0].text(2, 20, erro_str, fontsize=12, verticalalignment='center', bbox=props)\n",
    "        ax[0].set_xlabel('AB/2 (m)', fontsize='14')\n",
    "        ax[0].set_ylabel('Resistividade Aparente ($\\Omega$.m)', fontsize='14')\n",
    "        ax[0].set_title('Curva modelada sobre os dados de campo', fontsize='14')\n",
    "        ax[0].set_ylim(define_escala_y(self.rho_a))\n",
    "        ax[0].set_xlim([1, 1000])\n",
    "        ax[0].legend(fontsize=14)\n",
    "        ax[0].grid(which='both')\n",
    "\n",
    "        mesh = TensorMesh([np.r_[modelo.h, modelo.z_max - modelo.h.sum()]])\n",
    "        plot_layer(modelo.model_map * modelo.rho, mesh, \\\n",
    "                   xlim=[1, 1e5], ax=ax[1], showlayers=False)\n",
    "        ax[1].set_xlabel('Resistividade Real (Ohm.m)')\n",
    "        ax[1].set_ylabel('Profundidade (m)')\n",
    "        ax[1].set_title('Modelo de n=' + \\\n",
    "                        str(len(modelo.rho)) + ' camadas', fontsize='14')\n",
    "        ax[1].grid(which='both')\n",
    "\n",
    "        plt.show()\n",
    "        \n",
    "        \n",
    "\n",
    "def calcula_tendencias(sondagem, modelo):\n",
    "    \"\"\"\n",
    "    Calcula a tendência da curva de resistividade aparente para cada\n",
    "    camada individualmente, como se a camada correspondesse ao semi-espaço\n",
    "    homogêneo de resistividade correspondente à resistividade da camada\n",
    "    sendo considerada.\n",
    "    \n",
    "    Utiliza as configurações da sondagem fornecida para executar o cálculo\n",
    "    do problema direto N-1 vezes, onde N é o número de camadas do modelo\n",
    "    fornecido. A execução começa com um modelo de uma única camada, e as\n",
    "    camadas são consideradas na modelagem gradativamente, uma a uma.\n",
    "    \"\"\"\n",
    "    \n",
    "    rho_a_list = []\n",
    "    sev_parcial = deepcopy(sondagem)\n",
    "\n",
    "    for ii in range(0, len(modelo.rho)-1):\n",
    "\n",
    "        if ii==0:\n",
    "            # Faz um modelo de duas camadas de resistividades iguais\n",
    "            # para simular um semi-espaço homogêneo.\n",
    "            res = np.r_[resistividades[:ii+1], resistividades[:ii+1]]\n",
    "            esp = espessuras[:ii+1]\n",
    "\n",
    "        else:\n",
    "            # Cria modelos com aumento gradual do número de camadas \n",
    "            res = resistividades[:ii+1]\n",
    "            esp = espessuras[:ii]\n",
    "\n",
    "        modelo_parcial = modelo_geo(res, esp)\n",
    "        sev_parcial.fwd(modelo_parcial)\n",
    "        rho_a_list.append(sev_parcial.rho_a)\n",
    "\n",
    "    return rho_a_list\n",
    "\n",
    "\n",
    "def define_escala_y(d):\n",
    "    min_exp = np.floor(np.log10(np.min(d)))\n",
    "    max_exp = np.ceil(np.log10(np.max(d)))\n",
    "    \n",
    "    if np.log10(np.min(d)) - min_exp < 0.3:\n",
    "        min_exp -= 1\n",
    "\n",
    "    if max_exp - np.min(d) < 0.2:\n",
    "        max_exp += 1\n",
    "\n",
    "    return [10**min_exp, 10**max_exp]\n",
    "\n",
    "\n",
    "def define_escala_x(x):\n",
    "    minimo = 10**(np.floor(np.log10(np.min(x))))\n",
    "    maximo = 10**(np.ceil(np.log10(np.max(x))))\n",
    "    \n",
    "    return [minimo, maximo]\n",
    "\n",
    "\n",
    "def plota_sondagem(sondagem, modelo, tendencias=False, n_fig='X'):\n",
    "    \n",
    "    \"\"\"\n",
    "    Exibe a curva de resistividade aparente resultante da modelagem\n",
    "    \"\"\"\n",
    "  \n",
    "    fig, ax = plt.subplots(nrows=1, ncols=2, figsize=(15, 7))\n",
    "\n",
    "    # insere as curvas com as tendências da resistividade aparente\n",
    "    if tendencias:\n",
    "        curvas = calcula_tendencias(sondagem, modelo)\n",
    "        cor = ['--r', '--y', '--c', '--k', '--m', '-.r', '-.y', \\\n",
    "               '-.c', '-.k', '-.m']\n",
    "        \n",
    "        for n in range(len(curvas)):\n",
    "            ax[0].loglog(sondagem.meioAB, curvas[n], cor[n], \\\n",
    "                         label='n = ' + str(n+1))\n",
    "          \n",
    "        ax[0].loglog(sondagem.meioAB, sondagem.rho_a, '-b', \\\n",
    "                     label='n = ' + str(n+2))\n",
    "        ax[0].legend(loc='upper right')\n",
    "    \n",
    "    else:\n",
    "        ax[0].loglog(sondagem.meioAB, sondagem.rho_a, '-b')\n",
    "    \n",
    "    ax[0].plot(sondagem.meioAB, sondagem.rho_a, '.k')\n",
    "    ax[0].set_xlabel('AB/2 (m)', fontsize='14')\n",
    "    ax[0].set_ylabel('Resistividade Aparente ($\\Omega$.m)', fontsize='14')\n",
    "    ax[0].set_title('Figura ' + n_fig + 'a. Sondagem ' + sondagem.arranjo, \\\n",
    "                    fontsize='14')\n",
    "    ax[0].set_ylim(define_escala_y(sondagem.rho_a))\n",
    "    ax[0].set_xlim([1, 1000])\n",
    "    ax[0].grid(which='both')\n",
    "    \n",
    "    mesh = TensorMesh([np.r_[modelo.h, modelo.z_max - modelo.h.sum()]])\n",
    "    plot_layer(modelo.model_map * modelo.rho, mesh, xlim=[10, 1e4], \\\n",
    "                ax=ax[1], showlayers=False)\n",
    "    ax[1].set_xlabel('Resistividade Real (Ohm.m)')\n",
    "    ax[1].set_ylabel('Profundidade (m)')\n",
    "    ax[1].set_title('Figura ' + n_fig + 'b. Modelo de n=' + \\\n",
    "                    str(len(modelo.rho)) + ' camadas', fontsize='14')\n",
    "    ax[1].grid(which='both')\n",
    "\n",
    "    plt.show()\n",
    "\n",
    "\n",
    "def compara_sevs(sev1, sev2, n_fig='X'):\n",
    "    \n",
    "    \"\"\"\n",
    "    Exibe uma figura para comparação entre duas sondagens diferentes\n",
    "    \"\"\"\n",
    "\n",
    "    fig, ax1 = plt.subplots(figsize=(7, 7))\n",
    "    \n",
    "    ax1.loglog(sev1.meioAB, sev1.rho_a, '-ob', label=sev1.arranjo)\n",
    "    ax1.loglog(sev2.meioAB, sev2.rho_a, '-or', label=sev2.arranjo)\n",
    "    ax1.set_xlabel('AB/2 (m)', fontsize='14')\n",
    "    ax1.set_ylabel('Resistividade Aparente ($\\Omega$.m)', fontsize='14')\n",
    "    ax1.set_title('Figura ' + n_fig + '. Comparação entre curvas de SEVs', \\\n",
    "                  fontsize='14')\n",
    "    ax1.set_ylim([define_escala_y(sev1.rho_a)])\n",
    "    ax1.legend(loc='upper right')\n",
    "    ax1.grid(which='both')\n",
    "    plt.show()\n",
    "    \n",
    "    \n"
   ]
  },
  {
   "cell_type": "markdown",
   "metadata": {
    "id": "S-oc7xYzCupN"
   },
   "source": [
    "# Passo 02 - Configuração do arranjo\n",
    "\n",
    "Comece pela configuração da SEV, definindo as meias distancias entre os eletrodos A e B (corrente) e entre os eletrodos M e N (Potencial). Este notebook irá utilizar apenas o arranjo Schlumberger, pois é o de uso mais comum em campo. A abertura entre eletrodos de potencial que será utilizada aqui é um exemplo de espaçamentos que podem ser utilizados em campo (porém não é mandatório seguir exatamente estes espaçamentos.)\n",
    "\n",
    "Execute a célula abaixo para configurar as posições dos eletrodos."
   ]
  },
  {
   "cell_type": "code",
   "execution_count": null,
   "metadata": {
    "executionInfo": {
     "elapsed": 16654,
     "status": "ok",
     "timestamp": 1613147715499,
     "user": {
      "displayName": "Emerson Almeida",
      "photoUrl": "",
      "userId": "00762844264177541394"
     },
     "user_tz": 180
    },
    "id": "UjHUiCJ5DG2p"
   },
   "outputs": [],
   "source": [
    "eletrodos_AB = np.array([1.5, 2.0, 3.0, 4.0, 5.0, 6.0, 8.0, 10.0, 12.0, \\\n",
    "                         15.0, 20.0, 25.0, 30.0, 40.0, 50.0, 60.0, 80.0, \\\n",
    "                         100.0, 150.0, 200.0])\n",
    "\n",
    "eletrodos_MN = np.array([0.5, 0.5, 0.5, 0.5, 0.5, 0.5, 1.0, 1.0, 1.0, \\\n",
    "                         2.0, 2.0, 2.0, 2.0, 5.0, 5.0, 10.0, 10.0, \\\n",
    "                         10.0, 10.0, 10.0])"
   ]
  },
  {
   "cell_type": "markdown",
   "metadata": {
    "id": "j0ShTbI4zU-D"
   },
   "source": [
    "# Passo 02 - Configuração dos modelos geoelétricos\n",
    "\n",
    "A modelagem requer que seja fornecido um modelo geoelétrico, portanto vamos criá-lo aqui. Lembre-se de que o modelo geoelétrico apresenta os principais contrastes de resistividade, cujas profundidades das interfaces podem coincidir com as profundidades dos contatos geológicos ou não. Neste notebook você irá observar o comportamento da curva em alguns modelos em particular.\n",
    "\n",
    "### Modelo 01\n",
    "\n",
    "Este é um modelo simples, de três camadas. Você pode interpretá-lo como, por exemplo, uma camada argilosa sobre uma camada de basalto não fraturado:\n",
    "\n",
    "|     Camada      |  Resistividade ($\\Omega$.m) | Espessura (m) |    Geologia      |\n",
    "|:---------------:|:---------------------------:|:-------------:|:----------------:|\n",
    "| 1               | 100.0                        |      4.0      |    Camada argilosa          |\n",
    "| 2               | 1500.0                       |      30.0      | Basalto   |\n",
    "| 3               | 600.0                       |      -      | Basalto fraturado saturado  |\n",
    "\n",
    "Execute a célula abaixo para configurar o modelo e visualizá-lo."
   ]
  },
  {
   "cell_type": "code",
   "execution_count": null,
   "metadata": {
    "colab": {
     "base_uri": "https://localhost:8080/",
     "height": 303
    },
    "executionInfo": {
     "elapsed": 16644,
     "status": "ok",
     "timestamp": 1613147715510,
     "user": {
      "displayName": "Emerson Almeida",
      "photoUrl": "",
      "userId": "00762844264177541394"
     },
     "user_tz": 180
    },
    "id": "M56WnB69ElVp",
    "outputId": "8813853d-18e3-4b3e-b03d-51adb0545203"
   },
   "outputs": [],
   "source": [
    "# modelo 1D de três camadas\n",
    "resistividades = np.r_[300.0, 1300.0, 500.0]\n",
    "espessuras = np.r_[4.0, 30.0]\n",
    "\n",
    "meu_modelo_01 = modelo_geo(resistividades, espessuras)\n",
    "meu_modelo_01.mostra_grafico(n_fig='1')"
   ]
  },
  {
   "cell_type": "markdown",
   "metadata": {
    "id": "PUEiJGc4FEmb"
   },
   "source": [
    "Execute a célula abaixo para executar a SEV com as posições de eletrodos e o modelo geoelétrico configurados acima.\n",
    "\n"
   ]
  },
  {
   "cell_type": "code",
   "execution_count": null,
   "metadata": {
    "colab": {
     "base_uri": "https://localhost:8080/",
     "height": 467
    },
    "executionInfo": {
     "elapsed": 16626,
     "status": "ok",
     "timestamp": 1613147715516,
     "user": {
      "displayName": "Emerson Almeida",
      "photoUrl": "",
      "userId": "00762844264177541394"
     },
     "user_tz": 180
    },
    "id": "uhsBrU3EIGLk",
    "outputId": "11f6e2d2-30df-4256-e68d-0be4caae9be0"
   },
   "outputs": [],
   "source": [
    "sev01 = sev(eletrodos_AB, eletrodos_MN, 'Schlumberger')\n",
    "sev01.fwd(meu_modelo_01)\n",
    "plota_sondagem(sev01, meu_modelo_01, tendencias=tendcurva, n_fig='2')"
   ]
  },
  {
   "cell_type": "markdown",
   "metadata": {
    "id": "orrLrWmqJJnx"
   },
   "source": [
    "**Pergunta:** Quantas camadas você consegue identificar através das tendências da curva de resistividade aparente? É possível identificar todas as camadas do modelo?"
   ]
  },
  {
   "cell_type": "markdown",
   "metadata": {
    "id": "6ZtxMdci93_t"
   },
   "source": [
    "### Modelo 02\n",
    "\n",
    "Considere agora um modelo um pouco mais elaborado. Execute a célula abaixo para definir um modelo de 5 camadas que pode ser interpretado da seguinte forma:\n",
    "\n",
    "|     Camada      |  Resistividade ($\\Omega$.m) | Espessura (m) |    Geologia      |\n",
    "|:---------------:|:---------------------------:|:-------------:|:----------------:|\n",
    "| 1               | 100.0                        |      4.0      |    Aterro argiloso          |\n",
    "| 2               | 500.0                       |      15.0      | Arenito seco     |\n",
    "| 3               | 60.0                        |      2.0     | Arenito saturado |\n",
    "| 4               | 1000.0                      |     15.0       | Granito são      |\n",
    "| 5               | 100.0                      |     -       | Granito fraturado saturado      |\n",
    "\n",
    "Execute a célula abaixo para configurar o modelo e apresentá-lo."
   ]
  },
  {
   "cell_type": "code",
   "execution_count": null,
   "metadata": {
    "colab": {
     "base_uri": "https://localhost:8080/",
     "height": 303
    },
    "executionInfo": {
     "elapsed": 19478,
     "status": "ok",
     "timestamp": 1613147718390,
     "user": {
      "displayName": "Emerson Almeida",
      "photoUrl": "",
      "userId": "00762844264177541394"
     },
     "user_tz": 180
    },
    "id": "HEp9sdAHzKBy",
    "outputId": "60287164-f8cd-486d-ac2a-a21779c886c5"
   },
   "outputs": [],
   "source": [
    "# modelo 1D\n",
    "resistividades = np.r_[100.0, 500.0, 60.0, 1000, 100.0]\n",
    "espessuras = np.r_[4.0, 15.0, 5.0, 15]\n",
    "\n",
    "meu_modelo_02 = modelo_geo(resistividades, espessuras)\n",
    "meu_modelo_02.mostra_grafico(n_fig='3')"
   ]
  },
  {
   "cell_type": "markdown",
   "metadata": {
    "id": "nrNyWOOy93_x"
   },
   "source": [
    "e execute a célula abaixo para visualizar a curva de resistividade aparente correspondente."
   ]
  },
  {
   "cell_type": "code",
   "execution_count": null,
   "metadata": {
    "colab": {
     "base_uri": "https://localhost:8080/",
     "height": 467
    },
    "executionInfo": {
     "elapsed": 19461,
     "status": "ok",
     "timestamp": 1613147718396,
     "user": {
      "displayName": "Emerson Almeida",
      "photoUrl": "",
      "userId": "00762844264177541394"
     },
     "user_tz": 180
    },
    "id": "HmYlErCuKklV",
    "outputId": "812b2ce6-f4f6-46f0-965d-594da116f06c"
   },
   "outputs": [],
   "source": [
    "sev_02 = sev(eletrodos_AB, eletrodos_MN, 'Schlumberger')\n",
    "sev_02.fwd(meu_modelo_02)\n",
    "plota_sondagem(sev_02, meu_modelo_02, tendencias=tendcurva, n_fig='4')"
   ]
  },
  {
   "cell_type": "markdown",
   "metadata": {
    "id": "GYabnEBrLEoo"
   },
   "source": [
    "**Perguntas:** Quantas camadas você identifica na sondagem apenas observando as tendências da curva de resistividade aparente? É possível identificar todas as camadas do modelo?\n",
    "\n",
    "\n"
   ]
  },
  {
   "cell_type": "markdown",
   "metadata": {
    "id": "aXlTG0ryo7HI"
   },
   "source": [
    "# Passo 04 - Modelagem da curva de campo"
   ]
  },
  {
   "cell_type": "markdown",
   "metadata": {
    "id": "miRKqvtH93_7"
   },
   "source": [
    "Agora você irá obter um modelo geoelétrico a partir de uma curva obtida em campo. Aqui você irá observar também a ocorrência da *embreagem*, que é um procedimento feito em uma sondagem com arranjo Schlumberger quando se pretende aumentar o espaçamento entre os eletrodos M e N.\n",
    "\n"
   ]
  },
  {
   "cell_type": "code",
   "execution_count": null,
   "metadata": {
    "colab": {
     "base_uri": "https://localhost:8080/",
     "height": 522
    },
    "executionInfo": {
     "elapsed": 22714,
     "status": "ok",
     "timestamp": 1613147721672,
     "user": {
      "displayName": "Emerson Almeida",
      "photoUrl": "",
      "userId": "00762844264177541394"
     },
     "user_tz": 180
    },
    "id": "9NpuH2dBOhmp",
    "outputId": "a1545226-3b82-4b6f-d3de-abec4623e227"
   },
   "outputs": [],
   "source": [
    "AB_campo = np.array([1.5, 2.0, 3.0, 4.0, 5.0, 6.0, 6.0, 8.0, 8.0, 10.0, \\\n",
    "                     10.0, 12.0, 15.0, 15.0, 20.0, 20.0, 25.0, 30.0, 40.0, \\\n",
    "                     40.0, 50.0, 50.0, 60.0, 60.0, 80.0, 80.0, 100.0, 100.0, \\\n",
    "                     150.0, 150.0, 200.0, 200])\n",
    "MN_campo = np.array([0.5, 0.5, 0.5, 0.5, 0.5, 0.5, 1.0, 0.5, 1.0, 0.5, \\\n",
    "                     1.0, 1.0, 1.0, 2.0, 1.0, 2.0, 2.0, 2.0, 2.0, 5.0, \\\n",
    "                     2.0, 5.0, 5.0, 10.0, 5.0, 10.0, 5.0, 10.0, 5.0, 10.0, \\\n",
    "                     5.0, 10.0])\n",
    "dados_medidos = np.array([2157.0, 2598.0, 3592.0, 3810.0, 3610.0, 3167.0, \\\n",
    "                          3215.0, 2728.0, 2771.0, 2286.0, 2320.0, 2004.0, \\\n",
    "                          1372.0, 1415.0, 703.0, 727.0, 457.0, 296.0, 202.0, \\\n",
    "                          233.0, 193.0, 217.0, 235.0, 229.0, 288.0, 280.0, \\\n",
    "                          348.0, 339.0, 501.0, 484.0, 637.0, 621.0])\n",
    "\n",
    "minha_sondagem = curva_campo(AB_campo, MN_campo, dados_medidos)\n",
    "\n",
    "minha_sondagem.plota_dados()"
   ]
  },
  {
   "cell_type": "markdown",
   "metadata": {
    "id": "uPTbeceM0WGt"
   },
   "source": [
    "Agora é preciso encontrar o modelo que melhor se adequa a estes dados. Esta etapa é feita indicando as espessuras das camadas e a resistividade de cada uma. Preste bastante atenção, pois se quiser definir um modelo com $N$ camadas você deverá definir $N$ resistividades e $N-1$ espessuras, pois a última camada é considerada de espessura infinita.\n",
    "Tanto as resistividades quanto as espessuras devem ser informadas **em ordem crescente de profundidade**, i.e., informe primeiro a resistividade da camada mais rasa, depois a da camada abaixo dela, e assim por diante.\n",
    "\n",
    "As resistividades são configuradas na célula abaixo. Para ter um ponto de partida tente estimar visualmente o número de camadas que o modelo deve ter e, em seguida, tente acompanhar as tendências da curva para estimar a resistividade de cada uma. Você pode inserir qualquer número de valores de resistividade, apenas insira os valores entre os colchetes separando-os por vírgula.\n",
    "\n",
    "Execute a célula para registrar os valores."
   ]
  },
  {
   "cell_type": "code",
   "execution_count": null,
   "metadata": {
    "executionInfo": {
     "elapsed": 22700,
     "status": "ok",
     "timestamp": 1613147721676,
     "user": {
      "displayName": "Emerson Almeida",
      "photoUrl": "",
      "userId": "00762844264177541394"
     },
     "user_tz": 180
    },
    "id": "cgmJtIZ_0WGv"
   },
   "outputs": [],
   "source": [
    "resistividades = np.r_[             ]   # preencha entre os colchetes, separe os valores por vírgula!"
   ]
  },
  {
   "cell_type": "markdown",
   "metadata": {
    "id": "KGx9qtGz0WGv"
   },
   "source": [
    "Agora configure as espessuras da mesma maneira, lembrando que a última camada não possui espessura. Em seguida, execute a célula abaixo para registrar os valores. Ao executá-la, se os valores foram inseridos corretamente você irá visualizar o modelo. Verifique se corresponde ao que você tinha em mente, caso contrário faça as modificações necessárias na célula acima e na célula abaixo."
   ]
  },
  {
   "cell_type": "code",
   "execution_count": null,
   "metadata": {
    "executionInfo": {
     "elapsed": 22700,
     "status": "ok",
     "timestamp": 1613147721689,
     "user": {
      "displayName": "Emerson Almeida",
      "photoUrl": "",
      "userId": "00762844264177541394"
     },
     "user_tz": 180
    },
    "id": "XvEZnixt0WGv"
   },
   "outputs": [],
   "source": [
    "espessuras = np.r_[           ]   # preencha entre os colchetes, separe os valores por vírgula!"
   ]
  },
  {
   "cell_type": "markdown",
   "metadata": {
    "id": "qZF5JYo10WGw"
   },
   "source": [
    "Agora execute a célula abaixo para verificar se a curva calculada a partir do seu modelo (linha vermelha) se encaixa nos dados observados em campo (pontos pretos). Quando a linha vermelha encaixar-se nos pontos, então você conseguiu definir um modelo **matematicamente** satisfatório. É importante observar que, mesmo que a curva se encaixe perfeitamente, é possível que o modelo obtido ainda não esteja de acordo com a geologia local."
   ]
  },
  {
   "cell_type": "code",
   "execution_count": null,
   "metadata": {
    "colab": {
     "base_uri": "https://localhost:8080/",
     "height": 467
    },
    "executionInfo": {
     "elapsed": 22700,
     "status": "ok",
     "timestamp": 1613147721703,
     "user": {
      "displayName": "Emerson Almeida",
      "photoUrl": "",
      "userId": "00762844264177541394"
     },
     "user_tz": 180
    },
    "id": "5cO44eIb0WGx",
    "outputId": "bd33411a-487e-409e-b6e0-f2a531b0022b"
   },
   "outputs": [],
   "source": [
    "meu_modelo_campo = modelo_geo(resistividades, espessuras)\n",
    "minha_sondagem.modela_dados(meu_modelo_campo)"
   ]
  },
  {
   "cell_type": "markdown",
   "metadata": {
    "id": "qA9avpkw0WGx"
   },
   "source": [
    "Considere que esta sondagem tenha sido adquirida em um local onde a disposição das camadas segue a mesma sequênci descrita no **Modelo 02**, próem as profundidades são diferentes e você precisa estimá-las da melhor forma possível. Em vista disso você considera que a sua modelagem ficou boa? Anote o modelo e o menor erro que você conseguir alcançar."
   ]
  }
 ],
 "metadata": {
  "colab": {
   "collapsed_sections": [],
   "name": "sev_parte2.ipynb",
   "provenance": [
    {
     "file_id": "1OvJuXk5VQHoNGNIlg2ASPw7DPclHAlFw",
     "timestamp": 1613080116999
    },
    {
     "file_id": "1SQcGcLJn1Irl0SJvfydxRjEw9e5Jyb-i",
     "timestamp": 1613078612640
    },
    {
     "file_id": "1S5zijHaAkSrBkhJRA6-mC6fsiDwPWIMJ",
     "timestamp": 1612878916167
    },
    {
     "file_id": "1FJBCBmnzN7z0wkznQ2fglUJSDXUTe7zD",
     "timestamp": 1612795672936
    },
    {
     "file_id": "1qcakyeI09GoE1N-1nsb6VfIJ1_wryU49",
     "timestamp": 1612711872571
    }
   ]
  },
  "kernelspec": {
   "display_name": "Python 3",
   "language": "python",
   "name": "python3"
  },
  "language_info": {
   "codemirror_mode": {
    "name": "ipython",
    "version": 3
   },
   "file_extension": ".py",
   "mimetype": "text/x-python",
   "name": "python",
   "nbconvert_exporter": "python",
   "pygments_lexer": "ipython3",
   "version": "3.7.10"
  }
 },
 "nbformat": 4,
 "nbformat_minor": 4
}
