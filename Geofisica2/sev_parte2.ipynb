{
 "cells": [
  {
   "cell_type": "code",
   "execution_count": null,
   "id": "pretty-spectrum",
   "metadata": {},
   "outputs": [],
   "source": []
  },
  {
   "cell_type": "markdown",
   "id": "descending-messenger",
   "metadata": {},
   "source": [
    "# Exercícios - para a parte 02\n",
    "\n",
    "1- Dar um modelo de camadas crescentes e pedir para eles elaborarem a modelagem.\n",
    "\n",
    "2- Dar uma curva de um modelo com uma camada muito fina e pedir para modelarem\n",
    "\n",
    "3- Dar um testemunho de um poço e pedir para modelarem cada camada\n",
    "\n",
    "**3-** Considere o modelo da tabela abaixo:\n",
    "\n",
    "|     Camada      |  Resistividade ($\\Omega$.m) | Espessura (m) |    Geologia      |\n",
    "|:---------------:|:---------------------------:|:-------------:|:----------------:|\n",
    "| 1               | 50.0                        |      0.5      |    Solo          |\n",
    "| 2               | 300.0                       |      5.0      | Arenito seco     |\n",
    "| 3               | 35.0                        |      80.0     | Arenito saturado |\n",
    "| 4               | 1000.0                      |       -       | Granito são      |\n",
    "\n",
    "**a)** Qual a abertura mínima de eletrodos de injeção de corrente para que se possa identificar de forma confiável a interface superior do granito são? Calcule uma estimativa, justificando-a adequadamente, e demonstre que sua resposta atinge a profundidade desejada fazendo uma modelagem. Considere o arranjo Schlumberger, modificando as aberturas entre os eletrodos A e B no Passo 03 e modificando as aberturas entre os eletrodos M e N no Passo \n",
    "\n",
    "**b)** Quantas camadas você observa na curva de resistividade aparente? Por quê?"
   ]
  },
  {
   "cell_type": "code",
   "execution_count": null,
   "id": "attractive-flower",
   "metadata": {},
   "outputs": [],
   "source": []
  }
 ],
 "metadata": {
  "kernelspec": {
   "display_name": "Python 3",
   "language": "python",
   "name": "python3"
  },
  "language_info": {
   "codemirror_mode": {
    "name": "ipython",
    "version": 3
   },
   "file_extension": ".py",
   "mimetype": "text/x-python",
   "name": "python",
   "nbconvert_exporter": "python",
   "pygments_lexer": "ipython3",
   "version": "3.8.5"
  }
 },
 "nbformat": 4,
 "nbformat_minor": 5
}
