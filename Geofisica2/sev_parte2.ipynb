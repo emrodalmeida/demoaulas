{
 "cells": [
  {
   "cell_type": "markdown",
   "metadata": {
    "id": "M_lrl2g293_T"
   },
   "source": [
    "Notebook elaborado para apresentar uma breve introdução ao processamento de sinais.\n",
    "Criado para a disciplina Geofísica I da Universidade Federal de Uberlândia.\n",
    "O uso e a reprodução são livres para fins educacionais, pede-se apenas a citação da fonte.\n",
    "\n",
    "[![License: GPL v3](https://img.shields.io/badge/License-GPLv3-blue.svg)](https://www.gnu.org/licenses/gpl-3.0)\n",
    "\n",
    "Prof. Dr. Emerson Rodrigo Almeida<br>\n",
    "Universidade Federal de Uberlândia<br>\n",
    "Instituto de Geografia - Curso de Geologia<br>\n",
    "[emerson.almeida@ufu.br](mailto:emerson.almeida@ufu.br)<br>\n",
    "\n",
    "<p>&nbsp;</p>\n",
    "Última modificação: 11/02/2021"
   ]
  },
  {
   "cell_type": "markdown",
   "metadata": {
    "id": "0Yg1Hgy_ob4B"
   },
   "source": [
    "# Instruções iniciais\n",
    "\n",
    "Neste notebook você irá elaborar modelos geoelétricos a partir de curvas de resistividade aparente obtidas em Sondagens Elétricas Verticais (SEVs) em arranjo Schlumberger. Para isto **leia atentamente** as instruções apresentadas antes de cada célula e execute-as uma a uma, para acompanhar o processo corretamente.\n",
    "\n",
    "Não se preocupe em compreender o código em si, **não é obrigatório que você conheça a programação** para obter e interpretar os resultados da demonstração. Mesmo assim, sinta-se livre caso queira perguntar qualquer coisa para aprender mais sobre o código e sua elaboração.\n",
    "\n",
    " \n",
    "# Passo 01 - Preparação\n",
    "\n",
    "Primeiramente vamos preparar o notebook com os pacotes, módulos e funções que precisaremos no decorrer da demonstração. A célula abaixo executa a instalação do pacote open sourece [SimPEG](https://docs.simpeg.xyz/), responsável por executar os cálculos relacionados à física do problema. Se você está executando este notebook no MyBinder ou no Google Colab não se preocupe, nada será instalado na sua máquina local. Execute esta célula uma vez antes de executar qualquer outra parte do código e não altere nada no código apresentado na célula para não criar problemas na execução do código.\n",
    "\n",
    "Você pode executar o código na célula clicando sobre ela e em seguida clicando no botão **RUN** na barra do Jupyter Notebook ou pressionando as teclas **SHIFT+ENTER** no seu teclado. A execução desta primeira célula pode demorar um pouco, pois um pacote inteiro estará sendo instalado. Aguarde o término da instalação antes de executar a célula seguinte.\n",
    "\n",
    "<p>&nbsp;</p>\n",
    "\n",
    "**Importante!** Nem todas as células de código desta demostração irão retornar algum tipo de mensagem ou figura após a execução. Isto é normal e não significa que a execução tenha falhado. Perceba o símbolo **In [ ]:** próximo ao canto superior esquerdo de cada célula. Ao iniciar a execução de uma delas você verá um asterisco ($*$) aparecer dentro dos colchetes. Você saberá que a execução ocorreu sem problemas quando o $*$ dentro dos colchetes for substituído por um número e nenhuma mensagem de erro aparecer abaixo da célula executada."
   ]
  },
  {
   "cell_type": "code",
   "execution_count": null,
   "metadata": {
    "colab": {
     "base_uri": "https://localhost:8080/"
    },
    "executionInfo": {
     "elapsed": 12561,
     "status": "ok",
     "timestamp": 1613062029238,
     "user": {
      "displayName": "Emerson Almeida",
      "photoUrl": "",
      "userId": "00762844264177541394"
     },
     "user_tz": 180
    },
    "id": "8Y05O0Hz-BMN",
    "outputId": "b7c12de8-df7f-4a96-bc08-d35d1354b027"
   },
   "outputs": [],
   "source": [
    "# importa e instala o SimPEG - Célula exclusiva para execução em ambiente remoto\n",
    "\n",
    "# baseado no exemplo em https://docs.simpeg.xyz/content/tutorials/05-dcr/plot_fwd_1_dcr_sounding.html#sphx-glr-content-tutorials-05-dcr-plot-fwd-1-dcr-sounding-py\n",
    "\n",
    "!git clone https://github.com/simpeg/simpeg\n",
    "%cd simpeg\n",
    "!pip install -r requirements.txt\n",
    "!python setup.py install"
   ]
  },
  {
   "cell_type": "code",
   "execution_count": null,
   "metadata": {
    "executionInfo": {
     "elapsed": 1929,
     "status": "ok",
     "timestamp": 1613068169195,
     "user": {
      "displayName": "Emerson Almeida",
      "photoUrl": "",
      "userId": "00762844264177541394"
     },
     "user_tz": 180
    },
    "id": "mnO10fgiob4K"
   },
   "outputs": [],
   "source": [
    "import os\n",
    "import numpy as np\n",
    "import matplotlib.pyplot as plt\n",
    "from copy import deepcopy\n",
    "\n",
    "from discretize import TensorMesh\n",
    "\n",
    "from SimPEG import maps\n",
    "from SimPEG.electromagnetics.static import resistivity as dc\n",
    "from SimPEG.electromagnetics.static.utils.static_utils import plot_layer\n",
    "\n",
    "tendcurva = False  # para uso com o exercício 2\n",
    "\n",
    "class sev():\n",
    "\n",
    "    \"\"\"\n",
    "    Sondagem Elétrica Vertical configurada de acordo com\n",
    "    os parâmetros necessários para uso com o SimPEG\n",
    "    \"\"\"\n",
    "\n",
    "    def __init__(self, meioAB, meioMN, arranjo):\n",
    "\n",
    "        if len(meioAB)>len(meioMN):\n",
    "            print(\"\\nERRO: número de posições de AB/2 é maior do número de \"\n",
    "                \"posições de MN/2.\\n\")\n",
    "            return None\n",
    "          \n",
    "        elif len(meioAB)<len(meioMN):\n",
    "            print(\"\\nERRO: número de posições de AB/2 é menor do número de \"\n",
    "                \"posições de MN/2.\\n\")\n",
    "            return None\n",
    "\n",
    "        else:\n",
    "            self.arranjo = arranjo\n",
    "            self.meioAB = meioAB      # distâncias de AB/2\n",
    "            self.meioMN = meioMN      # distâncias de MN/2\n",
    "            source_list = []\n",
    "\n",
    "            for ii in range(len(meioAB)):\n",
    "                A = np.r_[-1 * meioAB[ii], 0.0,0.0]\n",
    "                B = np.r_[meioAB[ii], 0.0,0.0]\n",
    "                M = np.r_[-1 * meioMN[ii], 0.0,0.0]\n",
    "                N = np.r_[meioMN[ii], 0.0,0.0]\n",
    "\n",
    "                receiver_list = [dc.receivers.Dipole(M, N)]\n",
    "                source_list.append(dc.sources.Dipole(receiver_list, A, B))\n",
    "\n",
    "            self.survey = dc.Survey(source_list)\n",
    "\n",
    "            # inicializa sem nada porque ainda não foi feita a modelagem\n",
    "            self.rho_a = None\n",
    "\n",
    "\n",
    "    def fwd(self, modelo):\n",
    "\n",
    "        \"\"\"\n",
    "        Executa a modelagem com os parâmetros definidos para a SEV\n",
    "        \"\"\"\n",
    "\n",
    "        simulation = dc.simulation_1d.Simulation1DLayers(\n",
    "                      survey = self.survey,\n",
    "                      rhoMap = modelo.model_map,\n",
    "                      thicknesses = modelo.h,\n",
    "                      data_type = \"apparent_resistivity\"\n",
    "                      )\n",
    "\n",
    "        self.rho_a = simulation.dpred(modelo.rho)\n",
    "\n",
    "\n",
    "class modelo_geo():\n",
    "    \"\"\"\n",
    "    Modelo Geoelétrico 1-D a ser modelado\n",
    "    \"\"\"\n",
    "    \n",
    "    def __init__(self, rho, h):\n",
    "\n",
    "        self.rho = rho\n",
    "        self.h = h\n",
    "        self.z_max = np.sum(self.h) * 1.3\n",
    "\n",
    "        # Define mapping from model to 1D layers\n",
    "        self.model_map = maps.IdentityMap(nP=len(self.rho))\n",
    "\n",
    "\n",
    "    def mostra_grafico(self, n_fig='X'):\n",
    "        \"\"\"\n",
    "        Método para plotar o modelo\n",
    "        \"\"\"\n",
    "        \n",
    "        # Define a malha 1D\n",
    "        mesh = TensorMesh([np.r_[self.h, self.z_max - self.h.sum()]])\n",
    "\n",
    "        fig, ax1 = plt.subplots(figsize=(4,4))\n",
    "        plot_layer(self.model_map * self.rho, mesh, xlim=[10, 1e4], \\\n",
    "                   ax=ax1, showlayers=False)\n",
    "\n",
    "        ax1.set_xlabel('Resistividade Real (Ohm.m)')\n",
    "        ax1.set_ylabel('Profundidade (m)')\n",
    "        ax1.set_title('Figura ' + n_fig + '. Modelo de n=' + \\\n",
    "                      str(len(self.rho)) + ' camadas')\n",
    "        ax1.grid(which='both')\n",
    "        plt.show()\n",
    "\n",
    "\n",
    "def calcula_tendencias(sondagem, modelo):\n",
    "    \"\"\"\n",
    "    Calcula a tendência da curva de resistividade aparente para cada\n",
    "    camada individualmente, como se a camada correspondesse ao semi-espaço\n",
    "    homogêneo de resistividade correspondente à resistividade da camada\n",
    "    sendo considerada.\n",
    "    \n",
    "    Utiliza as configurações da sondagem fornecida para executar o cálculo\n",
    "    do problema direto N-1 vezes, onde N é o número de camadas do modelo\n",
    "    fornecido. A execução começa com um modelo de uma única camada, e as\n",
    "    camadas são consideradas na modelagem gradativamente, uma a uma.\n",
    "    \"\"\"\n",
    "    \n",
    "    rho_a_list = []\n",
    "    sev_parcial = deepcopy(sondagem)\n",
    "\n",
    "    for ii in range(0, len(modelo.rho)-1):\n",
    "\n",
    "        if ii==0:\n",
    "            # Faz um modelo de duas camadas de resistividades iguais\n",
    "            # para simular um semi-espaço homogêneo.\n",
    "            res = np.r_[resistividades[:ii+1], resistividades[:ii+1]]\n",
    "            esp = espessuras[:ii+1]\n",
    "\n",
    "        else:\n",
    "            # Cria modelos com aumento gradual do número de camadas \n",
    "            res = resistividades[:ii+1]\n",
    "            esp = espessuras[:ii]\n",
    "\n",
    "        modelo_parcial = modelo_geo(res, esp)\n",
    "        sev_parcial.fwd(modelo_parcial)\n",
    "        rho_a_list.append(sev_parcial.rho_a)\n",
    "\n",
    "    return rho_a_list\n",
    "\n",
    "\n",
    "def plota_sondagem(sondagem, modelo, tendencias=False, n_fig='X'):\n",
    "    \n",
    "    \"\"\"\n",
    "    Exibe a curva de resistividade aparente resultante da modelagem\n",
    "    \"\"\"\n",
    "  \n",
    "    fig, ax = plt.subplots(nrows=1, ncols=2, figsize=(15, 7))\n",
    "\n",
    "    # insere as curvas com as tendências da resistividade aparente\n",
    "    if tendencias:\n",
    "        curvas = calcula_tendencias(sondagem, modelo)\n",
    "        cor = ['--r', '--y', '--c', '--k', '--m', '-.r', '-.y', \\\n",
    "               '-.c', '-.k', '-.m']\n",
    "        \n",
    "        for n in range(len(curvas)):\n",
    "            ax[0].loglog(sondagem.meioAB, curvas[n], cor[n], \\\n",
    "                         label='n = ' + str(n+1))\n",
    "          \n",
    "        ax[0].loglog(sondagem.meioAB, sondagem.rho_a, '-b', \\\n",
    "                     label='n = ' + str(n+2))\n",
    "        ax[0].legend(loc='upper right')\n",
    "    \n",
    "    else:\n",
    "        ax[0].loglog(sondagem.meioAB, sondagem.rho_a, '-b')\n",
    "    \n",
    "    ax[0].plot(sondagem.meioAB, sondagem.rho_a, 'ok')\n",
    "    ax[0].set_xlabel('AB/2 (m)', fontsize='14')\n",
    "    ax[0].set_ylabel('Resistividade Aparente ($\\Omega$.m)', fontsize='14')\n",
    "    ax[0].set_title('Figura ' + n_fig + 'a. Sondagem ' + sondagem.arranjo, \\\n",
    "                    fontsize='14')\n",
    "    ax[0].set_ylim([10, 1000])\n",
    "    ax[0].set_xlim([1, 1000])\n",
    "    ax[0].grid(which='both')\n",
    "    \n",
    "    mesh = TensorMesh([np.r_[modelo.h, modelo.z_max - modelo.h.sum()]])\n",
    "    plot_layer(modelo.model_map * modelo.rho, mesh, xlim=[10, 1e4], \\\n",
    "                ax=ax[1], showlayers=False)\n",
    "    ax[1].set_xlabel('Resistividade Real (Ohm.m)')\n",
    "    ax[1].set_ylabel('Profundidade (m)')\n",
    "    ax[1].set_title('Figura ' + n_fig + 'b. Modelo de n=' + \\\n",
    "                    str(len(modelo.rho)) + ' camadas', fontsize='14')\n",
    "    ax[1].grid(which='both')\n",
    "\n",
    "    plt.show()\n",
    "\n",
    "\n",
    "def compara_sevs(sev1, sev2, n_fig='X'):\n",
    "    \n",
    "    \"\"\"\n",
    "    Exibe uma figura para comparação entre duas sondagens diferentes\n",
    "    \"\"\"\n",
    "\n",
    "    fig, ax1 = plt.subplots(figsize=(7, 7))\n",
    "    \n",
    "    ax1.loglog(sev1.meioAB, sev1.rho_a, '-ob', label=sev1.arranjo)\n",
    "    ax1.loglog(sev2.meioAB, sev2.rho_a, '-or', label=sev2.arranjo)\n",
    "    ax1.set_xlabel('AB/2 (m)', fontsize='14')\n",
    "    ax1.set_ylabel('Resistividade Aparente ($\\Omega$.m)', fontsize='14')\n",
    "    ax1.set_title('Figura ' + n_fig + '. Comparação entre curvas de SEVs', \\\n",
    "                  fontsize='14')\n",
    "    ax1.set_ylim([10, 1000])\n",
    "    ax1.legend(loc='upper right')\n",
    "    ax1.grid(which='both')\n",
    "    plt.show()"
   ]
  },
  {
   "cell_type": "markdown",
   "metadata": {
    "id": "j0ShTbI4zU-D"
   },
   "source": [
    "# Passo 02 - Configuração do modelo geoelétrico"
   ]
  },
  {
   "cell_type": "markdown",
   "metadata": {
    "id": "6ZtxMdci93_t"
   },
   "source": [
    "A modelagem requer que seja fornecido um modelo geoelétrico, portanto vamos criá-lo aqui. Lembre-se de que o modelo geoelétrico apresenta os principais contrastes de resistividade, cujas profundidades das interfaces podem coincidir com as profundidades dos contatos geológicos ou não.\n",
    "\n",
    "Assim como na parte 01, vamos definir um modelo de 04 camadas. Execute a célula abaixo para criar o modelo"
   ]
  },
  {
   "cell_type": "code",
   "execution_count": null,
   "metadata": {
    "executionInfo": {
     "elapsed": 2697,
     "status": "ok",
     "timestamp": 1613067436181,
     "user": {
      "displayName": "Emerson Almeida",
      "photoUrl": "",
      "userId": "00762844264177541394"
     },
     "user_tz": 180
    },
    "id": "HEp9sdAHzKBy"
   },
   "outputs": [],
   "source": [
    "# modelo 1D\n",
    "resistividades = np.r_[50.0, 300.0, 30.0, 1000]\n",
    "espessuras = np.r_[4.0, 1.0, 30.0]"
   ]
  },
  {
   "cell_type": "markdown",
   "metadata": {
    "id": "nrNyWOOy93_x"
   },
   "source": [
    "e execute a célula abaixo para visualizá-lo. Esta é a forma mais comum de se apresentar um modelo geoelétrico, não apenas para sondagens elétricas mas também para sondagens eletromagnéticas."
   ]
  },
  {
   "cell_type": "code",
   "execution_count": null,
   "metadata": {
    "colab": {
     "base_uri": "https://localhost:8080/",
     "height": 303
    },
    "executionInfo": {
     "elapsed": 2417,
     "status": "ok",
     "timestamp": 1613067441180,
     "user": {
      "displayName": "Emerson Almeida",
      "photoUrl": "",
      "userId": "00762844264177541394"
     },
     "user_tz": 180
    },
    "id": "YgB7THPX93_z",
    "outputId": "abb093a8-fa6f-45be-d570-6f8fc1e7b4c1"
   },
   "outputs": [],
   "source": [
    "meu_modelo = modelo_geo(resistividades, espessuras)\n",
    "meu_modelo.mostra_grafico(n_fig='1')"
   ]
  },
  {
   "cell_type": "markdown",
   "metadata": {
    "id": "1XQgXTsvob4K"
   },
   "source": [
    "# Passo 03 - Aberturas dos eletrodos de corrente (A e B)"
   ]
  },
  {
   "cell_type": "markdown",
   "metadata": {
    "id": "BgqdsiAm93_1"
   },
   "source": [
    "Vamos agora configurar a SEV em si. Para isto é necessário definir quais são as posições dos eletrodos de injeção de corrente elétrica (A e B) e dos eletrodos de medição de potencial elétrico (M e N). Como os arranjos das SEVs são sempre simétricos é comum definir-se a posição dos eletrodos em relação ao ponto central da sondagem, de forma que define-se a meia distância entre os eletrodos A e B (AB/2) e a meia distância entre os eletrodos M e N (MN/2).\n",
    "\n",
    "O que difere uma SEV em arranjo Schlumberger de uma SEV em arranjo Wenner é o posicionamento dos eletrodos de medida de potencial, enquanto as posições dos eletrodos de injeção de corrente podem iguais para ambos. Execute a célula abaixo para configurar as meias distâncias correspondentes às posições dos eletrodos A e B."
   ]
  },
  {
   "cell_type": "code",
   "execution_count": null,
   "metadata": {
    "executionInfo": {
     "elapsed": 943,
     "status": "ok",
     "timestamp": 1613067446226,
     "user": {
      "displayName": "Emerson Almeida",
      "photoUrl": "",
      "userId": "00762844264177541394"
     },
     "user_tz": 180
    },
    "id": "gpTa0N7HHviV"
   },
   "outputs": [],
   "source": [
    "eletrodos_AB = np.array([1.5, 2.0, 3.0, 4.0, 5.0, 6.0, 8.0, 10.0, 12.0, \\\n",
    "                         15.0, 20.0, 25.0, 30.0, 40.0, 50.0, 60.0, 80.0, \\\n",
    "                         100.0, 150.0, 200.0])"
   ]
  },
  {
   "cell_type": "markdown",
   "metadata": {
    "id": "aXlTG0ryo7HI"
   },
   "source": [
    "# Passo 04 - SEV com arranjo Wenner"
   ]
  },
  {
   "cell_type": "markdown",
   "metadata": {
    "id": "oH-e0APp93_6"
   },
   "source": [
    "Vamos agora configurar as posições dos eletrodos de medição do potencial para uma sondagem em arranjo Wenner. Neste arranjo as distâncias AM, MN e NB são idênticas, então as posições de M e N podem ser obtidas a partir das posições de A e B ou vice-versa. Aqui iremos calcular as posições de M e N a partir das posições de A e B, o que corresponde às posições de AB/2 e MN/2 em termos de meias-distâncias. Assim, pode-se definir que $(MN)/2 = (1/3) \\times (AB)/2$ (verifique graficamente esta relação).\n",
    "\n",
    "Execute a célula abaixo para configurar as posições dos eletrodos."
   ]
  },
  {
   "cell_type": "code",
   "execution_count": null,
   "metadata": {
    "executionInfo": {
     "elapsed": 1238,
     "status": "ok",
     "timestamp": 1613067499852,
     "user": {
      "displayName": "Emerson Almeida",
      "photoUrl": "",
      "userId": "00762844264177541394"
     },
     "user_tz": 180
    },
    "id": "zz8XnbMW93_7"
   },
   "outputs": [],
   "source": [
    "eletrodos_MN_wenner = np.array([0.50, 0.67, 1.00, 1.30, 1.67, 2.00, 2.67,  \\\n",
    "                                3.33, 4.00, 5.00, 6.67, 8.33, 10.00, 13.33, \\\n",
    "                                16.67, 20.00, 26.67, 33.33, 50.00, 66.67])"
   ]
  },
  {
   "cell_type": "markdown",
   "metadata": {
    "id": "miRKqvtH93_7"
   },
   "source": [
    "e execute a célula abaixo para executar a SEV com as posições de eletrodos configuradas."
   ]
  },
  {
   "cell_type": "code",
   "execution_count": null,
   "metadata": {
    "colab": {
     "base_uri": "https://localhost:8080/",
     "height": 467
    },
    "executionInfo": {
     "elapsed": 2063,
     "status": "ok",
     "timestamp": 1613069172737,
     "user": {
      "displayName": "Emerson Almeida",
      "photoUrl": "",
      "userId": "00762844264177541394"
     },
     "user_tz": 180
    },
    "id": "SqHYublD119U",
    "outputId": "def9e3af-93df-4cbf-ed33-b87a8e350cb3"
   },
   "outputs": [],
   "source": [
    "sev_w = sev(eletrodos_AB, eletrodos_MN_wenner, 'Wenner')\n",
    "sev_w.fwd(meu_modelo)\n",
    "plota_sondagem(sev_w, meu_modelo, tendencias=tendcurva, n_fig='2')"
   ]
  },
  {
   "cell_type": "markdown",
   "metadata": {
    "id": "HhaPeNVCovOD"
   },
   "source": [
    "# Passo 05 - SEV com arranjo Schlumberger"
   ]
  },
  {
   "cell_type": "markdown",
   "metadata": {
    "id": "GiGAkNA093_-"
   },
   "source": [
    "Vamos agora configurar uma SEV com arranjo Schlumberger. Neste arranjo o afastamento entre os eletrodos M e N deve idealmente obedecer à relação $AB \\ge 5 \\times MN$, embora em campo seja um pouco difícil manter esta relação para pequenos afastamentos. Nesta demonstração iremos considerar condição limite para a relação entre as disâncias AB e MN, utilizando a relação de $MN/2 = (1/5) \\times AB/2$. Em campo costuma-se repetir uma mesma posição de M e N para várias posições de A e B, fazendo desta a principal vantagem logístca do arranjo Schlumberger em campo. Neste caso utiliza-se como critério para aumento da distância MN o valor do potencial lido, de forma que a distância deve ser aumentada sempre que o potencial lido ficar muito próximo do nível de ruído.\n",
    "\n",
    "Execute a célula abaixo para definir os novos espaçamentos entre eletrodos M e N."
   ]
  },
  {
   "cell_type": "code",
   "execution_count": null,
   "metadata": {
    "executionInfo": {
     "elapsed": 809,
     "status": "ok",
     "timestamp": 1613069604215,
     "user": {
      "displayName": "Emerson Almeida",
      "photoUrl": "",
      "userId": "00762844264177541394"
     },
     "user_tz": 180
    },
    "id": "ueQE9I4B93_-"
   },
   "outputs": [],
   "source": [
    "eletrodos_MN_schlumberger = np.array([0.3, 0.4, 0.6, 0.8, 1.0, 1.2, 1.6, \\\n",
    "                                      2.0, 2.4, 3.0, 4.0, 5.0, 6.0, 8.0, \\\n",
    "                                      10.0, 12.0, 16.0, 20.0, 30.0, 40.0])"
   ]
  },
  {
   "cell_type": "markdown",
   "metadata": {
    "id": "OJv335E393__"
   },
   "source": [
    "e execute a célula abaixo para obter a curva de resistividade aparente referente a esta modelagem."
   ]
  },
  {
   "cell_type": "code",
   "execution_count": null,
   "metadata": {
    "colab": {
     "base_uri": "https://localhost:8080/",
     "height": 467
    },
    "executionInfo": {
     "elapsed": 1866,
     "status": "ok",
     "timestamp": 1613069762113,
     "user": {
      "displayName": "Emerson Almeida",
      "photoUrl": "",
      "userId": "00762844264177541394"
     },
     "user_tz": 180
    },
    "id": "OZ0vRjLRoo5m",
    "outputId": "0bd79b7c-3d0b-46d5-dae2-1e127c00cf79"
   },
   "outputs": [],
   "source": [
    "sev_s = sev(eletrodos_AB, eletrodos_MN_schlumberger, 'Schlumberger')\n",
    "sev_s.fwd(meu_modelo)\n",
    "plota_sondagem(sev_s, meu_modelo, tendencias=tendcurva, n_fig='3')"
   ]
  },
  {
   "cell_type": "markdown",
   "metadata": {
    "id": "4DijyT3HpB2b"
   },
   "source": [
    "# Passo 06 - Comparação entre as SEVs"
   ]
  },
  {
   "cell_type": "markdown",
   "metadata": {
    "id": "cU1mzk8Q94AB"
   },
   "source": [
    "Execute a célula abaixo para visualizar uma comparação entre as sondagens modeladas com ambos os arranjos"
   ]
  },
  {
   "cell_type": "code",
   "execution_count": null,
   "metadata": {
    "colab": {
     "base_uri": "https://localhost:8080/",
     "height": 467
    },
    "executionInfo": {
     "elapsed": 1653,
     "status": "ok",
     "timestamp": 1613068475679,
     "user": {
      "displayName": "Emerson Almeida",
      "photoUrl": "",
      "userId": "00762844264177541394"
     },
     "user_tz": 180
    },
    "id": "wP0jfI2C12O0",
    "outputId": "c2a68185-0dac-4cab-f774-9079b1d233ec"
   },
   "outputs": [],
   "source": [
    "compara_sevs(sev_s, sev_w, n_fig='4')"
   ]
  },
  {
   "cell_type": "markdown",
   "metadata": {},
   "source": [
    "# Exercícios - para a parte 02\n",
    "\n",
    "1- Dar um modelo de camadas crescentes e pedir para eles elaborarem a modelagem.\n",
    "\n",
    "2- Dar uma curva de um modelo com uma camada muito fina e pedir para modelarem\n",
    "\n",
    "3- Dar um testemunho de um poço e pedir para modelarem cada camada\n",
    "\n",
    "**3-** Considere o modelo da tabela abaixo:\n",
    "\n",
    "|     Camada      |  Resistividade ($\\Omega$.m) | Espessura (m) |    Geologia      |\n",
    "|:---------------:|:---------------------------:|:-------------:|:----------------:|\n",
    "| 1               | 50.0                        |      0.5      |    Solo          |\n",
    "| 2               | 300.0                       |      5.0      | Arenito seco     |\n",
    "| 3               | 35.0                        |      80.0     | Arenito saturado |\n",
    "| 4               | 1000.0                      |       -       | Granito são      |\n",
    "\n",
    "**a)** Qual a abertura mínima de eletrodos de injeção de corrente para que se possa identificar de forma confiável a interface superior do granito são? Calcule uma estimativa, justificando-a adequadamente, e demonstre que sua resposta atinge a profundidade desejada fazendo uma modelagem. Considere o arranjo Schlumberger, modificando as aberturas entre os eletrodos A e B no Passo 03 e modificando as aberturas entre os eletrodos M e N no Passo \n",
    "\n",
    "**b)** Quantas camadas você observa na curva de resistividade aparente? Por quê?"
   ]
  },
  {
   "cell_type": "code",
   "execution_count": null,
   "metadata": {},
   "outputs": [],
   "source": []
  }
 ],
 "metadata": {
  "colab": {
   "collapsed_sections": [],
   "name": "sev_parte1.ipynb",
   "provenance": [
    {
     "file_id": "1S5zijHaAkSrBkhJRA6-mC6fsiDwPWIMJ",
     "timestamp": 1612878916167
    },
    {
     "file_id": "1FJBCBmnzN7z0wkznQ2fglUJSDXUTe7zD",
     "timestamp": 1612795672936
    },
    {
     "file_id": "1qcakyeI09GoE1N-1nsb6VfIJ1_wryU49",
     "timestamp": 1612711872571
    }
   ]
  },
  "kernelspec": {
   "display_name": "Python 3",
   "language": "python",
   "name": "python3"
  },
  "language_info": {
   "codemirror_mode": {
    "name": "ipython",
    "version": 3
   },
   "file_extension": ".py",
   "mimetype": "text/x-python",
   "name": "python",
   "nbconvert_exporter": "python",
   "pygments_lexer": "ipython3",
   "version": "3.8.5"
  }
 },
 "nbformat": 4,
 "nbformat_minor": 1
}
