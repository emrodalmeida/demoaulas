{
 "cells": [
  {
   "cell_type": "markdown",
   "id": "aca69269-55af-41d7-bdf3-3c3de03daa0c",
   "metadata": {},
   "source": [
    "Notebook elaborado para apresentar os fundamentos da técnica de caminhamento elétrico utilizada no método geoelétrico.\n",
    "Criado para a disciplina Geofísica II da Universidade Federal de Uberlândia.\n",
    "O uso e a reprodução são livres para fins educacionais, pede-se apenas a citação da fonte.\n",
    "\n",
    "[![License: GPL v3](https://img.shields.io/badge/License-GPLv3-blue.svg)](https://www.gnu.org/licenses/gpl-3.0)\n",
    "\n",
    "Prof. Dr. Emerson Rodrigo Almeida<br>\n",
    "Universidade Federal de Uberlândia<br>\n",
    "Instituto de Geografia - Curso de Geologia<br>\n",
    "[emerson.almeida@ufu.br](mailto:emerson.almeida@ufu.br)<br>\n",
    "\n",
    "<p>&nbsp;</p>\n",
    "Última modificação: 23/09/2022\n",
    "\n",
    "# Instruções iniciais\n",
    "\n",
    "Neste notebook você irá avaliar os resultados da inversão de pseudo-seções de resistividade aparente adquiridas em diferentes arranjos. Para isto **leia atentamente** as instruções apresentadas antes de cada célula e execute-as uma a uma, para acompanhar o processo corretamente.\n",
    "\n",
    "Não se preocupe em compreender o código em si, **não é obrigatório que você conheça a programação** para obter e interpretar os resultados da demonstração. Mesmo assim, sinta-se livre caso queira perguntar qualquer coisa para aprender mais sobre o código e sua elaboração.\n",
    "\n",
    " \n",
    "# Passo 01 - Preparação\n",
    "\n",
    "Primeiramente vamos preparar o notebook com os pacotes, módulos e funções que precisaremos no decorrer da demonstração. A célula abaixo executa a instalação do pacote open source [SimPEG](https://docs.simpeg.xyz/), responsável por executar os cálculos relacionados à física do problema. Se você está executando este notebook no MyBinder ou no Google Colab não se preocupe, nada será instalado na sua máquina local. Execute esta célula uma vez antes de executar qualquer outra parte do código e não altere nada no código apresentado na célula para não criar problemas na execução do código.\n",
    "\n",
    "Você pode executar o código na célula clicando sobre ela e em seguida clicando no botão **RUN** na barra do Jupyter Notebook ou pressionando as teclas **SHIFT+ENTER** no seu teclado."
   ]
  },
  {
   "cell_type": "code",
   "execution_count": null,
   "id": "40e71a46-e3f0-4ec3-b452-15caa18a0a8c",
   "metadata": {},
   "outputs": [],
   "source": [
    "import modulos.demo_ce_mod as ce_mod\n",
    "import modulos.demo_ce_inv as ce_inv"
   ]
  },
  {
   "cell_type": "markdown",
   "id": "b10146d0-64b1-4cb4-bb9f-ffe0a303dd96",
   "metadata": {},
   "source": [
    "# Passo 02 - Configuração do modelo para simulação de dados adquiridos\n",
    "Utilize as células abaixo para definir o comprimento e a profundidade totais do modelo. Ambos os valores devem ser positivos e informados em metros. Insira os valores desejados e execute a célula para defini-los."
   ]
  },
  {
   "cell_type": "code",
   "execution_count": null,
   "id": "c07ec68e-2838-4526-aded-b9bfdd3f1f26",
   "metadata": {},
   "outputs": [],
   "source": [
    "distancia_maxima = 14.0\n",
    "profundidade_maxima = 3.0"
   ]
  },
  {
   "cell_type": "markdown",
   "id": "39df8112-4c69-44d3-ad51-8fd073efdac1",
   "metadata": {},
   "source": [
    "A célula abaixo permite inserir alvos esféricos no modelo. Os alvos devem ser inseridos de acordo com o seguinte padrão:\n",
    "\n",
    "**$'nome': [(x, -z, r), (rho)]$**\n",
    "\n",
    "em que *'nome'* pode ser qualquer nome que você queira utilizar para um determinado alvo, *x* e *z* são as coordenadas do centro do alvo, em metros (note que z deve ser **negativo**), *'r'* é o raio do alvo e *rho* é a resistividade do alvo em Ohm.m. O meio onde os alvos serão inseridos tem, por padrão, a resistividade de 100 Ohm.m. Insira os valores numéricos na célula e execute-a para configurar os parâmetros.\n",
    "\n",
    "**Importante:** Você pode inserir no modelo quantos alvos quiser, pois não há um número máximo. Cada conjunto de parâmetros referentes a um determinado alvo deve ser separado do conjunto anterior por uma vírgula, e deve todos os conjuntos devem ser colocados entre um par de chaves ( { } ), como no exemplo abaixo."
   ]
  },
  {
   "cell_type": "code",
   "execution_count": null,
   "id": "1a9ee426-65dd-48de-bc2c-1d2af062ced4",
   "metadata": {},
   "outputs": [],
   "source": [
    "alvos = {'alvo 1': [(5.0, -1.5, 0.5), (10.0)],     # [(x, z, r), (rho)]\n",
    "         'alvo 2': [(9.0, -1.0, 0.5), (1000.0)],   # [(x, z, r), (rho)]\n",
    "         'alvo 3': [(7.0, -0.5, 0.5), (300.0)]}    # [(x, z, r), (rho)]"
   ]
  },
  {
   "cell_type": "markdown",
   "id": "c9d5e605-a075-42c7-9388-bb53bc40077f",
   "metadata": {},
   "source": [
    "# Passo 03 - Configuração do arranjo\n",
    "\n",
    "Agora você irá definir os parâmetros do arranjo de eletrodos que irá simular a aquisição. Cada variável deve ser configurada da seguinte forma:\n",
    "* **configuracao** : define o tipo de arranjo a ser utilizado. Utilize 'DD' para arranjo dipolo-dipolo, 'PD' para arranjo polo-dipolo e 'PP' para arranjo polo-polo;\n",
    "* **espacamento** : define a distância de separação (em metros) entre cada eletrodo;\n",
    "* **n_niveis** : define o número de níveis da investigação;\n",
    "* **posicao_a** : define a posição do primeiro eletrodo A do arranjo (em metros), no início do caminhamento;\n",
    "* **posicao_n** : define a posição do último eletrodo N do arranjo (em metros), no final do caminhamento.\n",
    "\n",
    "Defina os valores desejados para estas variáveis na célula abaixo, executando-a em seguida para executar a simulação."
   ]
  },
  {
   "cell_type": "code",
   "execution_count": null,
   "id": "65ce6d06-b08c-426a-8ae7-581ee7a07093",
   "metadata": {},
   "outputs": [],
   "source": [
    "configuracao = 'DD'\n",
    "espacamento = 1.0\n",
    "n_niveis = 10\n",
    "posicao_a = 0.0\n",
    "posicao_n = 14.0"
   ]
  },
  {
   "cell_type": "markdown",
   "id": "d86c16b1-3958-4721-a727-35888d943edc",
   "metadata": {},
   "source": [
    "# Passo 04 - Modelagem\n",
    "\n",
    "Execute a célula abaixo para efetuar o cálculo da modelagem e obter os dados calculados."
   ]
  },
  {
   "cell_type": "code",
   "execution_count": null,
   "id": "969f1b4e-a80b-401f-91f5-5fcb42ce55d0",
   "metadata": {},
   "outputs": [],
   "source": [
    "ce_mod.roda_demo(lx=distancia_maxima, lz=profundidade_maxima, tipo=configuracao, dx=espacamento, \\\n",
    "                 n=n_niveis, eletrodo_a=posicao_a, eletrodo_n=posicao_n, alvos=alvos, arquivo='ce_temp')"
   ]
  },
  {
   "cell_type": "markdown",
   "id": "36937188-6103-40f1-bc2a-a7b17d054223",
   "metadata": {},
   "source": [
    "# Passo 05 - Configuração dos parâmetros do modelo da inversão\n",
    "Utilize a célula abaixo para definir o comprimento e a profundidade totais do modelo que você deseja avaliar. Ambos os valores devem ser positivos e informados em metros. Insira os valores desejados e execute a célula para defini-los."
   ]
  },
  {
   "cell_type": "code",
   "execution_count": null,
   "id": "d1c26ca6-725a-451c-aab8-a11584d2195d",
   "metadata": {},
   "outputs": [],
   "source": [
    "distancia_maxima_inv = 14.0\n",
    "profundidade_maxima_inv = 3.0"
   ]
  },
  {
   "cell_type": "markdown",
   "id": "07472a44-2d97-456a-8d5a-87b4439060e9",
   "metadata": {},
   "source": [
    "Aqui será necessário definir uma **discretização** para o modelo, i.e., será necessário subdividi-lo em células de forma que a resistividade cada célula representa uma incógnita no conjunto de equações que define o problema inverso. Quanto menor for o tamanho da célula, maior será a suavidade das variações de resistividade calculadas, porém mais demorado será o cálculo pois haverá mais incógnitas para serem calculadas.\n",
    "\n",
    "Defina o tamnho da célula (em metros) que você deseja aplicar ao modelo na célula abaixo, executando-a em seguida para configurar este valor."
   ]
  },
  {
   "cell_type": "code",
   "execution_count": null,
   "id": "46aea1cb-868b-4dac-9979-10c7461063a1",
   "metadata": {},
   "outputs": [],
   "source": [
    "dh = 0.1"
   ]
  },
  {
   "cell_type": "markdown",
   "id": "8f16e7b4-1418-4cd0-8d69-97a9730bc22a",
   "metadata": {},
   "source": [
    "O cálculo da inversão requer que seja inserido um modelo inicial que será adotado como ponto de partida para a busca da solução ideal. É possível incluir diferentes alvos e camadas no modelo inicial, porém para simplificar o processo o modelo inicial será definido como um semi-espaço homogêneo.\n",
    "\n",
    "Defina um valor para a resistividade do semi-espaço homogêneo (em Ohm.m) na célula abaixo, executando-a para configurar este valor."
   ]
  },
  {
   "cell_type": "code",
   "execution_count": null,
   "id": "0dff9484-f98b-47d6-8552-e040e88d0e10",
   "metadata": {},
   "outputs": [],
   "source": [
    "resistividade_bg = 100.0"
   ]
  },
  {
   "cell_type": "markdown",
   "id": "dc543550-815a-4286-af04-fb59177206cf",
   "metadata": {},
   "source": [
    "# Passo 06 - Definição dos parâmetros da inversão\n",
    "\n",
    "É necessário também definir certos parâmetros para que o cálculo da inversão seja realizado corretamente. É possível alterar diversos parâmetros neste processo, porém aqui serão definidos apenas os seguintes parâmetros essenciais:\n",
    "\n",
    "* **n_max_iteracoes** : define o número máximo de iterações que o programa irá executar em busca da melhor solução matemática;\n",
    "* **chi** = define a norma do erro mínimo aceitável para o ajuste entre os dados observados e os dados preditos.\n",
    "\n",
    "Defina os parâmetros na célula abaixo e execute-a para configurá-los."
   ]
  },
  {
   "cell_type": "code",
   "execution_count": null,
   "id": "baab7466-df27-4ab3-907c-c7960bf76124",
   "metadata": {},
   "outputs": [],
   "source": [
    "n_max_iteracoes = 40\n",
    "chi = 1"
   ]
  },
  {
   "cell_type": "markdown",
   "id": "ddd0169d-9197-4296-9e7c-9d9c4173cc87",
   "metadata": {},
   "source": [
    "# Passo 07 - Inversão\n",
    "\n",
    "Execute a célula abaixo para executar a inversão e obter o modelo de resistividade para análise. **Atenção!** Este processo pode demorar alguns minutos, dependendo dos parâmetros que você configurou. Aguarde e não execute nada neste notebook até que as figuras apareçam."
   ]
  },
  {
   "cell_type": "code",
   "execution_count": null,
   "id": "3e4aa48e-1925-43d1-95c4-351f7adcc74c",
   "metadata": {},
   "outputs": [],
   "source": [
    "ce_inv.roda_demo('ce_temp_volt.dat', 'ce_temp_volt.top', (distancia_maxima_inv, profundidade_maxima_inv), \\\n",
    "                 resistividade_bg, n_iter=n_max_iteracoes, chifact=chi, dh=dh)"
   ]
  },
  {
   "cell_type": "markdown",
   "id": "8ef3ab02-d1a4-4dcc-908d-e3dbf48c91ba",
   "metadata": {},
   "source": [
    "# Tópicos para reflexão\n",
    "\n",
    "Modifique os parâmetros inseridos nas células acima e reflita sobre as seguintes questões:\n",
    "\n",
    "* Como o tipo de arranjo influencia no modelo obtido após a inversão?\n",
    "* O que acontece com os alvos obtidos na inversão quando se muda o espaçamento entre eletrodos?\n",
    "* O que se observa em relação ao tamanho dos alvos quando são comparados o modelo original em que você inseriu os alvos e o modelo obtido após a inversão?"
   ]
  }
 ],
 "metadata": {
  "kernelspec": {
   "display_name": "Python 3 (ipykernel)",
   "language": "python",
   "name": "python3"
  },
  "language_info": {
   "codemirror_mode": {
    "name": "ipython",
    "version": 3
   },
   "file_extension": ".py",
   "mimetype": "text/x-python",
   "name": "python",
   "nbconvert_exporter": "python",
   "pygments_lexer": "ipython3",
   "version": "3.8.0"
  }
 },
 "nbformat": 4,
 "nbformat_minor": 5
}
