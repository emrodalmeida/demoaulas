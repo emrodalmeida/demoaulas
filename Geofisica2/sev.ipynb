{
 "cells": [
  {
   "cell_type": "markdown",
   "metadata": {
    "id": "0Yg1Hgy_ob4B"
   },
   "source": [
    "# Instruções iniciais\n",
    "\n",
    "Neste notebook você irá elaborar curvas de campo para Sondagens Elétricas Verticais (SEVs) aprender como funciona a remoção de componentes de frequências indesejadas em sinais através do processo de filtragem. Para isto leia atentamente as instruções apresentadas antes de cada célula e execute-as uma a uma, para acompanhar o processo corretamente.\n",
    "\n",
    "Não se preocupe em compreender o código em si, não é obrigatório que você conheça a programação para obter e interpretar os resultados da demonstração. Mesmo assim, sinta-se livre caso queira perguntar qualquer coisa para aprender mais sobre o código e sua elaboração.\n",
    "\n",
    " \n",
    "# Passo 01 - Preparação\n",
    "\n",
    "Primeiramente vamos preparar o notebook com os pacotes, módulos e funções que precisaremos no decorrer da demonstração. A célula abaixo executa a instalação do pacote open sourece [SimPEG](https://docs.simpeg.xyz/), responsável por executar os cálculos relacionados à física do problema. Se você está executando este notebook no MyBinder ou no Google Colab não se preocupe, nada será instalado na sua máquina local. Execute esta célula uma vez antes de executar qualquer outra parte do código e não altere nada no código apresentado na célula para não criar problemas na execução do código.\n",
    "\n",
    "Você pode executar o código na célula clicando sobre ela e em seguida clicando no botão RUN na barra do Jupyter Notebook ou pressionando as teclas SHIFT+ENTER no seu teclado. A execução desta primeira célula pode demorar um pouco, pois um pacote inteiro estará sendo instalado. Aguarde o término da instalção antes de executar a célula seguinte.\n",
    "\n",
    "<p>&nbsp;</p>\n",
    "\n",
    "**Importante!** Nem todas as células de código desta demostração irão retornar algum tipo de mensagem ou figura após a execução. Isto é normal e não significa que a execução tenha falhado. Perceba o símbolo In [ ]: próximo ao canto superior esquerdo de cada célula. Ao iniciar a execução de uma delas você verá um asterisco ($*$) aparecer dentro dos colchetes. Você saberá que a execução ocorreu sem problemas quando o $*$ dentro dos colchetes for substituído por um número e nenhuma mensagem de erro aparecer abaixo da célula executada."
   ]
  },
  {
   "cell_type": "code",
   "execution_count": null,
   "metadata": {
    "id": "sxgxeMGulW-V"
   },
   "outputs": [],
   "source": [
    "# importa e instala o SimPEG\n",
    "# baseado no exemplo em https://docs.simpeg.xyz/content/tutorials/05-dcr/plot_fwd_1_dcr_sounding.html#sphx-glr-content-tutorials-05-dcr-plot-fwd-1-dcr-sounding-py\n",
    "\n",
    "!git clone https://github.com/simpeg/simpeg\n",
    "%cd simpeg\n",
    "!pip install -r requirements.txt\n",
    "!python setup.py install"
   ]
  },
  {
   "cell_type": "code",
   "execution_count": 36,
   "metadata": {
    "executionInfo": {
     "elapsed": 19441,
     "status": "ok",
     "timestamp": 1612874431241,
     "user": {
      "displayName": "Emerson Almeida",
      "photoUrl": "",
      "userId": "00762844264177541394"
     },
     "user_tz": 180
    },
    "id": "PB9wdn4mAFpT"
   },
   "outputs": [],
   "source": [
    "import os\n",
    "import numpy as np\n",
    "import matplotlib.pyplot as plt\n",
    "\n",
    "from discretize import TensorMesh\n",
    "\n",
    "from SimPEG import maps\n",
    "from SimPEG.electromagnetics.static import resistivity as dc\n",
    "from SimPEG.electromagnetics.static.utils.static_utils import plot_layer\n",
    "\n",
    "save_file = False"
   ]
  },
  {
   "cell_type": "code",
   "execution_count": 65,
   "metadata": {
    "executionInfo": {
     "elapsed": 1008,
     "status": "ok",
     "timestamp": 1612875751852,
     "user": {
      "displayName": "Emerson Almeida",
      "photoUrl": "",
      "userId": "00762844264177541394"
     },
     "user_tz": 180
    },
    "id": "mnO10fgiob4K"
   },
   "outputs": [],
   "source": [
    "class schlumberger():\n",
    "\n",
    "    \"\"\"\n",
    "    Sondagem Elétrica Vertical em arranjo Schlumberger configuada para uso com\n",
    "    o SimPEG\n",
    "    \"\"\"\n",
    "\n",
    "    def __init__(self, meioAB, meioMN):\n",
    "\n",
    "        if len(meioAB)>len(meioMN):\n",
    "            print(\"\\nERRO: número de posições de AB/2 é maior do número de \"\n",
    "                \"posições de MN/2.\\n\")\n",
    "            return None\n",
    "          \n",
    "        elif len(meioAB)<len(meioMN):\n",
    "            print(\"\\nERRO: número de posições de AB/2 é menor do número de \"\n",
    "                \"posições de MN/2.\\n\")\n",
    "            return None\n",
    "\n",
    "        else:\n",
    "            self.arranjo = 'Schlumberger'\n",
    "            self.meioAB = meioAB      # distâncias de AB/2\n",
    "            self.meioMN = meioMN      # distâncias de MN/2\n",
    "            source_list = []\n",
    "\n",
    "            for ii in range(len(meioAB)):\n",
    "                A = np.r_[-1 * meioAB[ii], 0.0,0.0]\n",
    "                B = np.r_[meioAB[ii], 0.0,0.0]\n",
    "                M = np.r_[-1 * meioMN[ii], 0.0,0.0]\n",
    "                N = np.r_[meioMN[ii], 0.0,0.0]\n",
    "\n",
    "                receiver_list = [dc.receivers.Dipole(M, N)]\n",
    "                source_list.append(dc.sources.Dipole(receiver_list, A, B))\n",
    "\n",
    "            self.survey = dc.Survey(source_list)\n",
    "\n",
    "            # inicializa sem nada porque ainda não foi feita a modelagem\n",
    "            self.rho_a = None\n",
    "\n",
    "\n",
    "    def fwd(self, modelo):\n",
    "\n",
    "        simulation = dc.simulation_1d.Simulation1DLayers(\n",
    "                      survey = self.survey,\n",
    "                      rhoMap = modelo.model_map,\n",
    "                      thicknesses = modelo.h,\n",
    "                      data_type = \"apparent_resistivity\"\n",
    "                      )\n",
    "\n",
    "        self.rho_a = simulation.dpred(modelo.rho)\n",
    "\n",
    "\n",
    "\n",
    "class modelo_geo():\n",
    "\n",
    "    def __init__(self, rho, h):\n",
    "\n",
    "        self.rho = rho\n",
    "        self.h = h\n",
    "        self.z_max = np.sum(self.h) * 1.3\n",
    "\n",
    "        # Define mapping from model to 1D layers\n",
    "        self.model_map = maps.IdentityMap(nP=len(self.rho))\n",
    "\n",
    "\n",
    "    def mostra_grafico(self):\n",
    "\n",
    "        # Define a 1D mesh for plotting.\n",
    "        mesh = TensorMesh([np.r_[self.h, self.z_max - self.h.sum()]])\n",
    "\n",
    "        fig, ax1 = plt.subplots(figsize=(6,6))\n",
    "        plot_layer(self.model_map * self.rho, mesh, xlim=[10, 1e4], ax=ax1, showlayers=True)\n",
    "\n",
    "        ax1.set_xlabel('Resistividade (Ohm.m)')\n",
    "        ax1.set_ylabel('Profundidade(m)')\n",
    "        ax1.set_title('Modelo de ' + str(len(self.rho)) + ' camadas')\n",
    "        ax1.grid(which='both')\n",
    "        plt.show()\n",
    "\n",
    "\n",
    "def plota_sondagem(sondagem):\n",
    "    fig, ax1 = plt.subplots(figsize=(7, 7))\n",
    "    ax1.loglog(sondagem.meioAB, sondagem.rho_a, '-b')\n",
    "    ax1.plot(sondagem.meioAB, sondagem.rho_a, 'ok')\n",
    "    ax1.set_xlabel('AB/2 (m)', fontsize='14')\n",
    "    ax1.set_ylabel('Resistividade Aparente ($\\Omega$.m)', fontsize='14')\n",
    "    ax1.set_ylim([10, 1000])\n",
    "    ax1.grid(which='both')\n",
    "    plt.show()\n",
    "\n",
    "\n",
    "\n",
    "\n",
    "\n",
    "\n",
    "\n"
   ]
  },
  {
   "cell_type": "markdown",
   "metadata": {
    "id": "j0ShTbI4zU-D"
   },
   "source": [
    "# Passo 02 - Configuração do modelo geoelétrico"
   ]
  },
  {
   "cell_type": "code",
   "execution_count": 55,
   "metadata": {
    "colab": {
     "base_uri": "https://localhost:8080/",
     "height": 412
    },
    "executionInfo": {
     "elapsed": 957,
     "status": "ok",
     "timestamp": 1612875406492,
     "user": {
      "displayName": "Emerson Almeida",
      "photoUrl": "",
      "userId": "00762844264177541394"
     },
     "user_tz": 180
    },
    "id": "HEp9sdAHzKBy",
    "outputId": "04ad9504-fe75-44e8-e50f-19ae3e0506f8"
   },
   "outputs": [
    {
     "data": {
      "image/png": "[encoded data removed]",
      "text/plain": [
       "<Figure size 432x432 with 1 Axes>"
      ]
     },
     "metadata": {
      "needs_background": "light",
      "tags": []
     },
     "output_type": "display_data"
    }
   ],
   "source": [
    "# modelo 1D - S40 Bebedouro\n",
    "resistividades = np.r_[50.0, 300.0, 35.0, 1000]\n",
    "espessuras = np.r_[0.5, 5.0, 80.0]\n",
    "\n",
    "modelo_beb40 = modelo_geo(resistividades, espessuras)\n",
    "modelo_beb40.mostra_grafico()"
   ]
  },
  {
   "cell_type": "markdown",
   "metadata": {
    "id": "1XQgXTsvob4K"
   },
   "source": [
    "# Passo 03 - Configuração da SEV"
   ]
  },
  {
   "cell_type": "code",
   "execution_count": 67,
   "metadata": {
    "colab": {
     "base_uri": "https://localhost:8080/",
     "height": 493
    },
    "executionInfo": {
     "elapsed": 1096,
     "status": "ok",
     "timestamp": 1612875797786,
     "user": {
      "displayName": "Emerson Almeida",
      "photoUrl": "",
      "userId": "00762844264177541394"
     },
     "user_tz": 180
    },
    "id": "gpTa0N7HHviV",
    "outputId": "34a7fb1d-063a-41d3-b2c8-1fdfd6e5f775"
   },
   "outputs": [
    {
     "name": "stdout",
     "output_type": "stream",
     "text": [
      "self.survey ok  <SimPEG.electromagnetics.static.resistivity.survey.Survey object at 0x7f6787076940>\n",
      "modelo.model_map ok  IdentityMap(4,4)\n"
     ]
    },
    {
     "data": {
      "image/png": "[encoded data removed]",
      "text/plain": [
       "<Figure size 504x504 with 1 Axes>"
      ]
     },
     "metadata": {
      "needs_background": "light",
      "tags": []
     },
     "output_type": "display_data"
    }
   ],
   "source": [
    "eletrodos_AB = np.array([1.5, 2.0, 3.0, 4.0, 5.0, 6.0, 8.0, 10.0, 12.0, \\\n",
    "                         15.0, 20.0, 25.0, 30.0, 40.0, 50.0, 60.0, 80.0, \\\n",
    "                         100.0, 150.0, 200.0])\n",
    "eletrodos_MN = np.array([0.5, 0.5, 0.5, 0.5, 0.5, 0.5, 1.0, 1.0, 1.0, \\\n",
    "                         2.0, 2.0, 2.0, 2.0, 5.0, 5.0, 10.0, 10.0, \\\n",
    "                         10.0, 10.0, 10.0])\n",
    "\n",
    "sev = schlumberger(eletrodos_AB, eletrodos_MN)\n",
    "\n",
    "sev.fwd(modelo_beb40)\n",
    "\n",
    "plota_sondagem(sev)"
   ]
  },
  {
   "cell_type": "code",
   "execution_count": null,
   "metadata": {
    "id": "KIzlWPE5z6IL"
   },
   "outputs": [],
   "source": []
  },
  {
   "cell_type": "code",
   "execution_count": null,
   "metadata": {
    "id": "5Vheg12310vT"
   },
   "outputs": [],
   "source": []
  },
  {
   "cell_type": "code",
   "execution_count": null,
   "metadata": {
    "id": "SqHYublD119U"
   },
   "outputs": [],
   "source": []
  },
  {
   "cell_type": "code",
   "execution_count": null,
   "metadata": {
    "id": "wP0jfI2C12O0"
   },
   "outputs": [],
   "source": []
  },
  {
   "cell_type": "code",
   "execution_count": null,
   "metadata": {
    "id": "3iGO5cRJ12f8"
   },
   "outputs": [],
   "source": []
  },
  {
   "cell_type": "code",
   "execution_count": null,
   "metadata": {
    "id": "7Zheofm112tO"
   },
   "outputs": [],
   "source": []
  },
  {
   "cell_type": "code",
   "execution_count": null,
   "metadata": {
    "id": "dF0_MHRV126p"
   },
   "outputs": [],
   "source": []
  },
  {
   "cell_type": "code",
   "execution_count": null,
   "metadata": {
    "id": "QLQVSExb13G4"
   },
   "outputs": [],
   "source": []
  },
  {
   "cell_type": "code",
   "execution_count": null,
   "metadata": {
    "id": "mOuquPq8xOQ0"
   },
   "outputs": [],
   "source": [
    "# arranjo wenner\n",
    "aberturas = np.array([1.5, 2.0, 3.0, 4.0, 5.0, 6.0, 8.0, 10.0, 12.0, 15.0, 20.0, 25.0, 30.0, 40.0, 50.0, 60.0, 80.0, 100.0, 150.0, 200.0])      # posições dos eletrodos A\n",
    "\n",
    "wenner = np.array([[a, a/3] for a in aberturas])\n",
    "\n",
    "source_list_wenner = []\n",
    "\n",
    "for ii in range(wenner.shape[0]):\n",
    "  A = np.r_[-1 * wenner[ii, 0], 0.0,0.0]\n",
    "  B = np.r_[wenner[ii, 0], 0.0,0.0]\n",
    "  M = np.r_[-1 * wenner[ii, 1], 0.0,0.0]\n",
    "  N = np.r_[ wenner[ii, 1], 0.0,0.0]\n",
    "\n",
    "  receiver_list = [dc.receivers.Dipole(M, N)]\n",
    "  source_list_wenner.append(dc.sources.Dipole(receiver_list, A, B))\n",
    "\n",
    "survey_wenner = dc.Survey(source_list_wenner)"
   ]
  },
  {
   "cell_type": "code",
   "execution_count": null,
   "metadata": {
    "id": "_uowJjhWJm4p"
   },
   "outputs": [],
   "source": []
  },
  {
   "cell_type": "code",
   "execution_count": null,
   "metadata": {
    "id": "bRMajGZePDim"
   },
   "outputs": [],
   "source": [
    "# Modelagens\n",
    "simulation_wenner = dc.simulation_1d.Simulation1DLayers(\n",
    "    survey = survey_wenner,\n",
    "    rhoMap = model_map,\n",
    "    thicknesses=layer_thicknesses,\n",
    "    data_type=\"apparent_resistivity\"\n",
    ")\n",
    "\n",
    "dpred_wenner = simulation_wenner.dpred(model)"
   ]
  },
  {
   "cell_type": "code",
   "execution_count": null,
   "metadata": {
    "id": "zmYclfC0Rni0"
   },
   "outputs": [],
   "source": [
    "fig, ax1 = plt.subplots(figsize=(5, 7))\n",
    "ax1.loglog(schlumberger[:,0], dpred_schlumberger, 'b', label='Schlumberger')\n",
    "ax1.plot(schlumberger[:,0], dpred_schlumberger, 'ob')\n",
    "ax1.loglog(wenner[:,0], dpred_wenner, '--r', label='Wenner')\n",
    "ax1.plot(wenner[:,0], dpred_wenner, '.r')\n",
    "ax1.set_xlabel('AB/2 (m)', fontsize='14')\n",
    "ax1.set_ylabel('Resistividade Aparente ($\\Omega$.m)', fontsize='14')\n",
    "ax1.set_ylim([10, 1000])\n",
    "ax1.legend(loc='upper right')\n",
    "ax1.grid(which='both')\n",
    "plt.show()"
   ]
  },
  {
   "cell_type": "code",
   "execution_count": null,
   "metadata": {
    "id": "tJiAc4rFTKIV"
   },
   "outputs": [],
   "source": []
  }
 ],
 "metadata": {
  "colab": {
   "collapsed_sections": [],
   "name": "sev.ipynb",
   "provenance": [
    {
     "file_id": "1FJBCBmnzN7z0wkznQ2fglUJSDXUTe7zD",
     "timestamp": 1612795672936
    },
    {
     "file_id": "1qcakyeI09GoE1N-1nsb6VfIJ1_wryU49",
     "timestamp": 1612711872571
    }
   ]
  },
  "kernelspec": {
   "display_name": "Python 3",
   "language": "python",
   "name": "python3"
  },
  "language_info": {
   "codemirror_mode": {
    "name": "ipython",
    "version": 3
   },
   "file_extension": ".py",
   "mimetype": "text/x-python",
   "name": "python",
   "nbconvert_exporter": "python",
   "pygments_lexer": "ipython3",
   "version": "3.8.5"
  }
 },
 "nbformat": 4,
 "nbformat_minor": 1
}
