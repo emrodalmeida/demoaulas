{
 "cells": [
  {
   "cell_type": "markdown",
   "id": "improving-seller",
   "metadata": {},
   "source": [
    "Notebook elaborado para estudar as características relacionadas à assinatura magnetométrica de corpos de diferentes geometrias.\n",
    "Criado para a disciplina Geofísica II da Universidade Federal de Uberlândia.\n",
    "O uso e a reprodução são livres para fins educacionais, pede-se apenas a citação da fonte.\n",
    "\n",
    "[![License: GPL v3](https://img.shields.io/badge/License-GPLv3-blue.svg)](https://www.gnu.org/licenses/gpl-3.0)\n",
    "\n",
    "Esta demonstração utiliza a modelagem de dados gravimétricos implementados no pacote *open source* [SimPEG v.14.3](https://github.com/simpeg/simpeg) (COCKETT et al., 2015), distribuído sob os termos da [licença MIT](https://github.com/simpeg/simpeg/blob/master/LICENSE). Não foram feitas modificações nos códigos utilizados.\n",
    "\n",
    "\n",
    "Prof. Dr. Emerson Rodrigo Almeida<br>\n",
    "Universidade Federal de Uberlândia<br>\n",
    "Instituto de Geografia - Curso de Geologia<br>\n",
    "emerson.almeida@ufu.br<br>\n",
    "\n",
    "<p>&nbsp;</p>\n",
    "Última modificação: 23/09/2022\n",
    "\n",
    "---\n",
    "\n",
    "**Referência:**\n",
    "\n",
    "COCKETT, R.; KANG, S.; HEAGY, L. J.; PIDLISECKY, A.; OLDENBURG, D. W. SimPEG: An open source framework for simulation and gradient based parameter estimation in geophysical applications. **Computers & Geosciences**, v.85, Part A, p. 142-154, 2015."
   ]
  },
  {
   "cell_type": "markdown",
   "id": "processed-housing",
   "metadata": {},
   "source": [
    "# Instruções iniciais\n",
    "\n",
    "Neste notebook você irá visualizar a anomalia magnética de campo total gerada por corpos de geometria simples. Para isto leia atentamente as instruções apresentadas antes de cada célula e execute-as uma a uma, para acompanhar o processo corretamente.\n",
    "\n",
    "Não se preocupe em compreender o código em si, não é obrigatório que você conheça a programação para obter e interpretar os resultados da demonstração. Mesmo assim, sinta-se livre caso queira perguntar qualquer coisa para aprender mais sobre o código e sua elaboração.\n",
    "\n",
    "<p>&nbsp;</p>\n",
    "\n",
    "### Passo 01 - Preparação\n",
    "\n",
    "Primeiramente vamos preparar o ambiente para a execução da demonstração. Será preciso utilizar o [SimPEG](https://simpeg.xyz/), que é um pacote open source para modelagem de dados geofísicos. Se você estiver executando este notebook pelo Binder ou pelo Colab execute a célula abaixo para instalar o SimPEG remotamente.\n",
    "\n",
    "Você pode executar o código na célula clicando sobre ela e em seguida clicando no botão **RUN** na barra do Jupyter Notebook ou pressionando as teclas **SHIFT+ENTER** no seu teclado. \n",
    "\n",
    "**Importante!** Nem todas as células irão retornar algum tipo de mensagem ou figura após a execução. Isto é normal e não significa que a execução tenha falhado. Perceba o símbolo **In [   ]:** próximo ao canto superior esquerdo de cada célula. Ao iniciar a execução de uma delas você verá um asterisco ($*$) aparecer dentro dos colchetes. Você saberá que a execução ocorreu sem problemas quando o $*$ dentro dos colchetes for substituído por um número e nenhuma mensagem de erro aparecer abaixo da célula executada."
   ]
  },
  {
   "cell_type": "code",
   "execution_count": null,
   "id": "091e0934-cd33-4100-bc30-f42e41443044",
   "metadata": {},
   "outputs": [],
   "source": [
    "import modulos.potenciais as mp"
   ]
  },
  {
   "cell_type": "markdown",
   "id": "front-reduction",
   "metadata": {},
   "source": [
    "### Passo 02 - Configuração do campo geomagnético\n",
    "\n",
    "A assinatura de uma anomalia magnética está sujeita às características de inclinação, declinação e intensidade do campo geomagnético na região onde a aquisição é feita, de forma que a anomalia observada sobre um mesmo corpo pode apresentar comportamentos diferentes em diferentes locais do mundo. Iremos definir inicialmente as características do campo geomagnético no Polo Norte magnético, onde a inclinação do campo é igual a 90.0º e a declinação é igual a 0.0º. Vamos utilizar uma intensidade teórica de 50000.0 nT.\n",
    "\n",
    "Execute a célula abaixo para configurar estas características."
   ]
  },
  {
   "cell_type": "code",
   "execution_count": null,
   "id": "domestic-network",
   "metadata": {},
   "outputs": [],
   "source": [
    "intensidade = 50000.0      # intensidade total em nT\n",
    "inclinacao = 90.0          # inclinação em graus\n",
    "declinacao = 00.0          # declinação em graus"
   ]
  },
  {
   "cell_type": "markdown",
   "id": "proud-radiation",
   "metadata": {},
   "source": [
    "### Passo 03 - Anomalia causada por corpos de geometria simples\n",
    "\n",
    "Primeiramente será configurado um corpo de forma esférica a uma profundidade de 50.0 metros, com raio igual a 150.0 m. Execute a célula abaixo para configurar este corpo."
   ]
  },
  {
   "cell_type": "code",
   "execution_count": null,
   "id": "applied-spirituality",
   "metadata": {},
   "outputs": [],
   "source": [
    "meu_modelo = mp.esfera(r=150.0, z=-50.0, chi=1e-2)\n",
    "#meu_modelo = mp.cubo(l=300.0, z=-50.0, chi=1e-2)\n",
    "#meu_modelo = mp.dique(l=50.0, z=-50.0, chi=1e-2)\n",
    "#meu_modelo = mp.sill(l=800.0, h=50.0, z=-50.0, chi=1e-2)"
   ]
  },
  {
   "cell_type": "markdown",
   "id": "musical-listening",
   "metadata": {},
   "source": [
    "Execute a célula abaixo para exibir vistas em corte do modelo nas três direções."
   ]
  },
  {
   "cell_type": "code",
   "execution_count": null,
   "id": "obvious-convergence",
   "metadata": {},
   "outputs": [],
   "source": [
    "meu_modelo.plota_corte('Y', 0.0)\n",
    "meu_modelo.plota_corte('X', 0.0)\n",
    "meu_modelo.plota_corte('Z', 75.0)"
   ]
  },
  {
   "cell_type": "markdown",
   "id": "convinced-jerusalem",
   "metadata": {},
   "source": [
    "Uma vez verificada a geometria do modelo com o corpo desejado, execute a célula abaixo para executar a simulação da aquisição em uma malha de pontos localizada na superfície do modelo (i.e., à elevação de 0.0 m).\n",
    "\n",
    "*Esta etapa pode demorar alguns minutos.*"
   ]
  },
  {
   "cell_type": "code",
   "execution_count": null,
   "id": "judicial-saying",
   "metadata": {},
   "outputs": [],
   "source": [
    "minha_aquisicao = mp.aquisicao(meu_modelo, f=intensidade, inc=inclinacao, dec=declinacao)\n",
    "%time minha_aquisicao.fwd(meu_modelo)"
   ]
  },
  {
   "cell_type": "markdown",
   "id": "behind-evidence",
   "metadata": {},
   "source": [
    "Por fim, execute a célula abaixo para obter o mapa de intensidade magnética total referente ao modelo configurado. Os valores numéricos entre os colchetes correspondem às posições dos perfis indicados no mapa (linhas tracejadas brancas) e mostradas à direita na figura. Você pode modificá-los, caso deseje."
   ]
  },
  {
   "cell_type": "code",
   "execution_count": null,
   "id": "finite-voluntary",
   "metadata": {},
   "outputs": [],
   "source": [
    "minha_aquisicao.plota_mapa([0.0, 0.0])"
   ]
  },
  {
   "cell_type": "markdown",
   "id": "unusual-access",
   "metadata": {},
   "source": [
    "### Passo 04 - Alterando a geometria do corpo\n",
    "\n",
    "Agora você poderá configurar corpos de outras formas geométricas e verificar a assinatura magnética característica de cada uma delas. Para isto, execute os seguintes passos na primeira célula do Passo 03:\n",
    "\n",
    "**1-** Insira um símbolo **#** no início da linha que não aparece em itálico. Ao fazer isso, a fonte do texto aparecerá em itálico. Isto indica que esta linha está configurada como um comentário e não como uma linha de código e, portanto, não será interpretada pela linguagem como um comando a ser executado;\n",
    "\n",
    "**2-** Escolha uma das linhas nesta célula que contém o tipo de estrutura que você gostaria de modelar (esfera, cubo, dique ou sill) e apague o símbolo **#** presente no início da linha em que há a estrutura desejada. Ao fazer isso esta linha deixará de ser um comentário e passará a ser interpretada como um comando a ser executado.\n",
    "\n",
    "*Atenção*: Deixe apenas uma das linhas sem o símbolo **#**, pois caso contrário haverá sobreposição entre diferentes estruturas.\n",
    "\n",
    "**3-** Opcionalmente você pode configurar diferentes dimensões e profundidades para os corpos a serem modelados, bem como diferentes valores de susceptibilidade magnética. Isto pode ser feito alterando-se os valores numéricos presentes na linha da estrutura correspondente de acordo com a seguinte relação:\n",
    "\n",
    "$r$ = raio da esfera (metros);\n",
    "\n",
    "$z$ = profundidade do topo do corpo (metros) - deve ser um valor < 0!;\n",
    "\n",
    "$l$ = extensão lateral do cubo, do dique ou do sill (metros);\n",
    "\n",
    "$h$ = espessura do sill (metros).\n",
    "\n",
    "$chi$ = susceptibilidade magnética (SI)"
   ]
  },
  {
   "cell_type": "markdown",
   "id": "opposite-lafayette",
   "metadata": {},
   "source": [
    "### Passo 05 - Alterando as características do campo geomagnético\n",
    "\n",
    "Agora você poderá configurar corpos de outras formas geométricas e verificar como a assinatura da anomalia se comporta em função da variação da intensidade, inclinação e declinação do campo magnétio. Para isto, execute o seguinte procedimento na primeira célula do Passo 02:\n",
    "\n",
    "**1-** Configure a intensidade do campo geomagnético para a intensidade = 50000.0 nT, inclinação = 0.0º e declinação = 0.0º. Estas compoentes correspondem a um campo teórico no equador magnético. Verifique como o comportamento da anomalia se altera.\n",
    "\n",
    "**2-** Configure as características do campo geomagnético para aquelas correspondentes às coordenadas onde encontra-se o campus da Universidade Federal de Uberlândia em Monte Carmelo (latitude = -18.723889°, longitude = -47.523889°, altitude = 890.0 m). Utilize os valores de intensidade = 23170.0 nT, inclinação = -32.9445º e declinação = -21.8288º calculados pelo IGRF-13 no dia 30/03/2021, data da modificação mais recente deste notebook. Verifique como o comportamento da anomalia se altera.\n",
    "\n",
    "**3-** Configure as características do campo geomagnético para outras localidades do globo terrestre. Estas características podem ser obtidas a partir da ferramenta de cálculo do IGRF disponível no [site da NOAA](https://www.ngdc.noaa.gov/geomag/calculators/magcalc.shtml#igrfwmm). Verifique como as características da anomalia gerada se alteram apenas em função da localização deste corpo no globo terrestre, mesmo que a sua geometria não seja modificada.\n",
    "\n",
    "**4-** Configure as características do campo geomagnético para uma mesma localidade (pode ser a localização do campus da UFU em Monte Carmelo dada no item 2), porém em diferentes épocas. Estas informações também podem ser obtidas a partir da ferramenta de cálculo do IGRF disponível no [site da NOAA](https://www.ngdc.noaa.gov/geomag/calculators/magcalc.shtml#igrfwmm). Verifique como as características da anomalia gerada por um mesmo corpo em uma localidade específica se modifica em função da variação secular do campo geomagnético. Sugestão: Começando pelo ano de 2021, considere datas retrocedendo no tempo em períodos de 5 anos."
   ]
  }
 ],
 "metadata": {
  "kernelspec": {
   "display_name": "Python 3 (ipykernel)",
   "language": "python",
   "name": "python3"
  },
  "language_info": {
   "codemirror_mode": {
    "name": "ipython",
    "version": 3
   },
   "file_extension": ".py",
   "mimetype": "text/x-python",
   "name": "python",
   "nbconvert_exporter": "python",
   "pygments_lexer": "ipython3",
   "version": "3.8.10"
  }
 },
 "nbformat": 4,
 "nbformat_minor": 5
}
