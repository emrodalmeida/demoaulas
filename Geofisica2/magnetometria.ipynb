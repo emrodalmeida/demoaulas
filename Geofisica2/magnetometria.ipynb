{
 "cells": [
  {
   "cell_type": "markdown",
   "id": "induced-search",
   "metadata": {},
   "source": [
    "Notebook elaborado para estudar as principais transformações do campo potencial aplicadas ao método magnetométrico.\n",
    "Criado para a disciplina Geofísica II da Universidade Federal de Uberlândia.\n",
    "O uso e a reprodução são livres para fins educacionais, pede-se apenas a citação da fonte.\n",
    "\n",
    "[![License: GPL v3](https://img.shields.io/badge/License-GPLv3-blue.svg)](https://www.gnu.org/licenses/gpl-3.0)\n",
    "\n",
    "Esta demonstração utiliza os códigos de transformação de campo potencial implementados no pacote *open source* [fatiando (v0.5)](https://github.com/fatiando/fatiando) (UIEDA; OLIVEIRA Jr; BARBOSA, 2013), distribuído sob os termos da [licença BSD-3](https://github.com/fatiando/fatiando/blob/master/LICENSE.txt). Não foram feitas modificações nos códigos utilizados.\n",
    "\n",
    "Esta demonstração utiliza a modelagem de dados gravimétricos implementados no pacote *open source* [SimPEG v.14.3](https://github.com/simpeg/simpeg) (COCKETT et al., 2015), distribuído sob os termos da [licença MIT](https://github.com/simpeg/simpeg/blob/master/LICENSE). Não foram feitas modificações nos códigos utilizados.\n",
    "\n",
    "\n",
    "Prof. Dr. Emerson Rodrigo Almeida<br>\n",
    "Universidade Federal de Uberlândia<br>\n",
    "Instituto de Geografia - Curso de Geologia<br>\n",
    "emerson.almeida@ufu.br<br>\n",
    "\n",
    "<p>&nbsp;</p>\n",
    "Última modificação: 25/03/2021\n",
    "\n",
    "---\n",
    "\n",
    "**Referências:**\n",
    "\n",
    "UIEDA, L.; OLIVEIRA Jr, V. C.; BARBOSA, V. C. F. Modeling the Earth with Fatiando a Terra. **Proceedings of the 12th Python in Science Conference**, p. 91 - 98, 2013.\n",
    "\n",
    "COCKETT, R.; KANG, S.; HEAGY, L. J.; PIDLISECKY, A.; OLDENBURG, D. W. SimPEG: An open source framework for simulation and gradient based parameter estimation in geophysical applications. **Computers & Geosciences**, v.85, Part A, p. 142-154, 2015."
   ]
  },
  {
   "cell_type": "markdown",
   "id": "valid-smith",
   "metadata": {},
   "source": [
    "# Instruções iniciais\n",
    "\n",
    "Neste notebook você irá visualizar a anomalia Bouguer em regiões específicas do mundo. Para isto leia atentamente as instruções apresentadas antes de cada célula e execute-as uma a uma, para acompanhar o processo corretamente.\n",
    "\n",
    "Não se preocupe em compreender o código em si, não é obrigatório que você conheça a programação para obter e interpretar os resultados da demonstração. Mesmo assim, sinta-se livre caso queira perguntar qualquer coisa para aprender mais sobre o código e sua elaboração.\n",
    "\n",
    "<p>&nbsp;</p>\n",
    "\n",
    "### Passo 01 - Preparação\n",
    "\n",
    "Primeiramente vamos preparar o ambiente para a execução da demonstração. Será preciso instalar o [SimPEG](https://simpeg.xyz/), que é um pacote open source para modelagem de dados geofísicos. Se você estiver executando este notebook pelo Binder ou pelo Colab execute a célula abaixo para instalar o SimPEG remotamente. Se preferir, pode instalar o pacote diretamente no seu computador ([instruções aqui](https://docs.simpeg.xyz/content/basic/installing.html)) e excluir a célula, porém é recomendável que faça isso **SOMENTE** se você já tiver familiaridade com este tipo de procedimento para evitar qualquer problema.\n",
    "\n",
    "Você pode executar o código na célula clicando sobre ela e em seguida clicando no botão **RUN** na barra do Jupyter Notebook ou pressionando as teclas **SHIFT+ENTER** no seu teclado. Se você preferir executar este notebook localmente, no seu computador, então exclua a célula abaixo para não afetar a sua instalação."
   ]
  },
  {
   "cell_type": "markdown",
   "id": "hawaiian-behalf",
   "metadata": {},
   "source": [
    "# importa e instala o SimPEG - Célula exclusiva para execução em ambiente remoto\n",
    "# baseado no exemplo em https://docs.simpeg.xyz/content/tutorials/04-magnetics/plot_2a_magnetics_induced.html\n",
    "\n",
    "!git clone https://github.com/simpeg/simpeg\n",
    "%cd simpeg\n",
    "!pip install -r requirements.txt\n",
    "!python setup.py install"
   ]
  },
  {
   "cell_type": "markdown",
   "id": "informative-success",
   "metadata": {},
   "source": [
    "Agora importe os módulos e defina as funções que precisaremos no decorrer da demonstração. A célula abaixo contém as funções utilizadas nos cálculos e as funções utilizadas para gerar as figuras. Execute-a uma vez antes de executar qualquer outra parte do código e **não altere nada no código apresentado na célula** para não criar problemas na execução do código.\n",
    "\n",
    "<p>&nbsp;</p>\n",
    "\n",
    "**Importante!** Nem todas as células irão retornar algum tipo de mensagem ou figura após a execução. Isto é normal e não significa que a execução tenha falhado. Perceba o símbolo **In [   ]:** próximo ao canto superior esquerdo de cada célula. Ao iniciar a execução de uma delas você verá um asterisco ($*$) aparecer dentro dos colchetes. Você saberá que a execução ocorreu sem problemas quando o $*$ dentro dos colchetes for substituído por um número e nenhuma mensagem de erro aparecer abaixo da célula executada."
   ]
  },
  {
   "cell_type": "code",
   "execution_count": 1,
   "id": "subsequent-longitude",
   "metadata": {},
   "outputs": [
    {
     "name": "stderr",
     "output_type": "stream",
     "text": [
      "E:\\@ UFU 2021\\Disciplinas\\2021-01 REF 2020-01\\demoaulas\\Geofisica2\\fatiando\\vis\\mpl.py:69: UserWarning: This module will be removed in v0.6. We recommend the use of matplotlib.pyplot module directly. Some of the fatiando specific functions will remain.\n",
      "  \"matplotlib.pyplot module directly. Some of the fatiando \" +\n"
     ]
    }
   ],
   "source": [
    "import numpy as np\n",
    "from scipy.interpolate import LinearNDInterpolator\n",
    "import matplotlib as mpl\n",
    "import matplotlib.pyplot as plt\n",
    "import os\n",
    "\n",
    "from discretize import TensorMesh\n",
    "from discretize.utils import mkvc\n",
    "from SimPEG.utils import plot2Ddata, model_builder, surface2ind_topo\n",
    "from SimPEG import maps\n",
    "from SimPEG.potential_fields import magnetics\n",
    "from SimPEG import utils, data\n",
    "\n",
    "from copy import deepcopy\n",
    "import fatiando.gravmag.transform as tr\n",
    "\n",
    "\n",
    "class modelo():\n",
    "    \n",
    "    \"\"\"\n",
    "    Define as dimensões, topografia e malha de tensores do modelo\n",
    "    \"\"\"\n",
    "    \n",
    "    def __init__(self, par_x, par_y, par_z, suscep_bg, topografia=None):\n",
    "        \n",
    "        \"\"\"\n",
    "        par_x:    parâmetros de comprimento e discretização do eixo x do modelo\n",
    "        par_y:    parâmetros de comprimento e discretização do eixo y do modelo\n",
    "        par_z:    parâmetros de comprimento e discretização do eixo z do modelo\n",
    "        rho_bg:   densidade do background homogêneo\n",
    "        \"\"\"\n",
    "        \n",
    "        # cria os eixos x, y e z do modelo\n",
    "        self.xx_m = np.linspace(-1 * par_x[0]/2, par_x[0]/2, 1 + int(par_x[0]/par_x[1]))\n",
    "        self.yy_m = np.linspace(-1 * par_y[0]/2, par_y[0]/2, 1 + int(par_y[0]/par_y[1]))\n",
    "        self.zz_m = np.linspace(0.0, par_z[0], 1 + int(par_z[0]/par_z[1]))\n",
    "        \n",
    "        \n",
    "        # densidade das rochas do background - é zero porque o modelo vai considerar só\n",
    "        # o contraste, não o valor absoluto\n",
    "        self.suscep_background = suscep_bg\n",
    "        \n",
    "        \n",
    "        # Define a topografia do modelo\n",
    "        [x_topo, y_topo] = np.meshgrid(self.xx_m, self.yy_m)\n",
    "        if topografia=='default':\n",
    "            z_topo = -15.0 * np.exp(-(x_topo ** 2 + y_topo ** 2) / 80 ** 2)\n",
    "\n",
    "        elif not topografia:\n",
    "            z_topo = np.zeros((len(self.yy_m), len(self.xx_m)))\n",
    "\n",
    "        x_topo, y_topo, z_topo = mkvc(x_topo), mkvc(y_topo), mkvc(z_topo)\n",
    "        self.xyz_topo = np.c_[x_topo, y_topo, z_topo]\n",
    "\n",
    "\n",
    "        # Define a malha de tensores em células de tamanho regular\n",
    "        dx = self.xx_m[1]-self.xx_m[0]\n",
    "        dy = self.yy_m[1]-self.yy_m[0]\n",
    "        dz = self.zz_m[1]-self.zz_m[0]\n",
    "\n",
    "        nx = int((np.max(self.xx_m)-np.min(self.xx_m))/dx)\n",
    "        ny = int((np.max(self.yy_m)-np.min(self.yy_m))/dy)\n",
    "        nz = int((np.max(self.zz_m)-np.min(self.zz_m))/dz)\n",
    "        \n",
    "        hx = [(dx, nx)]\n",
    "        hy = [(dy, ny)]\n",
    "        hz = [(dz, nz)]\n",
    "\n",
    "        self.mesh = TensorMesh([hx, hy, hz], 'CCN')\n",
    "        \n",
    "        # Find the indices for the active mesh cells (e.g. cells below surface)\n",
    "        self.ind_active = surface2ind_topo(self.mesh, self.xyz_topo)\n",
    "\n",
    "        # Define mapping from model to active cells. The model consists of a value for\n",
    "        # each cell below the Earth's surface.\n",
    "        nC = int(self.ind_active.sum())\n",
    "        self.model_map = maps.IdentityMap(nP=nC)\n",
    "\n",
    "        # Define o modelo com a susceptibilidade do background. Models in SimPEG are vector arrays.\n",
    "        self.model = self.suscep_background * np.ones(nC)\n",
    "        \n",
    "        \n",
    "    def insere_esfera(self, chi, x, y, z, raio):\n",
    "        ind_sphere = model_builder.getIndicesSphere([x, y, (z-raio)], raio, self.mesh.gridCC)\n",
    "        ind_sphere = ind_sphere[self.ind_active]\n",
    "        self.model[ind_sphere] = chi\n",
    "        \n",
    "        \n",
    "    def insere_bloco(self, chi, vertices):\n",
    "        \"\"\"\n",
    "        vertices: lista de tuplas -> [(xi, xf),(yi, yf),(zi, zf)]\n",
    "        \"\"\"\n",
    "        \n",
    "       \n",
    "        ind_block = ((self.mesh.gridCC[self.ind_active, 0] > vertices[0][0])\n",
    "                    & (self.mesh.gridCC[self.ind_active, 0] < vertices[0][1])\n",
    "                    & (self.mesh.gridCC[self.ind_active, 1] > vertices[1][0])\n",
    "                    & (self.mesh.gridCC[self.ind_active, 1] < vertices[1][1])\n",
    "                    & (self.mesh.gridCC[self.ind_active, 2] > vertices[2][0])\n",
    "                    & (self.mesh.gridCC[self.ind_active, 2] < vertices[2][1]))\n",
    "        self.model[ind_block] = chi\n",
    "\n",
    "    \n",
    "    def plota_corte(self, direcao, posicao):\n",
    "\n",
    "        if direcao.upper()=='X':\n",
    "            indice_slice = np.abs(posicao - self.xx_m).argmin()\n",
    "        \n",
    "        if direcao.upper()=='Y':\n",
    "            indice_slice = np.abs(posicao-self.yy_m).argmin()\n",
    "            \n",
    "        if direcao.upper()=='Z':\n",
    "            indice_slice = np.abs((np.max(np.abs(self.zz_m))-np.abs(posicao))-self.zz_m).argmin()\n",
    "        \n",
    "        fig = plt.figure(figsize=(10, 3))\n",
    "        plotting_map = maps.InjectActiveCells(self.mesh, self.ind_active, np.nan)\n",
    "\n",
    "        ax1 = fig.add_axes([0.1, 0.12, 0.73, 0.78])\n",
    "        \n",
    "        self.mesh.plot_slice(\n",
    "            plotting_map * np.log10(self.model),\n",
    "            normal=direcao,\n",
    "            ax=ax1,\n",
    "            ind=int(indice_slice),    # ind=int(self.mesh.nCy / 2),\n",
    "            grid=False,\n",
    "            clim=(np.min(np.log10(self.model)), np.max(np.log10(self.model))),\n",
    "            pcolorOpts={\"cmap\": \"viridis\"},\n",
    "        )\n",
    "        \n",
    "        ax1.set_title('Corte em ' + direcao.upper() + ' = ' + str(posicao) + ' m')\n",
    "        \n",
    "        if direcao=='Y':\n",
    "            ax1.set_xlabel('Distância em X (m)', fontsize=14)\n",
    "            ax1.set_ylabel('Profundidade (m)', fontsize=14)\n",
    "            \n",
    "        elif direcao=='X':\n",
    "            ax1.set_xlabel('Distância em Y (m)', fontsize=14)\n",
    "            ax1.set_ylabel('Profundidade (m)', fontsize=14)\n",
    "            \n",
    "        elif direcao=='Z':\n",
    "            ax1.set_xlabel('Distância em X (m)', fontsize=14)\n",
    "            ax1.set_ylabel('Distância em Y (m)', fontsize=14)\n",
    "\n",
    "        ax2 = fig.add_axes([0.85, 0.12, 0.025, 0.78])\n",
    "        norm = mpl.colors.Normalize(vmin=np.min(np.log10(self.model)), vmax=np.max(np.log10(self.model)))\n",
    "        cbar = mpl.colorbar.ColorbarBase(\n",
    "            ax2, norm=norm, orientation=\"vertical\", cmap=mpl.cm.viridis\n",
    "        )\n",
    "        cbar.set_label(r\"$log_{10}chi \\:\\: (SI)$\", rotation=90, labelpad=15, size=12)\n",
    "\n",
    "        plt.show()\n",
    "        \n",
    "        \n",
    "class aquisicao():\n",
    "    \n",
    "    def __init__(self, xx_s, yy_s, h_s, mod, f, inc, dec, componente=['tmi']):\n",
    "    \n",
    "        \"\"\"\n",
    "        Configura os pontos do levantamento no modelo\n",
    "        \n",
    "        The user only needs an (N, 3) array to define the xyz locations of the observation locations, \n",
    "        and a list of field components which are to be measured.\n",
    "        \n",
    "        xx_s:    coordenadas x dos pontos de levantamento\n",
    "        yy_s:    coordenadas y dos pontos de levantamento\n",
    "        h_s:     elevação do levantamento\n",
    "        mod:     objeto da classe modelo\n",
    "        \"\"\"\n",
    "        \n",
    "        self.xx_s = xx_s\n",
    "        self.yy_s = yy_s\n",
    "        self.h_s = h_s\n",
    "        self.componente = componente\n",
    "        \n",
    "        x, y = np.meshgrid(xx_s, yy_s)\n",
    "\n",
    "        x = mkvc(x.T)\n",
    "        y = mkvc(y.T)\n",
    "\n",
    "        # cria a função de interpolação para o espaço do modelo\n",
    "        fun_interp = LinearNDInterpolator(np.c_[mod.xyz_topo[:, 0], mod.xyz_topo[:, 1]], mod.xyz_topo[:, 2])\n",
    "\n",
    "        # interpola as coordenadas das estações e coloca h_s metros acima da superfície\n",
    "        z = fun_interp(np.c_[x, y]) + h_s\n",
    "        \n",
    "        self.receiver_locations = np.c_[x, y, z]\n",
    "\n",
    "        # Use the observation locations and components to define the receivers. To\n",
    "        # simulate data, the receivers must be defined as a list.\n",
    "        receiver_list = magnetics.receivers.Point(self.receiver_locations, components=componente)\n",
    "        self.receiver_list = [receiver_list]\n",
    "\n",
    "        # Define the inducing field H0 = (intensity [nT], inclination [deg], declination [deg])\n",
    "        inclination = inc\n",
    "        declination = dec\n",
    "        strength = f\n",
    "        self.inducing_field = (strength, inclination, declination)\n",
    "        self.source_field = magnetics.sources.SourceField(receiver_list=self.receiver_list, parameters=self.inducing_field)\n",
    "\n",
    "        # Defining the survey\n",
    "        self.survey = magnetics.survey.Survey(self.source_field)    # é um objeto\n",
    "        \n",
    "        \n",
    "    def fwd(self, mod):\n",
    "        \n",
    "        # Define the forward simulation. By setting the 'store_sensitivities' keyword\n",
    "        # argument to \"forward_only\", we simulate the data without storing the sensitivities\n",
    "        simulation = magnetics.simulation.Simulation3DIntegral(\n",
    "                        survey = self.survey,\n",
    "                        mesh = mod.mesh,\n",
    "                        chiMap = mod.model_map,\n",
    "                        actInd = mod.ind_active,\n",
    "                        store_sensitivities = \"forward_only\",\n",
    "        )\n",
    "\n",
    "        # Compute predicted data for some model\n",
    "        self.dpred = simulation.dpred(mod.model)\n",
    "        self.descricao = 'Intensidade Total (TMI)'\n",
    "       \n",
    "        \n",
    "    def plota_mapa(self, coordenadas=[0.0, 0.0]):\n",
    "        nx = len(self.xx_s)\n",
    "        ny = len(self.yy_s)\n",
    "\n",
    "        matriz_dados = np.reshape(self.dpred, [ny, nx])\n",
    "        ind_x = np.abs(self.xx_s-coordenadas[0]).argmin()    # índice da coordenada x no eixo x\n",
    "        ind_y = np.abs(self.yy_s-coordenadas[1]).argmin()    # índice da coordenada y no eixo y\n",
    "\n",
    "        fig = plt.figure(figsize=(13, 6))\n",
    "\n",
    "        plt.subplot(121)\n",
    "        im = plt.imshow(np.flipud(matriz_dados), extent=[self.xx_s[0], self.xx_s[-1], self.yy_s[0], self.yy_s[-1]], \\\n",
    "                        cmap='jet_r', vmin=np.min(matriz_dados), vmax=np.max(matriz_dados), interpolation='bicubic')\n",
    "        plt.plot([coordenadas[0], coordenadas[0]], [self.xx_s[0], self.xx_s[-1]], '--w')\n",
    "        plt.plot([self.yy_s[0], self.yy_s[-1]], [coordenadas[1], coordenadas[1]], '--w')\n",
    "        plt.colorbar(im, label='nT', shrink=0.75)\n",
    "        plt.xlabel('Distância em X (m)', fontsize=14)\n",
    "        plt.ylabel('Distância em Y (m)', fontsize=14)\n",
    "        plt.title(self.descricao, fontsize=14)\n",
    "        \n",
    "        # para excluir os efeitos de borda da modelagem\n",
    "        l_x = self.xx_s[-1] - self.xx_s[0]\n",
    "        l_y = self.yy_s[-1] - self.yy_s[0]\n",
    "        plt.xlim([self.xx_s[0]+(l_x/7), self.xx_s[-1]-(l_x/7)])\n",
    "        plt.ylim([self.xx_s[0]+(l_x/7), self.xx_s[-1]-(l_x/7)])\n",
    "        \n",
    "        plt.subplot(222)\n",
    "        plt.plot(self.yy_s, matriz_dados[:, ind_x])\n",
    "        plt.title('Perfil cruzando a anomalia em X='+ str(coordenadas[0]) +' m', fontsize=14)\n",
    "        plt.xlabel('Distância em Y (m)', fontsize=14)\n",
    "        plt.ylabel('Anomalia (nT)', fontsize=14)\n",
    "        plt.xlim([self.xx_s[0]+(l_x/7), self.xx_s[-1]-(l_x/7)])\n",
    "        plt.grid()\n",
    "\n",
    "        plt.subplot(224)\n",
    "        plt.plot(self.xx_s, matriz_dados[ind_y,:])\n",
    "        plt.title('Perfil cruzando a anomalia em Y='+ str(coordenadas[1]) +' m', fontsize=14)\n",
    "        plt.xlabel('Distância em X (m)', fontsize=14)\n",
    "        plt.ylabel('Anomalia (nT)', fontsize=14)\n",
    "        plt.xlim([self.xx_s[0]+(l_x/7), self.xx_s[-1]-(l_x/7)])\n",
    "        plt.grid()\n",
    "\n",
    "        plt.tight_layout()\n",
    "        plt.show()\n",
    "        \n",
    "        \n",
    "def continuacao(survey_in, z):\n",
    "    \n",
    "    survey_out = deepcopy(survey_in)\n",
    "    \n",
    "    nx = len(survey_out.xx_s)\n",
    "    ny = len(survey_out.yy_s)\n",
    "    survey_out.dpred = tr.upcontinue(survey_out.xx_s, survey_out.yy_s, survey_out.dpred, (nx, ny), z)   #.reshape([ny, nx])\n",
    "    survey_out.descricao = 'continuação p/ cima em ' + str(z) + ' m'\n",
    "    \n",
    "    return survey_out\n",
    "\n",
    "\n",
    "def derivada_y(survey_in, ordem=1):\n",
    "    \n",
    "    survey_out = deepcopy(survey_in)\n",
    "    \n",
    "    nx = len(survey_out.xx_s)\n",
    "    ny = len(survey_out.yy_s)\n",
    "    survey_out.dpred = tr.derivx(survey_out.xx_s, survey_out.yy_s, survey_out.dpred, (nx, ny), order=ordem)    #.reshape([ny, nx])\n",
    "    survey_out.descricao = str(int(ordem)) + 'a Derivada horizontal Y'\n",
    "    \n",
    "    return survey_out\n",
    "\n",
    "\n",
    "def derivada_x(survey_in, ordem=1):\n",
    "    \n",
    "    survey_out = deepcopy(survey_in)\n",
    "    \n",
    "    nx = len(survey_out.xx_s)\n",
    "    ny = len(survey_out.yy_s)\n",
    "    survey_out.dpred = tr.derivy(survey_out.xx_s, survey_out.yy_s, survey_out.dpred, (nx, ny), order=ordem)    #.reshape([ny, nx])\n",
    "    survey_out.descricao = str(int(ordem)) + 'a Derivada horizontal X'\n",
    "    \n",
    "    return survey_out\n",
    "\n",
    "\n",
    "def derivada_z(survey_in, ordem=1):\n",
    "    \n",
    "    survey_out = deepcopy(survey_in)\n",
    "    \n",
    "    nx = len(survey_out.xx_s)\n",
    "    ny = len(survey_out.yy_s)\n",
    "    survey_out.dpred = tr.derivz(survey_out.xx_s, survey_out.yy_s, survey_out.dpred, (nx, ny), order=ordem)    #.reshape([ny, nx])\n",
    "    survey_out.descricao = str(int(ordem)) + 'a Derivada vertical'\n",
    "    \n",
    "    return survey_out\n",
    "\n",
    "\n",
    "def gradiente_total(survey_in):\n",
    "    \n",
    "    survey_out = deepcopy(survey_in)\n",
    "    \n",
    "    nx = len(survey_out.xx_s)\n",
    "    ny = len(survey_out.yy_s)\n",
    "    survey_out.dpred = tr.tga(survey_out.xx_s, survey_out.yy_s, survey_out.dpred, (nx, ny))    #.reshape([ny, nx])\n",
    "    survey_out.descricao = 'Amplitude do gradiente total'\n",
    "    \n",
    "    return survey_out\n",
    "\n",
    "\n",
    "def derivada_tilt(survey_in):\n",
    "    \n",
    "    survey_out = deepcopy(survey_in)\n",
    "    \n",
    "    nx = len(survey_out.xx_s)\n",
    "    ny = len(survey_out.yy_s)\n",
    "    survey_out.dpred = tr.tilt(survey_out.xx_s, survey_out.yy_s, survey_out.dpred, (nx, ny))    #.reshape([ny, nx])\n",
    "    survey_out.descricao = 'Derivada tilt'\n",
    "    \n",
    "    return survey_out\n",
    "\n",
    "\n",
    "def residual(survey_in_total, survey_in_regional):\n",
    "    \n",
    "    survey_out = deepcopy(survey_in_total)\n",
    "    survey_out.dpred = survey_in_total.dpred - survey_in_regional.dpred\n",
    "    survey_out.descricao = 'Campo residual'\n",
    "    \n",
    "    return survey_out\n",
    "\n",
    "\n",
    "def red_polo(survey_in, inc, dec):\n",
    "    \n",
    "    survey_out = deepcopy(survey_in)\n",
    "    \n",
    "    nx = len(survey_out.xx_s)\n",
    "    ny = len(survey_out.yy_s)\n",
    "    \n",
    "    sinc, sdec = [inc, dec]   # considera que não há magnetização remanente na fonte da anomalia\n",
    "    \n",
    "    survey_out.dpred = tr.reduce_to_pole(survey_out.xx_s, survey_out.yy_s, survey_out.dpred, (nx, ny), \\\n",
    "                                        inc, dec, sinc, sdec)\n",
    "    \n",
    "    survey_out.descricao = 'Redução ao Polo'\n",
    "    \n",
    "    return survey_out"
   ]
  },
  {
   "cell_type": "markdown",
   "id": "voluntary-sentence",
   "metadata": {},
   "source": [
    "### Passo 02 - Configuração do modelo\n",
    "\n",
    "Aqui você irá definir primeiramente as dimensões do espaço do modelo, informando o comprimento que você deseja que seu modelo tenha e qual a discretização que deseja para ele. Cada variável na célula abaixo define uma dimensão para um eixo do modelo tridimensional.\n",
    "\n",
    "Para este exemplo vamos começar com um modelo que tem 2000 m de comprimento (direção X), 2000 m de largura (direção Y) e 260 m de profundidade (direção Z) e é discretizado em elementos de 40.0 x 40.0 x 20.0 m. Configure estes valores executando a célula abaixo."
   ]
  },
  {
   "cell_type": "code",
   "execution_count": 2,
   "id": "institutional-designation",
   "metadata": {},
   "outputs": [],
   "source": [
    "eixo_x = [2000.0, 40.0]      # [comprimento, delta]\n",
    "eixo_y = [2000.0, 40.0]      # [comprimento, delta]\n",
    "eixo_z = [260.0, 20.0]       # [comprimento, delta]"
   ]
  },
  {
   "cell_type": "markdown",
   "id": "duplicate-disclaimer",
   "metadata": {},
   "source": [
    "Em seguida, execute a célula abaixo para gerar um modelo cuja susceptibilidade magnética ($\\chi$) homogênea é de 10$^{-5}$ (SI), correspondente à susceptibilidade magnética de uma rocha sedimentar."
   ]
  },
  {
   "cell_type": "code",
   "execution_count": 3,
   "id": "healthy-expense",
   "metadata": {},
   "outputs": [],
   "source": [
    "meu_modelo = modelo(eixo_x, eixo_y, eixo_z, 1e-5)"
   ]
  },
  {
   "cell_type": "markdown",
   "id": "supported-crawford",
   "metadata": {},
   "source": [
    "Agora você irá inserir corpos de diferentes susceptibilidades magnéticas no modelo para simular corpos na rocha encaixante sedimentar. Os contrastes serão representados por corpos de geometria simples: um corpo esférico de raio 150.0 m com centro nas coordenadas $(x, y)$ = (-300.0, -300.0) e um corpo cúbico com centro nas coordenadas $(x, y)$ = (-300.0, 300.0). O topo de cada um destes corpos encontra-se à profundidade de -50.0 m. A susceptibilidade magnética do corpo esférico é de 10$^{-3}$ (SI), o que corresponde à presença de mineralizações ricas em hematita, e a susceptibilidade magnética do corpo cúbico é de 10$^{-1}$ (SI), correspondente à presenla de mineralizações ricas em pirrotita. Estes corpos encontram-se sobre um embasamento granítico de susceptibilidade magnética 10$^{-4}$ (SI) e a leste destes corpos ocorre um dique de basalto, cuja susceptibilidade magnética adotada é de 10$^{-2}$ (SI).\n",
    "\n",
    "Execute a célula abaixo para construir o modelo descrito acima."
   ]
  },
  {
   "cell_type": "code",
   "execution_count": 4,
   "id": "linear-diameter",
   "metadata": {},
   "outputs": [],
   "source": [
    "# corpo esférico (chi, x_centro, y_centro, z_topo, raio)\n",
    "meu_modelo.insere_esfera(1e-3, -300.0, -300.0, -50.0, 150)\n",
    "\n",
    "# corpo cúbico (delta_rho, [(xi, xf),(yi, yf),(zi, zf)])\n",
    "meu_modelo.insere_bloco(1e-1, [(-450, -150), (150, 450), (-350, -50)])\n",
    "\n",
    "# embasamento (delta_rho, [(xi, xf),(yi, yf),(zi, zf)])\n",
    "meu_modelo.insere_bloco(1e-4, [(-1000, 1000), (-1000, 1000), (-260, -140)])\n",
    "\n",
    "# dique na direção N-S (delta_rho, [(xi, xf),(yi, yf),(zi, zf)])\n",
    "meu_modelo.insere_bloco(1e-3, [(200, 300), (-1000, 1000), (-260, -140)])"
   ]
  },
  {
   "cell_type": "markdown",
   "id": "greater-portal",
   "metadata": {},
   "source": [
    "Execute a célula abaixo para exibir vistas em corte do modelo e conferir o posicionamento dos corpos em relação ao embasamento cristalino."
   ]
  },
  {
   "cell_type": "code",
   "execution_count": 10,
   "id": "floating-break",
   "metadata": {},
   "outputs": [
    {
     "data": {
      "image/png": "[encoded data removed]",
      "text/plain": [
       "<Figure size 720x216 with 2 Axes>"
      ]
     },
     "metadata": {
      "needs_background": "light"
     },
     "output_type": "display_data"
    },
    {
     "data": {
      "image/png": "[encoded data removed]",
      "text/plain": [
       "<Figure size 720x216 with 2 Axes>"
      ]
     },
     "metadata": {
      "needs_background": "light"
     },
     "output_type": "display_data"
    },
    {
     "data": {
      "image/png": "[encoded data removed]",
      "text/plain": [
       "<Figure size 720x216 with 2 Axes>"
      ]
     },
     "metadata": {
      "needs_background": "light"
     },
     "output_type": "display_data"
    },
    {
     "data": {
      "image/png": "[encoded data removed]",
      "text/plain": [
       "<Figure size 720x216 with 2 Axes>"
      ]
     },
     "metadata": {
      "needs_background": "light"
     },
     "output_type": "display_data"
    },
    {
     "data": {
      "image/png": "[encoded data removed]",
      "text/plain": [
       "<Figure size 720x216 with 2 Axes>"
      ]
     },
     "metadata": {
      "needs_background": "light"
     },
     "output_type": "display_data"
    }
   ],
   "source": [
    "meu_modelo.plota_corte('Y', 300.0)\n",
    "meu_modelo.plota_corte('Y', -300.0)\n",
    "meu_modelo.plota_corte('X', -300.0)\n",
    "meu_modelo.plota_corte('Z', 100.0)\n",
    "meu_modelo.plota_corte('Z', 200.0)"
   ]
  },
  {
   "cell_type": "markdown",
   "id": "correct-words",
   "metadata": {},
   "source": [
    "### Passo 03 - Configuração da aquisição\n",
    "\n",
    "Agora será preciso definir os parâmetros de aquisição de dados, i.e., os pontos onde serão realizadas as medidas de aceleração de gravidade sobre o modelo. Estes dados serão adquiridos em uma grade de pontos equiespaçados distribuídos na superfície do modelo, portanto será preciso definir os pontos inicial e final para o eixo X e para o eixo Y, assim como o número de pontos ao longo de cada direção.\n",
    "\n",
    "A assinatura de uma anomalia magnética está sujeita às características de inclinação, declinação e intensidade do campo geomagnético na região onde a aquisição é feita, de forma que a anomalia observada sobre um mesmo corpo pode apresentar comportamentos diferentes em diferentes locais do mundo. Como padrão iremos definir as características do campo geomagnético na data em que este notebook foi redigido e nas coordenadas onde encontra-se o campus da Universidade Federal de Uberlândia em Monte Carmelo (-18.723889°, -47.523889°). Estas características são obtidas a partir do [cálculo do IGRF](https://www.ngdc.noaa.gov/geomag/calculators/magcalc.shtml#igrfwmm).\n",
    "\n",
    "Execute a célula abaixo para configurar estas características."
   ]
  },
  {
   "cell_type": "code",
   "execution_count": 6,
   "id": "indoor-phase",
   "metadata": {},
   "outputs": [
    {
     "ename": "SyntaxError",
     "evalue": "invalid syntax (<ipython-input-6-b9be57cd6085>, line 1)",
     "output_type": "error",
     "traceback": [
      "\u001b[1;36m  File \u001b[1;32m\"<ipython-input-6-b9be57cd6085>\"\u001b[1;36m, line \u001b[1;32m1\u001b[0m\n\u001b[1;33m    intensidade =       # intensidade em nT\u001b[0m\n\u001b[1;37m                                           ^\u001b[0m\n\u001b[1;31mSyntaxError\u001b[0m\u001b[1;31m:\u001b[0m invalid syntax\n"
     ]
    }
   ],
   "source": [
    "intensidade =       # intensidade em nT\n",
    "inclinacao =       # inclinação em graus\n",
    "declinacao =       # declinação em graus"
   ]
  },
  {
   "cell_type": "markdown",
   "id": "unauthorized-ordering",
   "metadata": {},
   "source": [
    "Execute a célula abaixo para definir um levantamento realizado entre as coordenadas -1000.0 e 1000 do eixo X e entre as coordenadas -1000.0 e 1000.0 m do eixo Y, com 60 pontos de aquisição em cada direção. \n",
    "\n",
    "Esta simulação irá considerar também a altura do levantamento em 0.0 m, i.e., o levantamento será feito junto à superfície do modelo."
   ]
  },
  {
   "cell_type": "code",
   "execution_count": null,
   "id": "fewer-replica",
   "metadata": {},
   "outputs": [],
   "source": [
    "x_rx = np.linspace(-1000, 1000.0, 40)\n",
    "y_rx = np.linspace(-1000.0, 1000.0, 40)\n",
    "h_rx = 0.0\n",
    "\n",
    "minha_aquisicao = aquisicao(x_rx, y_rx, h_rx, meu_modelo, \\\n",
    "                            f=intensidade, inc=inclinacao, dec=declinacao)\n",
    "\n",
    "%time minha_aquisicao.fwd(meu_modelo)"
   ]
  },
  {
   "cell_type": "markdown",
   "id": "virgin-message",
   "metadata": {},
   "source": [
    "### Mapa de intensidade do campo magnético total (TMI)\n",
    "\n",
    "O mapa gerado pela simulação sobre o modelo corresponde ao conjunto de dados resultantes do procedimento de redução dos dados adquiridos em campo, que recebe o nome de mapa de intensidade de campo magnético total (TMI). Este mapa apresenta a anomalia dipolar causada pelo corpo imerso em um campo magnético externo.\n",
    "\n",
    "Execute a célula abaixo para obter o mapa de TMI associado ao modelo configurado."
   ]
  },
  {
   "cell_type": "code",
   "execution_count": null,
   "id": "hungarian-latex",
   "metadata": {},
   "outputs": [],
   "source": [
    "minha_aquisicao.plota_mapa([-300.0, -300.0])"
   ]
  },
  {
   "cell_type": "markdown",
   "id": "respective-quilt",
   "metadata": {},
   "source": [
    "# Transformações do campo"
   ]
  },
  {
   "cell_type": "markdown",
   "id": "declared-filter",
   "metadata": {},
   "source": [
    "### Continuação para cima\n",
    "\n",
    "A continuação para cima simula o efeito anômalo causado pelos contrastes de densidade em alturas diferentes daquela em que os dados foram adquiridos. Esta transformação atua sobre o datum onde os dados foram adquiridos deslocando-o para cima, daí o nome desta operação. Isto faz com que a influência das anomalias de curto comprimento de onda seja minimizada, enquanto as anomalias de longo comprimento de onda ainda continuam presentes no dado apresentando uma amplitude ligeiramente menor do que a amplitude original. Trata-se, portanto, de um tipo de filtragem que remove do dado as anomalias de curto comprimento de onda.\n",
    "\n",
    "Existem duas aplicações principais para este tipo de procedimento: i) colocar diferentes conjuntos de dados em um mesmo datum para que sejam trabalhados em conjunto, como por exemplo quando se tem dados adquiridos em levantamentos aéreo e terrestre sobre uma mesma região, e ii) para estimar a influência do campo regional, que poderá ser utilizado para o cálculo do campo resitual.\n",
    "\n",
    "No modelo utilizado neste notebook os dados foram adquiridos em terra ($h$ = 0.0 m). Execute a célula abaixo para transportar esta aquisição para uma altura de 500.0 m acima da superfície ($h$ = 500.0 m), obtendo assim um mapa de continuação para cima."
   ]
  },
  {
   "cell_type": "code",
   "execution_count": null,
   "id": "israeli-scott",
   "metadata": {},
   "outputs": [],
   "source": [
    "alt = 500.0        # altura da continuação (em metros)\n",
    "\n",
    "minha_aquisicao_up = continuacao(minha_aquisicao, alt)\n",
    "minha_aquisicao_up.plota_mapa([-300.0, -100.0])"
   ]
  },
  {
   "cell_type": "markdown",
   "id": "interior-grill",
   "metadata": {},
   "source": [
    "### Campo residual\n",
    "\n",
    "A análise de um dado gravimétrico requer que as anomalias de interesse sejam isoladas para que se possa proceder à sua interpretação. No contexto exploratório, em geral as anomalias de interesse correspondem a anomalias causadas por corpos rasos; entretanto o dado gravimétrico adquirido em campo também está sujeito à influência dos contrastes de densidades mais profundos presentes na crosta terrestre. Para analisar corretamente as anomalias causadas pelos corpos mais rasos faz-se necessário separar as anomalias causadas por fontes mais rasas daquelas causadas por corpos mais profundos.\n",
    "\n",
    "A separação é feita estimando-se o campo regional, ou seja, a representação do comportamento geral do campo gravimétrico na região do levantamento. Isto pode ser feito de duas formas: i) ajustando-se um polinomio bidimensional sobre os dados adquiridos, e ii) através da continuação para cima a uma altitude em que as anomalias de longo comprimento de onda sejam observadas preferencialmente. Uma vez estimado, o campo regional é subtraído dos dados originais, restando no mapa apenas as anomalias de curto comprimento de onda associadas aos corpos mais rasos. Este campo resultante é chamado de campo residual.\n",
    "\n",
    "Execute a célula abaixo para calcular o campo gravimétrico residual utilizando a continuação para cima executada na etapa anterior. É este mapa que será utilizado nas análises posteriores das anomalias observadas no mapa."
   ]
  },
  {
   "cell_type": "code",
   "execution_count": null,
   "id": "royal-invention",
   "metadata": {},
   "outputs": [],
   "source": [
    "minha_aquisicao_res = residual(minha_aquisicao, minha_aquisicao_up)\n",
    "minha_aquisicao_res.plota_mapa([-300.0, 0.0])"
   ]
  },
  {
   "cell_type": "markdown",
   "id": "rotary-spotlight",
   "metadata": {},
   "source": [
    "### redução ao polo"
   ]
  },
  {
   "cell_type": "code",
   "execution_count": null,
   "id": "backed-fence",
   "metadata": {},
   "outputs": [],
   "source": [
    "minha_aquisicao_rtp = red_polo(minha_aquisicao, inc=-35.9195, dec=-22.2848)\n",
    "minha_aquisicao_rtp.plota_mapa([-300.0, -300.0])"
   ]
  },
  {
   "cell_type": "markdown",
   "id": "collect-merchant",
   "metadata": {},
   "source": [
    "### 2a derivada vertical"
   ]
  },
  {
   "cell_type": "code",
   "execution_count": null,
   "id": "metropolitan-perry",
   "metadata": {},
   "outputs": [],
   "source": [
    "minha_aquisicao_dz2 = derivada_z(minha_aquisicao_rtp, ordem=2)\n",
    "minha_aquisicao_dz2.plota_mapa([-300.0, -300.0])"
   ]
  },
  {
   "cell_type": "markdown",
   "id": "cooperative-sudan",
   "metadata": {},
   "source": [
    "### TGA"
   ]
  },
  {
   "cell_type": "code",
   "execution_count": null,
   "id": "constant-yellow",
   "metadata": {},
   "outputs": [],
   "source": [
    "minha_aquisicao_tga = gradiente_total(minha_aquisicao_rtp)\n",
    "minha_aquisicao_tga.plota_mapa([-300.0, 0.0])"
   ]
  },
  {
   "cell_type": "markdown",
   "id": "interracial-editor",
   "metadata": {},
   "source": [
    "### tilt derivative"
   ]
  },
  {
   "cell_type": "code",
   "execution_count": null,
   "id": "prerequisite-cement",
   "metadata": {},
   "outputs": [],
   "source": [
    "minha_aquisicao_tilt = derivada_tilt(minha_aquisicao_rtp)\n",
    "minha_aquisicao_tilt.plota_mapa([-300.0, 0.0])"
   ]
  },
  {
   "cell_type": "code",
   "execution_count": null,
   "id": "greatest-costs",
   "metadata": {},
   "outputs": [],
   "source": []
  },
  {
   "cell_type": "code",
   "execution_count": null,
   "id": "existing-glory",
   "metadata": {},
   "outputs": [],
   "source": []
  },
  {
   "cell_type": "code",
   "execution_count": null,
   "id": "proof-monte",
   "metadata": {},
   "outputs": [],
   "source": []
  },
  {
   "cell_type": "code",
   "execution_count": null,
   "id": "directed-trouble",
   "metadata": {},
   "outputs": [],
   "source": []
  },
  {
   "cell_type": "code",
   "execution_count": null,
   "id": "aggressive-filing",
   "metadata": {},
   "outputs": [],
   "source": []
  }
 ],
 "metadata": {
  "kernelspec": {
   "display_name": "Python 3",
   "language": "python",
   "name": "python3"
  },
  "language_info": {
   "codemirror_mode": {
    "name": "ipython",
    "version": 3
   },
   "file_extension": ".py",
   "mimetype": "text/x-python",
   "name": "python",
   "nbconvert_exporter": "python",
   "pygments_lexer": "ipython3",
   "version": "3.7.10"
  }
 },
 "nbformat": 4,
 "nbformat_minor": 5
}
