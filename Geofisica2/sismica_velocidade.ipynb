{
 "cells": [
  {
   "cell_type": "markdown",
   "id": "supposed-white",
   "metadata": {},
   "source": [
    "Notebook elaborado para estudar os fundamentos da estimativa de velocidades através da análise de dados sísmicos de refração e de reflexão.\n",
    "Criado para a disciplina Geofísica II da Universidade Federal de Uberlândia.\n",
    "O uso e a reprodução são livres para fins educacionais, pede-se apenas a citação da fonte.\n",
    "\n",
    "[![License: GPL v3](https://img.shields.io/badge/License-GPLv3-blue.svg)](https://www.gnu.org/licenses/gpl-3.0)\n",
    "\n",
    "Esta demonstração utiliza dados adaptados de Milkereit et al. (1985) e de Chen et al. (2018).\n",
    "\n",
    "\n",
    "Prof. Dr. Emerson Rodrigo Almeida<br>\n",
    "Universidade Federal de Uberlândia<br>\n",
    "Instituto de Geografia - Curso de Geologia<br>\n",
    "emerson.almeida@ufu.br<br>\n",
    "\n",
    "<p>&nbsp;</p>\n",
    "Última modificação: 23/09/2022\n",
    "\n",
    "---\n",
    "### Referências\n",
    "\n",
    "CHEN, S.; JIN, S.; LI, X. Y.; YANG, W. Nonstretching normal-moveout correction using a dynamic time warping algorithm. **Geophysics**, v. 83, n. 1, p. V27-V37, 2018.\n",
    "\n",
    "MILKEREIT, B.; MOONEY, W. D.; KOHLER, W. M. Inversion of seismic refraction data in planar dipping structure. **Geophys. J. R. Astr. Soc.**, v. 82, n. 1, p. 81-103, 1985.\n",
    "\n",
    "---\n",
    "\n",
    "<p>&nbsp;</p>\n",
    "\n",
    "# Instruções iniciais\n",
    "\n",
    "Neste notebook você irá estimar a velocidade de camadas geológicas de interfaces horizontais em dados sísmicos. Para isto leia atentamente as instruções apresentadas antes de cada célula e execute-as uma a uma, para acompanhar o processo corretamente.\n",
    "\n",
    "Não se preocupe em compreender o código em si, não é obrigatório que você conheça a programação para obter e interpretar os resultados da demonstração. Mesmo assim, sinta-se livre caso queira perguntar qualquer coisa para aprender mais sobre o código e sua elaboração.\n",
    "\n",
    "<p>&nbsp;</p>\n",
    "\n",
    "# Passo 01 - Preparação\n",
    "\n",
    "Primeiramente vamos preparar o ambiente para a execução da demonstração. Importe os módulos e defina as funções que serão utilizadas no decorrer da demonstração. A célula abaixo contém as funções utilizadas nos cálculos e as funções utilizadas para gerar as figuras. Execute-a uma vez antes de executar qualquer outra parte do código e **não altere nada no código apresentado na célula** para não criar problemas na execução do código. Você pode executar o código na célula clicando sobre ela e em seguida clicando no botão **RUN** na barra do Jupyter Notebook ou pressionando as teclas **SHIFT+ENTER** no seu teclado. Se você preferir executar este notebook localmente, no seu computador, então exclua a célula abaixo para não afetar a sua instalação.\n",
    "\n",
    "<p>&nbsp;</p>\n",
    "\n",
    "**Importante!** Nem todas as células irão retornar algum tipo de mensagem ou figura após a execução. Isto é normal e não significa que a execução tenha falhado. Perceba o símbolo **In [   ]:** próximo ao canto superior esquerdo de cada célula. Ao iniciar a execução de uma delas você verá um asterisco ($*$) aparecer dentro dos colchetes. Você saberá que a execução ocorreu sem problemas quando o $*$ dentro dos colchetes for substituído por um número e nenhuma mensagem de erro aparecer abaixo da célula executada."
   ]
  },
  {
   "cell_type": "code",
   "execution_count": null,
   "id": "52889f52-2bb3-4b86-b1f9-5456487d23e8",
   "metadata": {},
   "outputs": [],
   "source": [
    "import modulos.sismica as smc"
   ]
  },
  {
   "cell_type": "markdown",
   "id": "acting-taste",
   "metadata": {},
   "source": [
    "# Passo 02 - Análise de dados de Refração\n",
    "\n",
    "A célula abaixo permite gerar um gráfico que representa os tempos de chegada identificados em um radargrama, incluindo os tempos de chegada das ondas refletidas, obtido sobre um modelo de duas camadas. Modifique as velocidades da primeira camada ($v_1$), da segunda camada ($v_2$) e a profundidade da interface ($z$) para avaliar como a relação entre os tempos de chegada se altera. Modifique também o número de traços ($n\\_tracos$) para avaliar como uma distância de aquisição insuficiente pode prejudicar a identificação de certas características no gráfico.\n",
    "\n",
    "Execute a célula após fazer as modificações."
   ]
  },
  {
   "cell_type": "code",
   "execution_count": null,
   "id": "exceptional-storage",
   "metadata": {},
   "outputs": [],
   "source": [
    "smc.refracao_sintetico(v1=2000, v2=4000, z=15.0, n_tracos=81.0)   # velocidades em m/s, espessura em m"
   ]
  },
  {
   "cell_type": "markdown",
   "id": "choice-fundamentals",
   "metadata": {},
   "source": [
    "Identifique o tempo de interceptação, a distância crítica, distância de cruzamento e velocidades das camadas v1 e v2 a partir do gráfico acima. \n",
    "\n",
    "* Quando a velocidade da segunda camada é configurada para um valor menor do que a velocidade da primeira camada as ondas refratadas não são exibidas no gráfico. Por quê?\n",
    "\n",
    "* O que acontece quando a velocidade da segunda camada é configurada para um valor igual ao da velocidade da primeira camada? Por quê? "
   ]
  },
  {
   "cell_type": "markdown",
   "id": "informative-transcription",
   "metadata": {},
   "source": [
    "### Análise de tempos de chegada no sismograma de refração\n",
    "\n",
    "A célula abaixo mostra um sismograma adaptado de Milkereit et al. (1985) em que é possível identificar duas camadas a partir dos tempos de chegada das ondas refratadas. É possível alterar os valores de velocidade da primeira camada ($v_{1}$), da segunda camada ($v_{1}$) e da profundidade da interface ($z$) para ajustar retas que indiquem a chegada das ondas diretas e a chegada das ondas refratadas na interface. \n",
    "\n",
    "**Obs.:** O instante da chegada da onda deve ser aquele em que a amplitude da onda indica o início da oscilação do solo, i.e., o instante de tempo em que a amplitude deixa de ser algo próximo de zero e passa a ter um valor positivo ou negativo. Não se deve considerar a amplitude máxima da primeira oscilação do solo, pois isso acarretará em erros na estimativa das velocidades e, consequentemente, das espessuras das camadas.\n",
    "\n",
    "Modifique estes valores e execute a célula para verificar o ajuste."
   ]
  },
  {
   "cell_type": "code",
   "execution_count": null,
   "id": "catholic-spanish",
   "metadata": {},
   "outputs": [],
   "source": [
    "v_direta, h = smc.refracao_real(v1=0.0001, v2=0.0001, z=0.0001, reflexao=False)     # velocidades em km/s, espessura em km"
   ]
  },
  {
   "cell_type": "markdown",
   "id": "uniform-toyota",
   "metadata": {},
   "source": [
    "Após conseguir um ajuste satisfatório altere o valor da variável $reflexao$ para **True** na célula acima. Isto irá mostrar os tempos de chegada das ondas refletidas no sismograma. Você conseguia identificá-las no sismograma antes desta alteração?"
   ]
  },
  {
   "cell_type": "markdown",
   "id": "informative-incidence",
   "metadata": {},
   "source": [
    "# Passo 03 - Análise de velocidades em reflexão (Método $t^2 x^2$)\n",
    "\n",
    "A análise de velocidade das ondas sísmicas também pode ser feita a partir da análise dos tempos de chegada das ondas refletidas na interface. Uma das formas de se fazer isso é utiizando o método $t^2 x^2$, em que calcula-se os valores quadráticos dos tempos e das dstâncias a fim de linearizar a hipérbole característica relacionada aos tempo de chegada de uma reflexão em uma interface. A partir da reta gerada é possível estimar a velocidade de propagação das ondas sísmicas na primeira interface através da raiz quadrática do inverso do coeficiente angular, de forma parecida com o que é feito na análise de refração sísmica. \n",
    "\n",
    "A célula abaixo executa este procedimento para linearizar a hipérbole de reflexão observada no gráfico anterior. Execute-a sem alterar nada, calcule a velocidade estimada através do método $t^2 x^2$ e compare-a com a velocidade ajustada anteriormente com as retas referentes aos tempos de chegada das ondas refratadas."
   ]
  },
  {
   "cell_type": "code",
   "execution_count": null,
   "id": "exceptional-gamma",
   "metadata": {},
   "outputs": [],
   "source": [
    "smc.t2x2(v_direta, h)"
   ]
  },
  {
   "cell_type": "markdown",
   "id": "capital-anchor",
   "metadata": {},
   "source": [
    "### Análise de velocidades em reflexões de múltiplas interfaces\n",
    "\n",
    "Quando se faz a análise dos tempos de chegada de reflexões ou refrações provenientes de um modelo de múltiplas camadas é necessário considerar que o tempo de trânsito apresentado pela reflexão ou refração das ondas sísmicas na interface superior da $n$-ésima camada é afetado pela velocidade de propagação destas ondas nas $n$-1 camadas existentes acima dela. O método $t^2 x^2$ fornece um meio de estimar a velocidade linearizando as curvas provenientes de todas as reflexões, porém esta estimativa só corresponde à velocidade real de propagação para a reflexão na primeira interface. Para as demais reflexões a velocidade estimada corresponde à *velocidade RMS*, que é a que considera a propagação das ondas através de todas as camadas acima da interface onde houve a reflexão. A velocidade real de uma determinada camada, ou a *velocidade intervalar*, é calculada através da fórmula de Dix:\n",
    "\n",
    "$$ Vint_{n} = \\sqrt{\\frac{Vrms_{n}^2 \\bullet t_{0_{n}} - Vrms_{n-1}^2 \\bullet t_{0_{n-1}} }{t_{0_{n}} - t_{0_{n-1}}}} $$\n",
    "\n",
    "\n",
    "A célula abaixo permite criar um gráfico com a representação dos tempos de chegada de reflexões em três interfaces distintas. As variáveis $v_{1}$, $v_{2}$ e $v_{3}$ correspondem às velocidades intervalares das camadas $1$, $2$ e $3$ respectivamente. Execute a célula para aplicar o método $t^2 x^2$ sobre as hipérboles representadas e, em seguida, estime as velocidades de cada uma das três camadas a partir do gráfico linearizado, observando a diferença nos valores obtidos em relação aos que foram inseridos no modelo."
   ]
  },
  {
   "cell_type": "code",
   "execution_count": null,
   "id": "political-latvia",
   "metadata": {},
   "outputs": [],
   "source": [
    "smc.reflexao_sintetico(v1=2000, v2=3000, v3=5000, t01=5e-3, t02=12e-3, t03=20e-3)    # velocidades em m/s, tempos em s"
   ]
  },
  {
   "cell_type": "markdown",
   "id": "lonely-invite",
   "metadata": {},
   "source": [
    "Utilize os valores estimados para as velocidades RMS para obter os valores de velocidade intervalar para cada camada e verifique se os valores que você calculou correspondem aos que foram inseridos para $v_{1}$, $v_{2}$ e $v_{3}$.\n",
    "\n",
    "A velocidade RMs ainda pode ser utilizada para estimar a profundidade da $n$-ésima interface onde houve uma reflexão de sinal através da equação\n",
    "\n",
    "$$ z_n = \\frac{\\sqrt{Vrms^2_n \\bullet t_{0_n}^2}}{2} $$\n",
    "\n",
    "em que $x$ corresponde a uma posição em que o afastamento entre a fonte e o geofone é considerada pequena e t corresponde ao tempo de chegada da onda refletida no geofone da posição $x$."
   ]
  },
  {
   "cell_type": "markdown",
   "id": "further-portugal",
   "metadata": {},
   "source": [
    "### Análise de tempos de chegada no sismograma de reflexão\n",
    "\n",
    "A célula abaixo irá carregar um sismograma adaptado de Chen et al. (2018). Aqui as variáveis $v_{1}$, $v_{2}$ e $v_{3}$ correspondem à velocidade RMS que você observa em cada evento de reflexão. Configure os valores dedestas variáveis juntamente com os tempos iniciais de cada reflexão ($t_{0_{1}}$, $t_{0_{2}}$ e $t_{0_{3}}$) para ajustar as curvas de tempos de chegada sobre as feições hiperbólicas geradas pelas reflexões.\n",
    "\n",
    "Execute a célula para obter o sismograma para o ajuste. A execução mostrará também um gráfico apenas contendo apenas as curvas referentes aos tempos de chegada, sem o sismograma (à esquerda), e outro gráfico com a linearização destas curvas através do método $t^2 x^2$ (à direita)."
   ]
  },
  {
   "cell_type": "code",
   "execution_count": null,
   "id": "adequate-sigma",
   "metadata": {},
   "outputs": [],
   "source": [
    "smc.reflexao_sismograma(v1=10, v2=10, v3=10, t01=0.1, t02=0.2, t03=0.3)    # velocidades em m/s, tempos em s"
   ]
  },
  {
   "cell_type": "markdown",
   "id": "occupied-athletics",
   "metadata": {},
   "source": [
    "Estime as velocidades intervalares e as profundidades das camadas."
   ]
  }
 ],
 "metadata": {
  "kernelspec": {
   "display_name": "Python 3 (ipykernel)",
   "language": "python",
   "name": "python3"
  },
  "language_info": {
   "codemirror_mode": {
    "name": "ipython",
    "version": 3
   },
   "file_extension": ".py",
   "mimetype": "text/x-python",
   "name": "python",
   "nbconvert_exporter": "python",
   "pygments_lexer": "ipython3",
   "version": "3.8.0"
  }
 },
 "nbformat": 4,
 "nbformat_minor": 5
}
