{
 "cells": [
  {
   "cell_type": "markdown",
   "id": "7b0bf6c1-5efa-42d2-bc35-ba3af31160ef",
   "metadata": {},
   "source": [
    "Notebook elaborado para apresentar os fundamentos da técnica de caminhamento elétrico utilizada no método geoelétrico.\n",
    "Criado para a disciplina Geofísica II da Universidade Federal de Uberlândia.\n",
    "O uso e a reprodução são livres para fins educacionais, pede-se apenas a citação da fonte.\n",
    "\n",
    "[![License: GPL v3](https://img.shields.io/badge/License-GPLv3-blue.svg)](https://www.gnu.org/licenses/gpl-3.0)\n",
    "\n",
    "Prof. Dr. Emerson Rodrigo Almeida<br>\n",
    "Universidade Federal de Uberlândia<br>\n",
    "Instituto de Geografia - Curso de Geologia<br>\n",
    "[emerson.almeida@ufu.br](mailto:emerson.almeida@ufu.br)<br>\n",
    "\n",
    "<p>&nbsp;</p>\n",
    "Última modificação: 01/08/2021\n",
    "\n",
    "# Instruções iniciais\n",
    "\n",
    "Neste notebook você irá avaliar as pseuso-seções de resistividade aparente de alguns modelos geoelétricos simulando diferentes arranjos. Para isto **leia atentamente** as instruções apresentadas antes de cada célula e execute-as uma a uma, para acompanhar o processo corretamente.\n",
    "\n",
    "Não se preocupe em compreender o código em si, **não é obrigatório que você conheça a programação** para obter e interpretar os resultados da demonstração. Mesmo assim, sinta-se livre caso queira perguntar qualquer coisa para aprender mais sobre o código e sua elaboração.\n",
    "\n",
    " \n",
    "# Passo 01 - Preparação\n",
    "\n",
    "Primeiramente vamos preparar o notebook com os pacotes, módulos e funções que precisaremos no decorrer da demonstração. A célula abaixo executa a instalação do pacote open source [SimPEG](https://docs.simpeg.xyz/), responsável por executar os cálculos relacionados à física do problema. Se você está executando este notebook no MyBinder ou no Google Colab não se preocupe, nada será instalado na sua máquina local. Execute esta célula uma vez antes de executar qualquer outra parte do código e não altere nada no código apresentado na célula para não criar problemas na execução do código.\n",
    "\n",
    "Você pode executar o código na célula clicando sobre ela e em seguida clicando no botão **RUN** na barra do Jupyter Notebook ou pressionando as teclas **SHIFT+ENTER** no seu teclado. A execução desta primeira célula pode demorar um pouco, pois um pacote inteiro estará sendo instalado. Aguarde o término da instalação antes de executar a célula seguinte."
   ]
  },
  {
   "cell_type": "code",
   "execution_count": null,
   "id": "240c2933-2bf0-42b9-b452-72219eafad54",
   "metadata": {},
   "outputs": [],
   "source": [
    "# importa e instala o SimPEG - Célula exclusiva para execução em ambiente remoto\n",
    "!pip install Cython\n",
    "!pip install simpeg==0.17.0"
   ]
  },
  {
   "cell_type": "markdown",
   "id": "e878e8d2-13d3-4f30-9c24-fe2809a2256d",
   "metadata": {},
   "source": [
    "Após instalar o pacote execute a célula abaixo para carregar o módulo necessário para executar a demonstração."
   ]
  },
  {
   "cell_type": "code",
   "execution_count": null,
   "id": "40e71a46-e3f0-4ec3-b452-15caa18a0a8c",
   "metadata": {},
   "outputs": [],
   "source": [
    "import demo_ce_mod as ce_mod"
   ]
  },
  {
   "cell_type": "markdown",
   "id": "b7c71e05-a85a-42d3-888b-5f0eb647342c",
   "metadata": {},
   "source": [
    "# Passo 02 - Configuração do modelo\n",
    "Utilize as células abaixo para definir o comprimento e a profundidade totais do modelo. Ambos os valores devem ser positivos e informados em metros. Insira os valores desejados e execute a célula para defini-los."
   ]
  },
  {
   "cell_type": "code",
   "execution_count": null,
   "id": "37ce3010-8905-41b1-bf0d-283e03da4923",
   "metadata": {},
   "outputs": [],
   "source": [
    "distancia_maxima = 14.0\n",
    "profundidade_maxima = 3.0"
   ]
  },
  {
   "cell_type": "markdown",
   "id": "e793dc42-aac1-47c2-bb0b-632753b448d4",
   "metadata": {},
   "source": [
    "A célula abaixo permite inserir alvos esféricos no modelo. Os alvos devem ser inseridos de acordo com o seguinte padrão:\n",
    "\n",
    "**$'nome': [(x, -z, r), (rho)]$**\n",
    "\n",
    "em que *'nome'* pode ser qualquer nome que você queira utilizar para um determinado alvo, *x* e *z* são as coordenadas do centro do alvo, em metros (note que z deve ser **negativo**), *'r'* é o raio do alvo e *rho* é a resistividade do alvo em Ohm.m. O meio onde os alvos serão inseridos tem, por padrão, a resistividade de 100 Ohm.m. Insira os valores numéricos na célula e execute-a para configurar os parâmetros.\n",
    "\n",
    "**Importante:** Você pode inserir no modelo quantos alvos quiser, pois não há um número máximo. Cada conjunto de parâmetros referentes a um determinado alvo deve ser separado do conjunto anterior por uma vírgula, e deve todos os conjuntos devem ser colocados entre um par de chaves ( { } ), como no exemplo abaixo."
   ]
  },
  {
   "cell_type": "code",
   "execution_count": null,
   "id": "ec907f8b-9281-4cfa-984b-fe9b477cd7af",
   "metadata": {},
   "outputs": [],
   "source": [
    "alvos = {'alvo 1': [(5.0, -1.0, 0.5), (10.0)],     # [(x, z, r), (rho)]\n",
    "         'alvo 2': [(9.0, -1.0, 0.5), (1000.0)]}   # [(x, z, r), (rho)]"
   ]
  },
  {
   "cell_type": "markdown",
   "id": "69a05762-374a-456f-bd67-3f0dc16de7a0",
   "metadata": {},
   "source": [
    "# Passo 03 - Configuração do arranjo\n",
    "\n",
    "Agora você irá definir os parâmetros do arranjo de eletrodos que irá simular a aquisição. Cada variável deve ser configurada da seguinte forma:\n",
    "* **configuracao** : define o tipo de arranjo a ser utilizado. Utilize 'DD' para arranjo dipolo-dipolo, 'PD' para arranjo polo-dipolo e 'PP' para arranjo polo-polo;\n",
    "* **espacamento** : define a distância de separação (em metros) entre cada eletrodo;\n",
    "* **n_niveis** : define o número de níveis da investigação;\n",
    "* **posicao_a** : define a posição do primeiro eletrodo A do arranjo (em metros), no início do caminhamento;\n",
    "* **posicao_n** : define a posição do último eletrodo N do arranjo (em metros), no final do caminhamento.\n",
    "\n",
    "Defina os valores desejados para estas variáveis na célula abaixo, executando-a em seguida para executar a simulação."
   ]
  },
  {
   "cell_type": "code",
   "execution_count": null,
   "id": "82317b36-35ad-47b1-a1ee-b5f8b0b00789",
   "metadata": {},
   "outputs": [],
   "source": [
    "configuracao = 'DD'\n",
    "espacamento = 1.0\n",
    "n_niveis = 10\n",
    "posicao_a = 0.0\n",
    "posicao_n = 14.0"
   ]
  },
  {
   "cell_type": "markdown",
   "id": "82d8963a-af76-4e68-96d1-60193b85cbbc",
   "metadata": {},
   "source": [
    "# Passo 04 - Modelagem\n",
    "\n",
    "Execute a célula abaixo para efetuar o cálculo da modelagem e obter os dados calculados."
   ]
  },
  {
   "cell_type": "code",
   "execution_count": null,
   "id": "4eb722ee-0587-4d93-a737-4d7a54e1442a",
   "metadata": {},
   "outputs": [],
   "source": [
    "ce_mod.roda_demo(lx=distancia_maxima, lz=profundidade_maxima, tipo=configuracao, dx=espacamento, \\\n",
    "                 n=n_niveis, eletrodo_a=posicao_a, eletrodo_n=posicao_n, alvos=alvos)"
   ]
  },
  {
   "cell_type": "markdown",
   "id": "f5c3eb79-099e-4139-a30b-11d0a81719a7",
   "metadata": {},
   "source": [
    "# Tópicos para reflexão\n",
    "\n",
    "Modifique os parâmetros inseridos nas células acima e reflita sobre as seguintes questões:\n",
    "\n",
    "* O que acontece quando se muda o tipo de arranjo?\n",
    "* O que acontece quando se muda o espaçamento entre eletrodos?\n",
    "* O que acontece quando se muda o número de níveis?\n",
    "* O que acontece quando se muda o comprimento total do caminhamento?"
   ]
  }
 ],
 "metadata": {
  "kernelspec": {
   "display_name": "Python 3 (ipykernel)",
   "language": "python",
   "name": "python3"
  },
  "language_info": {
   "codemirror_mode": {
    "name": "ipython",
    "version": 3
   },
   "file_extension": ".py",
   "mimetype": "text/x-python",
   "name": "python",
   "nbconvert_exporter": "python",
   "pygments_lexer": "ipython3",
   "version": "3.8.10"
  }
 },
 "nbformat": 4,
 "nbformat_minor": 5
}
