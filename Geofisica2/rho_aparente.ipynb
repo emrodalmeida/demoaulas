{
 "cells": [
  {
   "cell_type": "markdown",
   "id": "a30fbaff-0340-4e65-b7f2-239f63e4ddf1",
   "metadata": {},
   "source": [
    "Notebook elaborado para apresentar o conceito de resistividade aparente no método de eletrorresistividade. Criado para a disciplina Geofísica II da Universidade Federal de Uberlândia. O uso e a reprodução são livres para fins educacionais, pede-se apenas a citação da fonte.\n",
    "\n",
    "[![License: GPL v3](https://img.shields.io/badge/License-GPLv3-blue.svg)](https://www.gnu.org/licenses/gpl-3.0)\n",
    "\n",
    "Prof. Dr. Emerson Rodrigo Almeida<br>\n",
    "Universidade Federal de Uberlândia<br>\n",
    "Instituto de Geografia - Curso de Geologia<br>\n",
    "emerson.almeida@ufu.br<br>\n",
    "<p>&nbsp;</p>\n",
    "Última modificação: 25/11/2021"
   ]
  },
  {
   "cell_type": "markdown",
   "id": "d0891245-eb8f-4a71-8cb5-ad38f4193854",
   "metadata": {},
   "source": [
    "---\n",
    "# Objetivos\n",
    "\n",
    "* Compreender a diferença entre a resistividade média e a resistividade aparente;\n",
    "* Verificar como a disposição dos eletrodos na superfície modifica a leitura do potencial elétrico;\n",
    "* Compreender a importância do cálculo do fator geométrico;\n",
    "* Calcular a resistividade aparente a partir da corrente elétrica injetada pela fonte e do potencial elétrico medido na superfície.\n",
    "\n",
    "*Não se preocupe em compreender o código em si, não é obrigatório que você conheça a programação para obter e interpretar os resultados da demonstração. Mesmo assim, sinta-se livre caso queira perguntar qualquer coisa para aprender mais sobre o código e sua elaboração.*"
   ]
  },
  {
   "cell_type": "markdown",
   "id": "402c3411-d0e8-4855-bbdb-adab1f4c65f5",
   "metadata": {},
   "source": [
    "---\n",
    "## Antes de começar\n",
    "\n",
    "* **Leia as instruções** apresentadas no texto para compreender a demonstração;\n",
    "* **Não altere nada** no código apresentado na célula, a menos que o texto do notebook indique o contrário. Algumas modificações podem causar problemas na execução do código;\n",
    "* A execução do código em uma célula é feito clicando-se *dentro* dela para ativá-la (você verá um contorno ao redor da célula e o cursor de texto piscando). Em seguida clique em uma das opções de menu ou de botão como mostrado na figura abaixo. É possível executá-las também pressionando as teclas **SHIFT+ENTER** simultanemante no seu teclado;\n",
    "\n",
    "<center><img src=\"imgs/run.png\" width=900 height=278/></center>\n",
    "\n",
    "* O símbolo **[   ]:** próximo ao canto superior esquerdo de cada célula indica o estado de execução da célula. Quando ele está vazio a célula ainda não foi executada. Ao iniciar a execução, um asterisco ($*$) irá aparecer dentro dos colchetes. A execução é concluída sem problemas quando o $*$ dentro dos colchetes for substituído por um número e nenhuma mensagem de erro aparecer abaixo da célula executada;\n",
    "* As células podem ser executadas repetidas vezes, porém é recomendável que sejam executadas **uma por vez e na ordem em que aparecem no notebook** para evitar erros de execução;\n",
    "* As suas modificações **não serão salvas**. Caso você faça alguma alteração que cause o mal funcionamento do código e não consiga desfazê-la, basta atualizar a página do notebook.\n",
    "\n",
    "**Execute a célula de código abaixo para carregar o módulo com os códigos que serão utilizados neste notebook.**"
   ]
  },
  {
   "cell_type": "code",
   "execution_count": null,
   "id": "fa9c6ec3-b62f-4759-9d34-94b3033a734e",
   "metadata": {},
   "outputs": [],
   "source": [
    "import modulos.rhoaparente as ra"
   ]
  },
  {
   "cell_type": "markdown",
   "id": "f1a0a9bd-2a05-4805-a3a2-c36bd357c0e6",
   "metadata": {},
   "source": [
    "---\n",
    "---\n",
    "\n",
    "### 01. Fator Geométrico\n",
    "\n",
    "Um levantamento de eletrorresistividade consiste em injetar uma corrente elétrica ($I$) contínua no solo por meio de um par de eletrodos e medir a diferença de potencial ($\\Delta V$) elétrico associada à circulação desta corrente pelas rochas em subsuperfície. Uma vez que a corrente elétrica é conhecida (por meio do controle da fonte) e a diferença de potencial é medida, pode-se determinar a **resistência elétrica** ($R$) usando a lei de Ohm dada por\n",
    "\n",
    "$$R = \\frac{\\Delta V}{I}$$\n",
    "\n",
    "No entanto, a resistência elétrica depende do volume de material que a corrente elétrica percorre, de forma que faz-se necessário aplicar um fator de cálculo que elimine essa dependência e permita estimar a **resistividade elétrica** ($\\rho$), que é uma propriedade intrínseca do material. Este fator é determinado a partir da geometria do arranjo de eletrodos e, por isso, é denominado **fator geométrico** ($k$). Assim, o fator geométrico é calculado a partir das distâncias entre os eletrodos $AM$, $AN$, $BM$ e $BN$ por\n",
    "\n",
    "$$k = 2 \\pi \\left(\\frac{1}{AM} - \\frac{1}{AN} - \\frac{1}{BM} + \\frac{1}{BN}\\right) ^{-1}$$\n",
    "\n",
    "de forma que a resistividade elétrica é dada em Ohm.m por\n",
    "\n",
    "$$\\rho = Rk = \\frac{\\Delta V}{I} k$$\n",
    "\n",
    "**Prática:** Dadas as posições de eletrodos abaixo (em metros), calcule o fator geométrico correspondente a cada configuração.\n",
    "\n",
    "|    A    |    B    |    M    |    N    |\n",
    "|:-------:|:-------:|:-------:|:-------:|\n",
    "|-5.0     |5.0      |-0.5     |0.5      |\n",
    "|-20.0    |20.0     |-0.5     |0.5      |\n",
    "|-40.0    |40.0     |-2.0     |2.0      |\n",
    "|-30.0    |30.0     |-10.0    |10.0     |\n",
    "|-40.0    |40.0     |-5.0     |5.0      |\n",
    "|-80.0    |80.0     |-10.0    |10.0     |\n",
    "|-100.0   |100.0    |-10.0    |10.0     |\n",
    "|-200.0   |200.0    |-1.0     |1.0      |\n",
    "|-300.0   |300.0    |-100.0   |100.0    |"
   ]
  },
  {
   "cell_type": "markdown",
   "id": "7ef0d8bf-6608-4569-8bb1-0a5422c80c86",
   "metadata": {},
   "source": [
    "### 02. Resistividade aparente\n",
    "\n",
    "A equação de resistividade dada acima fornece um valor correspondente à da **resistividade real** de uma rocha apenas no caso em que o levantamento é feito sobre um semi-espaço homogêneo, ou seja, uma camada homogênea e de espessura infinita. O meio geológico raramente pode ser aproximado por um semi-espaço homogêneo, uma vez que há uma sucessão de camadas de materiais distintos, de forma que a resistividade elétrica determinada a partir da corrente elétrica e da diferença de potencial elétrico apresenta uma contribuição de todas as camadas através das quais a corrente elétrica circula. Esta resistividade é denominada **resistividade aparente** ($\\rho_a$), também dada em Ohm.m por\n",
    "\n",
    "$$\\rho_a = \\frac{\\Delta V}{I} k$$\n",
    "\n",
    "Note-se que **a resistividade aparente não equivale à resistividade média aritmética das camadas através das quais a corrente elétrica circula**, e sim a uma contribuição da resistividade de cada camada considerando também a sua espessura.\n",
    "\n",
    "**Prática:** A célula de código abaixo permite simular uma aquisição elétrica a partir da injeção de uma corrente de 1.0 A no solo. A execução da célula irá retornar um diagrama da disposição dos eletrodos sobre modelos de 1 e de 2 camadas onde será mostrado o valor estimado para $\\Delta V$. Configure um modelo composto por uma camada de resistividade real igual a 500 $\\Omega$.m e uma camada de resistividade real igual a 1000 $\\Omega$.m, e com a interface entre as camadas localizada a uma profundidade de 20.0 m. Configure as coordenadas de eletrodos $A$, $B$, $M$ e $N$ da tabela do tópico anterior para obter as medidas de $\\Delta V$ simuladas e, usando os valores de $k$ que você calculou anteriormente, determine a resistividade aparente medida em cada configuração. Calcule também a média aritmética das resistividades elétricas de cada camada do modelo e compare com o valor da resistividade aparente determinado.\n",
    "\n",
    "*Mude a espessura da primeira camada para 1.0 m e verifique o que acontece com as resistividades aparentes para as coordenadas de eletrodos apresentadas na tabela.*"
   ]
  },
  {
   "cell_type": "code",
   "execution_count": null,
   "id": "c80f74ea-d51d-4796-9739-374cca59c536",
   "metadata": {},
   "outputs": [],
   "source": [
    "rho_real_baixa = 0.0\n",
    "rho_real_alta = 0.0\n",
    "profundidade_interface = 0.0\n",
    "\n",
    "A = -0.0\n",
    "B = 0.0\n",
    "M = -0.0\n",
    "N = 0.0\n",
    "\n",
    "ra.executa_execicio(A, B, M, N, profundidade_interface, rho_real_baixa, rho_real_alta)    # não modifique nada nesta linha!"
   ]
  }
 ],
 "metadata": {
  "kernelspec": {
   "display_name": "Python 3 (ipykernel)",
   "language": "python",
   "name": "python3"
  },
  "language_info": {
   "codemirror_mode": {
    "name": "ipython",
    "version": 3
   },
   "file_extension": ".py",
   "mimetype": "text/x-python",
   "name": "python",
   "nbconvert_exporter": "python",
   "pygments_lexer": "ipython3",
   "version": "3.8.12"
  }
 },
 "nbformat": 4,
 "nbformat_minor": 5
}
