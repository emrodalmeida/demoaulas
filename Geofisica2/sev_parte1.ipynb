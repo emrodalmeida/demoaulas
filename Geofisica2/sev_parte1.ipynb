{
 "cells": [
  {
   "cell_type": "markdown",
   "metadata": {
    "id": "M_lrl2g293_T"
   },
   "source": [
    "Notebook elaborado para apresentar uma introdução ao método de Eletrorresistividade.\n",
    "Criado para a disciplina Geofísica II da Universidade Federal de Uberlândia.\n",
    "O uso e a reprodução são livres para fins educacionais, pede-se apenas a citação da fonte.\n",
    "\n",
    "[![License: GPL v3](https://img.shields.io/badge/License-GPLv3-blue.svg)](https://www.gnu.org/licenses/gpl-3.0)\n",
    "\n",
    "Prof. Dr. Emerson Rodrigo Almeida<br>\n",
    "Universidade Federal de Uberlândia<br>\n",
    "Instituto de Geografia - Curso de Geologia<br>\n",
    "[emerson.almeida@ufu.br](mailto:emerson.almeida@ufu.br)<br>\n",
    "\n",
    "Última atualização: 02/10/2022\n",
    "\n",
    "<p>&nbsp;</p>\n",
    "\n",
    "---\n",
    "# Objetivos\n",
    "\n",
    "- Diferenciar os arranjos Wenner e Schlumberger\n",
    "- Planejar uma SEV de acordo com a profundidade a ser investigada\n",
    "- Entender o comportamento da curva de resistividade aparente\n",
    "- Compreender a diferença entre a resistividade aparente e a resistividade real nos dados de SEV\n",
    "- Compreender o procedimento da embreagem na sondagem Schlumberger\n",
    "\n",
    "*Não se preocupe em compreender o código em si, não é obrigatório que você conheça a programação para obter e interpretar os resultados da demonstração. Mesmo assim, sinta-se livre caso queira perguntar qualquer coisa para aprender mais sobre o código e sua elaboração.*\n",
    "\n",
    "\n",
    "---\n",
    "---\n",
    "\n",
    "### 1. Introdução\n",
    "Esta atividade utiliza o pacote open source [SimPEG](https://docs.simpeg.xyz/), responsável por executar os cálculos relacionados à física do problema. Se você está executando este notebook *online* não se preocupe, nada será instalado no seu dispositivo local.\n",
    "\n",
    "**Importante!** Nem todas as células de código desta demostração irão retornar algum tipo de mensagem ou figura após a execução. Isto é normal e não significa que a execução tenha falhado. Perceba o símbolo **In [ ]:** próximo ao canto superior esquerdo de cada célula. Ao iniciar a execução de uma delas você verá um asterisco ($*$) aparecer dentro dos colchetes. Você saberá que a execução ocorreu sem problemas quando o $*$ dentro dos colchetes for substituído por um número e nenhuma mensagem de erro aparecer abaixo da célula executada."
   ]
  },
  {
   "cell_type": "code",
   "execution_count": null,
   "metadata": {},
   "outputs": [],
   "source": [
    "import modulos.er1d as er\n",
    "import numpy as np"
   ]
  },
  {
   "cell_type": "markdown",
   "metadata": {
    "id": "j0ShTbI4zU-D"
   },
   "source": [
    "### 2. Configuração do modelo geoelétrico"
   ]
  },
  {
   "cell_type": "markdown",
   "metadata": {
    "id": "6ZtxMdci93_t"
   },
   "source": [
    "Primeiramente é necessário definir os parâmetros que caracterizam o modelo geoelétrico. Estes parâmetros correspondem à resistividade real e à espessura de cada camada exceto da última, cuja espessura é considerada infinita e não precisa ser inserida no modelo. Lembre-se de que o modelo geoelétrico apresenta apenas os principais contrastes de resistividade, cujas profundidades podem coincidir com as profundidades dos contatos geológicos ou não.\n",
    "\n",
    "A célula abaixo cria o modelo e apresenta a figura correspondente. Esta é a forma mais comum de se apresentar um modelo geoelétrico, não apenas para sondagens elétricas mas também para sondagens eletromagnéticas."
   ]
  },
  {
   "cell_type": "code",
   "execution_count": null,
   "metadata": {
    "executionInfo": {
     "elapsed": 2697,
     "status": "ok",
     "timestamp": 1613067436181,
     "user": {
      "displayName": "Emerson Almeida",
      "photoUrl": "",
      "userId": "00762844264177541394"
     },
     "user_tz": 180
    },
    "id": "HEp9sdAHzKBy"
   },
   "outputs": [],
   "source": [
    "# modelo 1D\n",
    "resistividades = np.r_[50.0, 300.0, 30.0, 1000]\n",
    "espessuras = np.r_[4.0, 4.0, 30.0]\n",
    "\n",
    "meu_modelo = er.modelo_geo(resistividades, espessuras)\n",
    "meu_modelo.mostra_grafico(n_fig='1')"
   ]
  },
  {
   "cell_type": "markdown",
   "metadata": {
    "id": "1XQgXTsvob4K"
   },
   "source": [
    "### 3. Aberturas dos eletrodos de corrente (A e B)\n",
    "\n",
    "A aquisição de uma SEV requer o posicionamento dos eletrodos de injeção de corrente elétrica (A e B) e dos eletrodos de medição de potencial elétrico (M e N). Como os arranjos das SEVs são sempre simétricos é comum definir-se a posição dos eletrodos em relação ao ponto central da sondagem, de forma que define-se a meia distância entre os eletrodos A e B (AB/2) e a meia distância entre os eletrodos M e N (MN/2). O que difere uma SEV em arranjo Schlumberger de uma SEV em arranjo Wenner é o posicionamento dos eletrodos de medida de potencial, enquanto as posições dos eletrodos de injeção de corrente podem iguais para ambos.\n",
    "\n",
    "A célula abaixo configura as distâncias AB/2 correspondentes às posições dos eletrodos A e B.\n",
    "\n",
    "**Atividade:** Complete a SEV mantendo as aberturas de AB já inseridas e incluindo mais 15 pontos entra cada uma para amostrar a curva de resistividade aparente. Procure deixar a distribuição dos pontos o mais uniforme possível. Quantos pontos são realmente necessários para representar a curva de forma satisfatória?"
   ]
  },
  {
   "cell_type": "code",
   "execution_count": null,
   "metadata": {
    "executionInfo": {
     "elapsed": 943,
     "status": "ok",
     "timestamp": 1613067446226,
     "user": {
      "displayName": "Emerson Almeida",
      "photoUrl": "",
      "userId": "00762844264177541394"
     },
     "user_tz": 180
    },
    "id": "gpTa0N7HHviV"
   },
   "outputs": [],
   "source": [
    "eletrodos_AB = np.array([1.5, 10.0, 100.0, 200.0])"
   ]
  },
  {
   "cell_type": "markdown",
   "metadata": {
    "id": "aXlTG0ryo7HI"
   },
   "source": [
    "### 4. Configuração dos eletrodos de potencial (M e N) para arranjo Wenner\n",
    "\n",
    "Neste arranjo as distâncias AM, MN e NB são idênticas, então as posições de M e N podem ser obtidas a partir das posições de A e B ou vice-versa. Aqui iremos calcular as posições de M e N a partir das posições de A e B, o que corresponde às posições de AB/2 e MN/2 em termos de meias-distâncias. Assim, pode-se definir que $(MN)/2 = (1/3) \\times (AB)/2$ (verifique graficamente esta relação).\n",
    "\n",
    "A célula abaixo configura as posições dos eletrodos M e N e apresenta a curva de resistividade aparente correspondente.\n",
    "\n",
    "**Atividade:** Considere um arranjo Wenner. Complete a SEV calculando as aberturas de MN correspondentes às aberturas de AB que você definiu."
   ]
  },
  {
   "cell_type": "code",
   "execution_count": null,
   "metadata": {
    "executionInfo": {
     "elapsed": 1238,
     "status": "ok",
     "timestamp": 1613067499852,
     "user": {
      "displayName": "Emerson Almeida",
      "photoUrl": "",
      "userId": "00762844264177541394"
     },
     "user_tz": 180
    },
    "id": "zz8XnbMW93_7"
   },
   "outputs": [],
   "source": [
    "eletrodos_MN_wenner = np.array([0.50, 3.33, 33.33, 66.67])\n",
    "\n",
    "\n",
    "sev_w = er.sev(eletrodos_AB, eletrodos_MN_wenner, 'Wenner')\n",
    "sev_w.fwd(meu_modelo)\n",
    "er.plota_sondagem(sev_w, meu_modelo, tendencias=False, n_fig='2')"
   ]
  },
  {
   "cell_type": "markdown",
   "metadata": {
    "id": "HhaPeNVCovOD"
   },
   "source": [
    "### 5. Configuração dos eletrodos de potencial (M e N) para arranjo Schlumberger\n",
    "\n",
    "Neste arranjo o afastamento entre os eletrodos M e N deve idealmente obedecer à relação $AB \\ge 5 \\times MN$, embora em campo seja um pouco difícil manter esta relação para pequenos afastamentos. Nesta demonstração iremos considerar condição limite para a relação entre as disâncias AB e MN, utilizando a relação de $MN/2 = (1/5) \\times AB/2$. Em campo costuma-se repetir uma mesma posição de M e N para várias posições de A e B, fazendo desta a principal vantagem logística do arranjo Schlumberger em campo. Em campo utiliza-se como critério para aumento da distância MN o valor do potencial lido, de forma que a distância deve ser aumentada sempre que o potencial lido ficar muito próximo do nível de ruído.\n",
    "\n",
    "A célula abaixo configura as posições dos eletrodos M e N e apresenta a curva de resistividade aparente correspondente.\n",
    "\n",
    "**Atividade:** Considere um arranjo Schlumberger. Complete a SEV calculando as aberturas de MN correspondentes às aberturas de AB que você definiu."
   ]
  },
  {
   "cell_type": "code",
   "execution_count": null,
   "metadata": {
    "executionInfo": {
     "elapsed": 809,
     "status": "ok",
     "timestamp": 1613069604215,
     "user": {
      "displayName": "Emerson Almeida",
      "photoUrl": "",
      "userId": "00762844264177541394"
     },
     "user_tz": 180
    },
    "id": "ueQE9I4B93_-"
   },
   "outputs": [],
   "source": [
    "eletrodos_MN_schlumberger = np.array([0.3, 2.0, 20.0, 40.0])\n",
    "\n",
    "\n",
    "sev_s = er.sev(eletrodos_AB, eletrodos_MN_schlumberger, 'Schlumberger')\n",
    "sev_s.fwd(meu_modelo)\n",
    "er.plota_sondagem(sev_s, meu_modelo, tendencias=False, n_fig='3')"
   ]
  },
  {
   "cell_type": "markdown",
   "metadata": {
    "id": "4DijyT3HpB2b"
   },
   "source": [
    "### 6. Comparação entre as curvas\n",
    "\n",
    "A célula abaixo apresenta uma sobreposição das duas curvas simuladas, para que você faça uma comparação entre os dados obtidos com ambos os arranjos. \n",
    "\n",
    "**Pergunta:** Como você explica a sutil diferença entre elas se o modelo geoelétrico é o mesmo? Isso deveria ser esperado?"
   ]
  },
  {
   "cell_type": "code",
   "execution_count": null,
   "metadata": {
    "colab": {
     "base_uri": "https://localhost:8080/",
     "height": 467
    },
    "executionInfo": {
     "elapsed": 1653,
     "status": "ok",
     "timestamp": 1613068475679,
     "user": {
      "displayName": "Emerson Almeida",
      "photoUrl": "",
      "userId": "00762844264177541394"
     },
     "user_tz": 180
    },
    "id": "wP0jfI2C12O0",
    "outputId": "c2a68185-0dac-4cab-f774-9079b1d233ec"
   },
   "outputs": [],
   "source": [
    "er.compara_sevs(sev_s, sev_w, n_fig='4')"
   ]
  },
  {
   "cell_type": "markdown",
   "metadata": {},
   "source": [
    "### 7. Componentes gráficos adicionais\n",
    "\n",
    "A célula abaixo plota a mesma curva de dados modelada com o arranjo Schlumberger no item 5, porém adicionando curvas adicionais junto à curva de dados de resistividade aparente. Estas curvas adicionais correspondem à curva de resistividade aparente considerando diferentes números de camadas ($n$).\n",
    "\n",
    "**Atividade:** Faça uma análise simulando o modelo 1D do Item 02 com 1, 2, 3 e 4 camadas. Explique o comportamento destas linhas em relação à curva de dados da SEV e em relação ao modelo geoelétrico."
   ]
  },
  {
   "cell_type": "code",
   "execution_count": null,
   "metadata": {},
   "outputs": [],
   "source": [
    "sev_s = er.sev(eletrodos_AB, eletrodos_MN_schlumberger, 'Schlumberger')\n",
    "sev_s.fwd(meu_modelo)\n",
    "er.plota_sondagem(sev_s, meu_modelo, tendencias=True, n_fig='3')"
   ]
  }
 ],
 "metadata": {
  "colab": {
   "collapsed_sections": [],
   "name": "sev_parte1.ipynb",
   "provenance": [
    {
     "file_id": "1S5zijHaAkSrBkhJRA6-mC6fsiDwPWIMJ",
     "timestamp": 1612878916167
    },
    {
     "file_id": "1FJBCBmnzN7z0wkznQ2fglUJSDXUTe7zD",
     "timestamp": 1612795672936
    },
    {
     "file_id": "1qcakyeI09GoE1N-1nsb6VfIJ1_wryU49",
     "timestamp": 1612711872571
    }
   ]
  },
  "kernelspec": {
   "display_name": "Python 3 (ipykernel)",
   "language": "python",
   "name": "python3"
  },
  "language_info": {
   "codemirror_mode": {
    "name": "ipython",
    "version": 3
   },
   "file_extension": ".py",
   "mimetype": "text/x-python",
   "name": "python",
   "nbconvert_exporter": "python",
   "pygments_lexer": "ipython3",
   "version": "3.8.0"
  }
 },
 "nbformat": 4,
 "nbformat_minor": 4
}
