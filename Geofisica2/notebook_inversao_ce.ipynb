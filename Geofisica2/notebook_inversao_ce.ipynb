{
 "cells": [
  {
   "cell_type": "markdown",
   "id": "6de09eaf-b213-4460-a4b3-93b102672cb9",
   "metadata": {},
   "source": [
    "Notebook elaborado para apresentar os fundamentos da técnica de caminhamento elétrico utilizada no método geoelétrico.\n",
    "Criado para a disciplina Geofísica II da Universidade Federal de Uberlândia.\n",
    "O uso e a reprodução são livres para fins educacionais, pede-se apenas a citação da fonte.\n",
    "\n",
    "[![License: GPL v3](https://img.shields.io/badge/License-GPLv3-blue.svg)](https://www.gnu.org/licenses/gpl-3.0)\n",
    "\n",
    "Prof. Dr. Emerson Rodrigo Almeida<br>\n",
    "Universidade Federal de Uberlândia<br>\n",
    "Instituto de Geografia - Curso de Geologia<br>\n",
    "[emerson.almeida@ufu.br](mailto:emerson.almeida@ufu.br)<br>\n",
    "\n",
    "<p>&nbsp;</p>\n",
    "Última modificação: 23/09/2022\n",
    "\n",
    "# Instruções iniciais\n",
    "\n",
    "Neste notebook você irá avaliar os resultados da inversão de uma pseuso-seção de resistividade aparente adquirida em arranjo dipolo-dipolo. Para isto **leia atentamente** as instruções apresentadas antes de cada célula e execute-as uma a uma, para acompanhar o processo corretamente.\n",
    "\n",
    "Não se preocupe em compreender o código em si, **não é obrigatório que você conheça a programação** para obter e interpretar os resultados da demonstração. Mesmo assim, sinta-se livre caso queira perguntar qualquer coisa para aprender mais sobre o código e sua elaboração.\n",
    "\n",
    " \n",
    "# Passo 01 - Preparação\n",
    "\n",
    "Primeiramente vamos preparar o notebook com os pacotes, módulos e funções que precisaremos no decorrer da demonstração. A célula abaixo executa a instalação do pacote open source [SimPEG](https://docs.simpeg.xyz/), responsável por executar os cálculos relacionados à física do problema. Se você está executando este notebook no MyBinder ou no Google Colab não se preocupe, nada será instalado na sua máquina local. Execute esta célula uma vez antes de executar qualquer outra parte do código e não altere nada no código apresentado na célula para não criar problemas na execução do código.\n",
    "\n",
    "Você pode executar o código na célula clicando sobre ela e em seguida clicando no botão **RUN** na barra do Jupyter Notebook ou pressionando as teclas **SHIFT+ENTER** no seu teclado."
   ]
  },
  {
   "cell_type": "code",
   "execution_count": null,
   "id": "40e71a46-e3f0-4ec3-b452-15caa18a0a8c",
   "metadata": {},
   "outputs": [],
   "source": [
    "import modulos.demo_ce_inv as ce_inv"
   ]
  },
  {
   "cell_type": "markdown",
   "id": "ba931610-20c4-4634-b9b1-adfae4c7bbc3",
   "metadata": {},
   "source": [
    "# Passo 02 - Configuração dos parâmetros do modelo\n",
    "Utilize a célula abaixo para definir o comprimento e a profundidade totais do modelo que você deseja avaliar. Ambos os valores devem ser positivos e informados em metros. Insira os valores desejados e execute a célula para defini-los."
   ]
  },
  {
   "cell_type": "code",
   "execution_count": null,
   "id": "75a41e67-e0b3-47b4-9d8c-9bd98950ef80",
   "metadata": {},
   "outputs": [],
   "source": [
    "distancia_maxima = 14.0\n",
    "profundidade_maxima = 3.0"
   ]
  },
  {
   "cell_type": "markdown",
   "id": "3d19a946-e495-4672-a6d1-ffb3b974e0de",
   "metadata": {},
   "source": [
    "Aqui será necessário definir uma **discretização** para o modelo, i.e., será necessário subdividi-lo em células de forma que a resistividade cada célula representa uma incógnita no conjunto de equações que define o problema inverso. Quanto menor for o tamanho da célula, maior será a suavidade das variações de resistividade calculadas, porém mais demorado será o cálculo pois haverá mais incógnitas para serem calculadas.\n",
    "\n",
    "Defina o tamnho da célula (em metros) que você deseja aplicar ao modelo na célula abaixo, executando-a em seguida para configurar este valor."
   ]
  },
  {
   "cell_type": "code",
   "execution_count": null,
   "id": "12d477f6-a908-4edb-90e2-5ab237f4c094",
   "metadata": {},
   "outputs": [],
   "source": [
    "dh = 0.1"
   ]
  },
  {
   "cell_type": "markdown",
   "id": "2f89ba55-8fb9-45a3-9ea8-464f2926eaec",
   "metadata": {},
   "source": [
    "O cálculo da inversão requer que seja inserido um modelo inicial que será adotado como ponto de partida para a busca da solução ideal. É possível incluir diferentes alvos e camadas no modelo inicial, porém para simplificar o processo o modelo inicial será definido como um semi-espaço homogêneo.\n",
    "\n",
    "Defina um valor para a resistividade do semi-espaço homogêneo (em Ohm.m) na célula abaixo, executando-a para configurar este valor."
   ]
  },
  {
   "cell_type": "code",
   "execution_count": null,
   "id": "ac7c48d4-9a94-48d4-8cd1-b6421be8912d",
   "metadata": {},
   "outputs": [],
   "source": [
    "resistividade_bg = 100.0"
   ]
  },
  {
   "cell_type": "markdown",
   "id": "d126fdaf-5d55-4321-9f95-7a44848a7fbf",
   "metadata": {},
   "source": [
    "# Passo 03 - Definição dos parâmetros da inversão\n",
    "\n",
    "É necessário também definir certos parâmetros para que o cálculo da inversão seja realizado corretamente. É possível alterar diversos parâmetros neste processo, porém aqui serão definidos apenas os seguintes parâmetros essenciais:\n",
    "\n",
    "* **n_max_iteracoes** : define o número máximo de iterações que o programa irá executar em busca da melhor solução matemática;\n",
    "* **chi** = define a norma do erro mínimo aceitável para o ajuste entre os dados observados e os dados preditos.\n",
    "\n",
    "Defina os parâmetros na célula abaixo e execute-a para configurá-los."
   ]
  },
  {
   "cell_type": "code",
   "execution_count": null,
   "id": "229613c6-4a1c-4a0c-bb84-9addb01a8a51",
   "metadata": {},
   "outputs": [],
   "source": [
    "n_max_iteracoes = 40\n",
    "chi = 1"
   ]
  },
  {
   "cell_type": "markdown",
   "id": "e70c81e3-1659-477b-a64e-04ee1b1f1373",
   "metadata": {},
   "source": [
    "# Passo 04 - Inversão\n",
    "\n",
    "Execute a célula abaixo para executar a inversão e obter o modelo de resistividade para análise. **Atenção!** Este processo pode demorar alguns minutos, dependendo dos parâmetros que você configurou. Aguarde e não execute nada neste notebook até que as figuras apareçam."
   ]
  },
  {
   "cell_type": "code",
   "execution_count": null,
   "id": "3af4bb10-56e4-455e-96e8-8ddb59d1aaf1",
   "metadata": {},
   "outputs": [],
   "source": [
    "ce_inv.roda_demo('dados_ce_exemplo_volt.dat', 'dados_ce_exemplo_volt.top', (distancia_maxima, profundidade_maxima), \\\n",
    "                 resistividade_bg, n_iter=n_max_iteracoes, chifact=chi, dh=dh)"
   ]
  },
  {
   "cell_type": "markdown",
   "id": "8ef3ab02-d1a4-4dcc-908d-e3dbf48c91ba",
   "metadata": {},
   "source": [
    "# Tópicos para reflexão\n",
    "\n",
    "Modifique os parâmetros inseridos nas células acima e reflita sobre as seguintes questões:\n",
    "\n",
    "* O que acontece quando muda a resistividade do modelo inicial?\n",
    "* O que acontece quando muda para um valor muito baixo (ex.: 1e-2) o parâmetro do limite de erro aceitável?\n",
    "* O que acontece quando muda a discretização da malha?\n",
    "* Como se explica a anomalia nas extremidades inferiores do modelo obtido na inversão?"
   ]
  }
 ],
 "metadata": {
  "kernelspec": {
   "display_name": "Python 3 (ipykernel)",
   "language": "python",
   "name": "python3"
  },
  "language_info": {
   "codemirror_mode": {
    "name": "ipython",
    "version": 3
   },
   "file_extension": ".py",
   "mimetype": "text/x-python",
   "name": "python",
   "nbconvert_exporter": "python",
   "pygments_lexer": "ipython3",
   "version": "3.8.0"
  }
 },
 "nbformat": 4,
 "nbformat_minor": 5
}
