{
 "cells": [
  {
   "cell_type": "markdown",
   "id": "frequent-piano",
   "metadata": {},
   "source": [
    "Funciona aqui pq eu preciso relembrar C, mas estudar como fazer um único código no C pra dar a saida direto"
   ]
  },
  {
   "cell_type": "code",
   "execution_count": 1,
   "id": "fifty-casting",
   "metadata": {},
   "outputs": [],
   "source": [
    "import numpy as np\n",
    "import pandas as pd"
   ]
  },
  {
   "cell_type": "code",
   "execution_count": 2,
   "id": "experimental-intersection",
   "metadata": {},
   "outputs": [],
   "source": [
    "ano_i = 2000.00   # ano inicial\n",
    "ano_f = 2000.00   # ano final\n",
    "\n",
    "lat_i = -89.00    # latitude inicial  (-90 dá erro)\n",
    "lat_f = 89.00    # latitude final  (90 dá erro)\n",
    "\n",
    "lon_i = -180.00   # lonfitude inicial\n",
    "lon_f = 180.00   # longitude final\n",
    "\n",
    "d_ano = 10.0      # intervalo entre anos\n",
    "d_coord = 2.0     # intervalo entre coordenadas\n",
    "\n",
    "alt = 0.0        # altitude"
   ]
  },
  {
   "cell_type": "code",
   "execution_count": 3,
   "id": "manufactured-sigma",
   "metadata": {},
   "outputs": [],
   "source": [
    "# ok\n",
    "\n",
    "lats = np.arange(lat_i, lat_f+d_coord, d_coord)\n",
    "lats = lats.reshape(len(lats),1)\n",
    "lons = np.arange(lon_i, lon_f+d_coord, d_coord)\n",
    "lons = lons.reshape(len(lons),1)\n",
    "anos = np.arange(ano_i, ano_f+d_ano, d_ano)\n",
    "anos = anos.reshape(len(anos),1)\n",
    "\n",
    "#coluna de longitudes ok\n",
    "lons_2 = np.repeat(lons, len(lats), axis=1).reshape(len(lons)*len(lats), 1)\n",
    "lons_3 = np.repeat(lons_2, len(anos), axis=1)\n",
    "lons_3 = lons_3.T.reshape(lons_3.size, 1)\n",
    "\n",
    "# coluna de latitudes ok\n",
    "lats_2 = np.repeat(lats, len(lons), axis=1).T.reshape(len(lons)*len(lats), 1)\n",
    "lats_3 = np.repeat(lats_2, len(anos), axis=1)\n",
    "lats_3 = lats_3.T.reshape(lats_3.size, 1)\n",
    "\n",
    "# coluna de anos ok\n",
    "anos_2 = np.repeat(anos, len(lons_2), axis=1).reshape(len(lons)*len(lats)*len(anos), 1)\n",
    "\n",
    "# strings extras para padrão de coordenadas (em graus) e altitude (em metros)\n",
    "extras = [['D', 'M'+str(alt)]]*len(lons)*len(lats)*len(anos)"
   ]
  },
  {
   "cell_type": "code",
   "execution_count": 4,
   "id": "neutral-investor",
   "metadata": {},
   "outputs": [],
   "source": [
    "# Padrão do input:     2019.5 D M0 70.3 30.8\n",
    "M = np.concatenate((anos_2, extras, lats_3, lons_3), axis=1)\n",
    "np.savetxt('my_input.txt', M, delimiter=\" \", fmt=\"%s\")"
   ]
  },
  {
   "cell_type": "code",
   "execution_count": 5,
   "id": "generic-nursery",
   "metadata": {},
   "outputs": [
    {
     "name": "stdout",
     "output_type": "stream",
     "text": [
      "\n",
      "\n",
      " Geomag v7.0 - Jan 25, 2010 \n",
      "\n",
      " 'f' switch: converting file with multiple locations.\n",
      "     The first five output columns repeat the input coordinates.\n",
      "     Then follows D, I, H, X, Y, Z, and F.\n",
      "     Finally the SV: dD, dI, dH, dX, dY, dZ,  and dF\n",
      "     The units are the same as when the program is\n",
      "     run in command line or interactive mode.\n",
      "\n",
      "\n",
      " Processed 16290 lines\n",
      "\n"
     ]
    },
    {
     "name": "stderr",
     "output_type": "stream",
     "text": [
      "\n",
      "log: DOMAIN error\n",
      "\n",
      "log: DOMAIN error\n"
     ]
    }
   ],
   "source": [
    "# calcula o IGRF usando o Geomag 7.0\n",
    "!geomag70.exe IGRF12.COF f my_input.txt my_output.txt"
   ]
  },
  {
   "cell_type": "code",
   "execution_count": 6,
   "id": "introductory-version",
   "metadata": {},
   "outputs": [
    {
     "data": {
      "text/plain": [
       "Date             2000.0\n",
       "Coord-System          D\n",
       "Altitude           M0.0\n",
       "Latitude           81.0\n",
       "Longitude        -110.0\n",
       "D_deg               NaN\n",
       "D_min               NaN\n",
       "I_deg               89d\n",
       "I_min               59m\n",
       "H_nT               24.7\n",
       "X_nT                3.3\n",
       "Y_nT               24.4\n",
       "Z_nT            57021.5\n",
       "F_nT            57021.5\n",
       "dD_min              NaN\n",
       "dI_min             -2.2\n",
       "dH_nT              36.4\n",
       "dX_nT              57.0\n",
       "dY_nT             -34.0\n",
       "dZ_nT              16.7\n",
       "dF_nT              16.7\n",
       "Name: 3235, dtype: object"
      ]
     },
     "execution_count": 6,
     "metadata": {},
     "output_type": "execute_result"
    }
   ],
   "source": [
    "a = pd.read_csv('my_output.txt', header=0, delim_whitespace=True)\n",
    "\n",
    "# parece que funcionou - duplica os NaN da coluna D_deg\n",
    "mask = a.D_deg.isna()\n",
    "a.loc[mask, 'D_deg':] = a.loc[mask, 'D_deg':].shift(periods=1, axis=1)\n",
    "\n",
    "# parece que funcionou - duplica os NaN da coluna I_deg\n",
    "mask = a.I_deg.isna()\n",
    "a.loc[mask, 'I_deg':] = a.loc[mask, 'I_deg':].shift(periods=1, axis=1)"
   ]
  },
  {
   "cell_type": "code",
   "execution_count": 7,
   "id": "coastal-instrument",
   "metadata": {},
   "outputs": [],
   "source": [
    "Date = a['Date'].to_numpy(dtype=int)\n",
    "Latitude = a['Latitude'].to_numpy(dtype=int)\n",
    "Longitude = a['Longitude'].to_numpy(dtype=int)\n",
    "\n",
    "F_nT = a['F_nT'].to_numpy(dtype=float)\n",
    "\n",
    "# pega a parte numérica dos graus e dos minutos, excluindo a notação d e m\n",
    "# dos valores presentes nestas colunas\n",
    "D_deg = a['D_deg'].to_list()\n",
    "D_deg_num = np.array([float(str(i).split('d')[0]) for i in D_deg])\n",
    "D_min = a['D_min'].to_list()\n",
    "D_min_num = np.array([float(str(i).split('m')[0]) for i in D_min])\n",
    "\n",
    "I_deg = a['I_deg'].to_list()\n",
    "I_deg_num = np.array([float(str(i).split('d')[0]) for i in I_deg])\n",
    "I_min = a['I_min'].to_list()\n",
    "I_min_num = np.array([float(str(i).split('m')[0]) for i in I_min])\n",
    "\n",
    "\n",
    "# converte de graus e minutos para graus decimais\n",
    "sinal = np.sign(D_deg_num)\n",
    "sinal[sinal==0] = 1\n",
    "D_graus = sinal * (np.abs(D_deg_num) + D_min_num/60.0)\n",
    "\n",
    "sinal = np.sign(I_deg_num)\n",
    "sinal[sinal==0] = 1\n",
    "I_graus = sinal * (np.abs(I_deg_num) + I_min_num/60.0)"
   ]
  },
  {
   "cell_type": "markdown",
   "id": "institutional-sheet",
   "metadata": {},
   "source": [
    "# Lê o arquivo calculado\n",
    "\n",
    "\n",
    "D_deg, D_min, I_deg, I_min = np.loadtxt('my_output.txt', skiprows=1, usecols=(5,6,7,8), dtype=str, unpack=True)\n",
    "Date, Latitude, Longitude, F_nT, dD_min, dI_min, dF_nT = np.loadtxt('my_output.txt', skiprows=1, \n",
    "                                                                    usecols=(0, 3,4,13,14,15,20), dtype=float, unpack=True)\n",
    "\n",
    "D_deg_num = np.array([float(i.split('d')[0]) for i in D_deg])\n",
    "D_min_num = np.array([float(i.split('m')[0]) for i in D_min])\n",
    "I_deg_num = np.array([float(i.split('d')[0]) for i in I_deg])\n",
    "I_min_num = np.array([float(i.split('m')[0]) for i in I_min])\n",
    "\n",
    "\n",
    "sinal = np.sign(D_deg_num)\n",
    "sinal[sinal==0] = 1\n",
    "D_graus = sinal * (np.abs(D_deg_num) + D_min_num/60.0)\n",
    "\n",
    "sinal = np.sign(I_deg_num)\n",
    "sinal[sinal==0] = 1\n",
    "I_graus = sinal * (np.abs(I_deg_num) + I_min_num/60.0)\n",
    "\n",
    "dD_graus = dD_min/60.0\n",
    "dI_graus = dI_min/60.0"
   ]
  },
  {
   "cell_type": "code",
   "execution_count": 8,
   "id": "cloudy-armenia",
   "metadata": {},
   "outputs": [],
   "source": [
    "# salva o arquivo em formato de tabela\n",
    "IGRF = np.concatenate((Date.reshape(Date.size, 1), \\\n",
    "                       Latitude.reshape(Latitude.size, 1), \\\n",
    "                       Longitude.reshape(Longitude.size, 1), \\\n",
    "                       F_nT.reshape(F_nT.size, 1), \\\n",
    "                       # dF_nT.reshape(dF_nT.size, 1), \\\n",
    "                       D_graus.reshape(D_graus.size, 1), \\\n",
    "                       # dD_graus.reshape(dD_graus.size, 1), \\\n",
    "                       I_graus.reshape(I_graus.size, 1)), \\\n",
    "                       # dI_graus.reshape(dI_graus.size, 1)), \\\n",
    "                      axis=1)\n",
    "\n",
    "np.savetxt('IGRF.txt', IGRF, fmt=['%d', '%d', '%d', '%.4f', '%.4f', '%.4f'])"
   ]
  },
  {
   "cell_type": "code",
   "execution_count": 9,
   "id": "useful-guess",
   "metadata": {},
   "outputs": [],
   "source": [
    "# apaga os outros arquivos\n",
    "!del my_input.txt\n",
    "!del my_output.txt"
   ]
  },
  {
   "cell_type": "code",
   "execution_count": null,
   "id": "viral-religious",
   "metadata": {},
   "outputs": [],
   "source": []
  }
 ],
 "metadata": {
  "kernelspec": {
   "display_name": "Python 3",
   "language": "python",
   "name": "python3"
  },
  "language_info": {
   "codemirror_mode": {
    "name": "ipython",
    "version": 3
   },
   "file_extension": ".py",
   "mimetype": "text/x-python",
   "name": "python",
   "nbconvert_exporter": "python",
   "pygments_lexer": "ipython3",
   "version": "3.7.10"
  }
 },
 "nbformat": 4,
 "nbformat_minor": 5
}
