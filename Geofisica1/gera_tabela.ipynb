{
 "cells": [
  {
   "cell_type": "code",
   "execution_count": 1,
   "id": "vocal-disclaimer",
   "metadata": {},
   "outputs": [],
   "source": [
    "import numpy as np"
   ]
  },
  {
   "cell_type": "code",
   "execution_count": 2,
   "id": "northern-confidentiality",
   "metadata": {},
   "outputs": [],
   "source": [
    "ano_i = 1900.00\n",
    "ano_f = 2000.00\n",
    "\n",
    "lat_i = -89.00\n",
    "lat_f = 89.00\n",
    "\n",
    "lon_i = -180.00\n",
    "lon_f = 180.00\n",
    "\n",
    "d_ano = 10.0\n",
    "d_coord = 2.0"
   ]
  },
  {
   "cell_type": "code",
   "execution_count": 3,
   "id": "annoying-ready",
   "metadata": {},
   "outputs": [],
   "source": [
    "# ok\n",
    "\n",
    "lats = np.arange(lat_i, lat_f+d_coord, d_coord)\n",
    "lats = lats.reshape(len(lats),1)\n",
    "lons = np.arange(lon_i, lon_f+d_coord, d_coord)\n",
    "lons = lons.reshape(len(lons),1)\n",
    "anos = np.arange(ano_i, ano_f+d_ano, d_ano)\n",
    "anos = anos.reshape(len(anos),1)"
   ]
  },
  {
   "cell_type": "code",
   "execution_count": 4,
   "id": "driving-immigration",
   "metadata": {},
   "outputs": [],
   "source": [
    "#coluna de longitudes ok\n",
    "\n",
    "lons_2 = np.repeat(lons, len(lats), axis=1).reshape(len(lons)*len(lats), 1)\n",
    "lons_3 = np.repeat(lons_2, len(anos), axis=1)\n",
    "lons_3 = lons_3.T.reshape(lons_3.size, 1)"
   ]
  },
  {
   "cell_type": "code",
   "execution_count": 5,
   "id": "short-victor",
   "metadata": {},
   "outputs": [],
   "source": [
    "# coluna de latitudes ok\n",
    "lats_2 = np.repeat(lats, len(lons), axis=1).T.reshape(len(lons)*len(lats), 1)\n",
    "lats_3 = np.repeat(lats_2, len(anos), axis=1)\n",
    "lats_3 = lats_3.T.reshape(lats_3.size, 1)"
   ]
  },
  {
   "cell_type": "code",
   "execution_count": 6,
   "id": "official-environment",
   "metadata": {},
   "outputs": [],
   "source": [
    "# coluna de anos ok\n",
    "anos_2 = np.repeat(anos, len(lons_2), axis=1).reshape(len(lons)*len(lats)*len(anos), 1)"
   ]
  },
  {
   "cell_type": "code",
   "execution_count": 7,
   "id": "olympic-hands",
   "metadata": {},
   "outputs": [
    {
     "data": {
      "text/plain": [
       "(179190, 3)"
      ]
     },
     "execution_count": 7,
     "metadata": {},
     "output_type": "execute_result"
    }
   ],
   "source": [
    "M = np.concatenate((lats_3, lons_3, anos_2), axis=1)\n",
    "M.shape"
   ]
  },
  {
   "cell_type": "code",
   "execution_count": null,
   "id": "unsigned-armor",
   "metadata": {},
   "outputs": [],
   "source": []
  },
  {
   "cell_type": "code",
   "execution_count": null,
   "id": "warming-floor",
   "metadata": {},
   "outputs": [],
   "source": []
  }
 ],
 "metadata": {
  "kernelspec": {
   "display_name": "Python 3",
   "language": "python",
   "name": "python3"
  },
  "language_info": {
   "codemirror_mode": {
    "name": "ipython",
    "version": 3
   },
   "file_extension": ".py",
   "mimetype": "text/x-python",
   "name": "python",
   "nbconvert_exporter": "python",
   "pygments_lexer": "ipython3",
   "version": "3.8.5"
  }
 },
 "nbformat": 4,
 "nbformat_minor": 5
}
