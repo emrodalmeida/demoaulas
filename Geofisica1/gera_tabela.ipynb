{
 "cells": [
  {
   "cell_type": "code",
   "execution_count": 88,
   "id": "vocal-disclaimer",
   "metadata": {},
   "outputs": [],
   "source": [
    "import numpy as np\n",
    "import pandas as pd"
   ]
  },
  {
   "cell_type": "code",
   "execution_count": 40,
   "id": "northern-confidentiality",
   "metadata": {},
   "outputs": [],
   "source": [
    "ano_i = 2020.00\n",
    "ano_f = 2020.00\n",
    "\n",
    "lat_i = -20.00\n",
    "lat_f = 00.00\n",
    "\n",
    "lon_i = 20.00\n",
    "lon_f = 30.00\n",
    "\n",
    "d_ano = 10.0\n",
    "d_coord = 5.0\n",
    "\n",
    "alt = 00.0"
   ]
  },
  {
   "cell_type": "code",
   "execution_count": 41,
   "id": "annoying-ready",
   "metadata": {},
   "outputs": [],
   "source": [
    "# ok\n",
    "\n",
    "lats = np.arange(lat_i, lat_f+d_coord, d_coord)\n",
    "lats = lats.reshape(len(lats),1)\n",
    "lons = np.arange(lon_i, lon_f+d_coord, d_coord)\n",
    "lons = lons.reshape(len(lons),1)\n",
    "anos = np.arange(ano_i, ano_f+d_ano, d_ano)\n",
    "anos = anos.reshape(len(anos),1)\n",
    "\n",
    "#coluna de longitudes ok\n",
    "lons_2 = np.repeat(lons, len(lats), axis=1).reshape(len(lons)*len(lats), 1)\n",
    "lons_3 = np.repeat(lons_2, len(anos), axis=1)\n",
    "lons_3 = lons_3.T.reshape(lons_3.size, 1)\n",
    "\n",
    "# coluna de latitudes ok\n",
    "lats_2 = np.repeat(lats, len(lons), axis=1).T.reshape(len(lons)*len(lats), 1)\n",
    "lats_3 = np.repeat(lats_2, len(anos), axis=1)\n",
    "lats_3 = lats_3.T.reshape(lats_3.size, 1)\n",
    "\n",
    "# coluna de anos ok\n",
    "anos_2 = np.repeat(anos, len(lons_2), axis=1).reshape(len(lons)*len(lats)*len(anos), 1)\n",
    "\n",
    "# strings extras para padrão de coordenadas (em graus) e altitude (em metros)\n",
    "extras = [['D', 'M'+str(alt)]]*len(lons)*len(lats)*len(anos)"
   ]
  },
  {
   "cell_type": "code",
   "execution_count": 42,
   "id": "driving-immigration",
   "metadata": {},
   "outputs": [],
   "source": [
    "# Padrão do input:     2019.5 D M0 70.3 30.8"
   ]
  },
  {
   "cell_type": "code",
   "execution_count": 49,
   "id": "olympic-hands",
   "metadata": {},
   "outputs": [],
   "source": [
    "M = np.concatenate((anos_2, extras, lats_3, lons_3), axis=1)\n",
    "np.savetxt('my_input.txt', M, delimiter=\" \", fmt=\"%s\") "
   ]
  },
  {
   "cell_type": "code",
   "execution_count": 120,
   "id": "korean-consolidation",
   "metadata": {},
   "outputs": [],
   "source": [
    "D_deg, D_min, I_deg, I_min = np.loadtxt('my_output.txt', skiprows=1, usecols=(5,6,7,8), dtype=str, unpack=True)\n",
    "Date, Latitude, Longitude, F_nT, dD_min, dI_min, dF_nT = np.loadtxt('my_output.txt', skiprows=1, \n",
    "                                                                    usecols=(0, 3,4,13,14,15,20), dtype=float, unpack=True)"
   ]
  },
  {
   "cell_type": "code",
   "execution_count": null,
   "id": "mental-dollar",
   "metadata": {},
   "outputs": [],
   "source": []
  }
 ],
 "metadata": {
  "kernelspec": {
   "display_name": "Python 3",
   "language": "python",
   "name": "python3"
  },
  "language_info": {
   "codemirror_mode": {
    "name": "ipython",
    "version": 3
   },
   "file_extension": ".py",
   "mimetype": "text/x-python",
   "name": "python",
   "nbconvert_exporter": "python",
   "pygments_lexer": "ipython3",
   "version": "3.8.5"
  }
 },
 "nbformat": 4,
 "nbformat_minor": 5
}
