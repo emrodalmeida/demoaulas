{
 "cells": [
  {
   "cell_type": "code",
   "execution_count": 1,
   "id": "hydraulic-spyware",
   "metadata": {},
   "outputs": [
    {
     "data": {
      "text/plain": [
       "'\\nNotebook utilizado para apresentar uma introdução à teoria da amostragem de sinais.\\nCriado para a disciplina Geofísica I da Universidade Federal de Uberlândia.\\n\\nProtegido por licença GPL v3.0. O uso e a reprodução são livres para fins educacionais\\ndesde que citada a fonte.\\n\\nProf. Dr. Emerson Rodrigo Almeida\\nemerson.almeida@ufu.br\\n\\nÚltima modificação: 02/02/2021\\n'"
      ]
     },
     "execution_count": 1,
     "metadata": {},
     "output_type": "execute_result"
    }
   ],
   "source": [
    "\"\"\"\n",
    "Notebook utilizado para apresentar uma introdução à teoria da amostragem de sinais.\n",
    "Criado para a disciplina Geofísica I da Universidade Federal de Uberlândia.\n",
    "\n",
    "Protegido por licença GPL v3.0. O uso e a reprodução são livres para fins educacionais\n",
    "desde que citada a fonte.\n",
    "\n",
    "Prof. Dr. Emerson Rodrigo Almeida\n",
    "emerson.almeida@ufu.br\n",
    "\n",
    "Última modificação: 02/02/2021\n",
    "\"\"\""
   ]
  },
  {
   "cell_type": "markdown",
   "id": "resistant-variance",
   "metadata": {},
   "source": [
    "# Instruções iniciais\n",
    "\n",
    "Neste notebook você irá aprender como funciona a filtragem de frequências indesejadas em sinais. Para isto leia atentamente as instruções apresentadas antes de cada célula e execute-as uma a uma, para acompanhar o processo corretamente.\n",
    "\n",
    "Não se preocupe em compreender o código em si, não é obrigatório que você conheça a programação para obter e interpretar os resultados da demonstração. Mesmo assim, sinta-se livre caso queira perguntar qualquer coisa para aprender mais sobre o código e sua elaboração."
   ]
  },
  {
   "cell_type": "markdown",
   "id": "immediate-england",
   "metadata": {},
   "source": [
    "### Passo 01 - Preparação\n",
    "\n",
    "Primeiramente vamos preparar o notebook com os módulos e funções que precisaremos no decorrer da demonstração. A célula abaixo contém as funções utilizadas nos cálculos e as funções utilizadas para gerar as figuras. Execute-a uma vez antes de executar qualquer outra parte do código e **não altere nada no código apresentado na célula**. Você pode executar o código na célula clicando no botão RUN na barra do Jupyter Notebook ou pressionando as teclas SHIFT+ENTER no seu teclado."
   ]
  },
  {
   "cell_type": "code",
   "execution_count": 3,
   "id": "resident-contest",
   "metadata": {},
   "outputs": [],
   "source": [
    "from scipy.interpolate import interp1d\n",
    "import numpy as np\n",
    "from matplotlib import pyplot as plt\n",
    "%matplotlib inline\n",
    "\n",
    "\n",
    "# o que estiver ok vem pra cá\n"
   ]
  },
  {
   "cell_type": "code",
   "execution_count": null,
   "id": "european-person",
   "metadata": {},
   "outputs": [],
   "source": []
  }
 ],
 "metadata": {
  "kernelspec": {
   "display_name": "Python 3",
   "language": "python",
   "name": "python3"
  },
  "language_info": {
   "codemirror_mode": {
    "name": "ipython",
    "version": 3
   },
   "file_extension": ".py",
   "mimetype": "text/x-python",
   "name": "python",
   "nbconvert_exporter": "python",
   "pygments_lexer": "ipython3",
   "version": "3.8.5"
  }
 },
 "nbformat": 4,
 "nbformat_minor": 5
}
