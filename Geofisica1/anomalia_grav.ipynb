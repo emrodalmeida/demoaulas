{
 "cells": [
  {
   "cell_type": "markdown",
   "id": "previous-clearing",
   "metadata": {},
   "source": [
    "Notebook elaborado para apresentar algumas características das anomalias observadas em dados gravimétricos.\n",
    "Criado para a disciplina Geofísica I da Universidade Federal de Uberlândia.\n",
    "O uso e a reprodução são livres para fins educacionais, pede-se apenas a citação da fonte.\n",
    "\n",
    "[![License: GPL v3](https://img.shields.io/badge/License-GPLv3-blue.svg)](https://www.gnu.org/licenses/gpl-3.0)\n",
    "\n",
    "Esta demonstração foi baseada em uma atividade do professor [Leonardo Uieda](https://github.com/leouieda), da Universidade de Liverpool, de onde foi obtido o arquivo referente ao modelo de terreno digital ETOPO1.\n",
    "\n",
    "Prof. Dr. Emerson Rodrigo Almeida<br>\n",
    "Universidade Federal de Uberlândia<br>\n",
    "Instituto de Geografia - Curso de Geologia<br>\n",
    "emerson.almeida@ufu.br<br>\n",
    "\n",
    "\n",
    "\n",
    "<p>&nbsp;</p>\n",
    "Última modificação: 25/02/2021"
   ]
  },
  {
   "cell_type": "markdown",
   "id": "smart-combination",
   "metadata": {},
   "source": [
    "# Instruções iniciais\n",
    "\n",
    "Neste notebook você irá observar as variações relacionadas às anomalias ar-livre e Bouguer observadas em dados gravimétricos. Para isto leia atentamente as instruções apresentadas antes de cada célula e execute-as uma a uma, para acompanhar o processo corretamente.\n",
    "\n",
    "Não se preocupe em compreender o código em si, não é obrigatório que você conheça a programação para obter e interpretar os resultados da demonstração. Mesmo assim, sinta-se livre caso queira perguntar qualquer coisa para aprender mais sobre o código e sua elaboração.\n",
    "\n",
    "<p>&nbsp;</p>\n",
    "\n",
    "### Passo 01 - Preparação\n",
    "\n",
    "Primeiramente vamos preparar o notebook com os módulos e funções que precisaremos no decorrer da demonstração. A célula abaixo contém as funções utilizadas nos cálculos e as funções utilizadas para gerar as figuras. Execute-a uma vez antes de executar qualquer outra parte do código e **não altere nada no código apresentado na célula** para não criar problemas na execução do código.\n",
    "\n",
    "Você pode executar o código na célula clicando sobre ela e em seguida clicando no botão **RUN** na barra do Jupyter Notebook ou pressionando as teclas **SHIFT+ENTER** no seu teclado.\n",
    "\n",
    "<p>&nbsp;</p>\n",
    "\n",
    "**Importante!** Nem todas as células irão retornar algum tipo de mensagem ou figura após a execução. Isto é normal e não significa que a execução tenha falhado. Perceba o símbolo **In [   ]:** próximo ao canto superior esquerdo de cada célula. Ao iniciar a execução de uma delas você verá um asterisco ($*$) aparecer dentro dos colchetes. Você saberá que a execução ocorreu sem problemas quando o $*$ dentro dos colchetes for substituído por um número e nenhuma mensagem de erro aparecer abaixo da célula executada. "
   ]
  },
  {
   "cell_type": "code",
   "execution_count": null,
   "id": "universal-jonathan",
   "metadata": {},
   "outputs": [],
   "source": [
    "%matplotlib inline\n",
    "import numpy as np\n",
    "import matplotlib.pyplot as plt\n",
    "import cartopy.crs as ccrs\n",
    "\n",
    "def calc_gamma(l):\n",
    "    \"\"\"\n",
    "    Calcula a aceleração da gravidade no elipsóide de referência (WGS 84) pela equação de Somigliana\n",
    "    \"\"\"\n",
    "    \n",
    "    a = 6378137.0\n",
    "    b = 6356752.3142\n",
    "    ga = 9.7803253359\n",
    "    gb = 9.8321849378\n",
    "    \n",
    "    numerador = a * ga * np.cos(np.pi*l/180)**2 + b*gb*np.sin(np.pi*l/180)**2\n",
    "    denominador = np.sqrt(a**2 * (np.cos(np.pi*l/180)**2) + b**2*(np.sin(np.pi*l/180)**2))\n",
    "    \n",
    "    return numerador/denominador\n",
    "\n",
    "\n",
    "def plota_gamma(l, gamma):\n",
    "    \n",
    "    \"\"\"\n",
    "    Plota a aceleração de acordo com a fórmula de Somigliana\n",
    "    \"\"\"\n",
    "    \n",
    "    fig, ax = plt.subplots(figsize=(10, 5))\n",
    "    ax.plot(l, gamma)\n",
    "    ax.set_xlabel('Latitude (º)', fontsize=14)\n",
    "    ax.set_ylabel('g (m/s$^2$)', fontsize=14)\n",
    "    ax.set_title('Aceleração da gravidade calculada pela fórmula de Somigliana', fontsize=14)\n",
    "    ax.set_xlim([-90, 90])\n",
    "    ax.set_ylim([9.75, 9.85])\n",
    "    ax.grid()\n",
    "    plt.show()\n",
    "    \n",
    "    \n",
    "def seleciona_area(data, area):\n",
    "    \n",
    "    \"\"\"\n",
    "    Seleciona uma área no arquivo de dados a partir das coordenadas fornecidas. Foi feito asism\n",
    "    para ser mais rápido do que plotar o arquivo todo e só depois selecionar a área.\n",
    "    \"\"\"\n",
    "\n",
    "    if area[2] < 0:\n",
    "        area[2] = 360 + area[2]\n",
    "    if area[3] < 0:\n",
    "        area[3] = 360 + area[3]\n",
    "\n",
    "    d_lat = np.unique(data[:,1])[1] - np.unique(data[:,1])[0]\n",
    "    d_lon = data[1, 0] - data[0, 0]\n",
    "    \n",
    "    # seleciona latitudes\n",
    "    lat_ind1 = np.abs(data[:,1]-area[0]).argmin()\n",
    "    lat_ind2 = np.abs(data[:,1]-area[1] + d_lat).argmin()\n",
    "    data2 = data[lat_ind1:lat_ind2, :]\n",
    "\n",
    "    # seleciona longitudes\n",
    "    lon_inds = np.where((data2[:,0] > area[2]) & (data2[:,0] < (area[3] + d_lon)))\n",
    "    data3 = data2[lon_inds[0], :]\n",
    "   \n",
    "    out_data = reorganiza(data3, area)\n",
    "\n",
    "    return out_data\n",
    "\n",
    "\n",
    "def reorganiza(d, area):\n",
    "    \n",
    "    \"\"\"\n",
    "    Reorganiza as dimensões das variáveis correspondentes às colunas do arquivo de dados\n",
    "    para que fiquem adequadas à função de visualização dos mapas\n",
    "    \"\"\"\n",
    "    \n",
    "    \n",
    "    d_lat = np.unique(d[:,1])[1] - np.unique(d[:,1])[0]\n",
    "    d_lon = d[1, 0] - d[0, 0]\n",
    "    \n",
    "    if np.shape(d)[1]==4:\n",
    "        lon, lat, alt, g = d[:,0], d[:,1], d[:,2], d[:,3]\n",
    "        lon2 = lon[:int(np.abs(area[3]-area[2])/d_lon)]\n",
    "        lat2 = np.reshape(lat, [int(np.abs(area[1]-area[0])/d_lat)+1, int(np.abs(area[3]-area[2])/d_lon)])[:, 1]  # acho que não precisa desse indice\n",
    "        alt2 = np.reshape(alt, [int(np.abs(area[1]-area[0])/d_lat)+1, int(np.abs(area[3]-area[2])/d_lon)])\n",
    "        g2 = np.reshape(g, [int(np.abs(area[1]-area[0])/d_lat)+1, int(np.abs(area[3]-area[2])/d_lon)])\n",
    "\n",
    "        return [lon2, lat2, alt2, g2]\n",
    "    \n",
    "    if np.shape(d)[1]==3:\n",
    "        lon, lat, topog = d[:,0], d[:,1], d[:,2]\n",
    "        lon2 = lon[:int(np.abs(area[3]-area[2])/d_lon)]\n",
    "        lat2 = np.reshape(lat, [int(np.abs(area[1]-area[0])/d_lat)+1, int(np.abs(area[3]-area[2])/d_lon)])[:, 1]  # acho que não precisa desse indice\n",
    "        topog2 = np.reshape(topog, [int(np.abs(area[1]-area[0])/d_lat)+1, int(np.abs(area[3]-area[2])/d_lon)])\n",
    "\n",
    "        return [lon2, lat2, topog2]\n",
    "\n",
    "\n",
    "def plota_mapa(xx, yy, zz, title=None, escala=None):\n",
    "\n",
    "    \"\"\"\n",
    "    Plota os mapas dentro das coordenadas especificadas\n",
    "    \"\"\"\n",
    "    \n",
    "    fig = plt.figure(figsize=(8, 8))\n",
    "    ax = plt.axes(projection=ccrs.PlateCarree())\n",
    "    z = plt.contourf(xx, yy, zz, 120, transform=ccrs.PlateCarree(), cmap='RdBu_r')\n",
    "    \n",
    "    if escala:\n",
    "        plt.colorbar(z, ax=ax, label=escala, shrink=0.5)\n",
    "\n",
    "    ax.coastlines(resolution='50m')\n",
    "    ax.gridlines(crs=ccrs.PlateCarree(), draw_labels=True)\n",
    "    \n",
    "    if title:\n",
    "        ax.set_title(title, fontsize=14)\n",
    "\n",
    "    plt.tight_layout()\n",
    "    plt.show()"
   ]
  },
  {
   "cell_type": "markdown",
   "id": "velvet-height",
   "metadata": {},
   "source": [
    "# Passo 01 - Dados de elevação\n",
    "\n",
    "Primeiramente, carrege o arquivo ASCII que contém os dados de topografia do mundo todo, discretizados em um grid de 0.5 grau, e medidas da aceleração da gravidade tomadas nestes pontos. Este arquivo é disponibilizado pelo [International Centre for Global Earth Models - ICGEM](http://icgem.gfz-potsdam.de/home), podendo ser feito o download direto [neste link](http://icgem.gfz-potsdam.de/getmodel/doc/7de5f4776818768629ccc05741eab71caea0753f591b5fa16769d49a58c8d9ea) - mas você não precisa baixá-lo para fazer a atividade.\n",
    "\n",
    "Carregue este arquivo executando a célula abaixo."
   ]
  },
  {
   "cell_type": "code",
   "execution_count": null,
   "id": "social-berry",
   "metadata": {},
   "outputs": [],
   "source": [
    "dados = np.loadtxt('eigen-6c3stat-0_5-mundo.txt')"
   ]
  },
  {
   "cell_type": "markdown",
   "id": "nearby-tooth",
   "metadata": {},
   "source": [
    "Carregue também um segundo arquivo com os dados de topografia e de batimetria dos oceanos, dado pelo modelo digital de terreno ETOPO1 pelo [\n",
    "National Oceanic and Atmospheric Administration - NOAA](http://www.ngdc.noaa.gov/mgg/global/global.html), executando a célula abaixo."
   ]
  },
  {
   "cell_type": "code",
   "execution_count": null,
   "id": "twenty-tower",
   "metadata": {},
   "outputs": [],
   "source": [
    "topog = np.loadtxt('etopo1-0_5-mundo.txt')"
   ]
  },
  {
   "cell_type": "markdown",
   "id": "initial-vancouver",
   "metadata": {},
   "source": [
    "### Passo 02 - Aceleração da gravidade no elipsóide\n",
    "\n"
   ]
  },
  {
   "cell_type": "markdown",
   "id": "deadly-pharmacology",
   "metadata": {},
   "source": [
    "Agora, antes de trabalhar com os dados  calcule a aceleração da gravidade sobre o elipsóide de referência definido pelo WGS84. Este cálculo é feito pela fórmula de Somigliana, dada por:\n",
    "\n",
    "$$\\gamma(\\phi) = \\frac{a*\\gamma_a*cos^2\\phi + b*\\gamma_b*sen^2\\phi}{\\sqrt{a^2*cos^2\\phi + b^2*sen^2\\phi}}$$\n",
    "\n",
    "em que $\\gamma$ é a componente vertical da gravidade no Equador, $\\gamma_b$ é a componente vertical da gravidade nos Polos, $a$ é o raio equatorial da Terra e $b$ é o raio polar da Terra. Estes valores são dados por:\n",
    "\n",
    "$a$ = 6378137 m; $b$ = 6356752.3142 m; $\\gamma_a$ = 9.7803253359 m/s$^2$; $\\gamma_b$ = 9.8321849378 m/s$^2$"
   ]
  },
  {
   "cell_type": "code",
   "execution_count": null,
   "id": "genetic-ballot",
   "metadata": {},
   "outputs": [],
   "source": [
    "lat = np.unique(dados[:,1])\n",
    "somig = calc_gamma(lat)"
   ]
  },
  {
   "cell_type": "markdown",
   "id": "helpful-canberra",
   "metadata": {},
   "source": [
    "e execute a célula abaixo para obter o gráfico que representa o cálculo acima."
   ]
  },
  {
   "cell_type": "code",
   "execution_count": null,
   "id": "czech-newark",
   "metadata": {},
   "outputs": [],
   "source": [
    "plota_gamma(lat, somig)"
   ]
  },
  {
   "cell_type": "markdown",
   "id": "precise-edwards",
   "metadata": {},
   "source": [
    "**Explique o gráfico acima.** Quais fatores contribuem para este comportamento?"
   ]
  },
  {
   "cell_type": "markdown",
   "id": "athletic-clearance",
   "metadata": {},
   "source": [
    "### Passo 03 - Mapa de Topografia\n",
    "\n",
    "Você vai selecionar uma região do mapa, correspondente à America do Sul. Execute a célula abaixo para definir as coordenadas referentes a esta região."
   ]
  },
  {
   "cell_type": "code",
   "execution_count": null,
   "id": "demographic-confidentiality",
   "metadata": {},
   "outputs": [],
   "source": [
    "regiao = [15.0, -60.0, -90.0, -30.0]      # [lat_min, lat_max, long_min, long_max]"
   ]
  },
  {
   "cell_type": "markdown",
   "id": "manufactured-individual",
   "metadata": {},
   "source": [
    "e execute a célula abaixo para visualizar o mapa"
   ]
  },
  {
   "cell_type": "code",
   "execution_count": null,
   "id": "opening-sellers",
   "metadata": {},
   "outputs": [],
   "source": [
    "lon, lat, h, g_medido = seleciona_area(dados, regiao)\n",
    "plota_mapa(lon, lat, h, title='Topografia dos continentes', escala='Altitude (m)')"
   ]
  },
  {
   "cell_type": "markdown",
   "id": "south-exception",
   "metadata": {},
   "source": [
    "### Passo 04 - Anomalia Ar-livre\n",
    "\n",
    "Agora serão corrigidas as influências da latitude e da altitude dos pontos de aquisição de dados. A primeira é denominada **correção de latitude** ($C_LAT$) e utiliza a aceleração da gravidade sobre o elipsóide ($\\gamma$), calculada no Passo 02. Este valor será subtraído do valor medido da aceleração da gravidade. Adicionalmente, aplica-se a **correção ar-livre**, para compensar a variação causada pelo gradiente vertical relacionado à altitude ortométrica ($H$) do ponto de aquisição do dado. A correção ar-livre ($C_{AL}$) é calculada por\n",
    "\n",
    "$$C_{AL} = 0.3086 * H$$\n",
    "\n",
    "Ao resultado deste cálculo dá-se o nome de **anomalia ar-livre ($g_{AL}$)** a qual inclui a correção de latitude e é definida por:\n",
    "\n",
    "$$g_{AL} = g_{medido} + C_{LAT} + C_{AL} = g_{medido} - \\gamma + 0.3086 * H$$\n",
    "\n",
    "Execute a célula abaixo para aplicar esta correção e visualizar o mapa de anomalia ar-livre:"
   ]
  },
  {
   "cell_type": "code",
   "execution_count": null,
   "id": "sought-probability",
   "metadata": {},
   "outputs": [],
   "source": [
    "gamma = np.repeat(calc_gamma(lat)*1e5, np.shape(g_medido)[1])\n",
    "gamma = np.reshape(gamma, np.shape(g_medido))\n",
    "g_al = g_medido - gamma + 0.3086 * h\n",
    "plota_mapa(lon, lat, g_al, title='Anomalia ar-livre', escala='g$_{AL}$ (mGal)')"
   ]
  },
  {
   "cell_type": "markdown",
   "id": "lesser-amino",
   "metadata": {},
   "source": [
    "**Em uma folha de papel** faça uma estimativa do perfil passando pelo paralelo -20º e entre os meridianos -80º e -60º considerando os valores de anomalia ar-livre observados. Explique este comportamento."
   ]
  },
  {
   "cell_type": "markdown",
   "id": "conceptual-brunswick",
   "metadata": {},
   "source": [
    "### Passo 05 - Anomalia Bouger\n",
    "\n",
    "Por fim, será feita a remoção da influência das massas rochosas que, lembre-se, não foi compensada no passo anterior. Para isto, será feita a **correção Bouguer** ($C_B$), que é feita considerando-se a variação de densidade causada pelas rochas acima da superfície de referência ($\\Delta_{\\rho}$).\n",
    "\n",
    "Execute a célula abaixo para visualizar um mapa de elevação do topo rochoso considerando também a batimetria dos oceanos, pois ela será importante nesta etapa:"
   ]
  },
  {
   "cell_type": "code",
   "execution_count": null,
   "id": "honey-notification",
   "metadata": {},
   "outputs": [],
   "source": [
    "lon, lat, elev = seleciona_area(topog, regiao)\n",
    "plota_mapa(lon, lat, elev, title='Elevação do topo rochoso', escala='Elevação (m)')"
   ]
  },
  {
   "cell_type": "markdown",
   "id": "resistant-fossil",
   "metadata": {},
   "source": [
    "Nesta demonstração será feita a correção Bouguer simples, onde a cada ponto de altitude atribui-se uma placa de densidade homogênea e horizontal, não sendo considerados os efeitos da esfericidade da Terra. Desta forma, a variação de densidade sobre os continentes corresponde à densidade das rochas acima do elipsóide. Porém, observe que nos oceanos não há massa rochosa para ser removida, porém há uma massa de água abaixo da superfície do elipsóide e que exerce um efeito gravitacional diferente da massa rochosa que existe abaixo deste *datum* nos continentes e é igualmente necessário compensá-la nos dados. Assim, em regiões oceânicas a variação de densidade para a correção Bouguer é dada por $\\Delta_{\\rho} = \\rho_r - \\rho_w$, em que $\\rho_w$ é a densidade da água. Nesta correção serão utilizados os valores de $\\rho_r$ = 2670 kg m$^3$ e $\\rho_w$ = 1040 kg m$^3$. A correção Bouguer é aplicada logo após o cálculo da anomalia ar-livre. Juntando-se todas as compensações feitas anteriormente, tem-se a anomalia Bouguer ($g_B$), dada por:\n",
    "\n",
    "$$g_{AL} = g_{medido} + C_{LAT} + C_{AL} + C_B = g_{medido} - \\gamma + 0.3086 * H - 2 * \\pi * G * \\Delta_{\\rho} * H$$\n",
    "\n",
    "em que $G$ = 6.67408 * 10$^{-11}$ m$^3$ kg$^{-1}$ s$^{-2}$ é a constante gravitacional.\n",
    "\n",
    "Execute a célula abaixo para executar esta correção."
   ]
  },
  {
   "cell_type": "code",
   "execution_count": null,
   "id": "powered-captain",
   "metadata": {},
   "outputs": [],
   "source": [
    "G = 6.67408e-11      # m^3 kg^-1 s^-2\n",
    "rho_r = 2670         # kg m^3\n",
    "rho_w = 1040         # kg m^3\n",
    "\n",
    "b_pos = np.zeros(np.shape(elev))\n",
    "b_neg = np.zeros(np.shape(elev))\n",
    "\n",
    "b_pos[elev>=0] = 2 * np.pi * G * rho_r * elev[elev>=0]\n",
    "b_neg[elev<0] = 2 * np.pi * G * (rho_r - rho_w) * elev[elev<0]\n",
    "corr_b = (b_pos + b_neg)     # m/s^2\n",
    "\n",
    "g_b = g_al - (corr_b*1e5)    # mGal"
   ]
  },
  {
   "cell_type": "markdown",
   "id": "faced-webster",
   "metadata": {},
   "source": [
    "e execute a célula abaixo para visualizar o mapa de anomalia Bouguer resultante deste procedimento:"
   ]
  },
  {
   "cell_type": "code",
   "execution_count": null,
   "id": "exterior-relation",
   "metadata": {},
   "outputs": [],
   "source": [
    "plota_mapa(lon, lat, g_b, title='Anomalia Bouguer', escala='g$_B$ (mGal)')"
   ]
  },
  {
   "cell_type": "markdown",
   "id": "silent-flood",
   "metadata": {},
   "source": [
    "# Outras regiões interessantes\n",
    "\n",
    "Utilize estas coordenadas, na ordem em que aparecem, na primeira célula do Passo 03. Coloque os valores entre colchetes e separados por vírgulas.\n",
    "\n",
    "\n",
    "|     Região      |  Lat$_{min}$  (º) |  Lat$_{max}$ (º) |  Long$_{min}$ (º) |  Long$_{max}$ (º) |\n",
    "|:---------------:|:---------------------------:|:-------------:|:----------------:|:----------------:|\n",
    "| América do Sul       | 15.0     |   -60.0  |  -90.0    |    -30.0   |\n",
    "| Andes (zoom)         | -10.0    |   -30.0  |  -80.0    |    -60.0   |\n",
    "| Himalaia             | 60.0     |    00.0  |   50.0    |     120.0  |\n",
    "| Dorsal Meso-Atlântica| 60.0     |   -60.0  |   -60.0   |     -5.0   |\n",
    "| Leste Asiático       | 70.0     |    10.0  |   120.0   |     170.0  |\n",
    "\n",
    "\n"
   ]
  },
  {
   "cell_type": "code",
   "execution_count": null,
   "id": "noted-distributor",
   "metadata": {},
   "outputs": [],
   "source": []
  }
 ],
 "metadata": {
  "kernelspec": {
   "display_name": "Python 3",
   "language": "python",
   "name": "python3"
  },
  "language_info": {
   "codemirror_mode": {
    "name": "ipython",
    "version": 3
   },
   "file_extension": ".py",
   "mimetype": "text/x-python",
   "name": "python",
   "nbconvert_exporter": "python",
   "pygments_lexer": "ipython3",
   "version": "3.8.5"
  }
 },
 "nbformat": 4,
 "nbformat_minor": 5
}
