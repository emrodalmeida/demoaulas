{
 "cells": [
  {
   "cell_type": "code",
   "execution_count": 1,
   "id": "express-basic",
   "metadata": {},
   "outputs": [],
   "source": [
    "%matplotlib inline\n",
    "import numpy as np\n",
    "import matplotlib.pyplot as plt\n",
    "import cartopy.crs as ccrs"
   ]
  },
  {
   "cell_type": "markdown",
   "id": "initial-vancouver",
   "metadata": {},
   "source": [
    "### calcular a aceleração pela formula de Somigliana"
   ]
  },
  {
   "cell_type": "code",
   "execution_count": 2,
   "id": "genetic-ballot",
   "metadata": {},
   "outputs": [],
   "source": [
    "a = 6378137.0\n",
    "b = 6356752.3142\n",
    "ga = 9.7803253359\n",
    "gb = 9.8321849378\n",
    "\n",
    "data = np.loadtxt('eigen-6c3stat-0_5-mundo.txt')\n",
    "\n",
    "numerador = a * ga * np.cos(np.pi*data[:,1]/180)**2 + b*gb*np.sin(np.pi*data[:,1]/180)**2\n",
    "denominador = np.sqrt(a**2 * (np.cos(np.pi*data[:,1]/180)**2) + b**2*(np.sin(np.pi*data[:,1]/180)**2))\n",
    "\n",
    "somig = numerador/denominador"
   ]
  },
  {
   "cell_type": "code",
   "execution_count": 3,
   "id": "czech-newark",
   "metadata": {},
   "outputs": [
    {
     "ename": "NameError",
     "evalue": "name 'lat' is not defined",
     "output_type": "error",
     "traceback": [
      "\u001b[1;31m---------------------------------------------------------------------------\u001b[0m",
      "\u001b[1;31mNameError\u001b[0m                                 Traceback (most recent call last)",
      "\u001b[1;32m<ipython-input-3-e4d7fdb6136f>\u001b[0m in \u001b[0;36m<module>\u001b[1;34m\u001b[0m\n\u001b[0;32m      1\u001b[0m \u001b[0mfig\u001b[0m\u001b[1;33m,\u001b[0m \u001b[0max\u001b[0m \u001b[1;33m=\u001b[0m \u001b[0mplt\u001b[0m\u001b[1;33m.\u001b[0m\u001b[0msubplots\u001b[0m\u001b[1;33m(\u001b[0m\u001b[0mfigsize\u001b[0m\u001b[1;33m=\u001b[0m\u001b[1;33m(\u001b[0m\u001b[1;36m10\u001b[0m\u001b[1;33m,\u001b[0m \u001b[1;36m5\u001b[0m\u001b[1;33m)\u001b[0m\u001b[1;33m)\u001b[0m\u001b[1;33m\u001b[0m\u001b[1;33m\u001b[0m\u001b[0m\n\u001b[1;32m----> 2\u001b[1;33m \u001b[0max\u001b[0m\u001b[1;33m.\u001b[0m\u001b[0mplot\u001b[0m\u001b[1;33m(\u001b[0m\u001b[0mlat\u001b[0m\u001b[1;33m,\u001b[0m \u001b[0msomig\u001b[0m\u001b[1;33m)\u001b[0m\u001b[1;33m\u001b[0m\u001b[1;33m\u001b[0m\u001b[0m\n\u001b[0m\u001b[0;32m      3\u001b[0m \u001b[0max\u001b[0m\u001b[1;33m.\u001b[0m\u001b[0mset_xlabel\u001b[0m\u001b[1;33m(\u001b[0m\u001b[1;34m'Latitude (º)'\u001b[0m\u001b[1;33m,\u001b[0m \u001b[0mfontsize\u001b[0m\u001b[1;33m=\u001b[0m\u001b[1;36m14\u001b[0m\u001b[1;33m)\u001b[0m\u001b[1;33m\u001b[0m\u001b[1;33m\u001b[0m\u001b[0m\n\u001b[0;32m      4\u001b[0m \u001b[0max\u001b[0m\u001b[1;33m.\u001b[0m\u001b[0mset_ylabel\u001b[0m\u001b[1;33m(\u001b[0m\u001b[1;34m'g (m/s$^2$)'\u001b[0m\u001b[1;33m,\u001b[0m \u001b[0mfontsize\u001b[0m\u001b[1;33m=\u001b[0m\u001b[1;36m14\u001b[0m\u001b[1;33m)\u001b[0m\u001b[1;33m\u001b[0m\u001b[1;33m\u001b[0m\u001b[0m\n\u001b[0;32m      5\u001b[0m \u001b[0max\u001b[0m\u001b[1;33m.\u001b[0m\u001b[0mset_title\u001b[0m\u001b[1;33m(\u001b[0m\u001b[1;34m'Aceleração da gravidade calculada pela fórmula de Somigliana'\u001b[0m\u001b[1;33m,\u001b[0m \u001b[0mfontsize\u001b[0m\u001b[1;33m=\u001b[0m\u001b[1;36m14\u001b[0m\u001b[1;33m)\u001b[0m\u001b[1;33m\u001b[0m\u001b[1;33m\u001b[0m\u001b[0m\n",
      "\u001b[1;31mNameError\u001b[0m: name 'lat' is not defined"
     ]
    },
    {
     "data": {
      "image/png": "[encoded data removed]",
      "text/plain": [
       "<Figure size 720x360 with 1 Axes>"
      ]
     },
     "metadata": {
      "needs_background": "light"
     },
     "output_type": "display_data"
    }
   ],
   "source": [
    "fig, ax = plt.subplots(figsize=(10, 5))\n",
    "ax.plot(lat, somig)\n",
    "ax.set_xlabel('Latitude (º)', fontsize=14)\n",
    "ax.set_ylabel('g (m/s$^2$)', fontsize=14)\n",
    "ax.set_title('Aceleração da gravidade calculada pela fórmula de Somigliana', fontsize=14)\n",
    "ax.set_xlim([-90, 90])\n",
    "ax.set_ylim([9.75, 9.85])\n",
    "ax.grid()\n",
    "plt.show()"
   ]
  },
  {
   "cell_type": "markdown",
   "id": "precise-edwards",
   "metadata": {},
   "source": [
    "**Explique o gráfico acima.** Quais fatores contribuem para este comportamento?"
   ]
  },
  {
   "cell_type": "markdown",
   "id": "bridal-mixer",
   "metadata": {},
   "source": [
    "# Mapa de Topografia"
   ]
  },
  {
   "cell_type": "code",
   "execution_count": null,
   "id": "opening-sellers",
   "metadata": {},
   "outputs": [],
   "source": [
    "# minha seleção - está funcionando e é mais rápido do que plotar tudo e selecionar a área depois\n",
    "data = np.loadtxt('eigen-6c3stat-0_5-mundo.txt')\n",
    "#area = [15.0, -60.0, -90.0, -30.0]      # [lat_min, lat_max, lon_min, lon_max]    América do Sul\n",
    "area = [-10.0, -30.0, -80.0, -60.0]    # [lat_min, lat_max, lon_min, lon_max]    América do Sul (zoom nos Andes)\n",
    "#area = [60.0, 10.0, 50.0, 120.0]       # [lat_min, lat_max, lon_min, lon_max]    Himalaia\n",
    "\n",
    "if area[2] < 0:\n",
    "    area[2] = 360 + area[2]\n",
    "if area[3] < 0:\n",
    "    area[3] = 360 + area[3]\n",
    "\n",
    "d_lat = 0.5\n",
    "d_lon = 0.5\n",
    "\n",
    "# seleciona latitudes\n",
    "lat1 = np.abs(data[:,1]-area[0]).argmin()\n",
    "lat2 = np.abs(data[:,1]-area[1] + d_lat).argmin()\n",
    "data2 = data[lat1:lat2, :]\n",
    "\n",
    "# seleciona longitudes\n",
    "lon_inds = np.where((data2[:,0] > area[2]) & (data2[:,0] < (area[3] + d_lon)))\n",
    "data3 = data2[lon_inds[0], :]\n",
    "\n",
    "# reorganiza as informações\n",
    "lon, lat, alt, gamma = data3[:,0], data3[:,1], data3[:,2], data3[:,3]\n",
    "alt2 = np.reshape(alt, [int(np.abs(area[1]-area[0])/d_lat)+1, int(np.abs(area[3]-area[2])/d_lon)])\n",
    "lon2 = lon[:int(np.abs(area[3]-area[2])/d_lon)]\n",
    "lat2 = np.reshape(lat, [int(np.abs(area[1]-area[0])/d_lat)+1, int(np.abs(area[3]-area[2])/d_lon)])[:, 1]\n",
    "\n",
    "# plota o mapa\n",
    "fig = plt.figure(figsize=(10,10))\n",
    "ax = plt.axes(projection=ccrs.PlateCarree())\n",
    "z = plt.contourf(lon2, lat2, alt2, 60, transform=ccrs.PlateCarree(), cmap='hot_r')\n",
    "plt.colorbar(z, ax=ax, label='Elevação (m)', shrink=0.5)\n",
    "\n",
    "ax.coastlines(resolution='50m')\n",
    "ax.gridlines(crs=ccrs.PlateCarree(), draw_labels=True)\n",
    "ax.set_title('Topografia', fontsize=14)\n",
    "\n",
    "plt.tight_layout()\n",
    "plt.show()"
   ]
  },
  {
   "cell_type": "code",
   "execution_count": null,
   "id": "encouraging-multimedia",
   "metadata": {},
   "outputs": [],
   "source": [
    "(somig[-1]*1e5)   # conversão para mGal"
   ]
  },
  {
   "cell_type": "code",
   "execution_count": null,
   "id": "bored-publisher",
   "metadata": {},
   "outputs": [],
   "source": [
    "gamma[-1]"
   ]
  },
  {
   "cell_type": "code",
   "execution_count": null,
   "id": "least-vampire",
   "metadata": {},
   "outputs": [],
   "source": []
  },
  {
   "cell_type": "code",
   "execution_count": null,
   "id": "derived-hunger",
   "metadata": {},
   "outputs": [],
   "source": []
  }
 ],
 "metadata": {
  "kernelspec": {
   "display_name": "Python 3",
   "language": "python",
   "name": "python3"
  },
  "language_info": {
   "codemirror_mode": {
    "name": "ipython",
    "version": 3
   },
   "file_extension": ".py",
   "mimetype": "text/x-python",
   "name": "python",
   "nbconvert_exporter": "python",
   "pygments_lexer": "ipython3",
   "version": "3.8.5"
  }
 },
 "nbformat": 4,
 "nbformat_minor": 5
}
