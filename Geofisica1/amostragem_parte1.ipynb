{
 "cells": [
  {
   "cell_type": "markdown",
   "id": "second-video",
   "metadata": {},
   "source": [
    "Notebook elaborado para apresentar uma breve introdução ao processamento de sinais.\n",
    "Criado para a disciplina Geofísica I da Universidade Federal de Uberlândia.\n",
    "O uso e a reprodução são livres para fins educacionais, pede-se apenas a citação da fonte.\n",
    "\n",
    "[![License: GPL v3](https://img.shields.io/badge/License-GPLv3-blue.svg)](https://www.gnu.org/licenses/gpl-3.0)\n",
    "\n",
    "Prof. Dr. Emerson Rodrigo Almeida<br>\n",
    "Universidade Federal de Uberlândia<br>\n",
    "Instituto de Geografia - Curso de Geologia<br>\n",
    "emerson.almeida@ufu.br<br>\n",
    "\n",
    "<p>&nbsp;</p>\n",
    "\n",
    "Última modificação: 25/02/2021\n",
    "\n",
    "\n",
    "---\n",
    "---\n",
    "\n",
    "# Instruções iniciais\n",
    "\n",
    "Neste notebook você irá aprender como a digitalização de um sinal analógico é feita corretamente a partir dos intervalos de amostragem. Leia atentamente as instruções apresentadas para acompanhar o processo corretamente.\n",
    "\n",
    "Não se preocupe em compreender o código em si, não é obrigatório que você conheça a programação para obter e interpretar os resultados da demonstração. Mesmo assim, sinta-se livre caso queira perguntar qualquer coisa para aprender mais sobre o código e sua elaboração.\n",
    "\n",
    "<p>&nbsp;</p>\n",
    "\n",
    "### Passo 01 - Preparação\n",
    "\n",
    "A célula abaixo contém as funções utilizadas nos cálculos e as funções utilizadas para gerar as figuras. Você pode executar o código na célula clicando sobre ela e em seguida clicando no botão **RUN** na barra do Jupyter Notebook ou pressionando as teclas **SHIFT+ENTER** no seu teclado.\n",
    "\n",
    "<p>&nbsp;</p>\n",
    "\n",
    "**Importante!** Nem todas as células irão retornar algum tipo de mensagem ou figura após a execução. Isto é normal e não significa que a execução tenha falhado. Perceba o símbolo **In [   ]:** próximo ao canto superior esquerdo de cada célula. Ao iniciar a execução de uma delas você verá um asterisco ($*$) aparecer dentro dos colchetes. Você saberá que a execução ocorreu sem problemas quando o $*$ dentro dos colchetes for substituído por um número e nenhuma mensagem de erro aparecer abaixo da célula executada. "
   ]
  },
  {
   "cell_type": "code",
   "execution_count": null,
   "id": "31baaad7-9f3d-4dab-8b91-5fb6a88be60d",
   "metadata": {},
   "outputs": [],
   "source": [
    "import modulos.amostragem1 as am"
   ]
  },
  {
   "cell_type": "raw",
   "id": "7d3fb94a-ac04-46d0-b02d-cdeb8c8a4111",
   "metadata": {
    "jupyter": {
     "source_hidden": true
    },
    "tags": []
   },
   "source": [
    "from scipy.interpolate import interp1d\n",
    "import numpy as np\n",
    "from matplotlib import pyplot as plt\n",
    "%matplotlib inline\n",
    "\n",
    "\n",
    "class sinal_monofreq():\n",
    "    \n",
    "    \"\"\"\n",
    "    Sinal composto por uma única frequência e caracterizado por uma função cosseno na forma \n",
    "    y(t) = A * cos(2 * pi * F * t)\n",
    "    \"\"\"\n",
    "    \n",
    "    def __init__(self, a, f, tw):\n",
    "        self.amplitude = a\n",
    "        self.frequencia = f\n",
    "        self.janela_tempo = tw\n",
    "        self.dt = tw/1000\n",
    "        \n",
    "        # eixo de tempo estendido, apenas para evitar artefatos nas extremidades das interpolações\n",
    "        self.tt_analogico = np.arange(-self.janela_tempo, (2*self.janela_tempo) + self.dt, self.dt)\n",
    "        \n",
    "        # Função de referência que caracteriza o sinal analógico na forma y(t) = A * cos(2 * pi * F * t).\n",
    "        # Pode ser amostrada em qualquer instante de tempo que se queira, de forma que esta é a melhor\n",
    "        # forma de representar um sinal contínuo para os objetivos desta demonstração.\n",
    "        self.funcao_cos = interp1d(self.tt_analogico, self.amplitude * \\\n",
    "                                   np.cos(2*np.pi*self.frequencia*self.tt_analogico), kind='linear')      \n",
    "        \n",
    "        # Gera uma aproximação do sinal analógico calculando as amplitudes da função cosseno com inervalo\n",
    "        # de amostragem curto o suficiente para que ela possa ser visualizada como um sinal analógico contínuo.\n",
    "        self.analogico = self.funcao_cos(self.tt_analogico)\n",
    "        \n",
    "        # Inicializa com valores nulos pois não foi feita a amostragem ainda\n",
    "        self.dt_amostrado = None\n",
    "        self.tt_amostrado = None\n",
    "        self.amostrado = None\n",
    "        \n",
    "        # O sinal recuperado usa o mesmo dt do sinal analógico original, mas aqui inicializa com valor nulo.\n",
    "        self.recuperado = None\n",
    "        self.tt_recuperado = None\n",
    "\n",
    "   \n",
    "    def amostragem(self, f_am):\n",
    "        \"\"\"\n",
    "        Faz a amostragem do sinal calculando as amplitudes da função cosseno de acordo com o intervalo\n",
    "        de amostragem definido.\n",
    "        \"\"\"\n",
    "        \n",
    "        t_min = self.tt_analogico[0]\n",
    "        t_max = self.tt_analogico[-1]\n",
    "        self.dt_amostrado = 1/f_am\n",
    "        self.tt_amostrado = np.arange(t_min, t_max, self.dt_amostrado)\n",
    "\n",
    "        # amostragem das amplitudes do sinal analógico\n",
    "        self.amostrado = self.funcao_cos(self.tt_amostrado)      \n",
    "\n",
    "\n",
    "    def recupera(self):\n",
    "        \"\"\"\n",
    "        Interpola as amplitudes que foram amostradas da função cosseno para demonstrar como seria o\n",
    "        comportamento real do sinal recuperado a partir destas amostras.\n",
    "        \"\"\"\n",
    "        \n",
    "        t_min = np.min(self.tt_amostrado)\n",
    "        t_max = np.max(self.tt_amostrado)\n",
    "        self.tt_recuperado = np.arange(t_min, t_max - self.dt, self.dt)\n",
    "        \n",
    "        funcao_recuperado = interp1d(self.tt_amostrado, self.amostrado, kind='cubic')\n",
    "        self.recuperado = funcao_recuperado(self.tt_recuperado)\n",
    "\n",
    "        \n",
    "# funções para as figuras\n",
    "\n",
    "def plota_amostragem(sinal, n_fig='X'):\n",
    "    \"\"\"\n",
    "    Plota as amplitudes amostradas em relação ao sinal analógico original\n",
    "    \"\"\"\n",
    "        \n",
    "    fig, ax = plt.subplots(figsize=(15,3))\n",
    "    ax.plot(sinal.tt_analogico, sinal.analogico, '-r', label='Sinal original')\n",
    "    ax.plot(sinal.tt_amostrado, sinal.amostrado, 'ob', label='Amplitudes amostradas')\n",
    "    ax.set_xlabel(\"Tempo (s)\", fontsize=14)\n",
    "    ax.set_ylabel(\"Amplitude (ua)\", fontsize=14)\n",
    "    ax.set_title(\"Figura \" + n_fig + \". Sinal amostrado a uma frequência de \" + \\\n",
    "                 str(1/sinal.dt_amostrado) + \" amostras por segundo\", fontsize=14)\n",
    "    ax.set_xlim([0, sinal.janela_tempo])\n",
    "    ax.set_ylim([np.min(sinal.analogico)*1.25, np.max(sinal.analogico)*1.25])\n",
    "    ax.grid()\n",
    "    ax.legend(loc='lower right', fontsize=12)\n",
    "\n",
    "    \n",
    "def plota_analogico(sinal, n_fig='X'):\n",
    "    \"\"\"\n",
    "    Plota a função cosseno calculada a intervalos de tempo pequenos o suficiente para que se possa \n",
    "    fazer uma representação do sinal analógico original.\n",
    "    \"\"\"\n",
    "    \n",
    "    fig, ax = plt.subplots(figsize=(15,3))\n",
    "    ax.plot(sinal.tt_analogico, sinal.analogico)\n",
    "    ax.set_xlabel(\"Tempo (s)\", fontsize=14)\n",
    "    ax.set_ylabel(\"Amplitude (ua)\", fontsize=14)\n",
    "    ax.set_title(\"Figura \" + n_fig + \". Representação do sinal analógico original\", fontsize=14)\n",
    "    ax.set_xlim([0, sinal.janela_tempo])\n",
    "    ax.set_ylim([np.min(sinal.analogico)*1.25, np.max(sinal.analogico)*1.25])\n",
    "    ax.grid()\n",
    "    \n",
    "    \n",
    "def plota_representacao(sinal, n_fig='X'):\n",
    "    \"\"\"\n",
    "    Plota a interpolação do sinal feita a partir das amostras obtidas do sinal analógico.\n",
    "    \"\"\"\n",
    "    \n",
    "    fig, ax = plt.subplots(figsize=(15,3))\n",
    "    ax.plot(sinal.tt_recuperado, sinal.recuperado, '--b', label='Sinal recuperado', linewidth=1)\n",
    "    ax.plot(sinal.tt_amostrado, sinal.amostrado, 'ob', label='Amplitudes amostradas')\n",
    "    ax.set_xlabel(\"Tempo (s)\", fontsize=14)\n",
    "    ax.set_ylabel(\"Amplitude (ua)\", fontsize=14)\n",
    "    ax.set_title(\"Figura \" + n_fig + \". Sinal recuperado da amostragem\", fontsize=14)\n",
    "    ax.set_xlim([0, sinal.janela_tempo])\n",
    "    ax.set_ylim([np.min(sinal.analogico)*1.25, np.max(sinal.analogico)*1.25])\n",
    "    ax.grid()\n",
    "    ax.legend(loc='lower right', fontsize=12)\n",
    "    \n",
    "    \n",
    "def plota_comparacao(sinal, n_fig='X'):\n",
    "    \"\"\"\n",
    "    Plota a interpolação do sinal feita a partir das amostras obtidas do sinal \n",
    "    analógico e a sobrepõe à representação do sinal analógico original.\n",
    "    \"\"\"\n",
    "    \n",
    "    fig, ax = plt.subplots(figsize=(15,3))\n",
    "    ax.plot(sinal.tt_analogico, sinal.analogico, '-r', label='Sinal original')\n",
    "    ax.plot(sinal.tt_recuperado, sinal.recuperado, '--b', label='Sinal recuperado')\n",
    "    ax.set_xlabel(\"Tempo (s)\", fontsize=14)\n",
    "    ax.set_ylabel(\"Amplitude (ua)\", fontsize=14)\n",
    "    ax.set_title(\"Figura \" + n_fig + \". Comparação entre o sinal original e o sinal\"\\\n",
    "                 \" recuperado da amostragem\", fontsize=14)\n",
    "    ax.set_xlim([0, sinal.janela_tempo])\n",
    "    ax.set_ylim([np.min(sinal.analogico)*1.25, np.max(sinal.analogico)*1.25])\n",
    "    ax.grid()\n",
    "    ax.legend(loc='lower right', fontsize=12)"
   ]
  },
  {
   "cell_type": "markdown",
   "id": "danish-gauge",
   "metadata": {},
   "source": [
    "### Passo 2 - Características do sinal analógico\n",
    "\n",
    "O sinal analógico usado nesta atividade será caracterizado por uma função cosseno de amplitude *A*, dada em unidades de amplitude (ua) e uma única frequência *F*, dada em Hertz (Hz). Vamos começar com a amplitude de 1.0 ua e a frequência de 1.0 Hz. Este sinal será representado dentro de um intervalo finito de tempo, que iremos chamar de *janela de tempo* ou *janela temporal*, de 20.0 s.\n",
    "\n",
    "A célula abaixo estabelece as configurações dos parâmetros do sinal analógico e apresenta graficamente este sinal"
   ]
  },
  {
   "cell_type": "code",
   "execution_count": null,
   "id": "understanding-laundry",
   "metadata": {},
   "outputs": [],
   "source": [
    "amplitude = 1.0                  # amplitude do sinal em unidades de amplitude\n",
    "frequencia = 1.0                 # frequência em Hertz\n",
    "janela_tempo = 10.0              # janela temporal em segundos\n",
    "\n",
    "meu_sinal = am.sinal_monofreq(amplitude, frequencia, janela_tempo)\n",
    "am.plota_analogico(meu_sinal, n_fig='1')"
   ]
  },
  {
   "cell_type": "markdown",
   "id": "dietary-lloyd",
   "metadata": {},
   "source": [
    "**Perguntas:** Este sinal corresponde ao que você esperava? As características de amplitude e frequência estão de acordo com os parâmetros configurados? Qual o período (em segundos) deste sinal?"
   ]
  },
  {
   "cell_type": "markdown",
   "id": "bibliographic-triangle",
   "metadata": {},
   "source": [
    "### Passo 03 - Amostragem\n",
    "\n",
    "Quando amostramos um sinal analógico estamos na verdade registrando a amplitude deste sinal em instantes de tempo específicos. Pense em um pêndulo oscilando. A distância entre a massa do pêndulo em relação ao seu ponto de repouso, i.e., a posição em que o pêndulo permanece quando não há oscilação, pode ser compreendida como a amplitude do nosso sinal. Quando o pêndulo está em oscilação nossos olhos observam um movimento contínuo e suave. Obter uma amostra do movimento do pêndulo equivale a bater uma foto sua. Será uma representação da amplitude do movimento em um instante de tempo específico. Assim, se batermos fotos em diferentes instantes de tempo e agruparmos todas em sequência teremos uma amostragem do movimento do pêndulo. Sistemas dedicados podem então reproduzir o movimento do pêndulo de forma fiel.\n",
    "\n",
    "No entanto, a amostragem não pode ser feita de qualquer maneira. Se ela não for feita adequadamente, o sinal - ou o movimento do pêndulo - não será representado com fidelidade. Primeiramente, é necessário que as amostras sejam coletadas em instantes de tempo separados entre si por intervalos de tempo ($\\Delta t$) regulares. Em seguida, deve-se obedecer ao critério estabelecido pela **Teoria da amostragem de Shannon**, que estabelece que a frequência de amostragem ($f_{am}$) deve ser maior ou igual a duas vezes a frequência ($f$) a ser amostrada, i.e.,:\n",
    "\n",
    "$$f_{am} \\geq 2*f$$\n",
    "\n",
    "A frequência de amostragem correponde ao número de amostras obtidas por unidade de tempo. O intervalo de tempo entre cada amostra é então dado pelo intervalo de amostragem ($\\Delta t_{am}$), que é o inverso da frequência de amostragem:\n",
    "\n",
    "$$\\Delta t_{am} = \\frac{1}{f_{am}}$$\n",
    "\n",
    "\n",
    "Assim, pelo Teorema da Amostragem, temos a definição do critério para garantir a amostragem correta do sinal:\n",
    "\n",
    "$$\\Delta t_{am} = \\frac{1}{f_{am}} = \\frac{1}{2 * f}$$\n",
    "\n",
    "A execução da célula abaixo permite definir esta frequência de amostragem para o sinal analógico visualizar as amplitudes que foram amostradas (pontos azuis) no nosso sinal analógico (linha vermelha):"
   ]
  },
  {
   "cell_type": "code",
   "execution_count": null,
   "id": "thousand-bacteria",
   "metadata": {},
   "outputs": [],
   "source": [
    "f_amostragem = 1.0 * frequencia          # frequência de amostragem\n",
    "\n",
    "meu_sinal.amostragem(f_amostragem)\n",
    "am.plota_amostragem(meu_sinal, n_fig='2')"
   ]
  },
  {
   "cell_type": "markdown",
   "id": "beneficial-exercise",
   "metadata": {},
   "source": [
    "**Pergunta:** Qual o intervalo de amostragem utilizado?"
   ]
  },
  {
   "cell_type": "markdown",
   "id": "nasty-aside",
   "metadata": {},
   "source": [
    "### Passo 04 - Recuperação do sinal\n",
    "\n",
    "Quando o sinal é amostrado corretamente é possível recuperá-lo através de sistemas dedicados, que fogem ao escopo desta demonstração. Aqui a recuperação do sinal será exemplificada através de uma simples interpolação.\n",
    "\n",
    "Quando registramos as amostras de um sinal, as informações sobre a amplitude do sinal e sobre os intantes de tempo em que estas amplitudes foram medidas são tudo o que temos para trabalhar. Não há informação alguma sobre o comportamento do sinal, que pode ser uma função cosseno, uma função seno, uma sobreposição de ambas, ou qualquer outra coisa. Desta forma, vamos pegar as amostras que visualizamos na Figura 2 e interpolar um novo sinal a partir delas executando a célula abaixo:"
   ]
  },
  {
   "cell_type": "code",
   "execution_count": null,
   "id": "faced-package",
   "metadata": {},
   "outputs": [],
   "source": [
    "meu_sinal.recupera()\n",
    "am.plota_representacao(meu_sinal, n_fig='3')"
   ]
  },
  {
   "cell_type": "markdown",
   "id": "minimal-incident",
   "metadata": {},
   "source": [
    "Assim como um software de análise de dados geofísicos não tem ideia sobre o comportamento do sinal verdadeiro, não há qulquer informação pré-determinada sobre as características do sinal original na interpolação realizada nesta demonstração. Perceba que, ainda assim, é possível recuperar um sinal com as características de uma função cosseno. Mas será que o sinal recuperado é fiel ao sinal original?\n",
    "\n",
    "Execute a célula abaixo para visualizar uma compraração entre o sinal recuperado (em azul) e o sinal original (em vermelho)."
   ]
  },
  {
   "cell_type": "code",
   "execution_count": null,
   "id": "compliant-fifth",
   "metadata": {},
   "outputs": [],
   "source": [
    "am.plota_comparacao(meu_sinal, n_fig='4')"
   ]
  },
  {
   "cell_type": "markdown",
   "id": "induced-perfume",
   "metadata": {},
   "source": [
    "**Pergunta:** Você considera que a recuperação foi bem feita? Qual a frequência do sinal original? Qual a frequência do sinal recuperado? "
   ]
  }
 ],
 "metadata": {
  "kernelspec": {
   "display_name": "Python 3 (ipykernel)",
   "language": "python",
   "name": "python3"
  },
  "language_info": {
   "codemirror_mode": {
    "name": "ipython",
    "version": 3
   },
   "file_extension": ".py",
   "mimetype": "text/x-python",
   "name": "python",
   "nbconvert_exporter": "python",
   "pygments_lexer": "ipython3",
   "version": "3.8.0"
  }
 },
 "nbformat": 4,
 "nbformat_minor": 5
}
