{
 "cells": [
  {
   "cell_type": "code",
   "execution_count": null,
   "id": "dominant-peripheral",
   "metadata": {},
   "outputs": [],
   "source": [
    "\"\"\"\n",
    "Notebook utilizado para apresentar uma introdução à teoria da amostragem de sinais.\n",
    "Criado para a disciplina Geofísica I da Universidade Federal de Uberlândia.\n",
    "\n",
    "Protegido por licença GPL v3.0. O uso e a reprodução são livres para fins educacionais\n",
    "desde que citada a fonte.\n",
    "\n",
    "Prof. Dr. Emerson Rodrigo Almeida\n",
    "emerson.almeida@ufu.br\n",
    "\n",
    "Última modificação: 02/02/2021\n",
    "\"\"\""
   ]
  },
  {
   "cell_type": "markdown",
   "id": "institutional-somerset",
   "metadata": {},
   "source": [
    "# Instruções iniciais\n",
    "\n",
    "Neste notebook você irá aprender como a digitalização de um sinal analógico é feita corretamente a partir dos intervalos de amostragem. Para isto leia atentamente as instruções apresentadas antes de cada célula e execute-as uma a uma, para acompanhar o processo corretamente.\n",
    "\n",
    "Não se preocupe em compreender o código em si, não é obrigatório que você conheça a programação para obter e interpretar os resultados da demonstração. Mesmo assim, sinta-se livre caso queira perguntar qualquer coisa para aprender mais sobre o código e sua elaboração."
   ]
  },
  {
   "cell_type": "markdown",
   "id": "organizational-contribution",
   "metadata": {},
   "source": [
    "### Passo 01 - Preparação\n",
    "\n",
    "Primeiramente vamos preparar o notebook com os módulos e funções que precisaremos no decorrer da demonstração. A célula abaixo contém as funções utilizadas nos cálculos e as funções utilizadas para gerar as figuras. Execute-a uma vez antes de executar qualquer outra parte do código e **não altere nada no código apresentado na célula**. Você pode executar o código na célula clicando no botão RUN na barra do Jupyter Notebook ou pressionando as teclas SHIFT+ENTER no seu teclado."
   ]
  },
  {
   "cell_type": "code",
   "execution_count": null,
   "id": "configured-worthy",
   "metadata": {},
   "outputs": [],
   "source": [
    "from scipy.interpolate import interp1d\n",
    "import numpy as np\n",
    "from matplotlib import pyplot as plt\n",
    "%matplotlib inline\n",
    "\n",
    "\n",
    "# funções para os cálculos\n",
    "\n",
    "def gera_funcao_ref(a, f, t_max):\n",
    "    \"\"\"\n",
    "    Gera uma função cosseno de amplitude A e frequência F na forma y(t) = A * cos(2 * pi * F * t), que será o sinal\n",
    "    analógico de referência. Esta função pode ser amostrada em qualquer instante de tempo que se queira, de forma \n",
    "    que esta é a melhor forma de representar um sinal contínuo para os objetivos desta demonstração.\n",
    "    \"\"\"\n",
    "\n",
    "    dt = t_max/1000\n",
    "    tt = np.arange(-t_max, (2*t_max) + dt, dt)                        # eixo de tempo estendido\n",
    "    \n",
    "    return interp1d(tt, a * np.cos(2*np.pi*f*tt), kind='linear')      # função que caracteriza o sinal analógico\n",
    "    \n",
    "\n",
    "def gera_sinal_analogico(t_max, f_sinal):\n",
    "    \"\"\"\n",
    "    Gera a representação do sinal analógico. O que faz na verdade é calcular as amplitudes da função cosseno com inervalo\n",
    "    de amostragem curto o suficiente para que ela possa ser visualizada como um sinal analógico contínuo.\n",
    "    \"\"\"\n",
    "    \n",
    "    dt = t_max/1000\n",
    "    tt = np.arange(-t_max, (2*t_max) + dt, dt)\n",
    "\n",
    "    return f_sinal(tt), tt\n",
    "    \n",
    "    \n",
    "def amostra_sinal(t_max, dt, f_sinal):\n",
    "    \"\"\"\n",
    "    Faz a amostragem do sinal calculando as amplitudes da função cosseno de acordo com o intervalo\n",
    "    de amostragem definido.\n",
    "    \"\"\"\n",
    "    \n",
    "    t_amostrado = np.arange(-t_max, t_max*2, dt)\n",
    "    sinal_amostrado = f_sinal(t_amostrado)      # representação aproximada do sinal \"analógico\"\n",
    "    \n",
    "    return sinal_amostrado, t_amostrado\n",
    "\n",
    "\n",
    "def recupera_sinal(t_in, s_in):\n",
    "    \"\"\"\n",
    "    Interpola as amplitudes que foram amostradas da função cosseno para demonstrar como seria o\n",
    "    comportamento real do sinal recuperado a partir destas amostras.\n",
    "    \"\"\"\n",
    "    \n",
    "    s_out = interp1d(t_in, s_in, kind='cubic')\n",
    "    \n",
    "    t_max = np.max(t_in)\n",
    "    dt = t_max/1000\n",
    "    tt = np.arange(-t_max, (2*t_max) + dt, dt)\n",
    "    i1 = np.abs(tt - t_in[0]).argmin()\n",
    "    i2 = np.abs(tt - t_in[-1]).argmin()\n",
    "\n",
    "    return s_out(tt[i1+1:i2]), tt[i1+1:i2]\n",
    "    \n",
    "\n",
    "# funções de figuras\n",
    "\n",
    "def plota_amostragem(tt1, s1, tt2, s2, t_w, titulo):\n",
    "    \"\"\"\n",
    "    Plota as amplitudes amostradas em relação ao sinal analógico original\n",
    "    \"\"\"\n",
    "        \n",
    "    fig, ax = plt.subplots(figsize=(15,3))\n",
    "    ax.plot(tt1, s1, '-r', label='Sinal original')\n",
    "    ax.plot(tt2, s2, 'ob', label='Amplitudes amostradas')\n",
    "    ax.set_xlabel(\"Tempo (s)\", fontsize=14)\n",
    "    ax.set_ylabel(\"Amplitude (ua)\", fontsize=14)\n",
    "    ax.set_title(titulo, fontsize=14)\n",
    "    ax.set_xlim([0, t_w])\n",
    "    ax.grid()\n",
    "    ax.legend(loc='lower right', fontsize=12)\n",
    "\n",
    "    \n",
    "def plota_sinal(tt, a, t_w, titulo):\n",
    "    \"\"\"\n",
    "    Plota a função cosseno calculada a intervalos de tempo pequenos o suficiente para que se possa \n",
    "    fazer uma representação do sinal analógico original.\n",
    "    \"\"\"\n",
    "    \n",
    "    fig, ax = plt.subplots(figsize=(15,3))\n",
    "    ax.plot(tt, a)\n",
    "    ax.set_xlabel(\"Tempo (s)\", fontsize=14)\n",
    "    ax.set_ylabel(\"Amplitude (ua)\", fontsize=14)\n",
    "    ax.set_title(titulo, fontsize=14)\n",
    "    ax.set_xlim([0, t_w])\n",
    "    ax.grid()\n",
    "    \n",
    "    \n",
    "def plota_representacao(tt_am, s_am, tt_rec, s_rec, t_w, titulo):\n",
    "    \"\"\"\n",
    "    Plota a interpolação do sinal feita a partir das amostras obtidas do sinal analógico.\n",
    "    \"\"\"\n",
    "    \n",
    "    fig, ax = plt.subplots(figsize=(15,3))\n",
    "    ax.plot(tt_rec, s_rec, '--b', label='Sinal recuperado', linewidth=1)\n",
    "    ax.plot(tt_am, s_am, 'ob', label='Amplitudes amostradas')\n",
    "    ax.set_xlabel(\"Tempo (s)\", fontsize=14)\n",
    "    ax.set_ylabel(\"Amplitude (ua)\", fontsize=14)\n",
    "    ax.set_title(titulo, fontsize=14)\n",
    "    ax.set_xlim([0, t_w])\n",
    "    ax.grid()\n",
    "    ax.legend(loc='lower right', fontsize=12)\n",
    "    \n",
    "    \n",
    "def plota_comparacao(tt1, s1, tt2, s2, t_w, titulo):\n",
    "    \"\"\"\n",
    "    Plota a interpolação do sinal feita a partir das amostras obtidas do sinal analógico e a sobrepõe à \n",
    "    representação do sinal analógico original.\n",
    "    \"\"\"\n",
    "    \n",
    "    fig, ax = plt.subplots(figsize=(15,3))\n",
    "    ax.plot(tt1, s1, '-r', label='Sinal original')\n",
    "    ax.plot(tt2, s2, '--b', label='Sinal recuperado')\n",
    "    ax.set_xlabel(\"Tempo (s)\", fontsize=14)\n",
    "    ax.set_ylabel(\"Amplitude (ua)\", fontsize=14)\n",
    "    ax.set_title(titulo, fontsize=14)\n",
    "    ax.set_xlim([0, t_w])\n",
    "    ax.grid()\n",
    "    ax.legend(loc='lower right', fontsize=12)"
   ]
  },
  {
   "cell_type": "markdown",
   "id": "danish-gauge",
   "metadata": {},
   "source": [
    "### Passo 2 - Características do sinal analógico\n",
    "\n",
    "Aqui iremos configurar as características que queremos no nosso sinal analógico. Nosso sinal analógico será caracterizado por uma função cosseno de amplitude *A*, dada em unidades de amplitude (ua) e uma única frequência *F*, dada em Hertz (Hz). Vamos começar com a amplitude de 1.0 ua e a frequência de 1.0 Hz. Este sinal será representado dentro de um intervalo finito de tempo, que iremos chamar de *janela de tempo* ou *janela temporal*, dada em segundos (s). Nossa janela temporal será inicialmente 20.0 s.\n",
    "\n",
    "Execute a célula abaixo para estabelecer as configurações dos parâmetros do sinal analógico. Não altere nada por enquanto."
   ]
  },
  {
   "cell_type": "code",
   "execution_count": null,
   "id": "understanding-laundry",
   "metadata": {},
   "outputs": [],
   "source": [
    "amplitude = 1.0                  # amplitude do sinal em unidades de amplitude\n",
    "frequencia = 1.0                 # frequência em Hertz\n",
    "janela_tempo = 10.0              # janela temporal em segundos"
   ]
  },
  {
   "cell_type": "markdown",
   "id": "honest-clearing",
   "metadata": {},
   "source": [
    "Agora vamos gerar o sinal analógico propriamente dito. Entretanto, temos uma limitação aqui. O computador trabalha apenas com informações discretas, i.e., é preciso ter valores específicos de tempo e amplitude para plotar corretamente a figura, e isto por si só já caracteriza uma espécie de digitalização. Iremos contornar esta limitação criando nosso sinal analógico a partir de uma função cosseno definida matematicamente. Isto permite que possamos obter valores de amplitude em qualquer instante de tempo que queiramos, já que a função cosseno é uma função contínua. \n",
    "\n",
    "Execute a célula abaixo para obter a expressão matemática que representará nosso sinal analógico."
   ]
  },
  {
   "cell_type": "code",
   "execution_count": null,
   "id": "systematic-senegal",
   "metadata": {},
   "outputs": [],
   "source": [
    "funcao_sinal = gera_funcao_ref(amplitude, frequencia, janela_tempo)"
   ]
  },
  {
   "cell_type": "markdown",
   "id": "authorized-chick",
   "metadata": {},
   "source": [
    "Está achando tudo muito abstrato até aqui? Não se desespere, pois agora vamos gerar uma representação visual do sinal analógico. O que fazemos aqui é avaliar a nossa função cosseno em pontos que estão tão próximos entre si que podem ser interpolados sem prejuízo para a representação da sua continuidade.\n",
    "\n",
    "Execute a célula abaixo para visualizar o sinal analógico."
   ]
  },
  {
   "cell_type": "code",
   "execution_count": null,
   "id": "exciting-ivory",
   "metadata": {},
   "outputs": [],
   "source": [
    "sinal_analogico, t_analogico = gera_sinal_analogico(janela_tempo, funcao_sinal)\n",
    "plota_sinal(t_analogico, sinal_analogico, janela_tempo, \"Figura 1. Representação do sinal analógico original\")"
   ]
  },
  {
   "cell_type": "markdown",
   "id": "dietary-lloyd",
   "metadata": {},
   "source": [
    "**Perguntas:** Este sinal corresponde ao que você esperava? As características de amplitude e frequência estão de acordo com os parâmetros configurados? Qual o período (em segundos) deste sinal?"
   ]
  },
  {
   "cell_type": "markdown",
   "id": "bibliographic-triangle",
   "metadata": {},
   "source": [
    "### Passo 03 - Amostragem\n",
    "\n",
    "Quando amostramos um sinal analógico estamos na verdade registrando a amplitude deste sinal em instantes de tempo específicos. Pense em um pêndulo oscilando. A distância entre a massa do pêndulo em relação ao seu ponto de repouso, i.e., a posição em que o pêndulo permanece quando não há oscilação, pode ser compreendida como a amplitude do nosso sinal. Quando o pêndulo está em oscilação nossos olhos observam um movimento contínuo e suave. Obter uma amostra do movimento do pêndulo equivale a bater uma foto sua. Será uma representação da amplitude do movimento em um instante de tempo específico. Assim, se batermos fotos em diferentes instantes de tempo e agruparmos todas em sequência teremos uma amostragem do movimento do pêndulo. Sistemas dedicados podem então reproduzir o movimento do pêndulo de forma fiel.\n",
    "\n",
    "No entanto, a amostragem não pode ser feita de qualquer maneira. Se ela não for feita adequadamente, o sinal - ou o movimento do pêndulo - não será representado com fidelidade. Primeiramente, é necessário que as amostras sejam coletadas em instantes de tempo separados entre si por intervalos de tempo ($\\Delta t$) regulares. Em seguida, deve-se obedecer ao critério estabelecido pela **Teoria da amostragem de Shannon**, que estabelece que a frequência de amostragem ($f_{am}$) deve ser maior ou igual a duas vezes a frequência ($f$) a ser amostrada, i.e.,:\n",
    "\n",
    "$$f_{am} \\geq 2*f$$\n",
    "\n",
    "A frequência de amostragem correponde ao número de amostras obtidas por unidade de tempo. O intervalo de tempo entre cada amostra é então dado pelo intervalo de amostragem ($\\Delta t_{am}$), que é o inverso da frequência de amostragem:\n",
    "\n",
    "$$\\Delta t_{am} = \\frac{1}{f_{am}}$$\n",
    "\n",
    "\n",
    "Assim, pelo Teorema da Amostragem, temos a definição do critério para garantir a amostragem correta do sinal:\n",
    "\n",
    "$$\\Delta t_{am} = \\frac{1}{f_{am}} = \\frac{1}{2 * f}$$\n",
    "\n",
    "Vamos então definir esta frequência de amostragem para nosso sinal executando a célula abaixo:"
   ]
  },
  {
   "cell_type": "code",
   "execution_count": null,
   "id": "thousand-bacteria",
   "metadata": {},
   "outputs": [],
   "source": [
    "f_am = 2 * frequencia          # frequência de amostragem"
   ]
  },
  {
   "cell_type": "markdown",
   "id": "invalid-generation",
   "metadata": {},
   "source": [
    "e, em seguida, executando a célula abaixo para visualizar as amplitudes que foram amostradas (pontos azuis) no nosso sinal analógico (linha vermelha):"
   ]
  },
  {
   "cell_type": "code",
   "execution_count": null,
   "id": "equipped-experiment",
   "metadata": {
    "scrolled": true
   },
   "outputs": [],
   "source": [
    "sinal_amostrado, t_amostrado = amostra_sinal(janela_tempo, 1/f_am, funcao_sinal)\n",
    "plota_amostragem(t_analogico, sinal_analogico, t_amostrado, sinal_amostrado, janela_tempo, \\\n",
    "                 \"Figura 2. Sinal amostrado a uma frequência de \" + str(f_am) + \" amostras por segundo\")"
   ]
  },
  {
   "cell_type": "markdown",
   "id": "beneficial-exercise",
   "metadata": {},
   "source": [
    "**Pergunta:** Qual o intervalo de amostragem utilizado?"
   ]
  },
  {
   "cell_type": "markdown",
   "id": "nasty-aside",
   "metadata": {},
   "source": [
    "### Passo 04 - Recuperação do sinal\n",
    "\n",
    "Quando o sinal é amostrado corretamente é possível recuperá-lo através de sistemas dedicados, que fogem ao escopo desta demonstração. Aqui exemplificaremos a recuperação do sinal através de uma simples interpolação.\n",
    "\n",
    "Quando registramos as amostras de um sinal, as informações sobre a amplitude do sinal e sobre os intantes de tempo em que estas amplitudes foram medidas são tudo o que temos para trabalhar. Não há informação alguma sobre o comportamento do sinal, que pode ser uma função cosseno, uma função seno, uma sobreposição de ambas, ou qualquer outra coisa. Desta forma, vamos pegar as amostras que visualizamos na Figura 2 e interpolar um novo sinal a partir delas executando a célula abaixo:"
   ]
  },
  {
   "cell_type": "code",
   "execution_count": null,
   "id": "faced-package",
   "metadata": {},
   "outputs": [],
   "source": [
    "sinal_rec, t_rec = recupera_sinal(t_amostrado, sinal_amostrado)\n",
    "plota_representacao(t_amostrado, sinal_amostrado, t_rec, sinal_rec, janela_tempo, \"Figura 3. Sinal recuperado da amostragem\")"
   ]
  },
  {
   "cell_type": "markdown",
   "id": "minimal-incident",
   "metadata": {},
   "source": [
    "Assim como um software de análise de dados geofísicos não tem ideia sobre o comportamento do sinal verdadeiro, não há qulquer informação pré-determinada sobre as características do sinal original na interpolação realizada nesta demonstração. Perceba que, ainda assim, é possível recuperar um sinal com as características de uma função cosseno. Mas será que o sinal recuperado é fiel ao sinal original?\n",
    "\n",
    "Execute a célula abaixo para visualizar uma compraração entre o sinal recuperado (em azul) e o sinal original (em vermelho)."
   ]
  },
  {
   "cell_type": "code",
   "execution_count": null,
   "id": "compliant-fifth",
   "metadata": {},
   "outputs": [],
   "source": [
    "plota_comparacao(t_analogico, sinal_analogico, t_rec, sinal_rec, janela_tempo, \\\n",
    "                 \"Figura 4. Comparação entre o sinal original e o sinal recuperado da amostragem\")"
   ]
  },
  {
   "cell_type": "markdown",
   "id": "induced-perfume",
   "metadata": {},
   "source": [
    "**Pergunta:** Você considera que a recuperação foi bem feita? Qual a frequência do sinal original? Qual a frequência do sinal recuperado? "
   ]
  },
  {
   "cell_type": "markdown",
   "id": "human-printer",
   "metadata": {},
   "source": [
    "# Exercícios\n",
    "\n",
    "**1 -** Volte à célula em que você definiu as características do sinal analógico, no início doo Passo 02. Modifique os parâmetros de amplitude e frequência do sinal e verifique qual é o intervalo de amostragem ideal para representar o sinal. Defina os intervalos de amostragem para sinais de 2 Hz, 0.5 Hz, 14 kHz. Ajuste a janela temporal conforme necessário para visualizar corretamente o sinal.\n",
    "\n",
    "**2 -** Volte agora à primeira célula do Passo 03 e Modifique a frequência de amostragem alterando o número correspondente ao fator que multiplica a frequência do sinal. Utilizando um sinal de frequência 14 kHz verifique como a frequência de amostragem afeta o sinal recuperado. O que acontece quando você utiliza uma frequência de amostragem igual à frequência do sinal? E quando a frequência de amostragem é igual a 3/4 da frequência do sinal? E quando a frequência de amostragem é igual a 4 vezes a frequência do sinal?\n",
    "\n",
    "**Observações: a)** Modifique apenas os números. Não modifique os nomes das variáveis, ou o código poderá haver problemas na execução do código. **b)** Utilize números com ponto decimal. **c)** Após modificar os parâmetros do sinal analógico na célula correspondente será necessário executá-la e executar as células seguintes novamente, uma a uma e em ordem, para que as figuras sejam geradas corretamente. **d)** Caso tenha qualquer problema com a execução do código experimente clicar em \"Kernel > Restart & Clear Output\" na barra acima. Se o problema persistir entre em contato comigo reportando o problema em detalhes."
   ]
  }
 ],
 "metadata": {
  "kernelspec": {
   "display_name": "Python 3",
   "language": "python",
   "name": "python3"
  },
  "language_info": {
   "codemirror_mode": {
    "name": "ipython",
    "version": 3
   },
   "file_extension": ".py",
   "mimetype": "text/x-python",
   "name": "python",
   "nbconvert_exporter": "python",
   "pygments_lexer": "ipython3",
   "version": "3.8.5"
  }
 },
 "nbformat": 4,
 "nbformat_minor": 5
}
