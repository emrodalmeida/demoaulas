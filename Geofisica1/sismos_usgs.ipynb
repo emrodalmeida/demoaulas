{
 "cells": [
  {
   "cell_type": "markdown",
   "id": "distant-medicine",
   "metadata": {},
   "source": [
    "Notebook elaborado para apresentar de sismicidade global.\n",
    "Criado para a disciplina Geofísica I da Universidade Federal de Uberlândia.\n",
    "O uso e a reprodução são livres para fins educacionais, pede-se apenas a citação da fonte.\n",
    "\n",
    "[![License: GPL v3](https://img.shields.io/badge/License-GPLv3-blue.svg)](https://www.gnu.org/licenses/gpl-3.0)\n",
    "\n",
    "Os dados utilizados nesta demonstração foram obtidos através do catálogo de eventos do [Serviço Geológico dos Estados Unidos (USGS)](https://earthquake.usgs.gov/earthquakes/search/)\n",
    "\n",
    "Prof. Dr. Emerson Rodrigo Almeida<br>\n",
    "Universidade Federal de Uberlândia<br>\n",
    "Instituto de Geografia - Curso de Geologia<br>\n",
    "emerson.almeida@ufu.br<br>\n",
    "\n",
    "\n",
    "\n",
    "<p>&nbsp;</p>\n",
    "Última modificação: 11/05/2021"
   ]
  },
  {
   "cell_type": "markdown",
   "id": "compatible-december",
   "metadata": {},
   "source": [
    "# Instruções iniciais\n",
    "\n",
    "Neste notebook você irá observar uma série de eventos sísmicos ocorridos ao redor do mundo nos últimos 50 anos. Apenas os eventos com magnitude acima de 5.0 serão mostrados, para facilitar a visualização das imagens. Leia atentamente as instruções apresentadas antes de cada célula e execute-as uma a uma, para acompanhar o processo corretamente.\n",
    "\n",
    "Não se preocupe em compreender o código em si, não é obrigatório que você conheça a programação para obter e interpretar os resultados da demonstração. Mesmo assim, sinta-se livre caso queira perguntar qualquer coisa para aprender mais sobre o código e sua elaboração.\n",
    "\n",
    "<p>&nbsp;</p>\n",
    "\n",
    "### Passo 01 - Preparação\n",
    "\n",
    "Primeiramente vamos preparar o notebook com os módulos e funções que precisaremos no decorrer da demonstração. A célula abaixo contém as funções utilizadas nos cálculos e as funções utilizadas para gerar as figuras. Execute-a uma vez antes de executar qualquer outra parte do código e **não altere nada no código apresentado na célula** para não criar problemas na execução do código.\n",
    "\n",
    "Você pode executar o código na célula clicando sobre ela e em seguida clicando no botão **RUN** na barra do Jupyter Notebook ou pressionando as teclas **SHIFT+ENTER** no seu teclado.\n",
    "\n",
    "<p>&nbsp;</p>\n",
    "\n",
    "**Importante!** Nem todas as células irão retornar algum tipo de mensagem ou figura após a execução. Isto é normal e não significa que a execução tenha falhado. Perceba o símbolo **In [   ]:** próximo ao canto superior esquerdo de cada célula. Ao iniciar a execução de uma delas você verá um asterisco ($*$) aparecer dentro dos colchetes. Você saberá que a execução ocorreu sem problemas quando o $*$ dentro dos colchetes for substituído por um número e nenhuma mensagem de erro aparecer abaixo da célula executada. "
   ]
  },
  {
   "cell_type": "code",
   "execution_count": null,
   "id": "basic-injection",
   "metadata": {},
   "outputs": [],
   "source": [
    "# imports e funções\n",
    "\n",
    "%matplotlib inline\n",
    "\n",
    "import pandas as pd\n",
    "import numpy as np\n",
    "import matplotlib.pyplot as plt\n",
    "import cartopy.crs as ccrs\n",
    "import cartopy.feature as feature\n",
    "from copy import deepcopy as dc\n",
    "\n",
    "\n",
    "class catalogo():\n",
    "    \n",
    "    def __init__(self, fname):\n",
    "        self.arquivo = fname\n",
    "        self.todos = pd.read_csv(fname, sep='\\t', decimal=\".\")\n",
    "\n",
    "        self.magnitudes = {'5.0 a 5.9': self.todos.loc[(self.todos['mag'] >=5.0) & (self.todos['mag'] < 6.0)],\n",
    "                           '6.0 a 6.9': self.todos.loc[(self.todos['mag'] >=6.0) & (self.todos['mag'] < 7.0)],\n",
    "                           '7.0 a 7.9': self.todos.loc[(self.todos['mag'] >=7.0) & (self.todos['mag'] < 8.0)],\n",
    "                           '8.0 a 8.9': self.todos.loc[(self.todos['mag'] >=8.0) & (self.todos['mag'] < 9.0)],\n",
    "                           '9.0 +': self.todos.loc[(self.todos['mag'] >=9.0)]}\n",
    "        \n",
    "        self.hipocentros = {'0.0 a 40.0': self.todos.loc[(self.todos['depth'] <=40)],\n",
    "                            '40.0 a 100.0': self.todos.loc[(self.todos['depth'] > 40.0) & (self.todos['depth'] <= 100.0)],\n",
    "                            '100.0 a 400.0': self.todos.loc[(self.todos['depth'] > 100.0) & (self.todos['depth'] <= 400.0)],\n",
    "                            '400.0 a 700.0':self.todos.loc[(self.todos['depth'] > 400.0) & (self.todos['depth'] <= 700.0)]}\n",
    "\n",
    "        \n",
    "    def plota_epicentros(self, coords=None, area=None, dpi=96, res=[1280, 1024]):\n",
    "        \n",
    "        \"\"\"\n",
    "        coords = [lon_min, lon_max, lat_min, lat_max]\n",
    "        \n",
    "        area = [lon_min_box, lon_max_box, lat_min_box, lat_max_box]\n",
    "        \"\"\"\n",
    "        \n",
    "        \n",
    "        paleta = ['black', 'blue', 'lightgreen', 'red', 'yellow']\n",
    "        contornos = ['none', 'none', 'black', 'black', 'black']\n",
    "        legenda = [r'$5.0 \\leq M < 6.0$', r'$6.0 \\leq M < 7.0$', r'$7.0 \\leq M < 8.0$', \\\n",
    "                   r'$8.0 \\leq M < 9.0$', r'$M \\geq 9.0$']\n",
    "        \n",
    "        fig = plt.figure(figsize=(res[0]/dpi, res[1]/dpi), dpi=dpi/1.25)\n",
    "        #fig = plt.figure(figsize=(14, 8))\n",
    "        ax = plt.axes(projection=ccrs.PlateCarree())\n",
    "        ax.stock_img()\n",
    "        \n",
    "        for j, k in enumerate(self.magnitudes.keys()):\n",
    "            curr_m = self.magnitudes[k]\n",
    "            ax.scatter(curr_m['longitude'], curr_m['latitude'], edgecolors=contornos[j], s=2**(j+4), \\\n",
    "                       c=paleta[j], label=legenda[j])\n",
    "     \n",
    "        leg = ax.legend(loc='lower left', ncol=2, fontsize='large', shadow=True, borderpad=0.75, \\\n",
    "                        title=r'MAGNITUDE ($M$)', title_fontsize=12)\n",
    "        leg._legend_box.align = \"left\"\n",
    "\n",
    "        if coords:\n",
    "            \n",
    "            lon_min, lon_max, lat_min, lat_max = coords\n",
    "            ax.set_xlim(lon_min, lon_max)\n",
    "            ax.set_ylim(lat_min, lat_max)\n",
    "            \n",
    "        if area:\n",
    "            \n",
    "            lon_min_box, lon_max_box, lat_min_box, lat_max_box = area\n",
    "            \n",
    "            ax.plot([lon_min_box, lon_max_box], \\\n",
    "                    [lat_min_box + (lat_max_box - lat_min_box)/2, lat_min_box + (lat_max_box - lat_min_box)/2], \\\n",
    "                    '--k', linewidth=1.5)\n",
    "\n",
    "            ax.plot([lon_min_box, lon_min_box, lon_max_box, lon_max_box, lon_min_box],\n",
    "                    [lat_min_box, lat_max_box, lat_max_box, lat_min_box, lat_min_box], 'k', linewidth=2)\n",
    "\n",
    "\n",
    "            ax.text(lon_min_box + lon_min_box*0.015, lat_min_box + (lat_max_box - lat_min_box)/2, 'A', \\\n",
    "                    horizontalalignment='center', verticalalignment='center', fontsize=16)\n",
    "\n",
    "            ax.text(lon_max_box - lon_max_box*0.015, lat_min_box + (lat_max_box - lat_min_box)/2, 'B', \\\n",
    "                    horizontalalignment='center', verticalalignment='center', fontsize=16)\n",
    "\n",
    "            \n",
    "        ax.coastlines(resolution='50m', alpha=0.20)\n",
    "        ax.add_feature(feature.BORDERS, linestyle='-', alpha=0.20)\n",
    "        ax.gridlines(crs=ccrs.PlateCarree(), draw_labels=True)\n",
    "\n",
    "        ax.set_title('Epicentros (JAN/1971 - MAR/2021)', fontsize=14)\n",
    "\n",
    "        # plt.tight_layout()\n",
    "        plt.show()\n",
    "        \n",
    "        \n",
    "        \n",
    "    def plota_hipocentros(self, coords=None, area=None, dpi=96, res=[1280, 1024]):\n",
    "        \n",
    "        paleta = ['blue', 'lightgreen', 'red', 'yellow']\n",
    "        contornos = ['none', 'black', 'black', 'black']\n",
    "        legenda = [r'$z < 40.0$ km', r'$40.0 \\leq z < 100.0$ km', r'$100.0 \\leq z < 400.0$ km', \\\n",
    "                   r'$400.0 \\leq z < 700.0$ km']\n",
    "        \n",
    "        fig = plt.figure(figsize=(res[0]/dpi, res[1]/dpi), dpi=dpi/1.25)\n",
    "        ax = plt.axes(projection=ccrs.PlateCarree())\n",
    "        ax.stock_img()\n",
    "        \n",
    "        for j, k in enumerate(self.hipocentros.keys()):\n",
    "            curr_h = self.hipocentros[k]\n",
    "            ax.scatter(curr_h['longitude'], curr_h['latitude'], edgecolors=contornos[j], s=2**(j+4), \\\n",
    "                       c=paleta[j], label=legenda[j])\n",
    "        \n",
    "        leg = ax.legend(loc='lower left', ncol=2, fontsize='large', shadow=True, borderpad=0.75, \\\n",
    "                        title=r'PROFUNDIDADE ($z$)', title_fontsize=12)\n",
    "        leg._legend_box.align = \"left\"\n",
    "        \n",
    "        if coords:\n",
    "            lon_min, lon_max, lat_min, lat_max = coords\n",
    "            ax.set_xlim(lon_min, lon_max)\n",
    "            ax.set_ylim(lat_min, lat_max)\n",
    "            \n",
    "        if area:\n",
    "            lon_min_box, lon_max_box, lat_min_box, lat_max_box = area\n",
    "            \n",
    "            ax.plot([lon_min_box, lon_max_box], \\\n",
    "                    [lat_min_box + (lat_max_box - lat_min_box)/2, lat_min_box + (lat_max_box - lat_min_box)/2], \\\n",
    "                    '--k', linewidth=1.5)\n",
    "\n",
    "            ax.plot([lon_min_box, lon_min_box, lon_max_box, lon_max_box, lon_min_box],\n",
    "                    [lat_min_box, lat_max_box, lat_max_box, lat_min_box, lat_min_box], 'k', linewidth=2)\n",
    "\n",
    "\n",
    "            ax.text(lon_min_box + lon_min_box*0.015, lat_min_box + (lat_max_box - lat_min_box)/2, 'A', \\\n",
    "                    horizontalalignment='center', verticalalignment='center', fontsize=16)\n",
    "\n",
    "            ax.text(lon_max_box - lon_max_box*0.015, lat_min_box + (lat_max_box - lat_min_box)/2, 'B', \\\n",
    "                    horizontalalignment='center', verticalalignment='center', fontsize=16)\n",
    "        \n",
    "        ax.coastlines(resolution='50m', alpha=0.20)\n",
    "        ax.add_feature(feature.BORDERS, linestyle='-', alpha=0.20)\n",
    "        ax.gridlines(crs=ccrs.PlateCarree(), draw_labels=True)\n",
    "\n",
    "        ax.set_title('Hipocentros (JAN/1971 - MAR/2021)', fontsize=14)\n",
    "\n",
    "        # plt.tight_layout()\n",
    "        plt.show()\n",
    "        \n",
    "        \n",
    "        \n",
    "    def plota_hipocentros_perfil(self, area, dpi=96, res=[1280, 1024]):\n",
    "        lon_min_box, lon_max_box, lat_min_box, lat_max_box = area\n",
    "        crop = crop_area(self, [lon_min_box, lon_max_box, lat_min_box, lat_max_box])\n",
    "\n",
    "        paleta = ['black', 'blue', 'lightgreen', 'red', 'yellow']\n",
    "        contornos = ['none', 'none', 'black', 'black', 'black']\n",
    "        legenda = [r'$5.0 \\leq M < 6.0$', r'$6.0 \\leq M < 7.0$', r'$7.0 \\leq M < 8.0$', \\\n",
    "                   r'$8.0 \\leq M < 9.0$', r'$M \\geq 9.0$']\n",
    "        \n",
    "        fig, ax = plt.subplots(figsize=(res[0]/dpi/1.5, res[1]/dpi/2), dpi=dpi/1.25)\n",
    "        \n",
    "        for j, k in enumerate(crop.magnitudes.keys()):\n",
    "            curr_h = crop.magnitudes[k]\n",
    "            ax.scatter(curr_h['longitude'], curr_h['depth'], edgecolors=contornos[j], s=2**(j+4), \\\n",
    "                       c=paleta[j], label=legenda[j])\n",
    "        \n",
    "        leg = ax.legend(loc='lower left', ncol=2, fontsize='large', shadow=True, borderpad=0.75, \\\n",
    "                        title=r'MAGNITUDE ($M$)', title_fontsize=12)\n",
    "        leg._legend_box.align = \"left\"\n",
    "                \n",
    "        ax.set_xlabel('Longitude (°)', fontsize=14)\n",
    "        ax.set_ylabel('Profundidade (km)', fontsize=14)\n",
    "        ax.set_xlim([lon_min_box, lon_max_box])\n",
    "        ax.set_ylim([0, 800])\n",
    "        ax.invert_yaxis()\n",
    "        ax.set_title('Hipocentros próximos ao perfil A-B', fontsize=14)\n",
    "        \n",
    "        plt.show()\n",
    "        \n",
    "        \n",
    "def crop_area(cat_in, area):\n",
    "    cat_out = dc(cat_in)\n",
    "    lon_min_box, lon_max_box, lat_min_box, lat_max_box = area\n",
    "    \n",
    "    cat_out.todos = cat_in.todos[(cat_in.todos['longitude'] >= lon_min_box) &\n",
    "                                 (cat_in.todos['longitude'] <= lon_max_box) &\n",
    "                                 (cat_in.todos['latitude'] >= lat_min_box) &\n",
    "                                 (cat_in.todos['latitude'] <= lat_max_box)]\n",
    "    \n",
    "    cat_out.magnitudes = {'5.0 a 5.9': cat_out.todos.loc[(cat_out.todos['mag'] >=5.0) & (cat_out.todos['mag'] < 6.0)],\n",
    "                          '6.0 a 6.9': cat_out.todos.loc[(cat_out.todos['mag'] >=6.0) & (cat_out.todos['mag'] < 7.0)],\n",
    "                          '7.0 a 7.9': cat_out.todos.loc[(cat_out.todos['mag'] >=7.0) & (cat_out.todos['mag'] < 8.0)],\n",
    "                          '8.0 a 8.9': cat_out.todos.loc[(cat_out.todos['mag'] >=8.0) & (cat_out.todos['mag'] < 9.0)],\n",
    "                          '9.0 +': cat_out.todos.loc[(cat_out.todos['mag'] >=9.0)]}\n",
    "        \n",
    "    cat_out.hipocentros = {'0.0 a 40.0': cat_out.todos.loc[(cat_out.todos['depth'] <=40)],\n",
    "                           '40.0 a 100.0': cat_out.todos.loc[(cat_out.todos['depth'] > 40.0) & (cat_out.todos['depth'] <= 100.0)],\n",
    "                           '100.0 a 400.0': cat_out.todos.loc[(cat_out.todos['depth'] > 100.0) & (cat_out.todos['depth'] <= 400.0)],\n",
    "                           '400.0 a 700.0':cat_out.todos.loc[(cat_out.todos['depth'] > 400.0) & (cat_out.todos['depth'] <= 700.0)]}\n",
    "\n",
    "    return cat_out"
   ]
  },
  {
   "cell_type": "markdown",
   "id": "smoking-battle",
   "metadata": {},
   "source": [
    "### Passo 02 - Carregar os dados\n",
    "\n",
    "Esta demonstração utilizará dados carregados a partir de um arquivo ASCII em formato .csv contendo uma tabela com os eventos de magnitude acima de 5.0 registrados no catálogo da USGS entre janeiro de 1971 e março de 2021. Execute a célula abaixo para carregar este arquivo."
   ]
  },
  {
   "cell_type": "code",
   "execution_count": null,
   "id": "mechanical-shelf",
   "metadata": {},
   "outputs": [],
   "source": [
    "usgs = catalogo('usgs.csv')"
   ]
  },
  {
   "cell_type": "markdown",
   "id": "automatic-maintenance",
   "metadata": {},
   "source": [
    "### Passo 03 - Mapa de Epicentros\n",
    "\n",
    "Os eventos sísmicos ocorrem ao redor de todo o mundo, porém são mais frequentes em algumas regiões específicas. Isto pode ser observado pelo mapa de epicentros, que são os pontos na superfície da Terra que encontra-se exatamente acima do local de ocorrência do terremoto.\n",
    "\n",
    "Execute a célula abaixo para gerar um mapa de epicentros dos eventos com magnitude $M \\geq 5.0$ registrados entre os anos de 1971 e 2021."
   ]
  },
  {
   "cell_type": "code",
   "execution_count": null,
   "id": "united-bedroom",
   "metadata": {},
   "outputs": [],
   "source": [
    "usgs.plota_epicentros()"
   ]
  },
  {
   "cell_type": "markdown",
   "id": "gothic-friendship",
   "metadata": {},
   "source": [
    "Você consegue perceber o padrão na localização dos epicentros de maiores magnitudes? Onde concentram-se os eventos de menores e maiores magnitudes?"
   ]
  },
  {
   "cell_type": "markdown",
   "id": "blond-respect",
   "metadata": {},
   "source": [
    "### Passo 04 - Mapa de Hipocentros\n",
    "\n",
    "O hipocentro, ou foco, representa o local em profundidade onde a liberação de energia do evento sísmico de fato ocorreu. Os epicentros vistos no mapa anterior são uma projeção em superfície dos hipocentros. Assim como os epicentros concentram-se em locais específicos do globo, os hipocentros concentram-se em profundidades específicas dependendo da região em que os eventos ocorrem.\n",
    "\n",
    "Execute a célula abaixo para gerar um mapa de hipocentros dos eventos apresentados no mapa anterior."
   ]
  },
  {
   "cell_type": "code",
   "execution_count": null,
   "id": "sticky-creation",
   "metadata": {},
   "outputs": [],
   "source": [
    "usgs.plota_hipocentros()"
   ]
  },
  {
   "cell_type": "markdown",
   "id": "federal-court",
   "metadata": {},
   "source": [
    "Você percebe algum padrão em relação à profundidade em que os eventos ocorreram, comparando esta informação com o mapa de Epicentros?"
   ]
  },
  {
   "cell_type": "markdown",
   "id": "great-collins",
   "metadata": {},
   "source": [
    "### Passo 05 - Mapas da América do Sul\n",
    "\n",
    "Vamos agora analisar especificamente a América do Sul, limitando a exibição dos mapas à região compreendida entre as longitudes -90.0º e -30.0º e entre as latitudes -70.0º e 20.0º.\n",
    "\n",
    "Execute a célula abaixo para limitar esta região."
   ]
  },
  {
   "cell_type": "code",
   "execution_count": null,
   "id": "automated-banner",
   "metadata": {},
   "outputs": [],
   "source": [
    "regiao = [-90.0, -30.0, -70.0, 20.0]"
   ]
  },
  {
   "cell_type": "markdown",
   "id": "geographic-alloy",
   "metadata": {},
   "source": [
    "Adicionalmente vamos especificar também uma subárea na América do Sul, correspondente a uma pequena porção dos Andes, que será analisada posteriormente."
   ]
  },
  {
   "cell_type": "code",
   "execution_count": null,
   "id": "original-arrow",
   "metadata": {},
   "outputs": [],
   "source": [
    "selecao = [-75.0, -61.0, -30.0, -20.0]"
   ]
  },
  {
   "cell_type": "markdown",
   "id": "bibliographic-flesh",
   "metadata": {},
   "source": [
    "Agora você irá gerar o mapa propriamente dito, incluindo a delimitação da subárea configurada na célula acima. Execute a célula abaixo para gerá-lo."
   ]
  },
  {
   "cell_type": "code",
   "execution_count": null,
   "id": "catholic-emergency",
   "metadata": {},
   "outputs": [],
   "source": [
    "usgs.plota_epicentros(coords=regiao, area=selecao)"
   ]
  },
  {
   "cell_type": "markdown",
   "id": "musical-leadership",
   "metadata": {},
   "source": [
    "Como você descreveria a concentração dos epicentros no continente sul-americano?\n",
    "\n",
    "Execute a célula abaixo para gerar um mapa de hipocentros dos eventos registrados no continente e compare-o com o mapa de epicentros."
   ]
  },
  {
   "cell_type": "code",
   "execution_count": null,
   "id": "pregnant-honey",
   "metadata": {},
   "outputs": [],
   "source": [
    "usgs.plota_hipocentros(coords=regiao, area=selecao)"
   ]
  },
  {
   "cell_type": "markdown",
   "id": "sensitive-graphic",
   "metadata": {},
   "source": [
    "Você deve ter observado que a subárea delimitada na região andina apresenta um perfil central A-B orientado na direção leste-oeste. Execute a célula abaixo para gerar uma visualização acompanhando este perfil e que irá apresentar todos os hipocentros presentes no interior desta subárea."
   ]
  },
  {
   "cell_type": "code",
   "execution_count": null,
   "id": "coordinate-lender",
   "metadata": {},
   "outputs": [],
   "source": [
    "usgs.plota_hipocentros_perfil(area=selecao)"
   ]
  },
  {
   "cell_type": "markdown",
   "id": "radical-verification",
   "metadata": {},
   "source": [
    "O que isso te diz sobre a dinâmica geológica desta região?\n",
    "\n",
    "Volte à segunda célula do Passo 05, modifique os limites da subárea através da qual passa o perfil A-B e verifique se este comportamento se repete. Você pode inserir as coordenadas-limite que você quiser ou pode utilizar as sugestões abaixo copiando as coordenadas desejadas e colando-as na célula indicada.\n",
    "\n",
    "**Sugestão 1:** selecao = [-80.0, -60.0, -40.0, -30.0]\n",
    "\n",
    "**Sugestão 2:** selecao = [-85.0, -70.0, -10.0, 0.0]"
   ]
  }
 ],
 "metadata": {
  "kernelspec": {
   "display_name": "Python 3",
   "language": "python",
   "name": "python3"
  },
  "language_info": {
   "codemirror_mode": {
    "name": "ipython",
    "version": 3
   },
   "file_extension": ".py",
   "mimetype": "text/x-python",
   "name": "python",
   "nbconvert_exporter": "python",
   "pygments_lexer": "ipython3",
   "version": "3.7.10"
  }
 },
 "nbformat": 4,
 "nbformat_minor": 5
}
