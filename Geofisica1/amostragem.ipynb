{
 "cells": [
  {
   "cell_type": "markdown",
   "id": "second-video",
   "metadata": {},
   "source": [
    "Notebook elaborado para apresentar uma breve introdução à amostragem de sinais. Criado para a disciplina Geofísica I da Universidade Federal de Uberlândia.\n",
    "O uso e a reprodução são livres para fins educacionais, pede-se apenas a citação da fonte.\n",
    "\n",
    "[![License: GPL v3](https://img.shields.io/badge/License-GPLv3-blue.svg)](https://www.gnu.org/licenses/gpl-3.0)\n",
    "\n",
    "Prof. Dr. Emerson Rodrigo Almeida<br>\n",
    "Universidade Federal de Uberlândia<br>\n",
    "Instituto de Geografia - Curso de Geologia<br>\n",
    "emerson.almeida@ufu.br<br>\n",
    "\n",
    "<p>&nbsp;</p>\n",
    "Última modificação: 22/11/2021"
   ]
  },
  {
   "cell_type": "markdown",
   "id": "d2a4d706-5a7b-4732-b7c5-321ac050f8eb",
   "metadata": {},
   "source": [
    "---\n",
    "# Objetivos\n",
    "\n",
    "* Compreender a diferença entre um sinal analógico e um sinal digitalizado;\n",
    "* Aprender a calcular a frequência de amostragem ideal para um sinal;\n",
    "* Aprender o conceito de frequência de Nyquist;\n",
    "* Compreender como a amostragem realizada incorretamente pode comprometer o dado a ser analisado.\n",
    "\n",
    "*Não se preocupe em compreender o código em si, não é obrigatório que você conheça a programação para obter e interpretar os resultados da demonstração. Mesmo assim, sinta-se livre caso queira perguntar qualquer coisa para aprender mais sobre o código e sua elaboração.*"
   ]
  },
  {
   "cell_type": "markdown",
   "id": "a5ffa4dd-09f2-4a21-88b5-f2aaaa2a8c59",
   "metadata": {},
   "source": [
    "---\n",
    "## Antes de começar\n",
    "\n",
    "* **Leia as instruções** apresentadas no texto para compreender a demonstração;\n",
    "* **Não altere nada** no código apresentado na célula, a menos que o texto do notebook indique o contrário. Algumas modificações podem causar problemas na execução do código;\n",
    "* A execução do código em uma célula é feito clicando-se *dentro* dela para ativá-la (você verá um contorno ao redor da célula e o cursor de texto piscando). Em seguida clique em uma das opções de menu ou de botão como mostrado na figura abaixo. É possível executá-las também pressionando as teclas **SHIFT+ENTER** simultanemante no seu teclado;\n",
    "\n",
    "<center><img src=\"imgs/run.png\" width=900 height=278/></center>\n",
    "\n",
    "* O símbolo **[   ]:** próximo ao canto superior esquerdo de cada célula indica o estado de execução da célula. Quando ele está vazio a célula ainda não foi executada. Ao iniciar a execução, um asterisco ($*$) irá aparecer dentro dos colchetes. A execução é concluída sem problemas quando o $*$ dentro dos colchetes for substituído por um número e nenhuma mensagem de erro aparecer abaixo da célula executada;\n",
    "* As células podem ser executadas repetidas vezes, porém é recomendável que sejam executadas **uma por vez e na ordem em que aparecem no notebook** para evitar erros de execução;\n",
    "* As suas modificações **não serão salvas**. Caso você faça alguma alteração que cause o mal funcionamento do código e não consiga desfazê-la, basta atualizar a página do notebook.\n",
    "\n",
    "**Execute a célula de código abaixo para carregar o módulo com os códigos que serão utilizados neste notebook.**"
   ]
  },
  {
   "cell_type": "code",
   "execution_count": null,
   "id": "9d1a88c7-abef-4aee-ab8c-213fb3ace172",
   "metadata": {},
   "outputs": [],
   "source": [
    "import modulos.amostragem as am"
   ]
  },
  {
   "cell_type": "markdown",
   "id": "organizational-contribution",
   "metadata": {},
   "source": [
    "---\n",
    "---\n",
    "\n",
    "### 01. Sinal analógico de frequência única\n",
    "\n",
    "Aqui você irá configurar as características do sinal analógico que irá representar o fenômeno sob observação. O sinal será caracterizado pela função\n",
    "\n",
    "$$y(t) = a * cos(2 \\pi f t + \\phi)$$\n",
    "\n",
    "em que $a$ é a amplitude do sinal dada em unidades de amplitude (ua), $f$ é a frequência do sinal dada em Hertz (Hz), $t$ é o domínio do tempo dado em segundos (s) e $\\phi$ é a fase do sinal dada em radianos e que será considerada igual a zero para fins de simplificação.\n",
    "\n",
    "**Prática**: Execute a célula abaixo para configurar um sinal analógico. Configure uma amplitude de 1.0 ua e uma frequência de 1.0 Hz. Defina também uma *janela de tempo*, dada em segundos (s), que irá representar um intervalo finito de tempo dentro do qual o sinal será apresentado. Essa janela será inicialmente igual a 5.0 s. Verifique se o sinal apresentado no gráfico corresponde às características configuradas, indicando sua amplitude e frequência. Determine também o período ($T$, em s) deste sinal."
   ]
  },
  {
   "cell_type": "code",
   "execution_count": null,
   "id": "85416039-24ac-423f-925e-e2a0d9058b42",
   "metadata": {},
   "outputs": [],
   "source": [
    "amplitude = 0.0\n",
    "frequencia = 0.0\n",
    "janela_tempo = 0.0\n",
    "\n",
    "am.executa_exercício1(amplitude, frequencia, janela_tempo)   # não modifique nada nesta linha!"
   ]
  },
  {
   "cell_type": "markdown",
   "id": "99209114-912e-4a19-b576-9793d9a60cc7",
   "metadata": {},
   "source": [
    "### 02. Frequência de Amostragem\n",
    "\n",
    "A digitalização de um sinal analógico corresponde ao registro da amplitude que este sinal apresenta em instantes de tempo bem definidos. Considere o movimento de oscilação de um pêndulo. Quando o pêndulo está em oscilação nossos olhos observam um movimento contínuo e suave que seria análogo ao sinal analógico que foi configurado acima. A distância entre a massa do pêndulo em relação ao seu ponto de repouso, i.e., a posição em que o pêndulo permanece quando não há oscilação, é análoga à amplitude do sinal. Obter uma **amostra** da amplitude do movimento do pêndulo seria equivalente a fotografá-lo em um instante qualquer e determinar a distância da massa até o ponto de repouso. Assim, se o pêndulo for fotografado em diferentes instantes a intervalos de tempo regulares ($\\Delta t$) e estas fotos forem agrupadas em sequência, teremos uma **amostragem** do movimento do pêndulo. Sistemas dedicados podem então reproduzir o movimento do pêndulo de forma fiel.\n",
    "\n",
    "No entanto, se a amostragem não for feita adequadamente, o movimento do pêndulo não será representado com fidelidade e a reprodução do seu movimento será comprometida. Da mesma forma, um sinal analógico amostrado incorretamente tem a sua representação comprometida. Para evitar esta situação deve-se obedecer ao critério estabelecido pela **Teoria da amostragem de Shannon**, que estabelece que a frequência de amostragem ($f_{am}$) deve ser maior ou igual a duas vezes a frequência ($f$) a ser amostrada, i.e.,\n",
    "\n",
    "$$f_{am} \\geq 2*f$$\n",
    "\n",
    "A frequência de amostragem correponde ao número de amostras obtidas por unidade do domínio em que o sinal é adquirido (neste caso, o domínio do tempo). O intervalo de tempo entre cada amostra é então dado pelo intervalo de amostragem ($\\Delta t_{am}$), que é o inverso da frequência de amostragem:\n",
    "\n",
    "$$\\Delta t_{am} = \\frac{1}{f_{am}}$$\n",
    "\n",
    "\n",
    "Assim, pelo Teorema da Amostragem, tem-se a definição do critério que garante a amostragem correta do sinal:\n",
    "\n",
    "$$\\Delta t_{am} = \\frac{1}{f_{am}} = \\frac{1}{2 * f}$$\n",
    "\n",
    "**Prática**: Calcule a frequência de amostragem mínima para o sinal analógico configurado. Insira o valor calculado na célula abaixo e, em seguida, execute-a para visualizar os instantes de tempo em que a amplitude do sinal foi registrada. Calcule o intervalo de amostragem correspondente à frequência de amostragem obtida."
   ]
  },
  {
   "cell_type": "code",
   "execution_count": null,
   "id": "2b1c179b-7f96-491f-8010-b0397809828e",
   "metadata": {},
   "outputs": [],
   "source": [
    "f_amostragem = 0.0\n",
    "\n",
    "am.executa_exercício2(amplitude, frequencia, janela_tempo, f_amostragem)   # não modifique nada nesta linha!"
   ]
  },
  {
   "cell_type": "markdown",
   "id": "922e341b-9736-4a25-9ccc-1c1300910612",
   "metadata": {},
   "source": [
    "### 03. Representação do sinal a partir das amostras\n",
    "\n",
    "Quando o sinal é amostrado corretamente é possível recuperá-lo através de sistemas dedicados, que fogem ao escopo desta demonstração. Aqui exemplificaremos a recuperação do sinal através de uma simples interpolação matemática.\n",
    "\n",
    "Uma vez que o sinal analogico é **discretizado** e registrado em um sistema digital todas as informações a respeito do **comportamento contínuo** do sinal são perdidas e tudo o que se tem são as informações sobre a amplitude e os intantes de tempo em que estas foram medidas.\n",
    "\n",
    "Assim como um software de análise de dados geofísicos não tem ideia sobre o comportamento do sinal verdadeiro ao reproduzi-lo a partir de um sinal digitalizado, não há qulquer informação pré-determinada sobre as características do sinal original na interpolação realizada nesta demonstração. Perceba que, ainda assim, é possível recuperar um sinal com as características de uma função cosseno.\n",
    "\n",
    "**Prática**: Execute a célula abaixo para visualizar a representação do sinal original recuperada a partir da amostragem realizada anteriormente. Determine o período do sinal recuperado. Calcule a frequência deste sinal recuperado e verifique se ela corresponde à frequência configurada inicialmente. Verifique se a amplitude do sinal recuperado corresponde à amplitude configurada inicialmente. Verifique, alterando a frequência de amostragem no tópico anterior e executando a sua respectiva célula de código, o que acontece com estes parâmetros quando você configura a frequência de amostragem no item anterior com um valor igual a:\n",
    "* 1/4 do valor mínimo ideal;\n",
    "* 1/3 do valor mínimo ideal;\n",
    "* 1/2 do valor mínimo ideal;\n",
    "* 2 vezes o valor mínimo ideal;\n",
    "* 3 vezes o valor mínimo ideal;\n",
    "* 4 vezes o valor mínimo ideal."
   ]
  },
  {
   "cell_type": "code",
   "execution_count": null,
   "id": "7f9cf58f-5e64-4e10-875a-3b2174b2ecda",
   "metadata": {},
   "outputs": [],
   "source": [
    "am.executa_exercício3(amplitude, frequencia, janela_tempo, f_amostragem)"
   ]
  },
  {
   "cell_type": "markdown",
   "id": "1be200f3-a982-464e-9a6c-85f6e035fdfa",
   "metadata": {},
   "source": [
    "**Prática:** Repita o procedimento dos tópicos 01 a 03 para sinais de frequências iguais a 14.0 kHz e 500 MHz, atentando-se para ajustar a janela de tempo adequada a cada situação."
   ]
  },
  {
   "cell_type": "markdown",
   "id": "b5a6b5a0-3eaf-4969-9918-54bc3c477b18",
   "metadata": {},
   "source": [
    "### 04. Sinal analógico de várias frequências\n",
    "\n",
    "Os sinais analógicos amostrados em levantamentos de campo não possuem uma única frequência. Ao invés disso, em uma situação real os sinais são caracterizados por uma sobreposição de infinitos sinais de frequências distintas e que podem ou não ter amplitudes e fases distintas. Cada frequência corresponde a uma **componente** do sinal analógico. Assim, um sinal hipotético $s(t)$ caracterizado pela sobreposição de cinco componentes $y_1(t)$, $y_2(t)$, $y_3(t)$, $y_4(t)$ e $y_5(t)$ é descrito matematicamente por\n",
    "\n",
    "$$ y_1(t) = a_1 * cos(2 \\pi f_1 t + \\phi_1)$$\n",
    "$$ y_2(t) = a_2 * cos(2 \\pi f_2 t + \\phi_2)$$\n",
    "$$ y_3(t) = a_3 * cos(2 \\pi f_3 t + \\phi_3)$$\n",
    "$$ y_4(t) = a_4 * cos(2 \\pi f_4 t + \\phi_4)$$\n",
    "$$ y_5(t) = a_5 * cos(2 \\pi f_5 t + \\phi_5)$$\n",
    "\n",
    "$$ s(t) = y_1(t) + y_2(t) + y_3(t) + y_4(t) + y_5(t)$$\n",
    "\n",
    "**Prática:** Configure as cinco componentes de s(t) com frequências $f_1$ = 1.0 Hz, $f_2$ = 3.0 Hz, $f_3$ = 0.5 Hz, $f_4$ = 7.0 Hz e $f_5$ = 5.0 Hz e amplitudes $a_1$ = 1.0 ua, $a_2$ = 0.5 ua, $a_3$ = 1.5 ua, $a_4$ = 2.75 ua e $a_5$ = 0.8 ua. A fase será considerada igual a zero em todas as componentes. Em seguida, execute a célula abaixo para obter a representação do sinal analógico $s(t)$ dentro da mesma janela de tempo utilizada anteriormente. Verifique se você consegue perceber como cada componente de frequência influencia o comportamento do sinal $s(t)$. Você também pode optar por configurar menos do que cinco componentes, bastanto para isso configurar uma ou mais componentes com amplitude igual a zero na célula abaixo. Verifique como o comportamento do sinal se altera quando você trabalha com uma, duas, três, quatro ou cinco componentes."
   ]
  },
  {
   "cell_type": "code",
   "execution_count": null,
   "id": "5c6a1d9e-09bb-4e14-9b90-ba1356f5e2fd",
   "metadata": {},
   "outputs": [],
   "source": [
    "f1 = 0.0\n",
    "a1 = 0.0\n",
    "\n",
    "f2 = 0.0\n",
    "a2 = 0.0\n",
    "\n",
    "f3 = 0.0\n",
    "a3 = 0.0\n",
    "\n",
    "f4 = 0.0\n",
    "a4 = 0.0\n",
    "\n",
    "f5 = 0.0\n",
    "a5 = 0.0\n",
    "\n",
    "am.executa_exercício4([a1, a2, a3, a4, a5], [f1, f2, f3, f4, f5], janela_tempo)   # não modifique nada nesta linha!"
   ]
  },
  {
   "cell_type": "markdown",
   "id": "81ff90e0-9440-499f-b1ba-80315457c071",
   "metadata": {},
   "source": [
    "### 05. Frequência de amostragem do sinal $s(t)$\n",
    "\n",
    "Supondo que cada componente do sinal $s(t)$ carregue uma parcela de informação relevante referente a um fenômeno geofísico, deseja-se então que todas as componentes sejam registradas corretamente para que nenhuma informação se perca. Para isto, o sinal deve ser digitalizado com uma frequência de amostragem que seja capaz de registrar todas as frequências ao mesmo tempo, através do mesmo procedimento feito no tópico 02. Note-se que, pela relação entre o intervalo de amostragem e a frequência apresentada em\n",
    "\n",
    "$$\\Delta t_{am} = \\frac{1}{2 * f}$$\n",
    "\n",
    "pode-se rearranjar os termos da equação na forma\n",
    "\n",
    "$$f = \\frac{1}{2 * \\Delta t_{am}}$$\n",
    "\n",
    "para mostrar que a frequência amostrada depende do intervalo de amostragem determinado e que quanto menor o intervalo de amostragem, maior a frequência que pode ser representada pela amostragem. Entretanto, como em termos práticos o intervalo de amostragem é sempre uma quantidade finita, existe sempre uma **frequência máxima** que pode ser representada na amostragem. Esta frequência máxima que pode ser representada corretamente a partir de um intervalo de amostragem é chamada de **frequência de Nyquist ($f_N$)**, que pode ser definida como\n",
    "\n",
    "$$f_N = \\frac{1}{2 * \\Delta t_{am}}$$\n",
    "\n",
    "Todas as componentes cuja frequência for *menor* do que a frequência de Nyquist serão representadas corretamente no sinal digitalizado. Porém, se a informação de maior interesse estiver contida em uma componente de frequência *maior* do que a frequência de Nyquist determinada pelo intervalo de amostragem utilizado no levantamento esta informação se perderá ou será distorcida por um fenômeno chamado de **falseamento**, em que uma determinada frequência é efetivamente registrada como uma frequência diferente unicamente por efeito da amostragem. Este conceito é extremamente importante para os métodos geofísicos, pois um intervalo de amostragem mal determinado pode comprometer ou mesmo invalidar todo o levantamento.\n",
    "\n",
    "**Prática:** Determine a frequência de amostragem que permite registrar o sinal $s(t)$ sem que nenhuma das componentes seja perdida. Verifique qual é o comportamento do sinal recuperado quando se usa uma frequência de amostragem igual a metade da frequência de amostragem ideal e quando se usa uma frequência de amostragem igual ao dobro da frequência de amostragem ideal."
   ]
  },
  {
   "cell_type": "code",
   "execution_count": null,
   "id": "683a89d9-80e2-416e-83e0-b874f2e22c62",
   "metadata": {},
   "outputs": [],
   "source": [
    "f_amostragem_nyquist = 0.0\n",
    "\n",
    "am.executa_exercício5([a1, a2, a3, a4, a5], [f1, f2, f3, f4, f5], janela_tempo, f_amostragem_nyquist)   # não modifique nada nesta linha!"
   ]
  }
 ],
 "metadata": {
  "kernelspec": {
   "display_name": "Python 3 (ipykernel)",
   "language": "python",
   "name": "python3"
  },
  "language_info": {
   "codemirror_mode": {
    "name": "ipython",
    "version": 3
   },
   "file_extension": ".py",
   "mimetype": "text/x-python",
   "name": "python",
   "nbconvert_exporter": "python",
   "pygments_lexer": "ipython3",
   "version": "3.8.12"
  }
 },
 "nbformat": 4,
 "nbformat_minor": 5
}
