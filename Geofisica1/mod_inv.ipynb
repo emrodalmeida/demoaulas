{
 "cells": [
  {
   "cell_type": "markdown",
   "id": "immediate-boston",
   "metadata": {},
   "source": [
    "Notebook elaborado para apresentar o conceito de problema direto.\n",
    "Criado para a disciplina Geofísica I da Universidade Federal de Uberlândia.\n",
    "O uso e a reprodução são livres para fins educacionais, pede-se apenas a citação da fonte.\n",
    "\n",
    "[![License: GPL v3](https://img.shields.io/badge/License-GPLv3-blue.svg)](https://www.gnu.org/licenses/gpl-3.0)\n",
    "\n",
    "Prof. Dr. Emerson Rodrigo Almeida<br>\n",
    "Universidade Federal de Uberlândia<br>\n",
    "Instituto de Geografia - Curso de Geologia<br>\n",
    "emerson.almeida@ufu.br<br>\n",
    "\n",
    "<p>&nbsp;</p>\n",
    "Última modificação: 01/03/2021"
   ]
  },
  {
   "cell_type": "markdown",
   "id": "noted-turning",
   "metadata": {},
   "source": [
    "# Instruções iniciais\n",
    "\n",
    "Neste notebook você irá aprender os conceitos relacionados à solução de um problema direto e à estimativa de parâmetros de um modelo utilizando um conceito simples que certamente você já conhece. Para isto leia atentamente as instruções apresentadas antes de cada célula e execute-as uma a uma, para acompanhar o processo corretamente.\n",
    "\n",
    "Não se preocupe em compreender o código em si, não é obrigatório que você conheça a programação para obter e interpretar os resultados da demonstração. Mesmo assim, sinta-se livre caso queira perguntar qualquer coisa para aprender mais sobre o código e sua elaboração.\n",
    "\n",
    "<p>&nbsp;</p>\n",
    "\n",
    "### Passo 01 - Preparação\n",
    "\n",
    "Primeiramente vamos preparar o notebook com os módulos e funções que precisaremos no decorrer da demonstração. A célula abaixo contém as funções utilizadas nos cálculos e as funções utilizadas para gerar as figuras. Execute-a uma vez antes de executar qualquer outra parte do código e **não altere nada no código apresentado na célula** para não criar problemas na execução do código.\n",
    "\n",
    "Você pode executar o código na célula clicando sobre ela e em seguida clicando no botão **RUN** na barra do Jupyter Notebook ou pressionando as teclas **SHIFT+ENTER** no seu teclado.\n",
    "\n",
    "<p>&nbsp;</p>\n",
    "\n",
    "**Importante!** Nem todas as células irão retornar algum tipo de mensagem ou figura após a execução. Isto é normal e não significa que a execução tenha falhado. Perceba o símbolo **In [   ]:** próximo ao canto superior esquerdo de cada célula. Ao iniciar a execução de uma delas você verá um asterisco ($*$) aparecer dentro dos colchetes. Você saberá que a execução ocorreu sem problemas quando o $*$ dentro dos colchetes for substituído por um número e nenhuma mensagem de erro aparecer abaixo da célula executada. "
   ]
  },
  {
   "cell_type": "code",
   "execution_count": null,
   "id": "convertible-conjunction",
   "metadata": {},
   "outputs": [],
   "source": [
    "import numpy as np\n",
    "import matplotlib.pyplot as plt\n",
    "#from sklearn.metrics import mean_squared_error\n",
    "#rms = sqrt(mean_squared_error(y_actual, y_predicted))\n",
    "\n",
    "def fwd(t, g, s0=0, v0=0):\n",
    "    return s0 + v0*t + 0.5*g*t**2\n",
    "\n",
    "\n",
    "def fwd_esfera(rho, rho_bg, R, z, x):\n",
    "    return 27.9e-3 * (rho - rho_bg) * R**3 *  z / ((x**2 + z**2)**(3/2))\n",
    "    \n",
    "\n",
    "def d_observ(tt, d_obs):\n",
    "    \n",
    "    fig, ax = plt.subplots(figsize=(6,4))\n",
    "    ax.plot(tt, d_obs, 'ob')\n",
    "    ax.invert_yaxis()\n",
    "    ax.set_title('Dados observados', fontsize=14)\n",
    "    ax.set_xlabel('Tempo (s)', fontsize=14)\n",
    "    ax.set_ylabel('Posição (m)', fontsize=14)\n",
    "    ax.grid(which='both')\n",
    "    plt.show()\n",
    "\n",
    "\n",
    "def d_observ_bf(tt, d_obs):\n",
    "    \n",
    "    fig, ax = plt.subplots(figsize=(15,4))\n",
    "    ax.plot(tt, d_obs, 'ob')\n",
    "    ax.invert_yaxis()\n",
    "    ax.set_title('Dados observados', fontsize=14)\n",
    "    ax.set_xlabel('Distância (m)', fontsize=14)\n",
    "    ax.set_ylabel('Medida (U)', fontsize=14)\n",
    "    ax.grid(which='both')\n",
    "    ax.invert_yaxis()\n",
    "    plt.show()\n",
    "    \n",
    "\n",
    "def ajuste_bf(xx, d_pred, d_obs):\n",
    "\n",
    "    err = np.round(np.sqrt(((d_pred - d_obs) ** 2).mean()), 2)\n",
    "    \n",
    "    fig, ax = plt.subplots(figsize=(15,4))\n",
    "    ax.plot(xx, d_obs, 'ob', label='dados observados')\n",
    "    ax.plot(xx, d_pred, '-r', label='dados preditos')\n",
    "    ax.set_title('Erro = '+ str(err), fontsize=14)\n",
    "    ax.set_xlabel('Distância (m)', fontsize=14)\n",
    "    ax.set_ylabel('Medida (U)', fontsize=14)\n",
    "    ax.grid(which='both')\n",
    "    ax.legend()\n",
    "    plt.show()\n",
    "    \n",
    "    \n",
    "    \n",
    "    \n",
    "def ajuste(tt, d_pred, d_obs):\n",
    "\n",
    "    err = np.round(np.sqrt(((d_pred - d_obs) ** 2).mean()), 2)\n",
    "    \n",
    "    fig, ax = plt.subplots(figsize=(6,4))\n",
    "    ax.plot(tt, d_obs, 'ob', label='dados observados')\n",
    "    ax.plot(tt, d_pred, '-r', label='dados preditos')\n",
    "    ax.invert_yaxis()\n",
    "    ax.set_title('Erro = '+ str(err), fontsize=14)\n",
    "    ax.set_xlabel('Tempo (s)', fontsize=14)\n",
    "    ax.set_ylabel('Posição (m)', fontsize=14)\n",
    "    ax.grid(which='both')\n",
    "    ax.legend()\n",
    "    plt.show()\n",
    "    \n",
    "t = np.linspace(0, 5, 11)\n",
    "s_o = np.array(list(map(lambda x: 0.5*9.8*x**2, t)))\n",
    "\n",
    "s_o2 = np.array([[0.000000000000000000e+00, 1.653999999999999915e+00],\n",
    "                 [5.000000000000000000e-01, 3.487249999999999961e+00],\n",
    "                 [1.000000000000000000e+00, 6.247999999999999332e+00],\n",
    "                 [1.500000000000000000e+00, 9.936249999999999361e+00],\n",
    "                 [2.000000000000000000e+00, 1.455199999999999960e+01],\n",
    "                 [2.500000000000000000e+00, 2.009525000000000006e+01],\n",
    "                 [3.000000000000000000e+00, 2.656599999999999895e+01],\n",
    "                 [3.500000000000000000e+00, 3.396424999999999983e+01],\n",
    "                 [4.000000000000000000e+00, 4.228999999999999915e+01],\n",
    "                 [4.500000000000000000e+00, 5.154325000000000045e+01],\n",
    "                 [5.000000000000000000e+00, 6.172400000000000375e+01]])\n",
    "\n",
    "bf_obs = np.array([3.03572027e-05, 3.42160388e-05, 3.87527057e-05, 4.41215728e-05,\n",
    "                   5.05207954e-05, 5.82073599e-05, 6.75182668e-05, 7.89007722e-05,\n",
    "                   9.29562188e-05, 1.10504592e-04, 1.32681254e-04, 1.61084576e-04,\n",
    "                   1.98005689e-04, 2.46793366e-04, 3.12445717e-04, 4.02589480e-04,\n",
    "                   5.29130633e-04, 7.11071166e-04, 9.79309520e-04, 1.38454779e-03,\n",
    "                   2.00880000e-03, 2.97535720e-03, 4.42809752e-03, 6.38866273e-03,\n",
    "                   8.38940503e-03, 9.30000000e-03, 8.38940503e-03, 6.38866273e-03,\n",
    "                   4.42809752e-03, 2.97535720e-03, 2.00880000e-03, 1.38454779e-03,\n",
    "                   9.79309520e-04, 7.11071166e-04, 5.29130633e-04, 4.02589480e-04,\n",
    "                   3.12445717e-04, 2.46793366e-04, 1.98005689e-04, 1.61084576e-04,\n",
    "                   1.32681254e-04, 1.10504592e-04, 9.29562188e-05, 7.89007722e-05,\n",
    "                   6.75182668e-05, 5.82073599e-05, 5.05207954e-05, 4.41215728e-05,\n",
    "                   3.87527057e-05, 3.42160388e-05, 3.03572027e-05])\n",
    "\n",
    "x = np.linspace(-200, 200, 51)"
   ]
  },
  {
   "cell_type": "markdown",
   "id": "published-shipping",
   "metadata": {},
   "source": [
    "### Passo 02 - Dados Observados\n",
    "\n",
    "Os dados preditos correspondem a aqueles coletados em campo. Considere o seguinte exemplo: uma aquisição de dados que corresponde à observação de um corpo em queda livre a partir de uma posição de repouso, em que a cada 0.5 segundo é anotada a distância deste corpo em relação à sua posição inicial. Os dados observados correspondem ao conjunto de posições anotadas a cada intervalo de tempo. \n",
    "\n",
    "Execute a célula abaixo para gerar uma representação gráfica destes dados."
   ]
  },
  {
   "cell_type": "code",
   "execution_count": null,
   "id": "grand-rachel",
   "metadata": {},
   "outputs": [],
   "source": [
    "d_observ(t, s_o)"
   ]
  },
  {
   "cell_type": "markdown",
   "id": "sophisticated-seminar",
   "metadata": {},
   "source": [
    "Digamos que você queira utilizar estes dados para estimar a aceleração que este corpo apresenta durante sua trajetória. Para isto você precisa de uma equação que defina o comportamento de queda deste corpo. Esta equação será o seu **problema direto**, onde são consideradas as questões relacionadas à física do problema e onde você pode simular o comportamento fornecendo os **parâmetros do modelo** que deseja. Há uma equação que já é sua conhecida e que você pode aplicar nesta situação:\n",
    "\n",
    "$$ s = s_i + v_i * t + 0.5 * a * t^2 $$\n",
    "\n",
    "em que $s_f$ é a posição do corpo após um tempo $t$, $s_i$ é a posição inicial do corpo, $v_i$ é a sua velocidade inicial e $a$ é a sua aceleração, que é exatamente o que você quer estimar. É claro que você deve estar pensando: \"*Basta reorganizar os termos da equação isolando a do lado esquerdo e calculá-lo a partir de um tempo t em que a posição do corpo foi observada*\". Você tem razão, é possível e muito mais inteligente adotar este procedimento *para este exemplo*, por que o problema apresentado é definido como linear (i.e., os dados relacionam-se linearmente aos parâmetros) e bem-posto (admite solução única). Este exemplo foi colocado aqui para que você possa trabalhar com um conceito que já lhe seja familiar. De qualquer maneira, ao pensar desta maneira você intuitivamente considerou o problema em sua **forma inversa**, onde você tenta estimar o parâmetro ($a$) a partir dos dados observados ($s$)."
   ]
  },
  {
   "cell_type": "markdown",
   "id": "lonely-memorabilia",
   "metadata": {},
   "source": [
    "### Passo 03 - Dados Preditos\n",
    "\n",
    "Então você tem os dados observados e uma equação que define o comportamento do corpo em queda livre. De posse destas informações, você pode estimar a aceleração do corpo através de uma **modelagem**: você irá fornecer valores de aceleração que considera plausíveis, irá calcular as posições correspondentes a esta aceleração de acordo com a equação da queda livre do corpo, e irá verificar se os valores calculados são próximos aos valores de posição que você observou. Estes dados calculados na modelagem correspondem aos **dados preditos**, e sua correspondência em relação aos dados observados será quantificada através de um **erro de ajuste**. Neste exemplo usaremos a medida de erro RMS (root mean square), dada por:\n",
    "\n",
    "$$ ERR = \\sqrt{\\frac{\\sum_{i=1}^{N}(dp_{i} - do_{i})^2}{N}} $$\n",
    "\n",
    "onde $dp$ são os dados preditos e $do$ são os dados observados. Assim, na célula abaixo escreva um valor numérico para a variável $a$ diferente de zero e, em seguida, execute a célula para obter um conjunto de dados preditos (ou modelados) e verificar se eles se ajustam aos dados observados."
   ]
  },
  {
   "cell_type": "code",
   "execution_count": null,
   "id": "reliable-consequence",
   "metadata": {},
   "outputs": [],
   "source": [
    "a = 0.0              # <--------------- insira sua estimativa nesta linha, no lugar do 0.0 \n",
    "\n",
    "s_pred = fwd(t, a)\n",
    "ajuste(t, s_pred, s_o)"
   ]
  },
  {
   "cell_type": "markdown",
   "id": "durable-crazy",
   "metadata": {},
   "source": [
    "Se você fez uma estimativa correta logo na primeira tentativa parabéns, você conseguiu modelar a aceleração do corpo. Se não conseguiu, você pode tentar novamente até conseguir estimar melhor este valor. Este processo de tentativa e erro que você fez é a **modelagem**.\n",
    "\n",
    "Este procedimento torna-se mais complexo quando você aumenta o número de variáveis que influenciam os seus dados observados. Tome o mesmo exemplo acima, mas considere agora que o corpo não partiu do repouso (i.e., $v_0 \\neq 0$) e de uma posição $s_0 \\neq 0$. Execute a célula abaixo para modelar uma nova curva de dados envolvendo o mesmo problema, porém agora você precisará fornecer valores de $v_0$ e $s_0$ também."
   ]
  },
  {
   "cell_type": "code",
   "execution_count": null,
   "id": "previous-homeless",
   "metadata": {},
   "outputs": [],
   "source": [
    "a = 0.0           # <--------------- insira sua estimativa nesta linha, no lugar do 0.0 \n",
    "v0 = 0.0          # <--------------- insira sua estimativa nesta linha, no lugar do 0.0 \n",
    "s0 = 0.0          # <--------------- insira sua estimativa nesta linha, no lugar do 0.0 \n",
    "\n",
    "\n",
    "s_pred2 = fwd(t, a, v0=v0, s0=s0)\n",
    "ajuste(t, s_pred2, s_o2[:,1])"
   ]
  },
  {
   "cell_type": "markdown",
   "id": "marine-latin",
   "metadata": {},
   "source": [
    "Pode ter sido um pouco mais complicado desta vez, mas é provável que você ainda tenha conseguido encontrar os valores corretos, porque o problema continua admitindo uma solução única. Em Geofísica os problemas dificilmente podem ser considerados lineares e/ou bem-postos, o que torna sua abordagem muito mais complexa.\n",
    "\n",
    "### Passo 04 - Problema não linear\n",
    "\n",
    "Considere agora um problema geofísico. Vamos usar a formulação de problema direto de um método geofísico real, porém o que nos interessa aqui é o conceito relacionado à modelagem e não o método em si. Então, vamos supor que trata-se de um método geofísico genérico que chamaremos de QLQR. Este método permite obter dados em função da densidade de um corpo geológico, da densidade da rocha ao redor deste corpo, da profundidade do corpo e do seu tamanho. A grandeza física medida é dada simplesmente em Unidades (U).\n",
    "\n",
    "Execute a célula abaixo para visualizar uma curva de medidas adquirida em um levantamento de campo."
   ]
  },
  {
   "cell_type": "code",
   "execution_count": null,
   "id": "rising-calibration",
   "metadata": {},
   "outputs": [],
   "source": [
    "d_observ_bf(x, bf_obs*1e3)"
   ]
  },
  {
   "cell_type": "markdown",
   "id": "lasting-heater",
   "metadata": {},
   "source": [
    "Tente modelar este dado fornecendo os valores de densidade do corpo rochoso ($rho\\_c$) e da rocha encaixante ($rho\\_r$), bem como a profundidade ($prof$) do centro deste corpo e o seu tamanho aproximado (considere um corpo esférico de raio $raio$). Faça isso estimando os valores para cada variável e executando a célula abaixo:"
   ]
  },
  {
   "cell_type": "code",
   "execution_count": null,
   "id": "metropolitan-david",
   "metadata": {},
   "outputs": [],
   "source": [
    "rho_c = 0.0           # <--------------- insira sua estimativa nesta linha, no lugar do 0.0 \n",
    "rho_r = 0.0           # <--------------- insira sua estimativa nesta linha, no lugar do 0.0 \n",
    "raio = 0.0            # <--------------- insira sua estimativa nesta linha, no lugar do 0.0 \n",
    "prof = 0.0            # <--------------- insira sua estimativa nesta linha, no lugar do 0.0 \n",
    "\n",
    "bf_pred = fwd_esfera(rho_c, rho_r, raio, prof, x)\n",
    "ajuste_bf(x, bf_pred*1e3, bf_obs*1e3)"
   ]
  },
  {
   "cell_type": "markdown",
   "id": "specified-workstation",
   "metadata": {},
   "source": [
    "Tente conseguir o menor erro possível. Quando conseguir, compare seu resultado com o resultado dos seus colegas (não copie o resultado, a ideia é justamente fazer a comparação dos modelos que vocês conseguiram!)."
   ]
  },
  {
   "cell_type": "code",
   "execution_count": null,
   "id": "signed-saturn",
   "metadata": {},
   "outputs": [],
   "source": []
  }
 ],
 "metadata": {
  "kernelspec": {
   "display_name": "Python 3",
   "language": "python",
   "name": "python3"
  },
  "language_info": {
   "codemirror_mode": {
    "name": "ipython",
    "version": 3
   },
   "file_extension": ".py",
   "mimetype": "text/x-python",
   "name": "python",
   "nbconvert_exporter": "python",
   "pygments_lexer": "ipython3",
   "version": "3.8.5"
  }
 },
 "nbformat": 4,
 "nbformat_minor": 5
}
