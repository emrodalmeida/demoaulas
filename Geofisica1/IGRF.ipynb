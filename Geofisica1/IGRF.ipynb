{
 "cells": [
  {
   "cell_type": "markdown",
   "id": "accessory-excess",
   "metadata": {},
   "source": [
    "Notebook elaborado para apresentar as características globais do campo geomagnético.\n",
    "Criado para a disciplina Geofísica I da Universidade Federal de Uberlândia.\n",
    "O uso e a reprodução são livres para fins educacionais, pede-se apenas a citação da fonte.\n",
    "\n",
    "[![License: GPL v3](https://img.shields.io/badge/License-GPLv3-blue.svg)](https://www.gnu.org/licenses/gpl-3.0)\n",
    "\n",
    "Os dados utilizados nesta demonstração foram calculados usando o 13ª geração do Campo Geomagnético de Referência Internacional ([*International Geomagnetic Reference Field* - IGRF](https://www.ngdc.noaa.gov/IAGA/vmod/igrf.html)) utilizando o programa Geomag 7.0 (disponível para [Windows](https://www.ngdc.noaa.gov/IAGA/vmod/geomag70_windows.zip), [Linux](https://www.ngdc.noaa.gov/IAGA/vmod/geomag70_linux.tar.gz) e com código disponível nas linguagens [Fortran](https://www.ngdc.noaa.gov/IAGA/vmod/igrf13.f) e [Python](https://www.ngdc.noaa.gov/IAGA/vmod/pyIGRF.zip)).\n",
    "\n",
    "Prof. Dr. Emerson Rodrigo Almeida<br>\n",
    "Universidade Federal de Uberlândia<br>\n",
    "Instituto de Geografia - Curso de Geologia<br>\n",
    "emerson.almeida@ufu.br<br>\n",
    "\n",
    "\n",
    "\n",
    "<p>&nbsp;</p>\n",
    "Última modificação: 06/03/2021"
   ]
  },
  {
   "cell_type": "markdown",
   "id": "limiting-enclosure",
   "metadata": {},
   "source": [
    "# Instruções iniciais\n",
    "\n",
    "Neste notebook você irá observar as componentes que descrevem o campo geomagnético. Este notebook permitirá observar a intensidade, a inclinação e a declinação do campo em diferentes épocas, entre os anos de 1900 e 2020 a intervalos de 10 anos. Para isto leia atentamente as instruções apresentadas antes de cada célula e execute-as uma a uma, para acompanhar o processo corretamente.\n",
    "\n",
    "Não se preocupe em compreender o código em si, não é obrigatório que você conheça a programação para obter e interpretar os resultados da demonstração. Mesmo assim, sinta-se livre caso queira perguntar qualquer coisa para aprender mais sobre o código e sua elaboração.\n",
    "\n",
    "<p>&nbsp;</p>\n",
    "\n",
    "### Passo 01 - Preparação\n",
    "\n",
    "Primeiramente vamos preparar o notebook com os módulos e funções que precisaremos no decorrer da demonstração. A célula abaixo contém as funções utilizadas nos cálculos e as funções utilizadas para gerar as figuras. Execute-a uma vez antes de executar qualquer outra parte do código e **não altere nada no código apresentado na célula** para não criar problemas na execução do código.\n",
    "\n",
    "Você pode executar o código na célula clicando sobre ela e em seguida clicando no botão **RUN** na barra do Jupyter Notebook ou pressionando as teclas **SHIFT+ENTER** no seu teclado.\n",
    "\n",
    "<p>&nbsp;</p>\n",
    "\n",
    "**Importante!** Nem todas as células irão retornar algum tipo de mensagem ou figura após a execução. Isto é normal e não significa que a execução tenha falhado. Perceba o símbolo **In [   ]:** próximo ao canto superior esquerdo de cada célula. Ao iniciar a execução de uma delas você verá um asterisco ($*$) aparecer dentro dos colchetes. Você saberá que a execução ocorreu sem problemas quando o $*$ dentro dos colchetes for substituído por um número e nenhuma mensagem de erro aparecer abaixo da célula executada. "
   ]
  },
  {
   "cell_type": "code",
   "execution_count": null,
   "id": "helpful-dependence",
   "metadata": {},
   "outputs": [],
   "source": [
    "%matplotlib inline\n",
    "import numpy as np\n",
    "import matplotlib.pyplot as plt\n",
    "import cartopy.crs as ccrs\n",
    "\n",
    "\n",
    "def le_componentes(d, a):\n",
    "    \n",
    "    \"\"\"\n",
    "    d : array 2D com os dados calculados com o Geomag 7.0 (https://www.ngdc.noaa.gov/geomag/models.shtml  ou\n",
    "        https://www.ngdc.noaa.gov/geomag/data/geomag/geomag70_windows.zip)\n",
    "        As colunas são organizadas em: data / lat / long / F / Dec / Inc \n",
    "\n",
    "    a : ano para o qual serão extraídos os dados\n",
    "    \"\"\"\n",
    "    \n",
    "    lat = np.unique(d[d[:, 0]==a, 1])\n",
    "    lon = np.unique(d[d[:, 0]==a, 2])\n",
    "    F = 1e-3 * d[d[:, 0]==a, 3].reshape(len(lon), len(lat)).T\n",
    "    D = d[d[:, 0]==a, 4].reshape(len(lon), len(lat)).T\n",
    "    I = d[d[:, 0]==a, 5].reshape(len(lon), len(lat)).T\n",
    "    \n",
    "    return lat, lon, F, D, I\n",
    "\n",
    "\n",
    "def plota_componentes(y, x, F, D, I, a):\n",
    "    fig = plt.figure(figsize=(13, 8))\n",
    "    ax = plt.axes(projection=ccrs.PlateCarree())\n",
    "    z_filled = plt.contourf(x, y, F, 20, transform=ccrs.PlateCarree(), cmap='RdBu_r', alpha=0.5)\n",
    "    z_linhas = plt.contour(x, y, F, levels=z_filled.levels, colors=['black'], transform=ccrs.PlateCarree())\n",
    "    ax.clabel(z_linhas, colors=['black'], manual=False, inline=True, fmt=' {:.0f} '.format)\n",
    "    ax.set_global()\n",
    "    ax.coastlines(resolution='50m', alpha=1)\n",
    "    ax.gridlines(crs=ccrs.PlateCarree(), draw_labels=True)\n",
    "    ax.set_title('Intensidade magnética no ano ' + str(a) + ' (em $\\mu$T)', fontsize=14)\n",
    "    plt.tight_layout()\n",
    "    plt.show()\n",
    "\n",
    "    fig = plt.figure(figsize=(13, 8))\n",
    "    ax = plt.axes(projection=ccrs.PlateCarree())\n",
    "    z_filled = plt.contourf(x, y, I, 20, transform=ccrs.PlateCarree(), cmap='RdBu_r', alpha=0.5)\n",
    "    z_linhas = plt.contour(x, y, I, levels=z_filled.levels, colors=['black'], transform=ccrs.PlateCarree())\n",
    "    ax.clabel(z_linhas, colors=['black'], manual=False, inline=True, fmt=' {:.0f} '.format)\n",
    "    ax.set_global()\n",
    "    ax.coastlines(resolution='50m', alpha=1)\n",
    "    ax.gridlines(crs=ccrs.PlateCarree(), draw_labels=True)\n",
    "    ax.set_title('Inclinação magnética no ano ' + str(a) + ' (em graus)', fontsize=14)\n",
    "    plt.tight_layout()\n",
    "    plt.show()\n",
    "\n",
    "    fig = plt.figure(figsize=(13, 8))\n",
    "    ax = plt.axes(projection=ccrs.PlateCarree())\n",
    "    z_filled = plt.contourf(x, y, D, 41, transform=ccrs.PlateCarree(), cmap='RdBu_r', alpha=0.5)\n",
    "    z_linhas = plt.contour(x, y, D, levels=z_filled.levels, colors=['black'], transform=ccrs.PlateCarree(), alpha=0.85)\n",
    "    ax.clabel(z_linhas, colors=['black'], manual=False, inline=True, fmt=' {:.0f} '.format)\n",
    "    ax.set_global()\n",
    "    ax.coastlines(resolution='50m', alpha=1)\n",
    "    ax.gridlines(crs=ccrs.PlateCarree(), draw_labels=True)\n",
    "    ax.set_title('Declinação magnética no ano ' + str(a) + ' (em graus)', fontsize=14)\n",
    "    plt.tight_layout()\n",
    "    plt.show()"
   ]
  },
  {
   "cell_type": "markdown",
   "id": "built-twelve",
   "metadata": {},
   "source": [
    "### Passo 02 - Carregar os dados\n",
    "\n",
    "Esta demonstração utilizará dados carregados a partir de um arquivo ASCII com os dados do campo geomagnético já calculados pelo programa Geomag 7.0 utilizando os coeficientes do IGRF-13.\n",
    "\n",
    "Execute a célula abaixo para carregar este arquivo."
   ]
  },
  {
   "cell_type": "code",
   "execution_count": null,
   "id": "medium-village",
   "metadata": {},
   "outputs": [],
   "source": [
    "dados = np.loadtxt('IGRF.txt')"
   ]
  },
  {
   "cell_type": "markdown",
   "id": "suspected-journal",
   "metadata": {},
   "source": [
    "### Passo 03 - Definir uma época\n",
    "\n",
    "Agora será necessário definir a data para a qual você quer visualizar as componentes do campo geomagnético.\n",
    "\n",
    "Execute a célula abaixo para definir o ano de 2020."
   ]
  },
  {
   "cell_type": "code",
   "execution_count": null,
   "id": "persistent-loading",
   "metadata": {},
   "outputs": [],
   "source": [
    "ano = 2020"
   ]
  },
  {
   "cell_type": "markdown",
   "id": "dense-longitude",
   "metadata": {},
   "source": [
    "### Passo 04 - Visualização do campo geomagnético\n",
    "\n",
    "Execute a célula abaixo para visualizar o comportamento do campo geomagnético na data definida no **Passo 03**."
   ]
  },
  {
   "cell_type": "code",
   "execution_count": null,
   "id": "dated-pension",
   "metadata": {
    "scrolled": false
   },
   "outputs": [],
   "source": [
    "latitude, longitude, intensidade, declinacao, inclinacao = le_componentes(dados, ano)\n",
    "plota_componentes(latitude, longitude, intensidade, declinacao, inclinacao, ano)"
   ]
  },
  {
   "cell_type": "markdown",
   "id": "equal-danger",
   "metadata": {},
   "source": [
    "Identifique os locais onde a intensidade do campo atinge seu valor mínimo e seu valor máximo. Identifique o equador magnpetico. Identifique os locais onde não há diferença entre a direção do norte geográfico e a direção do norte magnético. Agora modifique o ano no **Passo 03** para uma data qualquer no intervalo \\[1900, 1910, 1920, ..., 2000, 2010, 2020\\] e identifique estas características novamente. O que você observa?"
   ]
  }
 ],
 "metadata": {
  "kernelspec": {
   "display_name": "Python 3",
   "language": "python",
   "name": "python3"
  },
  "language_info": {
   "codemirror_mode": {
    "name": "ipython",
    "version": 3
   },
   "file_extension": ".py",
   "mimetype": "text/x-python",
   "name": "python",
   "nbconvert_exporter": "python",
   "pygments_lexer": "ipython3",
   "version": "3.7.10"
  }
 },
 "nbformat": 4,
 "nbformat_minor": 5
}
