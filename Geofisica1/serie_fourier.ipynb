{
 "cells": [
  {
   "cell_type": "markdown",
   "id": "polish-workshop",
   "metadata": {},
   "source": [
    "Notebook elaborado para apresentar conceitos relacionados à modelagem de dados. Criado para a disciplina Geofísica I da Universidade Federal de Uberlândia. O uso e a reprodução são livres para fins educacionais, pede-se apenas a citação da fonte.\n",
    "\n",
    "[![License: GPL v3](https://img.shields.io/badge/License-GPLv3-blue.svg)](https://www.gnu.org/licenses/gpl-3.0)\n",
    "\n",
    "Prof. Dr. Emerson Rodrigo Almeida<br>\n",
    "Universidade Federal de Uberlândia<br>\n",
    "Instituto de Geografia - Curso de Geologia<br>\n",
    "emerson.almeida@ufu.br<br>\n",
    "<p>&nbsp;</p>\n",
    "Última modificação: 24/11/2021"
   ]
  },
  {
   "cell_type": "markdown",
   "id": "physical-pottery",
   "metadata": {},
   "source": [
    "---\n",
    "# Objetivos\n",
    "\n",
    "* Compreender como um sinal periódico pode ser representado por uma sobreposição de funções periódicas seno e cosseno;\n",
    "* Estabelecer os fundamentos para a compreensão da filtragem de sinais.\n",
    "\n",
    "*Não se preocupe em compreender o código em si, não é obrigatório que você conheça a programação para obter e interpretar os resultados da demonstração. Mesmo assim, sinta-se livre caso queira perguntar qualquer coisa para aprender mais sobre o código e sua elaboração.*"
   ]
  },
  {
   "cell_type": "markdown",
   "id": "a1241eb8-321d-4b18-a87f-5caeee7d2e1a",
   "metadata": {},
   "source": [
    "---\n",
    "## Antes de começar\n",
    "\n",
    "* **Leia as instruções** apresentadas no texto para compreender a demonstração;\n",
    "* **Não altere nada** no código apresentado na célula, a menos que o texto do notebook indique o contrário. Algumas modificações podem causar problemas na execução do código;\n",
    "* A execução do código em uma célula é feito clicando-se *dentro* dela para ativá-la (você verá um contorno ao redor da célula e o cursor de texto piscando). Em seguida clique em uma das opções de menu ou de botão como mostrado na figura abaixo. É possível executá-las também pressionando as teclas **SHIFT+ENTER** simultanemante no seu teclado;\n",
    "\n",
    "<center><img src=\"imgs/run.png\" width=900 height=278/></center>\n",
    "\n",
    "* O símbolo **[   ]:** próximo ao canto superior esquerdo de cada célula indica o estado de execução da célula. Quando ele está vazio a célula ainda não foi executada. Ao iniciar a execução, um asterisco ($*$) irá aparecer dentro dos colchetes. A execução é concluída sem problemas quando o $*$ dentro dos colchetes for substituído por um número e nenhuma mensagem de erro aparecer abaixo da célula executada;\n",
    "* As células podem ser executadas repetidas vezes, porém é recomendável que sejam executadas **uma por vez e na ordem em que aparecem no notebook** para evitar erros de execução;\n",
    "* As suas modificações **não serão salvas**. Caso você faça alguma alteração que cause o mal funcionamento do código e não consiga desfazê-la, basta atualizar a página do notebook.\n",
    "\n",
    "**Execute a célula de código abaixo para carregar o módulo com os códigos que serão utilizados neste notebook.**"
   ]
  },
  {
   "cell_type": "code",
   "execution_count": null,
   "id": "economic-consciousness",
   "metadata": {},
   "outputs": [],
   "source": [
    "import modulos.fourier as sf"
   ]
  },
  {
   "cell_type": "markdown",
   "id": "novel-quarterly",
   "metadata": {},
   "source": [
    "### 01. Onda quadrada\n",
    "\n",
    "Uma onda quadrada é uma função periódica definida como o sinal de uma senóide, ou seja, ela assume amplitude constante $a$ > 0 para valores positivos da senóide e amplitude constante $a$ < 0 onde a senóide é negativa.\n",
    "\n",
    "**Prática:** Defina valores na célula abaixo para os parâmetros correspondentes ao período ($T$, em segundos) e à amplitude ($a$, em unidades de amplitude) de uma onda quadrada. Considere $T$ = 2.0 s e $a$ = 1.0 ua. Defina também a janela de tempo para visualização da onda em 10.0 s. Em seguida, execute a célula para visualizar esta onda.\n",
    "\n",
    "Execute a célula abaixo para definir estes parâmetros."
   ]
  },
  {
   "cell_type": "code",
   "execution_count": null,
   "id": "toxic-regular",
   "metadata": {},
   "outputs": [],
   "source": [
    "a = 0.0\n",
    "T = 0.0\n",
    "janela_tempo = 0.0\n",
    "\n",
    "sf.executa_exercicio1(a, T, janela_tempo)       # não altere nada nesta linha!"
   ]
  },
  {
   "cell_type": "markdown",
   "id": "julian-presentation",
   "metadata": {},
   "source": [
    "### 02. Aproximação por série de Fourier\n",
    "\n",
    "A série de Fourier é uma ferramenta matemática que permite representar uma função periódica qualquer através de um somatório infinito de senos e cossenos de múltiplos inteiros da frequência característica desta função. A frequência da função periódica recebe o nome de **frequência fundamental**, e seus múltiplos são denominados **harmônicos**. Uma função periódica qualquer de período $T$ pode ser representada através de uma série de Fourier $f(t)$ através da equação abaixo:\n",
    "\n",
    "$$f(t) = \\frac{a_0}{2} + \\sum_{n=1}^{\\infty}\\left[a_n cos\\left(\\frac{\\pi nt}{(T/2)}\\right) + b_n sen\\left(\\frac{\\pi nt}{(T/2)}\\right)\\right] $$\n",
    "\n",
    "em que $a_0$ é o coeficiente associado à meia amplitude da onda, $n$ é o número de harmônicos considerados para a série, $a_n$ e $b_n$ são os coeficientes associados a cada harmônico. A equação acima é equivalente a\n",
    "\n",
    "$$f(t) = \\frac{a_0}{2} + \\sum_{n=1}^{\\infty}\\left[a_n cos\\left(2 \\pi n f t\\right) + b_n sen\\left(2 \\pi n f t\\right)\\right]   $$\n",
    "\n",
    "se a série for escrita em termos da frequência fundamental $f = 1/T$.\n",
    "\n",
    "As equações acima representam a forma geral da série de Fourier, em que pode-se utilizar coeficientes específicos para representar diferentes formas de onda. Por exemplo, a série de Fourier que representa a onda quadrada configurada acima tem coeficientes $a_0 = 0$, $a_n$ = 0, $b_n = 0$ para harmônicos pares ($n$ = 0, 2, 4, ...), $b_n = (4A)/(n\\pi)$ para harmônicos ímpares ($n$ = 1, 3, 5, 7,...) e assume a forma\n",
    "\n",
    "$$ f(t) = \\sum_{n=1}^{\\infty}[b_n sen(2 \\pi nft)] $$\n",
    "\n",
    "\\begin{array}{ll}\n",
    "b_{n} = 0 & se & n \\:\\: é \\:\\: par\\\\\n",
    "b_{n} = (4A)/(n\\pi) & se & n \\:\\: é \\:\\: ímpar\\\\\n",
    "\\end{array}\n",
    "\n",
    "A dedução para obtenção dos coeficientes foge ao escopo desta demonstração, mas caso você queira entender o procedimento passo-a-passo de como estes coeficientes são obtidos pode assistir [esta sequência de vídeos da Khan Academy](https://www.khanacademy.org/science/electrical-engineering/ee-signals/ee-fourier-series/v/ee-fourier-series-intro) sobre o assunto (em inglês).\n",
    "\n",
    "Na prática não se pode definir um número infinito de harmônicos, de forma que deve-se estabelecer um valor limite de $n$ para o somatório, o qual será chamado de $N$. Então, a equação $f(t)$ para a onda quadrada fica reescrita considerando-se um número finito de harmônicos como\n",
    "\n",
    "$$ f(t) = \\sum_{n=1}^{N}[b_n sen(2 \\pi nft)] $$\n",
    "\n",
    "\\begin{array}{ll}\n",
    "b_{n} = 0 & se & n \\:\\: é \\:\\: par\\\\\n",
    "b_{n} = (4A)/(n\\pi) & se & n \\:\\: é \\:\\: ímpar\\\\\n",
    "\\end{array}\n",
    "\n",
    "**Prática:** Defina na célula abaixo o número máximo de harmônicos que serão somados na série e execute a célula para visualizar a onda dada pela série e compará-la com a onda quadrada original. Comece com $N$ = 1 harmônico e vá aumentando este valor gradativamente e executando a célula a cada alteração. Verifique o que acontece ao inserir um número par de harmônicos e ao inserir um número ímpar. Modifique os parâmetros da onda quandrada configurados acima e repita o procedimento, verificando o efeito sobre a aproximação."
   ]
  },
  {
   "cell_type": "code",
   "execution_count": null,
   "id": "ordered-yesterday",
   "metadata": {},
   "outputs": [],
   "source": [
    "N = 0\n",
    "\n",
    "sf.executa_exercicio2(a, T, janela_tempo, N)       # não altere nada nesta linha!"
   ]
  },
  {
   "cell_type": "markdown",
   "id": "boolean-efficiency",
   "metadata": {},
   "source": [
    "**Obs.** Para determinados valores de $n$ surgem picos próximos às bordas da onda quadrada. Este comportamento é denominado *fenômeno de Gibbs*, e surge em pontos em que a função a ser representada pela série de Fourier é caracterizada por uma descontinuidade."
   ]
  }
 ],
 "metadata": {
  "kernelspec": {
   "display_name": "Python 3 (ipykernel)",
   "language": "python",
   "name": "python3"
  },
  "language_info": {
   "codemirror_mode": {
    "name": "ipython",
    "version": 3
   },
   "file_extension": ".py",
   "mimetype": "text/x-python",
   "name": "python",
   "nbconvert_exporter": "python",
   "pygments_lexer": "ipython3",
   "version": "3.8.12"
  }
 },
 "nbformat": 4,
 "nbformat_minor": 5
}
