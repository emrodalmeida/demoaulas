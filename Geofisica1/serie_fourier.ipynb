{
 "cells": [
  {
   "cell_type": "markdown",
   "id": "polish-workshop",
   "metadata": {},
   "source": [
    "Notebook utilizado para apresentar uma breve introdução ao processamento de sinais.\n",
    "Criado para a disciplina Geofísica I da Universidade Federal de Uberlândia.\n",
    "O uso e a reprodução são livres para fins educacionais, pede-se apenas a citação da fonte.\n",
    "\n",
    "[![License: GPL v3](https://img.shields.io/badge/License-GPLv3-blue.svg)](https://www.gnu.org/licenses/gpl-3.0)\n",
    "\n",
    "Prof. Dr. Emerson Rodrigo Almeida<br>\n",
    "Universidade Federal de Uberlândia<br>\n",
    "Instituto de Geografia - Curso de Geologia<br>\n",
    "emerson.almeida@ufu.br<br>\n",
    "\n",
    "<p>&nbsp;</p>\n",
    "Última modificação: 10/03/2021"
   ]
  },
  {
   "cell_type": "markdown",
   "id": "physical-pottery",
   "metadata": {},
   "source": [
    "# Instruções iniciais\n",
    "\n",
    "Neste notebook você irá aprender como um sinal periódico qualquer pode ser representado através de um somatório de funções seno e cosseno.\n",
    "\n",
    "Não se preocupe em compreender o código em si, não é obrigatório que você conheça a programação para obter e interpretar os resultados da demonstração. Mesmo assim, sinta-se livre caso queira perguntar qualquer coisa para aprender mais sobre o código e sua elaboração.\n",
    "\n",
    "<p>&nbsp;</p>\n",
    "\n",
    "\n",
    "### Passo 01 - Preparação\n",
    "\n",
    "Primeiramente vamos preparar o notebook com os módulos e funções que precisaremos no decorrer da demonstração.\n",
    "\n",
    "Você pode executar o código na célula clicando sobre ela e em seguida clicando no botão **RUN** na barra do Jupyter Notebook ou pressionando as teclas **SHIFT+ENTER** no seu teclado.\n",
    "\n",
    "<p>&nbsp;</p>\n",
    "\n",
    "**Importante!** Nem todas as células irão retornar algum tipo de mensagem ou figura após a execução. Isto é normal e não significa que a execução tenha falhado. Perceba o símbolo **In [   ]:** próximo ao canto superior esquerdo de cada célula. Ao iniciar a execução de uma delas você verá um asterisco ($*$) aparecer dentro dos colchetes. Você saberá que a execução ocorreu sem problemas quando o $*$ dentro dos colchetes for substituído por um número e nenhuma mensagem de erro aparecer abaixo da célula executada. "
   ]
  },
  {
   "cell_type": "code",
   "execution_count": null,
   "id": "e3887d1d-292b-497b-a7c9-338505059c12",
   "metadata": {},
   "outputs": [],
   "source": [
    "import modulos.fourier as mf"
   ]
  },
  {
   "cell_type": "markdown",
   "id": "novel-quarterly",
   "metadata": {},
   "source": [
    "# Passo 02 - Definição da onda quadrada\n",
    "\n",
    "Primeiramente vamos definir os parâmetros que definem nossa onda quadrada, que são seu período ($T$) e sua amplitude ($A$). Vamos considerar $T$ = 2.0 s e $A$ = 1.0 ua. Vamos estabelecer também a janela de tempo para visualização da onda em 10.0 s.\n",
    "\n",
    "Execute a célula abaixo para definir estes parâmetros e visualizar a onda."
   ]
  },
  {
   "cell_type": "code",
   "execution_count": null,
   "id": "toxic-regular",
   "metadata": {},
   "outputs": [],
   "source": [
    "amp = 1.0                            # amplitude em ua\n",
    "janela_tempo = 10.0                  # janela de tempo em segundos\n",
    "periodo = 4.0                        # período da onda em segundos\n",
    "\n",
    "onda, tempo = mf.gera_onda_quadrada(janela_tempo, periodo, amp)\n",
    "mf.plota_onda_quadrada(tempo, onda, periodo)"
   ]
  },
  {
   "cell_type": "markdown",
   "id": "registered-alcohol",
   "metadata": {},
   "source": [
    "Vamos agora gerar a onda quadrada visualizá-la executando a célula abaixo:"
   ]
  },
  {
   "cell_type": "markdown",
   "id": "julian-presentation",
   "metadata": {},
   "source": [
    "# Passo 03 - Aproximação por série de Fourier\n",
    "\n",
    "A série de Fourier é uma ferramenta matemática que permite representar uma função periódica qualquer através de um somatório infinito de senos e cossenos de múltiplos inteiros da frequência característica desta função. A frequência da função periódica recebe o nome de *frequência fundamental*, e seus múltiplos são denominados *harmônicos*. Uma função periódica qualquer de período $T$ pode ser representada através de uma série de Fourier $f(t)$ através da equação abaixo:\n",
    "\n",
    "$$f(t) = \\frac{a_0}{2} + \\sum_{n=1}^{\\infty}\\left[a_n cos\\left(\\frac{\\pi nt}{(T/2)}\\right) + b_n sen\\left(\\frac{\\pi nt}{(T/2)}\\right)\\right] $$\n",
    "\n",
    "em que $a_0$ é o coeficiente associado à meia amplitude da onda, $n$ é o número de harmônicos considerados para a série, $a_n$ e $b_n$ são os coeficientes associados a cada harmônico. A equação acima é equivalente a\n",
    "\n",
    "$$f(t) = \\frac{a_0}{2} + \\sum_{n=1}^{\\infty}\\left[a_n cos\\left(2 \\pi n f t\\right) + b_n sen\\left(2 \\pi n f t\\right)\\right]   $$\n",
    "\n",
    "se quisermos escrever a série em termos da frequência fundamental $f = 1/T$.\n",
    "\n",
    "As equações acima representam a forma geral da série de Fourier, em que pode-se utilizar coeficientes específicos para representar diferentes formas de onda. Por exemplo, a série de Fourier que representa a onda quadrada mostrada na Figura 1 tem coeficientes $a_0 = 0$, $a_n$ = 0, $b_n = 0$ para harmônicos pares ($n$ = 0, 2, 4, ...), $b_n = (4A)/(n\\pi)$ para harmônicos ímpares ($n$ = 1, 3, 5, 7,...) e assume a forma\n",
    "\n",
    "$$ f(t) = \\sum_{n=1}^{\\infty}[b_n sen(2 \\pi nft)] $$\n",
    "\n",
    "\\begin{array}{ll}\n",
    "b_{n} = 0 & se & n \\:\\: é \\:\\: par\\\\\n",
    "b_{n} = (4A)/(n\\pi) & se & n \\:\\: é \\:\\: ímpar\\\\\n",
    "\\end{array}\n",
    "\n",
    "\n",
    "A dedução para obtenção dos coeficientes foge ao escopo desta demonstração, mas caso você queira entender um passo-a-passo de como estes coeficientes são obtidos recomendo assistir [esta sequência de vídeos da Khan Academy sobre o assunto](https://www.khanacademy.org/science/electrical-engineering/ee-signals/ee-fourier-series/v/ee-fourier-series-intro) (em inglês).\n",
    "\n",
    "Na prática não se pode definir um número infinito de harmônicos, de forma que precisamos estabelecer um valor limite de $n$ para o somatório, o qual chamaremos de $N$. Então, a equação $f(t)$ para a onda quadrada fica reescrita considerando-se um número finito de harmônicos como\n",
    "\n",
    "$$ f(t) = \\sum_{n=1}^{N}[b_n sen(2 \\pi nft)] $$\n",
    "\n",
    "\\begin{array}{ll}\n",
    "b_{n} = 0 & se & n \\:\\: é \\:\\: par\\\\\n",
    "b_{n} = (4A)/(n\\pi) & se & n \\:\\: é \\:\\: ímpar\\\\\n",
    "\\end{array}\n",
    "\n",
    "Defina o número máximo de harmônicos que serão somados na série executando a célula abaixo e execute-a para visualizar a função $f(t)$."
   ]
  },
  {
   "cell_type": "code",
   "execution_count": null,
   "id": "ordered-yesterday",
   "metadata": {},
   "outputs": [],
   "source": [
    "N = 1        # número de harmônicos considerados no somatório\n",
    "\n",
    "f_t = mf.calcula_serie(tempo, N, periodo, amp)\n",
    "mf.plota_serie(tempo, f_t, onda, N)"
   ]
  },
  {
   "cell_type": "markdown",
   "id": "boolean-efficiency",
   "metadata": {},
   "source": [
    "Aumente gradualmente o número de harmômicos que compõem o sinal. Você perceberá que para determinados valores de $n$ surgem picos próximos às bordas da onda quadrada. Este comportamento é denominado *fenômeno de Gibbs*, e surge em pontos em que a função a ser representada pela série de Fourier é caracterizada por uma descontinuidade."
   ]
  }
 ],
 "metadata": {
  "kernelspec": {
   "display_name": "Python 3 (ipykernel)",
   "language": "python",
   "name": "python3"
  },
  "language_info": {
   "codemirror_mode": {
    "name": "ipython",
    "version": 3
   },
   "file_extension": ".py",
   "mimetype": "text/x-python",
   "name": "python",
   "nbconvert_exporter": "python",
   "pygments_lexer": "ipython3",
   "version": "3.8.0"
  }
 },
 "nbformat": 4,
 "nbformat_minor": 5
}
