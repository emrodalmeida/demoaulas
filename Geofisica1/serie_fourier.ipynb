{
 "cells": [
  {
   "cell_type": "code",
   "execution_count": null,
   "id": "deadly-cleanup",
   "metadata": {},
   "outputs": [],
   "source": [
    "\"\"\"\n",
    "Notebook utilizado para apresentar uma breve introdução ao processamento de sinais.\n",
    "Criado para a disciplina Geofísica I da Universidade Federal de Uberlândia.\n",
    "\n",
    "Protegido por licença GPL v3.0. O uso e a reprodução são livres para fins educacionais\n",
    "desde que citada a fonte.\n",
    "\n",
    "Prof. Dr. Emerson Rodrigo Almeida\n",
    "Universidade Federal de Uberlândia\n",
    "Instituto de Geografia - Curso de Geologia\n",
    "emerson.almeida@ufu.br\n",
    "\n",
    "Última modificação: 05/02/2021\n",
    "\"\"\""
   ]
  },
  {
   "cell_type": "markdown",
   "id": "physical-pottery",
   "metadata": {},
   "source": [
    "# Instruções iniciais\n",
    "\n",
    "Neste notebook você irá aprender como um sinal periódico qualquer pode ser representado através de um somatório de funções seno e cosseno. Para isto leia atentamente as instruções apresentadas antes de cada célula e execute-as uma a uma, para acompanhar o processo corretamente.\n",
    "\n",
    "Não se preocupe em compreender o código em si, não é obrigatório que você conheça a programação para obter e interpretar os resultados da demonstração. Mesmo assim, sinta-se livre caso queira perguntar qualquer coisa para aprender mais sobre o código e sua elaboração.\n",
    "\n",
    "<p>&nbsp;</p>\n",
    "\n",
    "\n",
    "### Passo 01 - Preparação\n",
    "\n",
    "Primeiramente vamos preparar o notebook com os módulos e funções que precisaremos no decorrer da demonstração. A célula abaixo contém as funções utilizadas nos cálculos e as funções utilizadas para gerar as figuras. Execute-a uma vez antes de executar qualquer outra parte do código e **não altere nada no código apresentado na célula** para não criar problemas na execução do código.\n",
    "\n",
    "Você pode executar o código na célula clicando sobre ela e em seguida clicando no botão **RUN** na barra do Jupyter Notebook ou pressionando as teclas **SHIFT+ENTER** no seu teclado.\n",
    "\n",
    "<p>&nbsp;</p>\n",
    "\n",
    "**Importante!** Nem todas as células irão retornar algum tipo de mensagem ou saída gráfica após a execução. Isto é normal e não significa que a execução tenha falhado. Perceba o símbolo **In [   ]:** próximo ao canto superior esquerdo de cada célula. Ao iniciar a execução de uma delas você verá um asterisco ($*$) aparecer dentro dos colchetes. Você saberá que a execução ocorreu sem problemas quando o $*$ dentro dos colchetes for substituído por um número e nenhuma mensagem de erro aparecer abaixo da célula executada. "
   ]
  },
  {
   "cell_type": "code",
   "execution_count": null,
   "id": "economic-consciousness",
   "metadata": {},
   "outputs": [],
   "source": [
    "import numpy as np\n",
    "from matplotlib import pyplot as plt\n",
    "%matplotlib inline\n",
    "\n",
    "\n",
    "# funções utilizadas pra os cálculos\n",
    "\n",
    "def gera_onda_quadrada(t_w, T, A):\n",
    "    \"\"\"\n",
    "    Gera a forma de onda quadrada de referência\n",
    "    \"\"\"\n",
    "    \n",
    "    t_w = np.arange(0, t_w, t_w/1000)\n",
    "    s_w = A * np.sign(np.sin(2 * np.pi * (1/T) * t_w))\n",
    "    \n",
    "    return s_w, t_w\n",
    "    \n",
    "\n",
    "def calcula_serie(tt, nh, T, A):\n",
    "    \"\"\"\n",
    "    Calcula o somatório da série de Fourier para a onda quadrada    \n",
    "    \"\"\"\n",
    "    \n",
    "    ww = 2 * np.pi * (1/T)              # frequência angular\n",
    "    y = np.zeros(np.shape(tt))          # inicializa com valores de a0, que para esta onda vai ser zero\n",
    "\n",
    "    for n in range(1, nh+1):\n",
    "        \n",
    "        if n%2 != 0:\n",
    "            bn = (4.0 * A) / (np.pi * n)\n",
    "        else:\n",
    "            bn = 0\n",
    "\n",
    "        y = y + (bn * np.sin(n * ww * tt))\n",
    "        \n",
    "    return y\n",
    "    \n",
    "    \n",
    "# funções utilizadas para as figuras\n",
    "    \n",
    "def plota_onda_quadrada(tt, sw, T):\n",
    "    \"\"\"\n",
    "    Plota a forma de onda quadrada dentro da janela temporal definida\n",
    "    \"\"\"\n",
    "    \n",
    "    fig, ax = plt.subplots(figsize=(15,5))\n",
    "    ax.plot(tt, sw, '-b')\n",
    "    ax.set_title(\"Figura 1. Onda quadrada de período \" + str(T) + \" segundos\", fontsize=14)\n",
    "    ax.set_xlim([0, tt[-1]])\n",
    "    ax.set_ylim([np.min(sw)+0.25*np.min(sw), np.max(sw)+0.25*np.max(sw)])\n",
    "    ax.set_xlabel(\"Tempo (s)\", fontsize=14)\n",
    "    ax.set_ylabel(\"Amplitude (ua)\", fontsize=14)\n",
    "    ax.grid()\n",
    "\n",
    "    \n",
    "def plota_serie(tt, s_t, sw, nh):\n",
    "    \"\"\"\n",
    "    Plota a representação da onda calculada pela série de Fourier sobreposta à onda quadrada original\n",
    "    \"\"\"\n",
    "    \n",
    "    if nh==1:\n",
    "        plural = ''\n",
    "    else:\n",
    "        plural = 's'\n",
    "    \n",
    "    fig, ax = plt.subplots(figsize=(15,5))\n",
    "    ax.plot(tt, sw, '--b', label='Onda quadrada')\n",
    "    ax.plot(tt, s_t, '-r', label='$f(t)$ calculada')\n",
    "    ax.set_title(\"Figura 2. Comparação entre a onda quadrada e a aproximação\" \\\n",
    "                 \"pela série de Fourier com \" + str(N) + \" harmônico\" + plural, fontsize=14)\n",
    "    ax.set_xlim([0, tt[-1]])\n",
    "    ax.set_xlabel(\"Tempo (s)\", fontsize=14)\n",
    "    ax.set_ylabel(\"Amplitude (ua)\", fontsize=14)\n",
    "    ax.grid()\n",
    "    ax.legend(loc='lower right', fontsize=12)\n",
    "    "
   ]
  },
  {
   "cell_type": "markdown",
   "id": "novel-quarterly",
   "metadata": {},
   "source": [
    "# Passo 02 - Definição da onda quadrada\n",
    "\n",
    "Primeiramente vamos definir os parâmetros que definem nossa onda quadrada, que são seu período ($T$) e sua amplitude ($A$). Vamos considerar $T$ = 2.0 s e $A$ = 1.0 ua. Vamos estabelecer também a janela de tempo para visualização da onda em 10.0 s.\n",
    "\n",
    "Execute a célula abaixo para definir estes parâmetros."
   ]
  },
  {
   "cell_type": "code",
   "execution_count": null,
   "id": "toxic-regular",
   "metadata": {},
   "outputs": [],
   "source": [
    "amp = 1.0                            # amplitude em ua\n",
    "janela_tempo = 10.0                  # janela de tempo em segundos\n",
    "periodo = 4.0                        # período da onda em segundos"
   ]
  },
  {
   "cell_type": "markdown",
   "id": "registered-alcohol",
   "metadata": {},
   "source": [
    "Vamos agora gerar a onda quadrada visualizá-la executando a célula abaixo:"
   ]
  },
  {
   "cell_type": "code",
   "execution_count": null,
   "id": "identified-factor",
   "metadata": {},
   "outputs": [],
   "source": [
    "onda, tempo = gera_onda_quadrada(janela_tempo, periodo, amp)\n",
    "plota_onda_quadrada(tempo, onda, periodo)"
   ]
  },
  {
   "cell_type": "markdown",
   "id": "julian-presentation",
   "metadata": {},
   "source": [
    "# Passo 03 - Aproximação por série de Fourier\n",
    "\n",
    "A série de Fourier é uma ferramenta matemática que permite representar uma função periódica qualquer através de um somatório infinito de senos e cossenos de múltiplos inteiros da frequência característica desta função. A frequência da função periódica recebe o nome de *frequência fundamental*, e seus múltiplos são denominados *harmônicos*. Uma função periódica qualquer de período $T$ pode ser representada através de uma série de Fourier $f(t)$ através da equação abaixo:\n",
    "\n",
    "$$f(t) = \\frac{a_0}{2} + \\sum_{n=1}^{\\infty}\\left[a_n cos\\left(\\frac{\\pi nt}{(T/2)}\\right) + b_n cos\\left(\\frac{\\pi nt}{(T/2)}\\right)\\right] $$\n",
    "\n",
    "em que $a_0$ é o coeficiente associado à meia amplitude da onda, $n$ é o número de harmônicos considerados para a série, $a_n$ e $b_n$ são os coeficientes associados a cada harmônico. A equação acima é equivalente a\n",
    "\n",
    "$$f(t) = \\frac{a_0}{2} + \\sum_{n=1}^{\\infty}\\left[a_n cos\\left(2 \\pi n f t\\right) + b_n sen\\left(2 \\pi n f t\\right)\\right]   $$\n",
    "\n",
    "se quisermos escrever a série em termos da frequência fundamental $f = 1/T$.\n",
    "\n",
    "As equações acima representam a forma geral da série de Fourier, em que pode-se utilizar coeficientes específicos para representar diferentes formas de onda. Por exemplo, a série de Fourier que representa a onda quadrada mostrada na Figura 1 tem coeficientes $a_0 = 0$, $a_n$ = 0, $b_n = 0$ para harmônicos pares ($n$ = 0, 2, 4, ...), $b_n = (4A)/(n\\pi)$ para harmônicos ímpares ($n$ = 1, 3,5 ,7 ,...) e assume a forma\n",
    "\n",
    "$$ f(t) = \\sum_{n=1}^{\\infty}[b_n cos(2 \\pi nft)] $$\n",
    "\n",
    "A dedução para obtenção dos coeficientes foge ao escopo desta demonstração, mas caso você queira entender como estes coeficientes são obtidos recomendo assistir [esta sequência de dez vídeos da Khan Academy sobre o assunto](https://www.khanacademy.org/science/electrical-engineering/ee-signals/ee-fourier-series/v/ee-fourier-series-intro) (em inglês).\n",
    "\n",
    "Na prática não se pode definir um número infinito de harmônicos, de forma que precisamos estabelecer um valor limite de $n$ para o somatório, o qual chamaremos de $N$. Então, a equação $f(t)$ para a onda quadrada fica reescrita considerando-se um número finito de harmônicos como\n",
    "\n",
    "$$ f(t) = \\sum_{n=1}^{N}[b_n cos(2 \\pi nft)] $$\n",
    "\n",
    "Defina o número máximo de harmônicos que serão somados na série executando a célula abaixo. Inicialmente utilizaremos apenas 1 harmônico."
   ]
  },
  {
   "cell_type": "code",
   "execution_count": null,
   "id": "ordered-yesterday",
   "metadata": {},
   "outputs": [],
   "source": [
    "N = 1        # número máximo de harmônicos"
   ]
  },
  {
   "cell_type": "markdown",
   "id": "enhanced-cruise",
   "metadata": {},
   "source": [
    "Agora execute a célula abaixo para visualizar a função $f(t)$."
   ]
  },
  {
   "cell_type": "code",
   "execution_count": null,
   "id": "proper-teacher",
   "metadata": {},
   "outputs": [],
   "source": [
    "f_t = calcula_serie(tempo, N, periodo, amp)\n",
    "plota_serie(tempo, f_t, onda, N)"
   ]
  },
  {
   "cell_type": "markdown",
   "id": "complete-hazard",
   "metadata": {},
   "source": [
    "**Pergunta:** Qual o período da função $f(t)$ calculada? Qual a sua amplitude? Agora volte à celula anterior e aumente o número de harmônicos. Verifique como fica a $f(t)$ calculada com $n$ = 2, 3, 4, 5, ..., $k$ harmônicos, onde $k$ é um número inteiro positivo qualquer. Como isto altera o comportamento da função? "
   ]
  },
  {
   "cell_type": "markdown",
   "id": "boolean-efficiency",
   "metadata": {},
   "source": [
    "Você perceberá que para determinados valores de $n$ surgem picos próximos às bordas da onda quadrada. Este comportamento é denominado *fenômeno de Gibbs*, e surge em pontos em que a função a ser representada pela série de Fourier é caracterizada por uma descontinuidade."
   ]
  },
  {
   "cell_type": "markdown",
   "id": "dedicated-arrow",
   "metadata": {},
   "source": [
    "# Exercício\n",
    "\n",
    "Modifique os parâmetros que caracterizam a onda quadrada na primeira célula do Passo 02. Utilize diferentes frequências e amplitudes, e verifique como isto afeta o número de harmônicos necessários para se obter uma boa representação da onda quadrada.\n",
    "\n",
    "**Observações: a)** Modifique apenas os números. Não modifique os nomes das variáveis, ou o código poderá haver problemas na execução do código. **b)** Utilize números com ponto decimal, exceto para o número de harmônicos $N$, que deve ser um número inteiro positivo. **c)** Após modificar os parâmetros do sinal analógico na célula correspondente será necessário executá-la e executar as células seguintes novamente, uma a uma e em ordem, para que as figuras sejam geradas corretamente. **d)** Caso tenha qualquer problema com a execução do código experimente clicar em \"Kernel > Restart & Clear Output\" na barra acima. Se o problema persistir entre em contato comigo reportando o problema em detalhes."
   ]
  },
  {
   "cell_type": "code",
   "execution_count": null,
   "id": "large-residence",
   "metadata": {},
   "outputs": [],
   "source": []
  }
 ],
 "metadata": {
  "kernelspec": {
   "display_name": "Python 3",
   "language": "python",
   "name": "python3"
  },
  "language_info": {
   "codemirror_mode": {
    "name": "ipython",
    "version": 3
   },
   "file_extension": ".py",
   "mimetype": "text/x-python",
   "name": "python",
   "nbconvert_exporter": "python",
   "pygments_lexer": "ipython3",
   "version": "3.8.5"
  }
 },
 "nbformat": 4,
 "nbformat_minor": 5
}
