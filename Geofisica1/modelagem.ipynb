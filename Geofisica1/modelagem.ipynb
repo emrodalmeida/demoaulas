{
 "cells": [
  {
   "cell_type": "markdown",
   "id": "phantom-metro",
   "metadata": {},
   "source": [
    "Notebook elaborado para apresentar o conceito de problema direto.\n",
    "Criado para a disciplina Geofísica I da Universidade Federal de Uberlândia.\n",
    "O uso e a reprodução são livres para fins educacionais, pede-se apenas a citação da fonte.\n",
    "\n",
    "[![License: GPL v3](https://img.shields.io/badge/License-GPLv3-blue.svg)](https://www.gnu.org/licenses/gpl-3.0)\n",
    "\n",
    "Prof. Dr. Emerson Rodrigo Almeida<br>\n",
    "Universidade Federal de Uberlândia<br>\n",
    "Instituto de Geografia - Curso de Geologia<br>\n",
    "emerson.almeida@ufu.br<br>\n",
    "\n",
    "<p>&nbsp;</p>\n",
    "Última modificação: 05/03/2021"
   ]
  },
  {
   "cell_type": "markdown",
   "id": "anticipated-terror",
   "metadata": {},
   "source": [
    "# Instruções iniciais\n",
    "\n",
    "Neste notebook você irá aprender os conceitos relacionados à solução de um problema direto e à estimativa de parâmetros de um modelo utilizando um conceito simples que certamente você já conhece. Para isto leia atentamente as instruções apresentadas antes de cada célula e execute-as uma a uma, para acompanhar o processo corretamente.\n",
    "\n",
    "Não se preocupe em compreender o código em si, não é obrigatório que você conheça a programação para obter e interpretar os resultados da demonstração. Mesmo assim, sinta-se livre caso queira perguntar qualquer coisa para aprender mais sobre o código e sua elaboração.\n",
    "\n",
    "<p>&nbsp;</p>\n",
    "\n",
    "### Passo 01 - Preparação\n",
    "\n",
    "Primeiramente vamos preparar o notebook com os módulos e funções que precisaremos no decorrer da demonstração. A célula abaixo contém as funções utilizadas nos cálculos e as funções utilizadas para gerar as figuras. Execute-a uma vez antes de executar qualquer outra parte do código e **não altere nada no código apresentado na célula** para não criar problemas na execução do código.\n",
    "\n",
    "Você pode executar o código na célula clicando sobre ela e em seguida clicando no botão **RUN** na barra do Jupyter Notebook ou pressionando as teclas **SHIFT+ENTER** no seu teclado.\n",
    "\n",
    "<p>&nbsp;</p>\n",
    "\n",
    "**Importante!** Nem todas as células irão retornar algum tipo de mensagem ou figura após a execução. Isto é normal e não significa que a execução tenha falhado. Perceba o símbolo **In [   ]:** próximo ao canto superior esquerdo de cada célula. Ao iniciar a execução de uma delas você verá um asterisco ($*$) aparecer dentro dos colchetes. Você saberá que a execução ocorreu sem problemas quando o $*$ dentro dos colchetes for substituído por um número e nenhuma mensagem de erro aparecer abaixo da célula executada. "
   ]
  },
  {
   "cell_type": "code",
   "execution_count": null,
   "id": "0446cdb5-e385-4dfc-9f71-de785138ac9d",
   "metadata": {},
   "outputs": [],
   "source": [
    "import modulos.ambiguidade as ab"
   ]
  },
  {
   "cell_type": "markdown",
   "id": "hairy-jumping",
   "metadata": {},
   "source": [
    "### Passo 02 - Dados Observados\n",
    "\n",
    "Os dados preditos correspondem a aqueles coletados em campo. Considere o seguinte exemplo: uma aquisição de dados que corresponde à observação de um corpo em queda livre a partir de uma posição de repouso, em que a cada 0.5 segundo é anotada a distância deste corpo em relação à sua posição inicial. Os dados observados correspondem ao conjunto de posições anotadas a cada intervalo de tempo. \n",
    "\n",
    "Execute a célula abaixo para gerar uma representação gráfica destes dados."
   ]
  },
  {
   "cell_type": "code",
   "execution_count": null,
   "id": "deluxe-farming",
   "metadata": {},
   "outputs": [],
   "source": [
    "ab.d_observ(ab.t, ab.s_o)"
   ]
  },
  {
   "cell_type": "markdown",
   "id": "engaging-column",
   "metadata": {},
   "source": [
    "Digamos que você queira utilizar estes dados para estimar a aceleração que este corpo apresenta durante sua trajetória. Para isto você precisa de uma equação que defina o comportamento de queda deste corpo. Esta equação será o seu **problema direto**, onde são consideradas as questões relacionadas à física do problema e onde você pode simular o comportamento fornecendo os **parâmetros do modelo** que deseja. Há uma equação que já é sua conhecida e que você pode aplicar nesta situação:\n",
    "\n",
    "$$ s = s_i + v_i * t + 0.5 * a * t^2 $$\n",
    "\n",
    "em que $s_f$ é a posição do corpo após um tempo $t$, $s_i$ é a posição inicial do corpo, $v_i$ é a sua velocidade inicial e $a$ é a sua aceleração, que é exatamente o que você quer estimar. É claro que você deve estar pensando: \"*Basta reorganizar os termos da equação isolando a do lado esquerdo e calculá-lo a partir de um tempo t em que a posição do corpo foi observada*\". Você tem razão, é possível e muito mais inteligente adotar este procedimento *para este exemplo*, por que o problema apresentado é definido como linear (i.e., os dados relacionam-se linearmente aos parâmetros) e bem-posto (admite solução única). Este exemplo foi colocado aqui para que você possa trabalhar com um conceito que já lhe seja familiar. De qualquer maneira, ao pensar desta maneira você intuitivamente considerou o problema em sua **forma inversa**, onde você tenta estimar o parâmetro ($a$) a partir dos dados observados ($s$)."
   ]
  },
  {
   "cell_type": "markdown",
   "id": "adjacent-translation",
   "metadata": {},
   "source": [
    "### Passo 03 - Dados Preditos\n",
    "\n",
    "Então você tem os dados observados e uma equação que define o comportamento do corpo em queda livre. De posse destas informações, você pode estimar a aceleração do corpo através de uma **modelagem**: você irá fornecer valores de aceleração que considera plausíveis, irá calcular as posições correspondentes a esta aceleração de acordo com a equação da queda livre do corpo, e irá verificar se os valores calculados são próximos aos valores de posição que você observou. Estes dados calculados na modelagem correspondem aos **dados preditos**, e sua correspondência em relação aos dados observados será quantificada através de um **erro de ajuste**. Neste exemplo usaremos a medida de erro RMS (root mean square), dada por:\n",
    "\n",
    "$$ ERR = \\sqrt{\\frac{\\sum_{i=1}^{N}(do_{i} - dp_{i})^2}{N}} $$\n",
    "\n",
    "ou, percentualmente, por:\n",
    "\n",
    "$$ ERR(\\%) = \\sqrt{\\frac{\\sum_{i=1}^{N}(\\frac{do_{i} - dp_{i}}{do_{i}})^2}{N}} * 100 $$\n",
    "\n",
    "onde $dp$ são os dados preditos e $do$ são os dados observados. Assim, na célula abaixo escreva um valor numérico para a variável $a$ diferente de zero e, em seguida, execute a célula para obter um conjunto de dados preditos (ou modelados) e verificar se eles se ajustam aos dados observados."
   ]
  },
  {
   "cell_type": "code",
   "execution_count": null,
   "id": "cardiovascular-penguin",
   "metadata": {},
   "outputs": [],
   "source": [
    "a = 0.0              # <--------------- insira sua estimativa nesta linha, no lugar do 0.0 \n",
    "\n",
    "s_pred = ab.fwd(ab.t, a)\n",
    "ab.ajuste(ab.t, s_pred, ab.s_o)"
   ]
  },
  {
   "cell_type": "markdown",
   "id": "smart-chair",
   "metadata": {},
   "source": [
    "Se você fez uma estimativa correta logo na primeira tentativa parabéns, você conseguiu modelar a aceleração do corpo. Se não conseguiu, você pode tentar novamente até conseguir estimar melhor este valor. Este processo de tentativa e erro que você fez é a **modelagem**.\n",
    "\n",
    "Este procedimento torna-se mais complexo quando você aumenta o número de variáveis que influenciam os seus dados observados. Tome o mesmo exemplo acima, mas considere agora que o corpo não partiu do repouso (i.e., $v_0 \\neq 0$) e de uma posição $s_0 \\neq 0$. Execute a célula abaixo para modelar uma nova curva de dados envolvendo o mesmo problema, porém agora você precisará fornecer valores de $v_0$ e $s_0$ também."
   ]
  },
  {
   "cell_type": "code",
   "execution_count": null,
   "id": "alternate-plain",
   "metadata": {},
   "outputs": [],
   "source": [
    "a = 0.0           # <--------------- insira sua estimativa nesta linha, no lugar do 0.0 \n",
    "v0 = 0.0          # <--------------- insira sua estimativa nesta linha, no lugar do 0.0 \n",
    "s0 = 0.0          # <--------------- insira sua estimativa nesta linha, no lugar do 0.0 \n",
    "\n",
    "\n",
    "s_pred2 = ab.fwd(ab.t, a, v0=v0, s0=s0)\n",
    "ab.ajuste(ab.t, s_pred2, ab.s_o2[:,1])"
   ]
  },
  {
   "cell_type": "markdown",
   "id": "variable-headline",
   "metadata": {},
   "source": [
    "Pode ter sido um pouco mais complicado desta vez, mas é provável que você ainda tenha conseguido encontrar os valores corretos, porque o problema continua admitindo uma solução única. Em Geofísica os problemas dificilmente podem ser considerados lineares e/ou bem-postos, o que torna sua abordagem muito mais complexa.\n",
    "\n",
    "### Passo 04 - Problema não linear\n",
    "\n",
    "Considere agora um problema geofísico. Vamos usar a formulação de problema direto de um método geofísico real, porém o que nos interessa aqui é o conceito relacionado à modelagem e não o método em si. Então, vamos supor que trata-se de um método geofísico genérico que chamaremos de QLQR. Este método permite obter dados em função da densidade de um corpo geológico, da densidade da rocha ao redor deste corpo, da profundidade do corpo e do seu tamanho. A grandeza física medida é dada simplesmente em Unidades (U).\n",
    "\n",
    "Execute a célula abaixo para visualizar uma curva de medidas adquirida em um levantamento de campo."
   ]
  },
  {
   "cell_type": "code",
   "execution_count": null,
   "id": "aggregate-gospel",
   "metadata": {},
   "outputs": [],
   "source": [
    "ab.d_observ_bf(ab.x, ab.bf_obs*1e3)"
   ]
  },
  {
   "cell_type": "markdown",
   "id": "bright-ghana",
   "metadata": {},
   "source": [
    "Tente modelar este dado fornecendo os valores de densidade do corpo rochoso ($rho\\_c$) e da rocha encaixante ($rho\\_r$), bem como a profundidade ($prof$) do centro deste corpo e o seu tamanho aproximado (considere um corpo esférico de raio $raio$). Faça isso estimando os valores para cada variável e executando a célula abaixo:"
   ]
  },
  {
   "cell_type": "code",
   "execution_count": null,
   "id": "immune-theology",
   "metadata": {},
   "outputs": [],
   "source": [
    "rho_c = 0.0           # <--------------- insira sua estimativa nesta linha, no lugar do 0.0 \n",
    "rho_r = 0.0           # <--------------- insira sua estimativa nesta linha, no lugar do 0.0 \n",
    "raio = 0.0            # <--------------- insira sua estimativa nesta linha, no lugar do 0.0 \n",
    "prof = 0.0            # <--------------- insira sua estimativa nesta linha, no lugar do 0.0 \n",
    "\n",
    "bf_pred = ab.fwd_esfera(rho_c, rho_r, raio, prof, ab.x)\n",
    "ab.ajuste_bf(ab.x, bf_pred*1e3, ab.bf_obs*1e3)"
   ]
  },
  {
   "cell_type": "markdown",
   "id": "environmental-taste",
   "metadata": {},
   "source": [
    "Tente conseguir o menor erro possível. Quando conseguir, compare seu resultado com o resultado dos seus colegas (não copie o resultado, a ideia é justamente fazer a comparação dos modelos que vocês conseguiram!)."
   ]
  }
 ],
 "metadata": {
  "kernelspec": {
   "display_name": "Python 3 (ipykernel)",
   "language": "python",
   "name": "python3"
  },
  "language_info": {
   "codemirror_mode": {
    "name": "ipython",
    "version": 3
   },
   "file_extension": ".py",
   "mimetype": "text/x-python",
   "name": "python",
   "nbconvert_exporter": "python",
   "pygments_lexer": "ipython3",
   "version": "3.8.0"
  }
 },
 "nbformat": 4,
 "nbformat_minor": 5
}
