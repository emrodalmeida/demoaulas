{
 "cells": [
  {
   "cell_type": "code",
   "execution_count": 1,
   "metadata": {
    "id": "KCIZ0F4KV3nW"
   },
   "outputs": [],
   "source": [
    "# importa e instala o SimPEG - Célula exclusiva para execução em ambiente remoto\n",
    "\n",
    "# baseado no exemplo em https://docs.simpeg.xyz/content/tutorials/03-gravity/plot_1a_gravity_anomaly.html#sphx-glr-content-tutorials-03-gravity-plot-1a-gravity-anomaly-py\n",
    "\n",
    "# !git clone https://github.com/simpeg/simpeg\n",
    "# %cd simpeg\n",
    "# !pip install -r requirements.txt\n",
    "# !python setup.py install\n",
    "\n",
    "import numpy as np\n",
    "from scipy.interpolate import LinearNDInterpolator\n",
    "import matplotlib as mpl\n",
    "import matplotlib.pyplot as plt\n",
    "import os\n",
    "\n",
    "from discretize import TensorMesh\n",
    "from discretize.utils import mkvc\n",
    "\n",
    "from SimPEG.utils import plot2Ddata, model_builder, surface2ind_topo\n",
    "from SimPEG import maps\n",
    "from SimPEG.potential_fields import gravity"
   ]
  },
  {
   "cell_type": "markdown",
   "metadata": {
    "id": "D-_q-Bs0XrE2"
   },
   "source": [
    "### Defining Topography\n",
    "Surface topography is defined as an (N, 3) numpy array. We create it here but the topography could also be loaded from a file."
   ]
  },
  {
   "cell_type": "code",
   "execution_count": 98,
   "metadata": {
    "executionInfo": {
     "elapsed": 845,
     "status": "ok",
     "timestamp": 1613342100422,
     "user": {
      "displayName": "Emerson Almeida",
      "photoUrl": "",
      "userId": "00762844264177541394"
     },
     "user_tz": 180
    },
    "id": "MTA-DvJbkiCa"
   },
   "outputs": [],
   "source": [
    "def config_espaco(xx, yy, topografia=None):\n",
    "    \"\"\"\n",
    "    Define a topografia do modelo.\n",
    "    x_max: comprimento máximo do modelo na direção X\n",
    "    y_max: comprimento máximo do modelo na direção Y\n",
    "    topografia: array 2D com os valores de elevação e de tamanho (ny, nx)\n",
    "    \"\"\"\n",
    "\n",
    "    [x_topo, y_topo] = np.meshgrid(xx, yy)\n",
    "    \n",
    "    if topografia=='default':\n",
    "        z_topo = -15.0 * np.exp(-(x_topo ** 2 + y_topo ** 2) / 80 ** 2)\n",
    "    \n",
    "    elif not topografia:\n",
    "        z_topo = np.zeros((len(yy), len(xx)))\n",
    "\n",
    "    x_topo = mkvc(x_topo)\n",
    "    y_topo = mkvc(y_topo)\n",
    "    z_topo = mkvc(z_topo)\n",
    "\n",
    "    xyz_topo = np.c_[x_topo, y_topo, z_topo]\n",
    "\n",
    "    return xyz_topo\n"
   ]
  },
  {
   "cell_type": "code",
   "execution_count": 112,
   "metadata": {
    "executionInfo": {
     "elapsed": 680,
     "status": "ok",
     "timestamp": 1613342101961,
     "user": {
      "displayName": "Emerson Almeida",
      "photoUrl": "",
      "userId": "00762844264177541394"
     },
     "user_tz": 180
    },
    "id": "L-4A--q3XqWH"
   },
   "outputs": [
    {
     "name": "stdout",
     "output_type": "stream",
     "text": [
      "[[-2.00000000e+02 -2.00000000e+02 -5.58997976e-05]\n",
      " [-2.00000000e+02 -1.90000000e+02 -1.02815463e-04]\n",
      " [-2.00000000e+02 -1.80000000e+02 -1.83288380e-04]\n",
      " ...\n",
      " [ 2.00000000e+02  1.80000000e+02 -1.83288380e-04]\n",
      " [ 2.00000000e+02  1.90000000e+02 -1.02815463e-04]\n",
      " [ 2.00000000e+02  2.00000000e+02 -5.58997976e-05]]\n"
     ]
    }
   ],
   "source": [
    "eixo_x = [400.0, 10.0]      # [comprimento, delta]\n",
    "eixo_y = [400.0, 10.0]      # [comprimento, delta]\n",
    "\n",
    "espaco_modelo = config_espaco(np.linspace(-1 * eixo_x[0]/2, eixo_x[0]/2, 1 + int(eixo_x[0]/eixo_x[1])), \\\n",
    "                              np.linspace(-1 * eixo_y[0]/2, eixo_y[0]/2, 1 + int(eixo_y[0]/eixo_y[1])), \\\n",
    "                              topografia='default')"
   ]
  },
  {
   "cell_type": "code",
   "execution_count": 4,
   "metadata": {
    "executionInfo": {
     "elapsed": 632,
     "status": "ok",
     "timestamp": 1613347484389,
     "user": {
      "displayName": "Emerson Almeida",
      "photoUrl": "",
      "userId": "00762844264177541394"
     },
     "user_tz": 180
    },
    "id": "GgAGpXDaX1fD"
   },
   "outputs": [],
   "source": [
    "def config_aquisicao(x_lims, nx, y_lims, ny):\n",
    "    \n",
    "    \"\"\"\n",
    "    Define os pontos do levantamento\n",
    "    \"\"\"\n",
    "    \n",
    "    coord_x = np.linspace(x_lims[0], x_lims[1], nx)\n",
    "    coord_y = np.linspace(y_lims[0], y_lims[1], ny)\n",
    "    x, y = np.meshgrid(coord_x, coord_y)\n",
    "\n",
    "    x = mkvc(x.T)\n",
    "    y = mkvc(y.T)\n",
    "\n",
    "    # cria a função de interpolação para o espaço do modelo\n",
    "    fun_interp = LinearNDInterpolator(np.c_[mod_space[:, 0], mod_space[:, 1]], mod_space[:, 2])\n",
    "\n",
    "    # interpola as coordenadas das estações e coloca 5.0 m acima da superfície\n",
    "    z = fun_interp(np.c_[x, y])\n",
    "\n",
    "    receiver_locations = np.c_[x, y, z]\n",
    "\n",
    "    # Define the component(s) of the field we want to simulate as strings within\n",
    "    # a list. Here we simulate only the vertical component of gravity anomaly.\n",
    "    components = ['gz']\n",
    "\n",
    "    # Use the observation locations and components to define the receivers. To\n",
    "    # simulate data, the receivers must be defined as a list.\n",
    "    receiver_list = gravity.receivers.Point(receiver_locations, components=components)\n",
    "\n",
    "    receiver_list = [receiver_list]\n",
    "\n",
    "    # Defining the source field.\n",
    "    source_field = gravity.sources.SourceField(receiver_list=receiver_list)\n",
    "\n",
    "    # Defining the survey\n",
    "    survey = gravity.survey.Survey(source_field)    # é um objeto\n",
    "\n",
    "    return survey"
   ]
  },
  {
   "cell_type": "code",
   "execution_count": 97,
   "metadata": {},
   "outputs": [
    {
     "data": {
      "text/plain": [
       "<Axes3DSubplot:xlabel='x1', ylabel='x2'>"
      ]
     },
     "execution_count": 97,
     "metadata": {},
     "output_type": "execute_result"
    },
    {
     "data": {
      "image/png": "[encoded data removed]",
      "text/plain": [
       "<Figure size 432x288 with 1 Axes>"
      ]
     },
     "metadata": {
      "needs_background": "light"
     },
     "output_type": "display_data"
    }
   ],
   "source": [
    "# eixo definido no modelo\n",
    "x, y = np.linspace(-300, 300, 41), np.linspace(0, 200, 41)\n",
    "z = np.linspace(0, 200, 41)\n",
    "\n",
    "# discretização\n",
    "dx, dy, dz = 10.0, 10.0, 10.0     # tamanho da célula - o usuário só mexe aqui\n",
    "\n",
    "nx = int((np.max(x)-np.min(x))/dx)\n",
    "ny = int((np.max(y)-np.min(y))/dy)\n",
    "nz = int((np.max(z)-np.min(z))/dz)\n",
    "\n",
    "hx = [(dx, nx)]\n",
    "hy = [(dy, ny)]\n",
    "hz = [(dz, nz)]\n",
    "\n",
    "TensorMesh([hx, hy, hz], 'CCN').plotGrid()"
   ]
  },
  {
   "cell_type": "code",
   "execution_count": 59,
   "metadata": {
    "colab": {
     "base_uri": "https://localhost:8080/",
     "height": 303
    },
    "executionInfo": {
     "elapsed": 1052,
     "status": "ok",
     "timestamp": 1613349104329,
     "user": {
      "displayName": "Emerson Almeida",
      "photoUrl": "",
      "userId": "00762844264177541394"
     },
     "user_tz": 180
    },
    "id": "zzI5bXoqYXkP",
    "outputId": "6232b3fa-542a-4c8e-cc25-a55aa95a551e"
   },
   "outputs": [
    {
     "data": {
      "image/png": "[encoded data removed]",
      "text/plain": [
       "<Figure size 432x288 with 1 Axes>"
      ]
     },
     "metadata": {
      "needs_background": "light"
     },
     "output_type": "display_data"
    },
    {
     "data": {
      "image/png": "[encoded data removed]",
      "text/plain": [
       "<Figure size 648x288 with 2 Axes>"
      ]
     },
     "metadata": {
      "needs_background": "light"
     },
     "output_type": "display_data"
    }
   ],
   "source": [
    "# Define density contrast values for each unit in g/cc\n",
    "background_density = 0.0\n",
    "block_density = -0.2\n",
    "sphere_density = 0.2\n",
    "\n",
    "\n",
    "# Defining a Tensor Mesh\n",
    "# Here, we create the tensor mesh that will be used to predict gravity anomaly data.\n",
    "dh = 5.0\n",
    "hx = [(dh, 5, -1.3), (dh, 40), (dh, 5, 1.3)]\n",
    "hy = [(dh, 5, -1.3), (dh, 40), (dh, 5, 1.3)]\n",
    "hz = [(dh, 5, -1.3), (dh, 15)]\n",
    "mesh = TensorMesh([hx, hy, hz], \"CCN\")\n",
    "\n",
    "\n",
    "# Find the indices for the active mesh cells (e.g. cells below surface)\n",
    "ind_active = surface2ind_topo(mesh, mod_space)\n",
    "\n",
    "# Define mapping from model to active cells. The model consists of a value for\n",
    "# each cell below the Earth's surface.\n",
    "nC = int(ind_active.sum())\n",
    "model_map = maps.IdentityMap(nP=nC)\n",
    "\n",
    "# Define model. Models in SimPEG are vector arrays.\n",
    "model = background_density * np.ones(nC)\n",
    "\n",
    "# You could find the indicies of specific cells within the model and change their\n",
    "# value to add structures.\n",
    "ind_block = (\n",
    "    (mesh.gridCC[ind_active, 0] > -150.0)      # xi\n",
    "    & (mesh.gridCC[ind_active, 0] < -120.0)    # xf\n",
    "    & (mesh.gridCC[ind_active, 1] > -15.0)    # yi\n",
    "    & (mesh.gridCC[ind_active, 1] < 15.0)     # yf\n",
    "    & (mesh.gridCC[ind_active, 2] > -50.0)    # zi\n",
    "    & (mesh.gridCC[ind_active, 2] < -30.0)    # zf\n",
    ")\n",
    "model[ind_block] = block_density\n",
    "\n",
    "# You can also use SimPEG utilities to add structures to the model more concisely\n",
    "ind_sphere = model_builder.getIndicesSphere(np.r_[35.0, 0.0, -40.0], 15.0, mesh.gridCC)\n",
    "ind_sphere = ind_sphere[ind_active]\n",
    "model[ind_sphere] = sphere_density\n",
    "\n",
    "# Plot Density Contrast Model\n",
    "fig = plt.figure(figsize=(9, 4))\n",
    "plotting_map = maps.InjectActiveCells(mesh, ind_active, np.nan)\n",
    "\n",
    "ax1 = fig.add_axes([0.1, 0.12, 0.73, 0.78])\n",
    "mesh.plotSlice(\n",
    "    plotting_map * model,\n",
    "    normal=\"Y\",\n",
    "    ax=ax1,\n",
    "    ind=int(mesh.nCy / 2),\n",
    "    grid=True,\n",
    "    clim=(np.min(model), np.max(model)),\n",
    "    pcolorOpts={\"cmap\": \"viridis\"},\n",
    ")\n",
    "ax1.set_title(\"Model slice at y = 0 m\")\n",
    "ax1.set_xlabel(\"x (m)\")\n",
    "ax1.set_ylabel(\"z (m)\")\n",
    "\n",
    "ax2 = fig.add_axes([0.85, 0.12, 0.05, 0.78])\n",
    "norm = mpl.colors.Normalize(vmin=np.min(model), vmax=np.max(model))\n",
    "cbar = mpl.colorbar.ColorbarBase(\n",
    "    ax2, norm=norm, orientation=\"vertical\", cmap=mpl.cm.viridis\n",
    ")\n",
    "cbar.set_label(\"$g/cm^3$\", rotation=270, labelpad=15, size=12)\n",
    "\n",
    "plt.show()"
   ]
  },
  {
   "cell_type": "code",
   "execution_count": 7,
   "metadata": {
    "colab": {
     "base_uri": "https://localhost:8080/",
     "height": 846
    },
    "executionInfo": {
     "elapsed": 14824,
     "status": "error",
     "timestamp": 1613342146007,
     "user": {
      "displayName": "Emerson Almeida",
      "photoUrl": "",
      "userId": "00762844264177541394"
     },
     "user_tz": 180
    },
    "id": "V4J2_mzDew3a",
    "outputId": "48b1eb04-ff9a-47c9-878a-d7bf628fb8be"
   },
   "outputs": [
    {
     "ename": "NameError",
     "evalue": "name 'survey' is not defined",
     "output_type": "error",
     "traceback": [
      "\u001b[1;31m---------------------------------------------------------------------------\u001b[0m",
      "\u001b[1;31mNameError\u001b[0m                                 Traceback (most recent call last)",
      "\u001b[1;32m<ipython-input-7-592a65af8760>\u001b[0m in \u001b[0;36m<module>\u001b[1;34m\u001b[0m\n\u001b[0;32m      2\u001b[0m \u001b[1;31m# argument to \"forward_only\", we simulate the data without storing the sensitivities\u001b[0m\u001b[1;33m\u001b[0m\u001b[1;33m\u001b[0m\u001b[1;33m\u001b[0m\u001b[0m\n\u001b[0;32m      3\u001b[0m simulation = gravity.simulation.Simulation3DIntegral(\n\u001b[1;32m----> 4\u001b[1;33m     \u001b[0msurvey\u001b[0m\u001b[1;33m=\u001b[0m\u001b[0msurvey\u001b[0m\u001b[1;33m,\u001b[0m\u001b[1;33m\u001b[0m\u001b[1;33m\u001b[0m\u001b[0m\n\u001b[0m\u001b[0;32m      5\u001b[0m     \u001b[0mmesh\u001b[0m\u001b[1;33m=\u001b[0m\u001b[0mmesh\u001b[0m\u001b[1;33m,\u001b[0m\u001b[1;33m\u001b[0m\u001b[1;33m\u001b[0m\u001b[0m\n\u001b[0;32m      6\u001b[0m     \u001b[0mrhoMap\u001b[0m\u001b[1;33m=\u001b[0m\u001b[0mmodel_map\u001b[0m\u001b[1;33m,\u001b[0m\u001b[1;33m\u001b[0m\u001b[1;33m\u001b[0m\u001b[0m\n",
      "\u001b[1;31mNameError\u001b[0m: name 'survey' is not defined"
     ]
    }
   ],
   "source": [
    "# Define the forward simulation. By setting the 'store_sensitivities' keyword\n",
    "# argument to \"forward_only\", we simulate the data without storing the sensitivities\n",
    "simulation = gravity.simulation.Simulation3DIntegral(\n",
    "    survey=survey,\n",
    "    mesh=mesh,\n",
    "    rhoMap=model_map,\n",
    "    actInd=ind_active,\n",
    "    store_sensitivities=\"forward_only\",\n",
    ")\n",
    "\n",
    "# Compute predicted data for some model\n",
    "dpred = simulation.dpred(model)\n",
    "\n",
    "# Plot\n",
    "fig = plt.figure(figsize=(7, 5))\n",
    "\n",
    "ax1 = fig.add_axes([0.1, 0.1, 0.75, 0.85])\n",
    "plot2Ddata(receiver_list[0].locations, dpred, ax=ax1, contourOpts={\"cmap\": \"bwr\"})\n",
    "ax1.set_title(\"Gravity Anomaly (Z-component)\")\n",
    "ax1.set_xlabel(\"x (m)\")\n",
    "ax1.set_ylabel(\"y (m)\")\n",
    "\n",
    "ax2 = fig.add_axes([0.82, 0.1, 0.03, 0.85])\n",
    "norm = mpl.colors.Normalize(vmin=-np.max(np.abs(dpred)), vmax=np.max(np.abs(dpred)))\n",
    "cbar = mpl.colorbar.ColorbarBase(\n",
    "    ax2, norm=norm, orientation=\"vertical\", cmap=mpl.cm.bwr, format=\"%.1e\"\n",
    ")\n",
    "cbar.set_label(\"$mgal$\", rotation=270, labelpad=15, size=12)\n",
    "\n",
    "plt.show()"
   ]
  },
  {
   "cell_type": "code",
   "execution_count": null,
   "metadata": {
    "executionInfo": {
     "elapsed": 82022,
     "status": "aborted",
     "timestamp": 1613341756401,
     "user": {
      "displayName": "Emerson Almeida",
      "photoUrl": "",
      "userId": "00762844264177541394"
     },
     "user_tz": 180
    },
    "id": "XZH-Nhcye5kq"
   },
   "outputs": [],
   "source": []
  }
 ],
 "metadata": {
  "colab": {
   "authorship_tag": "ABX9TyPofqV0Gmt0bC3Hts6YMaYk",
   "collapsed_sections": [],
   "name": "Teste gravimetria com funções.ipynb",
   "provenance": [
    {
     "file_id": "1u9LtAb6JGEsvBMTNPtwCxHweidDZRQ_c",
     "timestamp": 1613341498560
    }
   ]
  },
  "kernelspec": {
   "display_name": "Python 3",
   "language": "python",
   "name": "python3"
  },
  "language_info": {
   "codemirror_mode": {
    "name": "ipython",
    "version": 3
   },
   "file_extension": ".py",
   "mimetype": "text/x-python",
   "name": "python",
   "nbconvert_exporter": "python",
   "pygments_lexer": "ipython3",
   "version": "3.8.5"
  }
 },
 "nbformat": 4,
 "nbformat_minor": 1
}
