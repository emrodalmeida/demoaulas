{
 "cells": [
  {
   "cell_type": "code",
   "execution_count": 1,
   "metadata": {
    "id": "KCIZ0F4KV3nW"
   },
   "outputs": [],
   "source": [
    "# importa e instala o SimPEG - Célula exclusiva para execução em ambiente remoto\n",
    "\n",
    "# baseado no exemplo em https://docs.simpeg.xyz/content/tutorials/03-gravity/plot_1a_gravity_anomaly.html#sphx-glr-content-tutorials-03-gravity-plot-1a-gravity-anomaly-py\n",
    "\n",
    "# !git clone https://github.com/simpeg/simpeg\n",
    "# %cd simpeg\n",
    "# !pip install -r requirements.txt\n",
    "# !python setup.py install\n",
    "\n",
    "import numpy as np\n",
    "from scipy.interpolate import LinearNDInterpolator\n",
    "import matplotlib as mpl\n",
    "import matplotlib.pyplot as plt\n",
    "import os\n",
    "\n",
    "from discretize import TensorMesh\n",
    "from discretize.utils import mkvc\n",
    "\n",
    "from SimPEG.utils import plot2Ddata, model_builder, surface2ind_topo\n",
    "from SimPEG import maps\n",
    "from SimPEG.potential_fields import gravity"
   ]
  },
  {
   "cell_type": "code",
   "execution_count": 7,
   "metadata": {
    "executionInfo": {
     "elapsed": 845,
     "status": "ok",
     "timestamp": 1613342100422,
     "user": {
      "displayName": "Emerson Almeida",
      "photoUrl": "",
      "userId": "00762844264177541394"
     },
     "user_tz": 180
    },
    "id": "MTA-DvJbkiCa"
   },
   "outputs": [],
   "source": [
    "class modelo():\n",
    "    \n",
    "    \"\"\"\n",
    "    Define as dimensões, topografia e malha de tensores do modelo\n",
    "    \"\"\"\n",
    "    \n",
    "    def __init__(self, xx_m, yy_m, zz_m, rho_bg=0.0, topografia=None):\n",
    "        \n",
    "        \"\"\"\n",
    "        xx_m:    eixo x das dimensões do modelo\n",
    "        yy_m:    eixo y das dimensões do modelo\n",
    "        zz_m:    eixo z das dimensões do modelo\n",
    "        rho_bg:  densidade do background homogêneo\n",
    "        \"\"\"\n",
    "        \n",
    "        # densidade das rochas do background\n",
    "        self.densidade_background = rho_bg\n",
    "        \n",
    "        \n",
    "        # Define a topografia do modelo\n",
    "        [x_topo, y_topo] = np.meshgrid(xx_m, yy_m)\n",
    "        if topografia=='default':\n",
    "            z_topo = -15.0 * np.exp(-(x_topo ** 2 + y_topo ** 2) / 80 ** 2)\n",
    "\n",
    "        elif not topografia:\n",
    "            z_topo = np.zeros((len(yy_m), len(xx_m)))\n",
    "\n",
    "        x_topo, y_topo, z_topo = mkvc(x_topo), mkvc(y_topo), mkvc(z_topo)\n",
    "        self.xyz_topo = np.c_[x_topo, y_topo, z_topo]\n",
    "\n",
    "\n",
    "        # Define a malha de tensores em células de tamanho regular\n",
    "        dx, dy, dz = xx_m[1]-xx_m[0], yy_m[1]-yy_m[0], zz_m[1]-zz_m[0]\n",
    "\n",
    "        nx = int((np.max(xx_m)-np.min(xx_m))/dx)\n",
    "        ny = int((np.max(yy_m)-np.min(yy_m))/dy)\n",
    "        nz = int((np.max(zz_m)-np.min(zz_m))/dz)\n",
    "\n",
    "        hx = [(dx, nx)]\n",
    "        hy = [(dy, ny)]\n",
    "        hz = [(dz, nz)]\n",
    "\n",
    "        self.mesh = TensorMesh([hx, hy, hz], 'CCN')\n",
    "        \n",
    "        # Find the indices for the active mesh cells (e.g. cells below surface)\n",
    "        self.ind_active = surface2ind_topo(self.mesh, self.xyz_topo)\n",
    "\n",
    "        # Define mapping from model to active cells. The model consists of a value for\n",
    "        # each cell below the Earth's surface.\n",
    "        nC = int(self.ind_active.sum())\n",
    "        model_map = maps.IdentityMap(nP=nC)\n",
    "\n",
    "        # Define o modelo com a densidade do background. Models in SimPEG are vector arrays.\n",
    "        self.model = self.densidade_background * np.ones(nC)\n",
    "        \n",
    "        \n",
    "    def insere_esfera(self, rho, coordenadas, raio):\n",
    "        ind_sphere = model_builder.getIndicesSphere(coordenadas, raio, self.mesh.gridCC)\n",
    "        ind_sphere = ind_sphere[self.ind_active]\n",
    "        self.model[ind_sphere] = rho\n",
    "    \n",
    "    \n",
    "    def plota_modelo(self):\n",
    "        pass\n",
    "        \n",
    "        \n",
    "class aquisicao():\n",
    "    \n",
    "    def __init__(self, xx_s, yy_s, h_s, mod, componente='gz'):\n",
    "    \n",
    "        \"\"\"\n",
    "        Configura os pontos do levantamento no modelo\n",
    "        \n",
    "        The user only needs an (N, 3) array to define the xyz locations of the observation locations, \n",
    "        and a list of field components which are to be measured.\n",
    "        \n",
    "        xx_s:    coordenadas x dos pontos de levantamento\n",
    "        yy_s:    coordenadas y dos pontos de levantamento\n",
    "        h_s:     elevação do levantamento\n",
    "        mod:     objeto da classe modelo\n",
    "        \"\"\"\n",
    "\n",
    "        x, y = np.meshgrid(xx_s, yy_s)\n",
    "\n",
    "        x = mkvc(x.T)\n",
    "        y = mkvc(y.T)\n",
    "\n",
    "        # cria a função de interpolação para o espaço do modelo\n",
    "        fun_interp = LinearNDInterpolator(np.c_[mod.xyz_topo[0], mod.xyz_topo[1]], mod.xyz_topo[2])\n",
    "\n",
    "        # interpola as coordenadas das estações e coloca 5.0 m acima da superfície\n",
    "        z = fun_interp(np.c_[x, y]) + 5.0\n",
    "\n",
    "        self.receiver_locations = np.c_[x, y, z]\n",
    "\n",
    "        # Use the observation locations and components to define the receivers. To\n",
    "        # simulate data, the receivers must be defined as a list.\n",
    "        receiver_list = gravity.receivers.Point(self.receiver_locations, components=componente)\n",
    "        self.receiver_list = [receiver_list]\n",
    "\n",
    "        # Defining the source field.\n",
    "        self.source_field = gravity.sources.SourceField(receiver_list=self.receiver_list)\n",
    "\n",
    "        # Defining the survey\n",
    "        self.survey = gravity.survey.Survey(self.source_field)    # é um objeto"
   ]
  },
  {
   "cell_type": "markdown",
   "metadata": {},
   "source": [
    "### O usuario configura o tamanho do modelo aqui."
   ]
  },
  {
   "cell_type": "code",
   "execution_count": 8,
   "metadata": {
    "executionInfo": {
     "elapsed": 680,
     "status": "ok",
     "timestamp": 1613342101961,
     "user": {
      "displayName": "Emerson Almeida",
      "photoUrl": "",
      "userId": "00762844264177541394"
     },
     "user_tz": 180
    },
    "id": "L-4A--q3XqWH"
   },
   "outputs": [],
   "source": [
    "eixo_x = [400.0, 5.0]      # [comprimento, delta]\n",
    "eixo_y = [400.0, 5.0]      # [comprimento, delta]\n",
    "eixo_z = [100.0, 5.0]      # [comprimento, delta]\n",
    "\n",
    "meu_modelo = modelo(np.linspace(-1 * eixo_x[0]/2, eixo_x[0]/2, 1 + int(eixo_x[0]/eixo_x[1])), \\\n",
    "                    np.linspace(-1 * eixo_y[0]/2, eixo_y[0]/2, 1 + int(eixo_y[0]/eixo_y[1])), \\\n",
    "                    np.linspace(-1 * eixo_z[0]/2, eixo_z[0]/2, 1 + int(eixo_z[0]/eixo_z[1])), \\\n",
    "                    topografia='default')\n",
    "\n",
    "x_rx = np.linspace(-80.0, 80.0, 17)\n",
    "y_rx = np.linspace(-80.0, 80.0, 17)\n",
    "h_rx = 5.0\n",
    "\n",
    "minha_aquisicao = aquisicao(x_rx, y_rx, h_rx, meu_modelo)\n",
    "\n",
    "meu_modelo.insere_esfera(0.2, [35.0, 0.0, -40.0], 15.0)\n"
   ]
  },
  {
   "cell_type": "code",
   "execution_count": null,
   "metadata": {},
   "outputs": [],
   "source": []
  },
  {
   "cell_type": "code",
   "execution_count": 12,
   "metadata": {
    "colab": {
     "base_uri": "https://localhost:8080/",
     "height": 303
    },
    "executionInfo": {
     "elapsed": 1052,
     "status": "ok",
     "timestamp": 1613349104329,
     "user": {
      "displayName": "Emerson Almeida",
      "photoUrl": "",
      "userId": "00762844264177541394"
     },
     "user_tz": 180
    },
    "id": "zzI5bXoqYXkP",
    "outputId": "6232b3fa-542a-4c8e-cc25-a55aa95a551e"
   },
   "outputs": [
    {
     "data": {
      "image/png": "[encoded data removed]",
      "text/plain": [
       "<Figure size 648x288 with 2 Axes>"
      ]
     },
     "metadata": {
      "needs_background": "light"
     },
     "output_type": "display_data"
    }
   ],
   "source": [
    "# Plot Density Contrast Model\n",
    "fig = plt.figure(figsize=(9, 4))\n",
    "plotting_map = maps.InjectActiveCells(meu_modelo.mesh, meu_modelo.ind_active, np.nan)\n",
    "\n",
    "ax1 = fig.add_axes([0.1, 0.12, 0.73, 0.78])\n",
    "meu_modelo.mesh.plotSlice(\n",
    "    plotting_map * meu_modelo.model,\n",
    "    normal=\"Y\",\n",
    "    ax=ax1,\n",
    "    ind=int(meu_modelo.mesh.nCy / 2),\n",
    "    grid=True,\n",
    "    clim=(np.min(meu_modelo.model), np.max(meu_modelo.model)),\n",
    "    pcolorOpts={\"cmap\": \"viridis\"},\n",
    ")\n",
    "ax1.set_title(\"Model slice at y = 0 m\")\n",
    "ax1.set_xlabel(\"x (m)\")\n",
    "ax1.set_ylabel(\"z (m)\")\n",
    "\n",
    "ax2 = fig.add_axes([0.85, 0.12, 0.05, 0.78])\n",
    "norm = mpl.colors.Normalize(vmin=np.min(meu_modelo.model), vmax=np.max(meu_modelo.model))\n",
    "cbar = mpl.colorbar.ColorbarBase(\n",
    "    ax2, norm=norm, orientation=\"vertical\", cmap=mpl.cm.viridis\n",
    ")\n",
    "cbar.set_label(\"$g/cm^3$\", rotation=270, labelpad=15, size=12)\n",
    "\n",
    "plt.show()"
   ]
  },
  {
   "cell_type": "code",
   "execution_count": null,
   "metadata": {
    "colab": {
     "base_uri": "https://localhost:8080/",
     "height": 846
    },
    "executionInfo": {
     "elapsed": 14824,
     "status": "error",
     "timestamp": 1613342146007,
     "user": {
      "displayName": "Emerson Almeida",
      "photoUrl": "",
      "userId": "00762844264177541394"
     },
     "user_tz": 180
    },
    "id": "V4J2_mzDew3a",
    "outputId": "48b1eb04-ff9a-47c9-878a-d7bf628fb8be"
   },
   "outputs": [],
   "source": [
    "# Define the forward simulation. By setting the 'store_sensitivities' keyword\n",
    "# argument to \"forward_only\", we simulate the data without storing the sensitivities\n",
    "simulation = gravity.simulation.Simulation3DIntegral(\n",
    "    survey=survey,\n",
    "    mesh=mesh,\n",
    "    rhoMap=model_map,\n",
    "    actInd=ind_active,\n",
    "    store_sensitivities=\"forward_only\",\n",
    ")\n",
    "\n",
    "# Compute predicted data for some model\n",
    "dpred = simulation.dpred(model)\n",
    "\n",
    "# Plot\n",
    "fig = plt.figure(figsize=(7, 5))\n",
    "\n",
    "ax1 = fig.add_axes([0.1, 0.1, 0.75, 0.85])\n",
    "plot2Ddata(receiver_list[0].locations, dpred, ax=ax1, contourOpts={\"cmap\": \"bwr\"})\n",
    "ax1.set_title(\"Gravity Anomaly (Z-component)\")\n",
    "ax1.set_xlabel(\"x (m)\")\n",
    "ax1.set_ylabel(\"y (m)\")\n",
    "\n",
    "ax2 = fig.add_axes([0.82, 0.1, 0.03, 0.85])\n",
    "norm = mpl.colors.Normalize(vmin=-np.max(np.abs(dpred)), vmax=np.max(np.abs(dpred)))\n",
    "cbar = mpl.colorbar.ColorbarBase(\n",
    "    ax2, norm=norm, orientation=\"vertical\", cmap=mpl.cm.bwr, format=\"%.1e\"\n",
    ")\n",
    "cbar.set_label(\"$mgal$\", rotation=270, labelpad=15, size=12)\n",
    "\n",
    "plt.show()"
   ]
  },
  {
   "cell_type": "code",
   "execution_count": null,
   "metadata": {
    "executionInfo": {
     "elapsed": 82022,
     "status": "aborted",
     "timestamp": 1613341756401,
     "user": {
      "displayName": "Emerson Almeida",
      "photoUrl": "",
      "userId": "00762844264177541394"
     },
     "user_tz": 180
    },
    "id": "XZH-Nhcye5kq"
   },
   "outputs": [],
   "source": []
  }
 ],
 "metadata": {
  "colab": {
   "authorship_tag": "ABX9TyPofqV0Gmt0bC3Hts6YMaYk",
   "collapsed_sections": [],
   "name": "Teste gravimetria com funções.ipynb",
   "provenance": [
    {
     "file_id": "1u9LtAb6JGEsvBMTNPtwCxHweidDZRQ_c",
     "timestamp": 1613341498560
    }
   ]
  },
  "kernelspec": {
   "display_name": "Python 3",
   "language": "python",
   "name": "python3"
  },
  "language_info": {
   "codemirror_mode": {
    "name": "ipython",
    "version": 3
   },
   "file_extension": ".py",
   "mimetype": "text/x-python",
   "name": "python",
   "nbconvert_exporter": "python",
   "pygments_lexer": "ipython3",
   "version": "3.8.5"
  }
 },
 "nbformat": 4,
 "nbformat_minor": 1
}
